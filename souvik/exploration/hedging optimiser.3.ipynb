{
 "cells": [
  {
   "cell_type": "code",
   "execution_count": 1,
   "metadata": {},
   "outputs": [],
   "source": [
    "import sys\n",
    "sys.path.append(\"../\")"
   ]
  },
  {
   "cell_type": "code",
   "execution_count": 2,
   "metadata": {},
   "outputs": [],
   "source": [
    "import pandas as pd\n",
    "import datetime as dt\n",
    "import math\n",
    "import plotly.graph_objects as go\n",
    "from plotting import CandlePlot\n",
    "from tqdm import tqdm\n",
    "from tabulate import tabulate\n",
    "import pickle as pkl\n",
    "import random\n",
    "pd.set_option(\"display.max_columns\", None)"
   ]
  },
  {
   "cell_type": "code",
   "execution_count": 3,
   "metadata": {},
   "outputs": [],
   "source": [
    "class Data:\n",
    "    \n",
    "    def __init__(self, path):\n",
    "        self.df = {\n",
    "            'raw': pd.read_pickle(path)\n",
    "        }\n",
    "        if 'time' in self.df['raw'].columns:\n",
    "            self.df['raw']['time'] = [ x.replace(tzinfo=None) for x in self.df['raw']['time']]\n",
    "\n",
    "    def __repr__(self) -> str:\n",
    "        repr = str()\n",
    "        for name, df in self.df.items():\n",
    "            repr = repr + name + ':\\n' + str(df.head(3)) + '\\n'\n",
    "        return repr\n",
    "\n",
    "    def shorten(self, name: str, rows: int, direction: int, source: str='raw', cols: list=None):\n",
    "        '''Create new dataframe with specified list of columns and number of rows\n",
    "        direction: 1 if data should be selected from top and -1 if from bottom\n",
    "        '''\n",
    "        assert (direction != 1 or direction != -1), 'direction must be 1 (top) or -1 (bottom)'\n",
    "        \n",
    "        if cols == None:\n",
    "            cols = self.df[source].columns\n",
    "        if direction == 1:\n",
    "            self.df[name] = self.df[source][cols].iloc[:rows].copy()\n",
    "        else:\n",
    "            self.df[name] = self.df[source][cols].iloc[-rows:].copy()\n",
    "        self.df[name].reset_index(drop=True, inplace=True)\n",
    "\n",
    "    def add_columns(self, name: str, cols: list):\n",
    "        '''Add new columns to component dataframes\n",
    "        '''        \n",
    "        exist_cols = list(self.df[name].columns)\n",
    "        cols = exist_cols + cols\n",
    "        self.df[name] = self.df[name].reindex(columns = cols) \n",
    "\n",
    "    def prepare_fast_data(self, name: str):\n",
    "        '''Prepare data as an array for fast processing\n",
    "        fcols = {col1: col1_index, col2: col2_index, .... }     \n",
    "        fdata = [array[col1], array[col2], array[col3], .... ]\n",
    "        Accessed by: self.fdata[fcols[column_name]] for whole column or\n",
    "                     self.fdata[fcols[column_name]][row_index] for a specific row item\n",
    "        '''\n",
    "        self.fcols = dict()\n",
    "        for i in range(len(self.df[name].columns)):\n",
    "            self.fcols[self.df[name].columns[i]] = i\n",
    "        self.fdata = [self.df[name][col].array for col in self.df[name].columns]"
   ]
  },
  {
   "cell_type": "code",
   "execution_count": 4,
   "metadata": {},
   "outputs": [],
   "source": [
    "d = Data(\"../data/EUR_USD_M5.pkl\")"
   ]
  },
  {
   "cell_type": "code",
   "execution_count": 5,
   "metadata": {},
   "outputs": [],
   "source": [
    "our_cols = ['time', 'bid_o', 'bid_h', 'bid_l', 'bid_c', 'ask_o', 'ask_h', 'ask_l', 'ask_c', 'mid_c']\n",
    "max = d.df['raw'].shape[0]\n"
   ]
  },
  {
   "cell_type": "code",
   "execution_count": 6,
   "metadata": {},
   "outputs": [],
   "source": [
    "BUY = 1\n",
    "SELL = -1\n",
    "CLOSE = 2\n",
    "NONE = 0\n",
    "BASE_TRADESIZE = 1000\n",
    "MARGIN_RATE = 0.03333333333333\n",
    "INIT_BAL = 1000"
   ]
  },
  {
   "cell_type": "code",
   "execution_count": 7,
   "metadata": {},
   "outputs": [],
   "source": [
    "def set_price(i: int, buy_price: float, sell_price: float, reward: float):\n",
    "    d.fdata[d.fcols['buy_price']][i] = buy_price\n",
    "    d.fdata[d.fcols['buy_tp_price']][i] = buy_price + reward\n",
    "    d.fdata[d.fcols['sell_price']][i] = sell_price\n",
    "    d.fdata[d.fcols['sell_tp_price']][i] = sell_price - reward\n",
    "\n",
    "def set_position_size(i: int, rr: float, cushion: float, new_streak: bool=False):\n",
    "    if new_streak == True:\n",
    "        # print('i', i, 'rr', rr, 'cus', cushion, 'new_streak', new_streak)\n",
    "        d.fdata[d.fcols['position_size']][i] = BASE_TRADESIZE\n",
    "        d.fdata[d.fcols['cum_position_size']][i] = BASE_TRADESIZE\n",
    "    else:\n",
    "        prev_size = d.fdata[d.fcols['cum_position_size']][i-1]\n",
    "        # print('i', i, 'prev_size', prev_size, 'rr', rr, 'cus', cushion,'new_streak', new_streak)\n",
    "        d.fdata[d.fcols['position_size']][i] = math.ceil(prev_size / rr * cushion)\n",
    "        d.fdata[d.fcols['cum_position_size']][i] = prev_size + d.fdata[d.fcols['position_size']][i]\n",
    "\n",
    "def set_ac_bal(i: int, prev_signal: int, reverse: bool):\n",
    "    if reverse == True: # Stop loss\n",
    "        sell_at = 'ask_l'\n",
    "        buy_at = 'bid_h'\n",
    "    else: # Take profit\n",
    "        sell_at = 'ask_h'\n",
    "        buy_at = 'bid_l'\n",
    "\n",
    "    if prev_signal == BUY:\n",
    "        d.fdata[d.fcols['realised_pl']][i] = (d.fdata[d.fcols[sell_at]][i] - d.fdata[d.fcols['buy_price']][i-1]) * \\\n",
    "            d.fdata[d.fcols['position_size']][i-1]\n",
    "    elif prev_signal == SELL:\n",
    "        d.fdata[d.fcols['realised_pl']][i] = (d.fdata[d.fcols['sell_price']][i-1] - d.fdata[d.fcols[buy_at]][i]) * \\\n",
    "            d.fdata[d.fcols['position_size']][i-1]\n",
    "    d.fdata[d.fcols['ac_bal']][i] = d.fdata[d.fcols['ac_bal']][i-1] + d.fdata[d.fcols['realised_pl']][i]\n",
    "               \n",
    "\n",
    "def make_trade(i: int, signal: int, risk: float, rr: float, cushion: float, new_streak=False, reverse=True) -> int:\n",
    "    # print(i, 'open_position')\n",
    "    if reverse:\n",
    "        prev_signal = BUY if signal == SELL else SELL\n",
    "    else:\n",
    "        prev_signal = BUY if signal == BUY else SELL\n",
    "    d.fdata[d.fcols['signal']][i] = signal\n",
    "    set_position_size(i=i, rr=rr, cushion=cushion, new_streak=new_streak)\n",
    "\n",
    "    if new_streak == True:\n",
    "        d.fdata[d.fcols['trade_no']][i] = 1\n",
    "        if i == 0:\n",
    "            d.fdata[d.fcols['streak_no']][i] = 1\n",
    "            d.fdata[d.fcols['ac_bal']][i] = INIT_BAL\n",
    "        else:\n",
    "            d.fdata[d.fcols['streak_no']][i] = d.fdata[d.fcols['streak_no']][i-1] + 1\n",
    "            set_ac_bal(i, prev_signal, reverse)\n",
    "        d.fdata[d.fcols['realised_pl']][i] = 0 # Overwrite value for new streak\n",
    "\n",
    "    else:\n",
    "        d.fdata[d.fcols['trade_no']][i] = d.fdata[d.fcols['trade_no']][i-1] + 1\n",
    "        d.fdata[d.fcols['streak_no']][i] = d.fdata[d.fcols['streak_no']][i-1]\n",
    "        set_ac_bal(i, prev_signal, reverse)\n",
    "\n",
    "    if signal == BUY:\n",
    "        buy_price = d.fdata[d.fcols['bid_h']][i]\n",
    "        sell_price = buy_price - risk\n",
    "        set_price(i, buy_price, sell_price, risk * rr)\n",
    "        d.fdata[d.fcols['unrealised_pl']][i] = \\\n",
    "            (d.fdata[d.fcols['mid_c']][i] - d.fdata[d.fcols['buy_price']][i]) * d.fdata[d.fcols['position_size']][i]\n",
    "    elif signal == SELL:\n",
    "        sell_price = d.fdata[d.fcols['ask_l']][i]\n",
    "        buy_price = sell_price + risk\n",
    "        set_price(i, buy_price, sell_price, risk * rr)\n",
    "        d.fdata[d.fcols['unrealised_pl']][i] = \\\n",
    "            (d.fdata[d.fcols['sell_price']][i] - d.fdata[d.fcols['mid_c']][i]) * d.fdata[d.fcols['position_size']][i]\n",
    "\n",
    "    d.fdata[d.fcols['margin_used']][i] = d.fdata[d.fcols['position_size']][i] * MARGIN_RATE\n",
    "    d.fdata[d.fcols['margin_closeout']][i] = d.fdata[d.fcols['ac_bal']][i] + d.fdata[d.fcols['unrealised_pl']][i]\n",
    "\n",
    "    # print(i, d.df['analysis'].iloc[i])\n",
    "    # print(d.fdata[d.fcols['realised_pl']][i])\n",
    "    return signal\n",
    "\n",
    "def open_new_streak(i: int, signal: int, risk: float, rr: float, cushion: float, reverse: bool=False) -> int:\n",
    "    return make_trade(i=i, signal=signal, risk=risk, rr=rr, cushion=cushion, new_streak=True, reverse=reverse)\n",
    "\n",
    "def reverse_position(i: int, position: int, risk: float, rr: float, cushion: float) -> int:\n",
    "    signal = BUY if position == SELL else SELL\n",
    "    return make_trade(i=i, signal=signal, risk=risk, rr=rr, cushion=cushion, new_streak=False)\n",
    "    \n"
   ]
  },
  {
   "cell_type": "code",
   "execution_count": 8,
   "metadata": {},
   "outputs": [],
   "source": [
    "def no_signal_update_values(i: int, position: int):\n",
    "    # print(i, 'no_signal_update_values')\n",
    "    d.fdata[d.fcols['signal']][i] = NONE\n",
    "    d.fdata[d.fcols['trade_no']][i] = d.fdata[d.fcols['trade_no']][i-1]\n",
    "    d.fdata[d.fcols['streak_no']][i] = d.fdata[d.fcols['streak_no']][i-1]\n",
    "    d.fdata[d.fcols['position_size']][i] = d.fdata[d.fcols['position_size']][i-1]\n",
    "    d.fdata[d.fcols['cum_position_size']][i] = d.fdata[d.fcols['cum_position_size']][i-1]\n",
    "    d.fdata[d.fcols['buy_price']][i] = d.fdata[d.fcols['buy_price']][i-1]\n",
    "    d.fdata[d.fcols['buy_tp_price']][i] = d.fdata[d.fcols['buy_tp_price']][i-1]\n",
    "    d.fdata[d.fcols['sell_price']][i] = d.fdata[d.fcols['sell_price']][i-1]\n",
    "    d.fdata[d.fcols['sell_tp_price']][i] = d.fdata[d.fcols['sell_tp_price']][i-1]\n",
    "    d.fdata[d.fcols['realised_pl']][i] = d.fdata[d.fcols['realised_pl']][i-1]\n",
    "    d.fdata[d.fcols['ac_bal']][i] = d.fdata[d.fcols['ac_bal']][i-1]\n",
    "    d.fdata[d.fcols['margin_used']][i] = d.fdata[d.fcols['margin_used']][i-1]\n",
    "\n",
    "    if position == BUY:\n",
    "        d.fdata[d.fcols['unrealised_pl']][i] = \\\n",
    "            (d.fdata[d.fcols['mid_c']][i] - d.fdata[d.fcols['buy_price']][i]) * d.fdata[d.fcols['position_size']][i]\n",
    "    elif position == SELL:\n",
    "        d.fdata[d.fcols['unrealised_pl']][i] = \\\n",
    "            (d.fdata[d.fcols['sell_price']][i] - d.fdata[d.fcols['mid_c']][i]) * d.fdata[d.fcols['position_size']][i]\n",
    "    \n",
    "    d.fdata[d.fcols['margin_closeout']][i] = d.fdata[d.fcols['ac_bal']][i] + d.fdata[d.fcols['unrealised_pl']][i]    \n",
    "    # print(i, d.df['analysis'].iloc[i])"
   ]
  },
  {
   "cell_type": "code",
   "execution_count": 9,
   "metadata": {},
   "outputs": [],
   "source": [
    "# INIT_SIGNAL = SELL\n",
    "# CUSHION = 2\n",
    "# RR = 1.5\n",
    "# RISK = 0.0040\n",
    "# MARGIN_CLOSEOUT = False\n",
    "# STREAK_TRADE_LIMIT = 10"
   ]
  },
  {
   "cell_type": "code",
   "execution_count": 10,
   "metadata": {},
   "outputs": [],
   "source": [
    "def run_sim(sim_name: str, init_signal: int, cushion: float, rr: float, risk: float, margin_closeout: bool, streak_trade_limit: int ) -> pd.DataFrame:\n",
    "    INIT_SIGNAL = init_signal\n",
    "    CUSHION = cushion\n",
    "    RR = rr\n",
    "    RISK = risk\n",
    "    MARGIN_CLOSEOUT = margin_closeout\n",
    "    STREAK_TRADE_LIMIT = streak_trade_limit\n",
    "\n",
    "    d.shorten(name=sim_name, rows=max, direction=1, cols=our_cols)\n",
    "    d.add_columns(name=sim_name, cols=['signal', 'streak_no', 'trade_no', 'position_size', 'cum_position_size', 'buy_price', 'sell_price', 'buy_tp_price', 'sell_tp_price', 'unrealised_pl', 'realised_pl', 'ac_bal', 'margin_used', 'margin_closeout', ])\n",
    "    d.prepare_fast_data(sim_name)\n",
    "\n",
    "    candles = d.fdata[0].shape[0]\n",
    "    position = NONE\n",
    "    for i in tqdm(range(candles), desc=\" Simulating... \"):       \n",
    "        # First candle\n",
    "        if i == 0:\n",
    "            # print(i, position, 'before call')\n",
    "            # print(i, '#### First candle')\n",
    "            position = open_new_streak(i=i, signal=INIT_SIGNAL,  risk=RISK, rr=RR, cushion=CUSHION)\n",
    "        \n",
    "        # Subsequent candles\n",
    "        else:\n",
    "            # Reduce trade size to avoid large loss or Margin closeout\n",
    "            # if d.fdata[d.fcols['margin_closeout']][i-1] < d.fdata[d.fcols['margin_used']][i-1]: \n",
    "            if ((position == BUY and d.fdata[d.fcols['ask_l']][i] <= d.fdata[d.fcols['sell_price']][i-1]) or \\\n",
    "                (position == SELL and d.fdata[d.fcols['bid_h']][i] >= d.fdata[d.fcols['buy_price']][i-1])) and \\\n",
    "                d.fdata[d.fcols['trade_no']][i-1] == STREAK_TRADE_LIMIT and MARGIN_CLOSEOUT == True:\n",
    "                # print(i, '#### Margin closeout')\n",
    "                signal = SELL if position == BUY  else BUY\n",
    "                position = open_new_streak(i=i, signal=signal, risk=RISK, rr=RR, cushion=CUSHION, reverse=True)\n",
    "            \n",
    "            # Reverse trade on hitting Stop Loss\n",
    "            ## From Buy to Sell  \n",
    "            elif position == BUY and d.fdata[d.fcols['ask_l']][i] <= d.fdata[d.fcols['sell_price']][i-1]:\n",
    "                # position = SELL\n",
    "                # print(i, position, 'before call')\n",
    "                # print(i, '#### Reverse Buy to Sell')\n",
    "                position = reverse_position(i=i, position=position, risk=RISK, rr=RR, cushion=CUSHION)\n",
    "\n",
    "            ## From Sell to Buy \n",
    "            elif position == SELL and d.fdata[d.fcols['bid_h']][i] >= d.fdata[d.fcols['buy_price']][i-1]:\n",
    "                # position = BUY\n",
    "                # print(i, position, 'before call')\n",
    "                # print(i, '#### Reverse Sell to Buy')\n",
    "                position = reverse_position(i=i, position=position, risk=RISK, rr=RR, cushion=CUSHION)\n",
    "\n",
    "            # Take profit and initiate new trade in same direction on hitting Take Profit\n",
    "            ## Take Profit on long position\n",
    "            elif position == BUY and d.fdata[d.fcols['ask_h']][i] >= d.fdata[d.fcols['buy_tp_price']][i-1]:\n",
    "                # print(i, '#### TP Long')\n",
    "                position = open_new_streak(i=i, signal=position, risk=RISK, rr=RR, cushion=CUSHION)\n",
    "                \n",
    "            ## Take Profit on short position\n",
    "            elif position == SELL and d.fdata[d.fcols['bid_l']][i] <= d.fdata[d.fcols['sell_tp_price']][i-1]:\n",
    "                # print(i, '#### TP Short')\n",
    "                position = open_new_streak(i=i, signal=position, risk=RISK, rr=RR, cushion=CUSHION)     \n",
    "                    \n",
    "            # New trade\n",
    "            \n",
    "            # Update values when there is no signal\n",
    "            else:\n",
    "                # print(i, 'None', 'before call')\n",
    "                # print(i, '#### No signal')\n",
    "                no_signal_update_values(i=i, position=position)   \n",
    "\n",
    "    return dict(\n",
    "        sim_name = sim_name,\n",
    "        init_signal = INIT_SIGNAL,\n",
    "        cushion = CUSHION,\n",
    "        risk = RISK,\n",
    "        rr = RR,\n",
    "        margin_closeout = MARGIN_CLOSEOUT,\n",
    "        streak_limit = STREAK_TRADE_LIMIT,\n",
    "        results = d.df[sim_name]\n",
    "    )"
   ]
  },
  {
   "cell_type": "code",
   "execution_count": 11,
   "metadata": {},
   "outputs": [],
   "source": [
    "def process_sim(counter: int, init_signal: int, cushion: float, rr: float, risk: float, margin_closeout: bool, streak_trade_limit: int, inputs_list: list, inputs_file: str):\n",
    "    sim_name = f'sim_{counter}'\n",
    "    header = ['sim_name', 'init_signal', 'cushion', 'risk', 'rr', 'margin_closeout', 'streak_limit']\n",
    "    inputs = [sim_name, init_signal, cushion, risk, rr, margin_closeout, streak_trade_limit]\n",
    "    print(tabulate([inputs], header, tablefmt='plain'))\n",
    "    result= run_sim(\n",
    "        sim_name=sim_name,\n",
    "        init_signal=init_signal,\n",
    "        cushion=cushion,\n",
    "        rr=rr,\n",
    "        risk=risk,\n",
    "        margin_closeout=margin_closeout,\n",
    "        streak_trade_limit=streak_trade_limit\n",
    "    )\n",
    "    # print('Saving files...')\n",
    "    with open(f'D:/Trading/forex_bot/outputs/{sim_name}.pkl', 'wb') as file:\n",
    "        pkl.dump(result, file)\n",
    "\n",
    "    inputs_list.append(inputs)\n",
    "    header = ['sim_name', 'init_signal', 'cushion', 'risk', 'rr', 'margin_closeout', 'streak_limit']\n",
    "    inputs_df = pd.DataFrame(inputs_list, columns=header)\n",
    "    inputs_df.to_pickle('D:/Trading/forex_bot/outputs/' + inputs_file)\n",
    "    \n",
    "    del d.df[sim_name]\n",
    "    counter =  counter + 1\n",
    "    return inputs"
   ]
  },
  {
   "cell_type": "code",
   "execution_count": 12,
   "metadata": {},
   "outputs": [],
   "source": [
    "# init_signal = [BUY, SELL]\n",
    "# cushion = [1.2, 1.5, 2.0]\n",
    "# rr = [1.5, 2, 3]\n",
    "# risk = [0.0010, 0.0020, 0.0030, 0.0040]\n",
    "# margin_closeout = [True, False]\n",
    "# streak_trade_limit = [2, 3, 4] # , 5, 6, 7, 8, 9, 10]"
   ]
  },
  {
   "cell_type": "code",
   "execution_count": 13,
   "metadata": {},
   "outputs": [],
   "source": [
    "# init_signal = [BUY, SELL]\n",
    "cushion = [1.5, 2.0, 2.5, 3.0, 4.0]\n",
    "rr = [1.5, 2, 3]\n",
    "risk = [0.0010, 0.0020, 0.0030, 0.0040]\n",
    "margin_closeout = [True]\n",
    "streak_trade_limit = [7, 8, 9]\n",
    "INPUTS_FILE = 'inputs3.pkl'"
   ]
  },
  {
   "cell_type": "code",
   "execution_count": 14,
   "metadata": {},
   "outputs": [
    {
     "name": "stdout",
     "output_type": "stream",
     "text": [
      "sim_name      init_signal    cushion    risk    rr  margin_closeout      streak_limit\n",
      "sim_2001               -1        1.5   0.001   1.5  True                            7\n"
     ]
    },
    {
     "name": "stderr",
     "output_type": "stream",
     "text": [
      " Simulating... : 100%|██████████| 594303/594303 [00:41<00:00, 14352.31it/s]\n"
     ]
    },
    {
     "name": "stdout",
     "output_type": "stream",
     "text": [
      "sim_name      init_signal    cushion    risk    rr  margin_closeout      streak_limit\n",
      "sim_2002                1        1.5   0.001   1.5  True                            8\n"
     ]
    },
    {
     "name": "stderr",
     "output_type": "stream",
     "text": [
      " Simulating... : 100%|██████████| 594303/594303 [00:48<00:00, 12303.35it/s]\n"
     ]
    },
    {
     "name": "stdout",
     "output_type": "stream",
     "text": [
      "sim_name      init_signal    cushion    risk    rr  margin_closeout      streak_limit\n",
      "sim_2003               -1        1.5   0.001   1.5  True                            9\n"
     ]
    },
    {
     "name": "stderr",
     "output_type": "stream",
     "text": [
      " Simulating... : 100%|██████████| 594303/594303 [00:41<00:00, 14401.95it/s]\n"
     ]
    },
    {
     "name": "stdout",
     "output_type": "stream",
     "text": [
      "sim_name      init_signal    cushion    risk    rr  margin_closeout      streak_limit\n",
      "sim_2004                1        1.5   0.002   1.5  True                            7\n"
     ]
    },
    {
     "name": "stderr",
     "output_type": "stream",
     "text": [
      " Simulating... : 100%|██████████| 594303/594303 [00:40<00:00, 14587.79it/s]\n"
     ]
    },
    {
     "name": "stdout",
     "output_type": "stream",
     "text": [
      "sim_name      init_signal    cushion    risk    rr  margin_closeout      streak_limit\n",
      "sim_2005                1        1.5   0.002   1.5  True                            8\n"
     ]
    },
    {
     "name": "stderr",
     "output_type": "stream",
     "text": [
      " Simulating... : 100%|██████████| 594303/594303 [00:40<00:00, 14773.86it/s]\n"
     ]
    },
    {
     "name": "stdout",
     "output_type": "stream",
     "text": [
      "sim_name      init_signal    cushion    risk    rr  margin_closeout      streak_limit\n",
      "sim_2006               -1        1.5   0.002   1.5  True                            9\n"
     ]
    },
    {
     "name": "stderr",
     "output_type": "stream",
     "text": [
      " Simulating... : 100%|██████████| 594303/594303 [00:44<00:00, 13334.22it/s]\n"
     ]
    },
    {
     "name": "stdout",
     "output_type": "stream",
     "text": [
      "sim_name      init_signal    cushion    risk    rr  margin_closeout      streak_limit\n",
      "sim_2007               -1        1.5   0.003   1.5  True                            7\n"
     ]
    },
    {
     "name": "stderr",
     "output_type": "stream",
     "text": [
      " Simulating... : 100%|██████████| 594303/594303 [00:42<00:00, 14106.10it/s]\n"
     ]
    },
    {
     "name": "stdout",
     "output_type": "stream",
     "text": [
      "sim_name      init_signal    cushion    risk    rr  margin_closeout      streak_limit\n",
      "sim_2008                1        1.5   0.003   1.5  True                            8\n"
     ]
    },
    {
     "name": "stderr",
     "output_type": "stream",
     "text": [
      " Simulating... : 100%|██████████| 594303/594303 [00:40<00:00, 14723.29it/s]\n"
     ]
    },
    {
     "name": "stdout",
     "output_type": "stream",
     "text": [
      "sim_name      init_signal    cushion    risk    rr  margin_closeout      streak_limit\n",
      "sim_2009               -1        1.5   0.003   1.5  True                            9\n"
     ]
    },
    {
     "name": "stderr",
     "output_type": "stream",
     "text": [
      " Simulating... : 100%|██████████| 594303/594303 [00:40<00:00, 14819.49it/s]\n"
     ]
    },
    {
     "name": "stdout",
     "output_type": "stream",
     "text": [
      "sim_name      init_signal    cushion    risk    rr  margin_closeout      streak_limit\n",
      "sim_2010                1        1.5   0.004   1.5  True                            7\n"
     ]
    },
    {
     "name": "stderr",
     "output_type": "stream",
     "text": [
      " Simulating... : 100%|██████████| 594303/594303 [00:41<00:00, 14243.98it/s]\n"
     ]
    },
    {
     "name": "stdout",
     "output_type": "stream",
     "text": [
      "sim_name      init_signal    cushion    risk    rr  margin_closeout      streak_limit\n",
      "sim_2011                1        1.5   0.004   1.5  True                            8\n"
     ]
    },
    {
     "name": "stderr",
     "output_type": "stream",
     "text": [
      " Simulating... : 100%|██████████| 594303/594303 [00:42<00:00, 13837.18it/s]\n"
     ]
    },
    {
     "name": "stdout",
     "output_type": "stream",
     "text": [
      "sim_name      init_signal    cushion    risk    rr  margin_closeout      streak_limit\n",
      "sim_2012                1        1.5   0.004   1.5  True                            9\n"
     ]
    },
    {
     "name": "stderr",
     "output_type": "stream",
     "text": [
      " Simulating... : 100%|██████████| 594303/594303 [00:39<00:00, 15114.82it/s]\n"
     ]
    },
    {
     "name": "stdout",
     "output_type": "stream",
     "text": [
      "sim_name      init_signal    cushion    risk    rr  margin_closeout      streak_limit\n",
      "sim_2013                1        1.5   0.001     2  True                            7\n"
     ]
    },
    {
     "name": "stderr",
     "output_type": "stream",
     "text": [
      " Simulating... : 100%|██████████| 594303/594303 [00:39<00:00, 14867.59it/s]\n"
     ]
    },
    {
     "name": "stdout",
     "output_type": "stream",
     "text": [
      "sim_name      init_signal    cushion    risk    rr  margin_closeout      streak_limit\n",
      "sim_2014                1        1.5   0.001     2  True                            8\n"
     ]
    },
    {
     "name": "stderr",
     "output_type": "stream",
     "text": [
      " Simulating... : 100%|██████████| 594303/594303 [00:39<00:00, 14996.76it/s]\n"
     ]
    },
    {
     "name": "stdout",
     "output_type": "stream",
     "text": [
      "sim_name      init_signal    cushion    risk    rr  margin_closeout      streak_limit\n",
      "sim_2015               -1        1.5   0.001     2  True                            9\n"
     ]
    },
    {
     "name": "stderr",
     "output_type": "stream",
     "text": [
      " Simulating... : 100%|██████████| 594303/594303 [00:44<00:00, 13364.74it/s]\n"
     ]
    },
    {
     "name": "stdout",
     "output_type": "stream",
     "text": [
      "sim_name      init_signal    cushion    risk    rr  margin_closeout      streak_limit\n",
      "sim_2016               -1        1.5   0.002     2  True                            7\n"
     ]
    },
    {
     "name": "stderr",
     "output_type": "stream",
     "text": [
      " Simulating... : 100%|██████████| 594303/594303 [00:40<00:00, 14847.63it/s]\n"
     ]
    },
    {
     "name": "stdout",
     "output_type": "stream",
     "text": [
      "sim_name      init_signal    cushion    risk    rr  margin_closeout      streak_limit\n",
      "sim_2017                1        1.5   0.002     2  True                            8\n"
     ]
    },
    {
     "name": "stderr",
     "output_type": "stream",
     "text": [
      " Simulating... : 100%|██████████| 594303/594303 [00:39<00:00, 15106.01it/s]\n"
     ]
    },
    {
     "name": "stdout",
     "output_type": "stream",
     "text": [
      "sim_name      init_signal    cushion    risk    rr  margin_closeout      streak_limit\n",
      "sim_2018               -1        1.5   0.002     2  True                            9\n"
     ]
    },
    {
     "name": "stderr",
     "output_type": "stream",
     "text": [
      " Simulating... : 100%|██████████| 594303/594303 [00:38<00:00, 15311.60it/s]\n"
     ]
    },
    {
     "name": "stdout",
     "output_type": "stream",
     "text": [
      "sim_name      init_signal    cushion    risk    rr  margin_closeout      streak_limit\n",
      "sim_2019               -1        1.5   0.003     2  True                            7\n"
     ]
    },
    {
     "name": "stderr",
     "output_type": "stream",
     "text": [
      " Simulating... : 100%|██████████| 594303/594303 [00:42<00:00, 13996.63it/s]\n"
     ]
    },
    {
     "name": "stdout",
     "output_type": "stream",
     "text": [
      "sim_name      init_signal    cushion    risk    rr  margin_closeout      streak_limit\n",
      "sim_2020                1        1.5   0.003     2  True                            8\n"
     ]
    },
    {
     "name": "stderr",
     "output_type": "stream",
     "text": [
      " Simulating... : 100%|██████████| 594303/594303 [00:41<00:00, 14408.68it/s]\n"
     ]
    },
    {
     "name": "stdout",
     "output_type": "stream",
     "text": [
      "sim_name      init_signal    cushion    risk    rr  margin_closeout      streak_limit\n",
      "sim_2021               -1        1.5   0.003     2  True                            9\n"
     ]
    },
    {
     "name": "stderr",
     "output_type": "stream",
     "text": [
      " Simulating... : 100%|██████████| 594303/594303 [00:39<00:00, 15177.80it/s]\n"
     ]
    },
    {
     "name": "stdout",
     "output_type": "stream",
     "text": [
      "sim_name      init_signal    cushion    risk    rr  margin_closeout      streak_limit\n",
      "sim_2022                1        1.5   0.004     2  True                            7\n"
     ]
    },
    {
     "name": "stderr",
     "output_type": "stream",
     "text": [
      " Simulating... : 100%|██████████| 594303/594303 [00:38<00:00, 15447.70it/s]\n"
     ]
    },
    {
     "name": "stdout",
     "output_type": "stream",
     "text": [
      "sim_name      init_signal    cushion    risk    rr  margin_closeout      streak_limit\n",
      "sim_2023               -1        1.5   0.004     2  True                            8\n"
     ]
    },
    {
     "name": "stderr",
     "output_type": "stream",
     "text": [
      " Simulating... : 100%|██████████| 594303/594303 [00:38<00:00, 15418.72it/s]\n"
     ]
    },
    {
     "name": "stdout",
     "output_type": "stream",
     "text": [
      "sim_name      init_signal    cushion    risk    rr  margin_closeout      streak_limit\n",
      "sim_2024                1        1.5   0.004     2  True                            9\n"
     ]
    },
    {
     "name": "stderr",
     "output_type": "stream",
     "text": [
      " Simulating... : 100%|██████████| 594303/594303 [00:44<00:00, 13500.00it/s]\n"
     ]
    },
    {
     "name": "stdout",
     "output_type": "stream",
     "text": [
      "sim_name      init_signal    cushion    risk    rr  margin_closeout      streak_limit\n",
      "sim_2025               -1        1.5   0.001     3  True                            7\n"
     ]
    },
    {
     "name": "stderr",
     "output_type": "stream",
     "text": [
      " Simulating... : 100%|██████████| 594303/594303 [00:39<00:00, 15227.05it/s]\n"
     ]
    },
    {
     "name": "stdout",
     "output_type": "stream",
     "text": [
      "sim_name      init_signal    cushion    risk    rr  margin_closeout      streak_limit\n",
      "sim_2026                1        1.5   0.001     3  True                            8\n"
     ]
    },
    {
     "name": "stderr",
     "output_type": "stream",
     "text": [
      " Simulating... : 100%|██████████| 594303/594303 [00:38<00:00, 15264.39it/s]\n"
     ]
    },
    {
     "name": "stdout",
     "output_type": "stream",
     "text": [
      "sim_name      init_signal    cushion    risk    rr  margin_closeout      streak_limit\n",
      "sim_2027               -1        1.5   0.001     3  True                            9\n"
     ]
    },
    {
     "name": "stderr",
     "output_type": "stream",
     "text": [
      " Simulating... : 100%|██████████| 594303/594303 [00:38<00:00, 15445.51it/s]\n"
     ]
    },
    {
     "name": "stdout",
     "output_type": "stream",
     "text": [
      "sim_name      init_signal    cushion    risk    rr  margin_closeout      streak_limit\n",
      "sim_2028               -1        1.5   0.002     3  True                            7\n"
     ]
    },
    {
     "name": "stderr",
     "output_type": "stream",
     "text": [
      " Simulating... : 100%|██████████| 594303/594303 [00:42<00:00, 13833.09it/s]\n"
     ]
    },
    {
     "name": "stdout",
     "output_type": "stream",
     "text": [
      "sim_name      init_signal    cushion    risk    rr  margin_closeout      streak_limit\n",
      "sim_2029               -1        1.5   0.002     3  True                            8\n"
     ]
    },
    {
     "name": "stderr",
     "output_type": "stream",
     "text": [
      " Simulating... : 100%|██████████| 594303/594303 [00:41<00:00, 14160.82it/s]\n"
     ]
    },
    {
     "name": "stdout",
     "output_type": "stream",
     "text": [
      "sim_name      init_signal    cushion    risk    rr  margin_closeout      streak_limit\n",
      "sim_2030               -1        1.5   0.002     3  True                            9\n"
     ]
    },
    {
     "name": "stderr",
     "output_type": "stream",
     "text": [
      " Simulating... : 100%|██████████| 594303/594303 [00:38<00:00, 15393.38it/s]\n"
     ]
    },
    {
     "name": "stdout",
     "output_type": "stream",
     "text": [
      "sim_name      init_signal    cushion    risk    rr  margin_closeout      streak_limit\n",
      "sim_2031               -1        1.5   0.003     3  True                            7\n"
     ]
    },
    {
     "name": "stderr",
     "output_type": "stream",
     "text": [
      " Simulating... : 100%|██████████| 594303/594303 [00:38<00:00, 15300.69it/s]\n"
     ]
    },
    {
     "name": "stdout",
     "output_type": "stream",
     "text": [
      "sim_name      init_signal    cushion    risk    rr  margin_closeout      streak_limit\n",
      "sim_2032               -1        1.5   0.003     3  True                            8\n"
     ]
    },
    {
     "name": "stderr",
     "output_type": "stream",
     "text": [
      " Simulating... : 100%|██████████| 594303/594303 [00:38<00:00, 15398.14it/s]\n"
     ]
    },
    {
     "name": "stdout",
     "output_type": "stream",
     "text": [
      "sim_name      init_signal    cushion    risk    rr  margin_closeout      streak_limit\n",
      "sim_2033               -1        1.5   0.003     3  True                            9\n"
     ]
    },
    {
     "name": "stderr",
     "output_type": "stream",
     "text": [
      " Simulating... : 100%|██████████| 594303/594303 [00:44<00:00, 13466.11it/s]\n"
     ]
    },
    {
     "name": "stdout",
     "output_type": "stream",
     "text": [
      "sim_name      init_signal    cushion    risk    rr  margin_closeout      streak_limit\n",
      "sim_2034                1        1.5   0.004     3  True                            7\n"
     ]
    },
    {
     "name": "stderr",
     "output_type": "stream",
     "text": [
      " Simulating... : 100%|██████████| 594303/594303 [00:38<00:00, 15352.85it/s]\n"
     ]
    },
    {
     "name": "stdout",
     "output_type": "stream",
     "text": [
      "sim_name      init_signal    cushion    risk    rr  margin_closeout      streak_limit\n",
      "sim_2035                1        1.5   0.004     3  True                            8\n"
     ]
    },
    {
     "name": "stderr",
     "output_type": "stream",
     "text": [
      " Simulating... : 100%|██████████| 594303/594303 [00:39<00:00, 15232.30it/s]\n"
     ]
    },
    {
     "name": "stdout",
     "output_type": "stream",
     "text": [
      "sim_name      init_signal    cushion    risk    rr  margin_closeout      streak_limit\n",
      "sim_2036               -1        1.5   0.004     3  True                            9\n"
     ]
    },
    {
     "name": "stderr",
     "output_type": "stream",
     "text": [
      " Simulating... : 100%|██████████| 594303/594303 [00:41<00:00, 14300.65it/s]\n"
     ]
    },
    {
     "name": "stdout",
     "output_type": "stream",
     "text": [
      "sim_name      init_signal    cushion    risk    rr  margin_closeout      streak_limit\n",
      "sim_2037                1          2   0.001   1.5  True                            7\n"
     ]
    },
    {
     "name": "stderr",
     "output_type": "stream",
     "text": [
      " Simulating... : 100%|██████████| 594303/594303 [00:43<00:00, 13806.18it/s]\n"
     ]
    },
    {
     "name": "stdout",
     "output_type": "stream",
     "text": [
      "sim_name      init_signal    cushion    risk    rr  margin_closeout      streak_limit\n",
      "sim_2038               -1          2   0.001   1.5  True                            8\n"
     ]
    },
    {
     "name": "stderr",
     "output_type": "stream",
     "text": [
      " Simulating... : 100%|██████████| 594303/594303 [00:40<00:00, 14600.81it/s]\n"
     ]
    },
    {
     "name": "stdout",
     "output_type": "stream",
     "text": [
      "sim_name      init_signal    cushion    risk    rr  margin_closeout      streak_limit\n",
      "sim_2039               -1          2   0.001   1.5  True                            9\n"
     ]
    },
    {
     "name": "stderr",
     "output_type": "stream",
     "text": [
      " Simulating... : 100%|██████████| 594303/594303 [00:38<00:00, 15326.92it/s]\n"
     ]
    },
    {
     "name": "stdout",
     "output_type": "stream",
     "text": [
      "sim_name      init_signal    cushion    risk    rr  margin_closeout      streak_limit\n",
      "sim_2040               -1          2   0.002   1.5  True                            7\n"
     ]
    },
    {
     "name": "stderr",
     "output_type": "stream",
     "text": [
      " Simulating... : 100%|██████████| 594303/594303 [00:38<00:00, 15322.14it/s]\n"
     ]
    },
    {
     "name": "stdout",
     "output_type": "stream",
     "text": [
      "sim_name      init_signal    cushion    risk    rr  margin_closeout      streak_limit\n",
      "sim_2041               -1          2   0.002   1.5  True                            8\n"
     ]
    },
    {
     "name": "stderr",
     "output_type": "stream",
     "text": [
      " Simulating... : 100%|██████████| 594303/594303 [00:38<00:00, 15410.28it/s]\n"
     ]
    },
    {
     "name": "stdout",
     "output_type": "stream",
     "text": [
      "sim_name      init_signal    cushion    risk    rr  margin_closeout      streak_limit\n",
      "sim_2042                1          2   0.002   1.5  True                            9\n"
     ]
    },
    {
     "name": "stderr",
     "output_type": "stream",
     "text": [
      " Simulating... : 100%|██████████| 594303/594303 [00:45<00:00, 13144.15it/s]\n"
     ]
    },
    {
     "name": "stdout",
     "output_type": "stream",
     "text": [
      "sim_name      init_signal    cushion    risk    rr  margin_closeout      streak_limit\n",
      "sim_2043                1          2   0.003   1.5  True                            7\n"
     ]
    },
    {
     "name": "stderr",
     "output_type": "stream",
     "text": [
      " Simulating... : 100%|██████████| 594303/594303 [00:40<00:00, 14707.63it/s]\n"
     ]
    },
    {
     "name": "stdout",
     "output_type": "stream",
     "text": [
      "sim_name      init_signal    cushion    risk    rr  margin_closeout      streak_limit\n",
      "sim_2044               -1          2   0.003   1.5  True                            8\n"
     ]
    },
    {
     "name": "stderr",
     "output_type": "stream",
     "text": [
      " Simulating... : 100%|██████████| 594303/594303 [00:38<00:00, 15301.22it/s]\n"
     ]
    },
    {
     "name": "stdout",
     "output_type": "stream",
     "text": [
      "sim_name      init_signal    cushion    risk    rr  margin_closeout      streak_limit\n",
      "sim_2045               -1          2   0.003   1.5  True                            9\n"
     ]
    },
    {
     "name": "stderr",
     "output_type": "stream",
     "text": [
      " Simulating... : 100%|██████████| 594303/594303 [00:39<00:00, 15228.71it/s]\n"
     ]
    },
    {
     "name": "stdout",
     "output_type": "stream",
     "text": [
      "sim_name      init_signal    cushion    risk    rr  margin_closeout      streak_limit\n",
      "sim_2046                1          2   0.004   1.5  True                            7\n"
     ]
    },
    {
     "name": "stderr",
     "output_type": "stream",
     "text": [
      " Simulating... : 100%|██████████| 594303/594303 [00:42<00:00, 13867.44it/s]\n"
     ]
    },
    {
     "name": "stdout",
     "output_type": "stream",
     "text": [
      "sim_name      init_signal    cushion    risk    rr  margin_closeout      streak_limit\n",
      "sim_2047                1          2   0.004   1.5  True                            8\n"
     ]
    },
    {
     "name": "stderr",
     "output_type": "stream",
     "text": [
      " Simulating... : 100%|██████████| 594303/594303 [00:41<00:00, 14280.09it/s]\n"
     ]
    },
    {
     "name": "stdout",
     "output_type": "stream",
     "text": [
      "sim_name      init_signal    cushion    risk    rr  margin_closeout      streak_limit\n",
      "sim_2048               -1          2   0.004   1.5  True                            9\n"
     ]
    },
    {
     "name": "stderr",
     "output_type": "stream",
     "text": [
      " Simulating... : 100%|██████████| 594303/594303 [00:38<00:00, 15379.48it/s]\n"
     ]
    },
    {
     "name": "stdout",
     "output_type": "stream",
     "text": [
      "sim_name      init_signal    cushion    risk    rr  margin_closeout      streak_limit\n",
      "sim_2049                1          2   0.001     2  True                            7\n"
     ]
    },
    {
     "name": "stderr",
     "output_type": "stream",
     "text": [
      " Simulating... : 100%|██████████| 594303/594303 [00:38<00:00, 15266.08it/s]\n"
     ]
    },
    {
     "name": "stdout",
     "output_type": "stream",
     "text": [
      "sim_name      init_signal    cushion    risk    rr  margin_closeout      streak_limit\n",
      "sim_2050                1          2   0.001     2  True                            8\n"
     ]
    },
    {
     "name": "stderr",
     "output_type": "stream",
     "text": [
      " Simulating... : 100%|██████████| 594303/594303 [00:38<00:00, 15395.37it/s]\n"
     ]
    },
    {
     "name": "stdout",
     "output_type": "stream",
     "text": [
      "sim_name      init_signal    cushion    risk    rr  margin_closeout      streak_limit\n",
      "sim_2051               -1          2   0.001     2  True                            9\n"
     ]
    },
    {
     "name": "stderr",
     "output_type": "stream",
     "text": [
      " Simulating... : 100%|██████████| 594303/594303 [00:45<00:00, 13048.62it/s]\n"
     ]
    },
    {
     "name": "stdout",
     "output_type": "stream",
     "text": [
      "sim_name      init_signal    cushion    risk    rr  margin_closeout      streak_limit\n",
      "sim_2052               -1          2   0.002     2  True                            7\n"
     ]
    },
    {
     "name": "stderr",
     "output_type": "stream",
     "text": [
      " Simulating... : 100%|██████████| 594303/594303 [00:38<00:00, 15398.79it/s]\n"
     ]
    },
    {
     "name": "stdout",
     "output_type": "stream",
     "text": [
      "sim_name      init_signal    cushion    risk    rr  margin_closeout      streak_limit\n",
      "sim_2053               -1          2   0.002     2  True                            8\n"
     ]
    },
    {
     "name": "stderr",
     "output_type": "stream",
     "text": [
      " Simulating... : 100%|██████████| 594303/594303 [00:38<00:00, 15372.23it/s]\n"
     ]
    },
    {
     "name": "stdout",
     "output_type": "stream",
     "text": [
      "sim_name      init_signal    cushion    risk    rr  margin_closeout      streak_limit\n",
      "sim_2054                1          2   0.002     2  True                            9\n"
     ]
    },
    {
     "name": "stderr",
     "output_type": "stream",
     "text": [
      " Simulating... : 100%|██████████| 594303/594303 [00:39<00:00, 15226.95it/s]\n"
     ]
    },
    {
     "name": "stdout",
     "output_type": "stream",
     "text": [
      "sim_name      init_signal    cushion    risk    rr  margin_closeout      streak_limit\n",
      "sim_2055               -1          2   0.003     2  True                            7\n"
     ]
    },
    {
     "name": "stderr",
     "output_type": "stream",
     "text": [
      " Simulating... : 100%|██████████| 594303/594303 [00:42<00:00, 14043.57it/s]\n"
     ]
    },
    {
     "name": "stdout",
     "output_type": "stream",
     "text": [
      "sim_name      init_signal    cushion    risk    rr  margin_closeout      streak_limit\n",
      "sim_2056               -1          2   0.003     2  True                            8\n"
     ]
    },
    {
     "name": "stderr",
     "output_type": "stream",
     "text": [
      " Simulating... : 100%|██████████| 594303/594303 [00:40<00:00, 14522.23it/s]\n"
     ]
    },
    {
     "name": "stdout",
     "output_type": "stream",
     "text": [
      "sim_name      init_signal    cushion    risk    rr  margin_closeout      streak_limit\n",
      "sim_2057                1          2   0.003     2  True                            9\n"
     ]
    },
    {
     "name": "stderr",
     "output_type": "stream",
     "text": [
      " Simulating... : 100%|██████████| 594303/594303 [00:38<00:00, 15372.44it/s]\n"
     ]
    },
    {
     "name": "stdout",
     "output_type": "stream",
     "text": [
      "sim_name      init_signal    cushion    risk    rr  margin_closeout      streak_limit\n",
      "sim_2058               -1          2   0.004     2  True                            7\n"
     ]
    },
    {
     "name": "stderr",
     "output_type": "stream",
     "text": [
      " Simulating... : 100%|██████████| 594303/594303 [00:38<00:00, 15529.81it/s]\n"
     ]
    },
    {
     "name": "stdout",
     "output_type": "stream",
     "text": [
      "sim_name      init_signal    cushion    risk    rr  margin_closeout      streak_limit\n",
      "sim_2059                1          2   0.004     2  True                            8\n"
     ]
    },
    {
     "name": "stderr",
     "output_type": "stream",
     "text": [
      " Simulating... : 100%|██████████| 594303/594303 [00:38<00:00, 15533.29it/s]\n"
     ]
    },
    {
     "name": "stdout",
     "output_type": "stream",
     "text": [
      "sim_name      init_signal    cushion    risk    rr  margin_closeout      streak_limit\n",
      "sim_2060                1          2   0.004     2  True                            9\n"
     ]
    },
    {
     "name": "stderr",
     "output_type": "stream",
     "text": [
      " Simulating... : 100%|██████████| 594303/594303 [00:44<00:00, 13321.20it/s]\n"
     ]
    },
    {
     "name": "stdout",
     "output_type": "stream",
     "text": [
      "sim_name      init_signal    cushion    risk    rr  margin_closeout      streak_limit\n",
      "sim_2061               -1          2   0.001     3  True                            7\n"
     ]
    },
    {
     "name": "stderr",
     "output_type": "stream",
     "text": [
      " Simulating... : 100%|██████████| 594303/594303 [00:38<00:00, 15371.56it/s]\n"
     ]
    },
    {
     "name": "stdout",
     "output_type": "stream",
     "text": [
      "sim_name      init_signal    cushion    risk    rr  margin_closeout      streak_limit\n",
      "sim_2062               -1          2   0.001     3  True                            8\n"
     ]
    },
    {
     "name": "stderr",
     "output_type": "stream",
     "text": [
      " Simulating... : 100%|██████████| 594303/594303 [00:38<00:00, 15405.12it/s]\n"
     ]
    },
    {
     "name": "stdout",
     "output_type": "stream",
     "text": [
      "sim_name      init_signal    cushion    risk    rr  margin_closeout      streak_limit\n",
      "sim_2063                1          2   0.001     3  True                            9\n"
     ]
    },
    {
     "name": "stderr",
     "output_type": "stream",
     "text": [
      " Simulating... : 100%|██████████| 594303/594303 [00:41<00:00, 14483.51it/s]\n"
     ]
    },
    {
     "name": "stdout",
     "output_type": "stream",
     "text": [
      "sim_name      init_signal    cushion    risk    rr  margin_closeout      streak_limit\n",
      "sim_2064                1          2   0.002     3  True                            7\n"
     ]
    },
    {
     "name": "stderr",
     "output_type": "stream",
     "text": [
      " Simulating... : 100%|██████████| 594303/594303 [00:44<00:00, 13472.38it/s]\n"
     ]
    },
    {
     "name": "stdout",
     "output_type": "stream",
     "text": [
      "sim_name      init_signal    cushion    risk    rr  margin_closeout      streak_limit\n",
      "sim_2065               -1          2   0.002     3  True                            8\n"
     ]
    },
    {
     "name": "stderr",
     "output_type": "stream",
     "text": [
      " Simulating... : 100%|██████████| 594303/594303 [00:41<00:00, 14342.40it/s]\n"
     ]
    },
    {
     "name": "stdout",
     "output_type": "stream",
     "text": [
      "sim_name      init_signal    cushion    risk    rr  margin_closeout      streak_limit\n",
      "sim_2066                1          2   0.002     3  True                            9\n"
     ]
    },
    {
     "name": "stderr",
     "output_type": "stream",
     "text": [
      " Simulating... : 100%|██████████| 594303/594303 [00:39<00:00, 15124.95it/s]\n"
     ]
    },
    {
     "name": "stdout",
     "output_type": "stream",
     "text": [
      "sim_name      init_signal    cushion    risk    rr  margin_closeout      streak_limit\n",
      "sim_2067                1          2   0.003     3  True                            7\n"
     ]
    },
    {
     "name": "stderr",
     "output_type": "stream",
     "text": [
      " Simulating... : 100%|██████████| 594303/594303 [00:42<00:00, 13835.73it/s]\n"
     ]
    },
    {
     "name": "stdout",
     "output_type": "stream",
     "text": [
      "sim_name      init_signal    cushion    risk    rr  margin_closeout      streak_limit\n",
      "sim_2068                1          2   0.003     3  True                            8\n"
     ]
    },
    {
     "name": "stderr",
     "output_type": "stream",
     "text": [
      " Simulating... : 100%|██████████| 594303/594303 [00:41<00:00, 14453.61it/s]\n"
     ]
    },
    {
     "name": "stdout",
     "output_type": "stream",
     "text": [
      "sim_name      init_signal    cushion    risk    rr  margin_closeout      streak_limit\n",
      "sim_2069                1          2   0.003     3  True                            9\n"
     ]
    },
    {
     "name": "stderr",
     "output_type": "stream",
     "text": [
      " Simulating... : 100%|██████████| 594303/594303 [00:41<00:00, 14490.85it/s]\n"
     ]
    },
    {
     "name": "stdout",
     "output_type": "stream",
     "text": [
      "sim_name      init_signal    cushion    risk    rr  margin_closeout      streak_limit\n",
      "sim_2070               -1          2   0.004     3  True                            7\n"
     ]
    },
    {
     "name": "stderr",
     "output_type": "stream",
     "text": [
      " Simulating... : 100%|██████████| 594303/594303 [00:41<00:00, 14442.77it/s]\n"
     ]
    },
    {
     "name": "stdout",
     "output_type": "stream",
     "text": [
      "sim_name      init_signal    cushion    risk    rr  margin_closeout      streak_limit\n",
      "sim_2071                1          2   0.004     3  True                            8\n"
     ]
    },
    {
     "name": "stderr",
     "output_type": "stream",
     "text": [
      " Simulating... : 100%|██████████| 594303/594303 [00:41<00:00, 14264.75it/s]\n"
     ]
    },
    {
     "name": "stdout",
     "output_type": "stream",
     "text": [
      "sim_name      init_signal    cushion    risk    rr  margin_closeout      streak_limit\n",
      "sim_2072                1          2   0.004     3  True                            9\n"
     ]
    },
    {
     "name": "stderr",
     "output_type": "stream",
     "text": [
      " Simulating... : 100%|██████████| 594303/594303 [00:42<00:00, 14131.58it/s]\n"
     ]
    },
    {
     "name": "stdout",
     "output_type": "stream",
     "text": [
      "sim_name      init_signal    cushion    risk    rr  margin_closeout      streak_limit\n",
      "sim_2073                1        2.5   0.001   1.5  True                            7\n"
     ]
    },
    {
     "name": "stderr",
     "output_type": "stream",
     "text": [
      " Simulating... : 100%|██████████| 594303/594303 [00:43<00:00, 13682.13it/s]\n"
     ]
    },
    {
     "name": "stdout",
     "output_type": "stream",
     "text": [
      "sim_name      init_signal    cushion    risk    rr  margin_closeout      streak_limit\n",
      "sim_2074               -1        2.5   0.001   1.5  True                            8\n"
     ]
    },
    {
     "name": "stderr",
     "output_type": "stream",
     "text": [
      " Simulating... : 100%|██████████| 594303/594303 [00:42<00:00, 14132.52it/s]\n"
     ]
    },
    {
     "name": "stdout",
     "output_type": "stream",
     "text": [
      "sim_name      init_signal    cushion    risk    rr  margin_closeout      streak_limit\n",
      "sim_2075                1        2.5   0.001   1.5  True                            9\n"
     ]
    },
    {
     "name": "stderr",
     "output_type": "stream",
     "text": [
      " Simulating... : 100%|██████████| 594303/594303 [00:42<00:00, 13846.75it/s]\n"
     ]
    },
    {
     "name": "stdout",
     "output_type": "stream",
     "text": [
      "sim_name      init_signal    cushion    risk    rr  margin_closeout      streak_limit\n",
      "sim_2076               -1        2.5   0.002   1.5  True                            7\n"
     ]
    },
    {
     "name": "stderr",
     "output_type": "stream",
     "text": [
      " Simulating... : 100%|██████████| 594303/594303 [00:41<00:00, 14487.38it/s]\n"
     ]
    },
    {
     "name": "stdout",
     "output_type": "stream",
     "text": [
      "sim_name      init_signal    cushion    risk    rr  margin_closeout      streak_limit\n",
      "sim_2077               -1        2.5   0.002   1.5  True                            8\n"
     ]
    },
    {
     "name": "stderr",
     "output_type": "stream",
     "text": [
      " Simulating... : 100%|██████████| 594303/594303 [00:41<00:00, 14202.36it/s]\n"
     ]
    },
    {
     "name": "stdout",
     "output_type": "stream",
     "text": [
      "sim_name      init_signal    cushion    risk    rr  margin_closeout      streak_limit\n",
      "sim_2078                1        2.5   0.002   1.5  True                            9\n"
     ]
    },
    {
     "name": "stderr",
     "output_type": "stream",
     "text": [
      " Simulating... : 100%|██████████| 594303/594303 [00:41<00:00, 14227.81it/s]\n"
     ]
    },
    {
     "name": "stdout",
     "output_type": "stream",
     "text": [
      "sim_name      init_signal    cushion    risk    rr  margin_closeout      streak_limit\n",
      "sim_2079               -1        2.5   0.003   1.5  True                            7\n"
     ]
    },
    {
     "name": "stderr",
     "output_type": "stream",
     "text": [
      " Simulating... : 100%|██████████| 594303/594303 [00:41<00:00, 14277.43it/s]\n"
     ]
    },
    {
     "name": "stdout",
     "output_type": "stream",
     "text": [
      "sim_name      init_signal    cushion    risk    rr  margin_closeout      streak_limit\n",
      "sim_2080                1        2.5   0.003   1.5  True                            8\n"
     ]
    },
    {
     "name": "stderr",
     "output_type": "stream",
     "text": [
      " Simulating... : 100%|██████████| 594303/594303 [00:41<00:00, 14185.12it/s]\n"
     ]
    },
    {
     "name": "stdout",
     "output_type": "stream",
     "text": [
      "sim_name      init_signal    cushion    risk    rr  margin_closeout      streak_limit\n",
      "sim_2081                1        2.5   0.003   1.5  True                            9\n"
     ]
    },
    {
     "name": "stderr",
     "output_type": "stream",
     "text": [
      " Simulating... : 100%|██████████| 594303/594303 [00:41<00:00, 14206.11it/s]\n"
     ]
    },
    {
     "name": "stdout",
     "output_type": "stream",
     "text": [
      "sim_name      init_signal    cushion    risk    rr  margin_closeout      streak_limit\n",
      "sim_2082                1        2.5   0.004   1.5  True                            7\n"
     ]
    },
    {
     "name": "stderr",
     "output_type": "stream",
     "text": [
      " Simulating... : 100%|██████████| 594303/594303 [00:41<00:00, 14400.70it/s]\n"
     ]
    },
    {
     "name": "stdout",
     "output_type": "stream",
     "text": [
      "sim_name      init_signal    cushion    risk    rr  margin_closeout      streak_limit\n",
      "sim_2083               -1        2.5   0.004   1.5  True                            8\n"
     ]
    },
    {
     "name": "stderr",
     "output_type": "stream",
     "text": [
      " Simulating... : 100%|██████████| 594303/594303 [00:41<00:00, 14372.34it/s]\n"
     ]
    },
    {
     "name": "stdout",
     "output_type": "stream",
     "text": [
      "sim_name      init_signal    cushion    risk    rr  margin_closeout      streak_limit\n",
      "sim_2084                1        2.5   0.004   1.5  True                            9\n"
     ]
    },
    {
     "name": "stderr",
     "output_type": "stream",
     "text": [
      " Simulating... : 100%|██████████| 594303/594303 [00:42<00:00, 13834.71it/s]\n"
     ]
    },
    {
     "name": "stdout",
     "output_type": "stream",
     "text": [
      "sim_name      init_signal    cushion    risk    rr  margin_closeout      streak_limit\n",
      "sim_2085               -1        2.5   0.001     2  True                            7\n"
     ]
    },
    {
     "name": "stderr",
     "output_type": "stream",
     "text": [
      " Simulating... : 100%|██████████| 594303/594303 [00:42<00:00, 13906.73it/s]\n"
     ]
    },
    {
     "name": "stdout",
     "output_type": "stream",
     "text": [
      "sim_name      init_signal    cushion    risk    rr  margin_closeout      streak_limit\n",
      "sim_2086               -1        2.5   0.001     2  True                            8\n"
     ]
    },
    {
     "name": "stderr",
     "output_type": "stream",
     "text": [
      " Simulating... : 100%|██████████| 594303/594303 [00:42<00:00, 13898.65it/s]\n"
     ]
    },
    {
     "name": "stdout",
     "output_type": "stream",
     "text": [
      "sim_name      init_signal    cushion    risk    rr  margin_closeout      streak_limit\n",
      "sim_2087               -1        2.5   0.001     2  True                            9\n"
     ]
    },
    {
     "name": "stderr",
     "output_type": "stream",
     "text": [
      " Simulating... : 100%|██████████| 594303/594303 [00:42<00:00, 13844.86it/s]\n"
     ]
    },
    {
     "name": "stdout",
     "output_type": "stream",
     "text": [
      "sim_name      init_signal    cushion    risk    rr  margin_closeout      streak_limit\n",
      "sim_2088               -1        2.5   0.002     2  True                            7\n"
     ]
    },
    {
     "name": "stderr",
     "output_type": "stream",
     "text": [
      " Simulating... : 100%|██████████| 594303/594303 [00:41<00:00, 14166.26it/s]\n"
     ]
    },
    {
     "name": "stdout",
     "output_type": "stream",
     "text": [
      "sim_name      init_signal    cushion    risk    rr  margin_closeout      streak_limit\n",
      "sim_2089               -1        2.5   0.002     2  True                            8\n"
     ]
    },
    {
     "name": "stderr",
     "output_type": "stream",
     "text": [
      " Simulating... : 100%|██████████| 594303/594303 [00:42<00:00, 13996.21it/s]\n"
     ]
    },
    {
     "name": "stdout",
     "output_type": "stream",
     "text": [
      "sim_name      init_signal    cushion    risk    rr  margin_closeout      streak_limit\n",
      "sim_2090                1        2.5   0.002     2  True                            9\n"
     ]
    },
    {
     "name": "stderr",
     "output_type": "stream",
     "text": [
      " Simulating... : 100%|██████████| 594303/594303 [00:43<00:00, 13809.28it/s]\n"
     ]
    },
    {
     "name": "stdout",
     "output_type": "stream",
     "text": [
      "sim_name      init_signal    cushion    risk    rr  margin_closeout      streak_limit\n",
      "sim_2091                1        2.5   0.003     2  True                            7\n"
     ]
    },
    {
     "name": "stderr",
     "output_type": "stream",
     "text": [
      " Simulating... : 100%|██████████| 594303/594303 [00:42<00:00, 14028.19it/s]\n"
     ]
    },
    {
     "name": "stdout",
     "output_type": "stream",
     "text": [
      "sim_name      init_signal    cushion    risk    rr  margin_closeout      streak_limit\n",
      "sim_2092                1        2.5   0.003     2  True                            8\n"
     ]
    },
    {
     "name": "stderr",
     "output_type": "stream",
     "text": [
      " Simulating... : 100%|██████████| 594303/594303 [00:41<00:00, 14191.01it/s]\n"
     ]
    },
    {
     "name": "stdout",
     "output_type": "stream",
     "text": [
      "sim_name      init_signal    cushion    risk    rr  margin_closeout      streak_limit\n",
      "sim_2093               -1        2.5   0.003     2  True                            9\n"
     ]
    },
    {
     "name": "stderr",
     "output_type": "stream",
     "text": [
      " Simulating... : 100%|██████████| 594303/594303 [00:41<00:00, 14200.23it/s]\n"
     ]
    },
    {
     "name": "stdout",
     "output_type": "stream",
     "text": [
      "sim_name      init_signal    cushion    risk    rr  margin_closeout      streak_limit\n",
      "sim_2094                1        2.5   0.004     2  True                            7\n"
     ]
    },
    {
     "name": "stderr",
     "output_type": "stream",
     "text": [
      " Simulating... : 100%|██████████| 594303/594303 [00:42<00:00, 13987.94it/s]\n"
     ]
    },
    {
     "name": "stdout",
     "output_type": "stream",
     "text": [
      "sim_name      init_signal    cushion    risk    rr  margin_closeout      streak_limit\n",
      "sim_2095                1        2.5   0.004     2  True                            8\n"
     ]
    },
    {
     "name": "stderr",
     "output_type": "stream",
     "text": [
      " Simulating... : 100%|██████████| 594303/594303 [00:43<00:00, 13747.31it/s]\n"
     ]
    },
    {
     "name": "stdout",
     "output_type": "stream",
     "text": [
      "sim_name      init_signal    cushion    risk    rr  margin_closeout      streak_limit\n",
      "sim_2096               -1        2.5   0.004     2  True                            9\n"
     ]
    },
    {
     "name": "stderr",
     "output_type": "stream",
     "text": [
      " Simulating... : 100%|██████████| 594303/594303 [00:41<00:00, 14369.19it/s]\n"
     ]
    },
    {
     "name": "stdout",
     "output_type": "stream",
     "text": [
      "sim_name      init_signal    cushion    risk    rr  margin_closeout      streak_limit\n",
      "sim_2097               -1        2.5   0.001     3  True                            7\n"
     ]
    },
    {
     "name": "stderr",
     "output_type": "stream",
     "text": [
      " Simulating... : 100%|██████████| 594303/594303 [00:41<00:00, 14233.75it/s]\n"
     ]
    },
    {
     "name": "stdout",
     "output_type": "stream",
     "text": [
      "sim_name      init_signal    cushion    risk    rr  margin_closeout      streak_limit\n",
      "sim_2098               -1        2.5   0.001     3  True                            8\n"
     ]
    },
    {
     "name": "stderr",
     "output_type": "stream",
     "text": [
      " Simulating... : 100%|██████████| 594303/594303 [00:46<00:00, 12818.42it/s]\n"
     ]
    },
    {
     "name": "stdout",
     "output_type": "stream",
     "text": [
      "sim_name      init_signal    cushion    risk    rr  margin_closeout      streak_limit\n",
      "sim_2099                1        2.5   0.001     3  True                            9\n"
     ]
    },
    {
     "name": "stderr",
     "output_type": "stream",
     "text": [
      " Simulating... : 100%|██████████| 594303/594303 [00:42<00:00, 14132.81it/s]\n"
     ]
    },
    {
     "name": "stdout",
     "output_type": "stream",
     "text": [
      "sim_name      init_signal    cushion    risk    rr  margin_closeout      streak_limit\n",
      "sim_2100                1        2.5   0.002     3  True                            7\n"
     ]
    },
    {
     "name": "stderr",
     "output_type": "stream",
     "text": [
      " Simulating... : 100%|██████████| 594303/594303 [00:40<00:00, 14772.47it/s]\n"
     ]
    },
    {
     "name": "stdout",
     "output_type": "stream",
     "text": [
      "sim_name      init_signal    cushion    risk    rr  margin_closeout      streak_limit\n",
      "sim_2101               -1        2.5   0.002     3  True                            8\n"
     ]
    },
    {
     "name": "stderr",
     "output_type": "stream",
     "text": [
      " Simulating... : 100%|██████████| 594303/594303 [00:39<00:00, 15011.88it/s]\n"
     ]
    },
    {
     "name": "stdout",
     "output_type": "stream",
     "text": [
      "sim_name      init_signal    cushion    risk    rr  margin_closeout      streak_limit\n",
      "sim_2102               -1        2.5   0.002     3  True                            9\n"
     ]
    },
    {
     "name": "stderr",
     "output_type": "stream",
     "text": [
      " Simulating... : 100%|██████████| 594303/594303 [00:41<00:00, 14156.24it/s]\n"
     ]
    },
    {
     "name": "stdout",
     "output_type": "stream",
     "text": [
      "sim_name      init_signal    cushion    risk    rr  margin_closeout      streak_limit\n",
      "sim_2103               -1        2.5   0.003     3  True                            7\n"
     ]
    },
    {
     "name": "stderr",
     "output_type": "stream",
     "text": [
      " Simulating... : 100%|██████████| 594303/594303 [00:42<00:00, 14078.68it/s]\n"
     ]
    },
    {
     "name": "stdout",
     "output_type": "stream",
     "text": [
      "sim_name      init_signal    cushion    risk    rr  margin_closeout      streak_limit\n",
      "sim_2104                1        2.5   0.003     3  True                            8\n"
     ]
    },
    {
     "name": "stderr",
     "output_type": "stream",
     "text": [
      " Simulating... : 100%|██████████| 594303/594303 [00:39<00:00, 15185.25it/s]\n"
     ]
    },
    {
     "name": "stdout",
     "output_type": "stream",
     "text": [
      "sim_name      init_signal    cushion    risk    rr  margin_closeout      streak_limit\n",
      "sim_2105                1        2.5   0.003     3  True                            9\n"
     ]
    },
    {
     "name": "stderr",
     "output_type": "stream",
     "text": [
      " Simulating... : 100%|██████████| 594303/594303 [00:39<00:00, 15207.69it/s]\n"
     ]
    },
    {
     "name": "stdout",
     "output_type": "stream",
     "text": [
      "sim_name      init_signal    cushion    risk    rr  margin_closeout      streak_limit\n",
      "sim_2106                1        2.5   0.004     3  True                            7\n"
     ]
    },
    {
     "name": "stderr",
     "output_type": "stream",
     "text": [
      " Simulating... : 100%|██████████| 594303/594303 [00:39<00:00, 15234.86it/s]\n"
     ]
    },
    {
     "name": "stdout",
     "output_type": "stream",
     "text": [
      "sim_name      init_signal    cushion    risk    rr  margin_closeout      streak_limit\n",
      "sim_2107               -1        2.5   0.004     3  True                            8\n"
     ]
    },
    {
     "name": "stderr",
     "output_type": "stream",
     "text": [
      " Simulating... : 100%|██████████| 594303/594303 [00:44<00:00, 13423.13it/s]\n"
     ]
    },
    {
     "name": "stdout",
     "output_type": "stream",
     "text": [
      "sim_name      init_signal    cushion    risk    rr  margin_closeout      streak_limit\n",
      "sim_2108                1        2.5   0.004     3  True                            9\n"
     ]
    },
    {
     "name": "stderr",
     "output_type": "stream",
     "text": [
      " Simulating... : 100%|██████████| 594303/594303 [00:40<00:00, 14742.42it/s]\n"
     ]
    },
    {
     "name": "stdout",
     "output_type": "stream",
     "text": [
      "sim_name      init_signal    cushion    risk    rr  margin_closeout      streak_limit\n",
      "sim_2109               -1          3   0.001   1.5  True                            7\n"
     ]
    },
    {
     "name": "stderr",
     "output_type": "stream",
     "text": [
      " Simulating... : 100%|██████████| 594303/594303 [00:39<00:00, 15106.51it/s]\n"
     ]
    },
    {
     "name": "stdout",
     "output_type": "stream",
     "text": [
      "sim_name      init_signal    cushion    risk    rr  margin_closeout      streak_limit\n",
      "sim_2110               -1          3   0.001   1.5  True                            8\n"
     ]
    },
    {
     "name": "stderr",
     "output_type": "stream",
     "text": [
      " Simulating... : 100%|██████████| 594303/594303 [00:39<00:00, 15215.46it/s]\n"
     ]
    },
    {
     "name": "stdout",
     "output_type": "stream",
     "text": [
      "sim_name      init_signal    cushion    risk    rr  margin_closeout      streak_limit\n",
      "sim_2111                1          3   0.001   1.5  True                            9\n"
     ]
    },
    {
     "name": "stderr",
     "output_type": "stream",
     "text": [
      " Simulating... : 100%|██████████| 594303/594303 [00:42<00:00, 14055.17it/s]\n"
     ]
    },
    {
     "name": "stdout",
     "output_type": "stream",
     "text": [
      "sim_name      init_signal    cushion    risk    rr  margin_closeout      streak_limit\n",
      "sim_2112               -1          3   0.002   1.5  True                            7\n"
     ]
    },
    {
     "name": "stderr",
     "output_type": "stream",
     "text": [
      " Simulating... : 100%|██████████| 594303/594303 [00:42<00:00, 14009.23it/s]\n"
     ]
    },
    {
     "name": "stdout",
     "output_type": "stream",
     "text": [
      "sim_name      init_signal    cushion    risk    rr  margin_closeout      streak_limit\n",
      "sim_2113               -1          3   0.002   1.5  True                            8\n"
     ]
    },
    {
     "name": "stderr",
     "output_type": "stream",
     "text": [
      " Simulating... : 100%|██████████| 594303/594303 [00:39<00:00, 15137.26it/s]\n"
     ]
    },
    {
     "name": "stdout",
     "output_type": "stream",
     "text": [
      "sim_name      init_signal    cushion    risk    rr  margin_closeout      streak_limit\n",
      "sim_2114                1          3   0.002   1.5  True                            9\n"
     ]
    },
    {
     "name": "stderr",
     "output_type": "stream",
     "text": [
      " Simulating... : 100%|██████████| 594303/594303 [00:38<00:00, 15291.01it/s]\n"
     ]
    },
    {
     "name": "stdout",
     "output_type": "stream",
     "text": [
      "sim_name      init_signal    cushion    risk    rr  margin_closeout      streak_limit\n",
      "sim_2115                1          3   0.003   1.5  True                            7\n"
     ]
    },
    {
     "name": "stderr",
     "output_type": "stream",
     "text": [
      " Simulating... : 100%|██████████| 594303/594303 [00:39<00:00, 15063.02it/s]\n"
     ]
    },
    {
     "name": "stdout",
     "output_type": "stream",
     "text": [
      "sim_name      init_signal    cushion    risk    rr  margin_closeout      streak_limit\n",
      "sim_2116               -1          3   0.003   1.5  True                            8\n"
     ]
    },
    {
     "name": "stderr",
     "output_type": "stream",
     "text": [
      " Simulating... : 100%|██████████| 594303/594303 [00:44<00:00, 13290.36it/s]\n"
     ]
    },
    {
     "name": "stdout",
     "output_type": "stream",
     "text": [
      "sim_name      init_signal    cushion    risk    rr  margin_closeout      streak_limit\n",
      "sim_2117                1          3   0.003   1.5  True                            9\n"
     ]
    },
    {
     "name": "stderr",
     "output_type": "stream",
     "text": [
      " Simulating... : 100%|██████████| 594303/594303 [00:39<00:00, 14955.80it/s]\n"
     ]
    },
    {
     "name": "stdout",
     "output_type": "stream",
     "text": [
      "sim_name      init_signal    cushion    risk    rr  margin_closeout      streak_limit\n",
      "sim_2118                1          3   0.004   1.5  True                            7\n"
     ]
    },
    {
     "name": "stderr",
     "output_type": "stream",
     "text": [
      " Simulating... : 100%|██████████| 594303/594303 [00:38<00:00, 15453.90it/s]\n"
     ]
    },
    {
     "name": "stdout",
     "output_type": "stream",
     "text": [
      "sim_name      init_signal    cushion    risk    rr  margin_closeout      streak_limit\n",
      "sim_2119               -1          3   0.004   1.5  True                            8\n"
     ]
    },
    {
     "name": "stderr",
     "output_type": "stream",
     "text": [
      " Simulating... : 100%|██████████| 594303/594303 [00:38<00:00, 15313.82it/s]\n"
     ]
    },
    {
     "name": "stdout",
     "output_type": "stream",
     "text": [
      "sim_name      init_signal    cushion    risk    rr  margin_closeout      streak_limit\n",
      "sim_2120               -1          3   0.004   1.5  True                            9\n"
     ]
    },
    {
     "name": "stderr",
     "output_type": "stream",
     "text": [
      " Simulating... : 100%|██████████| 594303/594303 [00:42<00:00, 14100.65it/s]\n"
     ]
    },
    {
     "name": "stdout",
     "output_type": "stream",
     "text": [
      "sim_name      init_signal    cushion    risk    rr  margin_closeout      streak_limit\n",
      "sim_2121                1          3   0.001     2  True                            7\n"
     ]
    },
    {
     "name": "stderr",
     "output_type": "stream",
     "text": [
      " Simulating... : 100%|██████████| 594303/594303 [00:41<00:00, 14441.14it/s]\n"
     ]
    },
    {
     "name": "stdout",
     "output_type": "stream",
     "text": [
      "sim_name      init_signal    cushion    risk    rr  margin_closeout      streak_limit\n",
      "sim_2122                1          3   0.001     2  True                            8\n"
     ]
    },
    {
     "name": "stderr",
     "output_type": "stream",
     "text": [
      " Simulating... : 100%|██████████| 594303/594303 [00:38<00:00, 15361.96it/s]\n"
     ]
    },
    {
     "name": "stdout",
     "output_type": "stream",
     "text": [
      "sim_name      init_signal    cushion    risk    rr  margin_closeout      streak_limit\n",
      "sim_2123               -1          3   0.001     2  True                            9\n"
     ]
    },
    {
     "name": "stderr",
     "output_type": "stream",
     "text": [
      " Simulating... : 100%|██████████| 594303/594303 [00:38<00:00, 15331.87it/s]\n"
     ]
    },
    {
     "name": "stdout",
     "output_type": "stream",
     "text": [
      "sim_name      init_signal    cushion    risk    rr  margin_closeout      streak_limit\n",
      "sim_2124               -1          3   0.002     2  True                            7\n"
     ]
    },
    {
     "name": "stderr",
     "output_type": "stream",
     "text": [
      " Simulating... : 100%|██████████| 594303/594303 [00:38<00:00, 15351.13it/s]\n"
     ]
    },
    {
     "name": "stdout",
     "output_type": "stream",
     "text": [
      "sim_name      init_signal    cushion    risk    rr  margin_closeout      streak_limit\n",
      "sim_2125                1          3   0.002     2  True                            8\n"
     ]
    },
    {
     "name": "stderr",
     "output_type": "stream",
     "text": [
      " Simulating... : 100%|██████████| 594303/594303 [00:43<00:00, 13655.21it/s]\n"
     ]
    },
    {
     "name": "stdout",
     "output_type": "stream",
     "text": [
      "sim_name      init_signal    cushion    risk    rr  margin_closeout      streak_limit\n",
      "sim_2126                1          3   0.002     2  True                            9\n"
     ]
    },
    {
     "name": "stderr",
     "output_type": "stream",
     "text": [
      " Simulating... : 100%|██████████| 594303/594303 [00:39<00:00, 15150.83it/s]\n"
     ]
    },
    {
     "name": "stdout",
     "output_type": "stream",
     "text": [
      "sim_name      init_signal    cushion    risk    rr  margin_closeout      streak_limit\n",
      "sim_2127               -1          3   0.003     2  True                            7\n"
     ]
    },
    {
     "name": "stderr",
     "output_type": "stream",
     "text": [
      " Simulating... : 100%|██████████| 594303/594303 [00:39<00:00, 15175.77it/s]\n"
     ]
    },
    {
     "name": "stdout",
     "output_type": "stream",
     "text": [
      "sim_name      init_signal    cushion    risk    rr  margin_closeout      streak_limit\n",
      "sim_2128                1          3   0.003     2  True                            8\n"
     ]
    },
    {
     "name": "stderr",
     "output_type": "stream",
     "text": [
      " Simulating... : 100%|██████████| 594303/594303 [00:38<00:00, 15526.78it/s]\n"
     ]
    },
    {
     "name": "stdout",
     "output_type": "stream",
     "text": [
      "sim_name      init_signal    cushion    risk    rr  margin_closeout      streak_limit\n",
      "sim_2129                1          3   0.003     2  True                            9\n"
     ]
    },
    {
     "name": "stderr",
     "output_type": "stream",
     "text": [
      " Simulating... : 100%|██████████| 594303/594303 [00:41<00:00, 14176.37it/s]\n"
     ]
    },
    {
     "name": "stdout",
     "output_type": "stream",
     "text": [
      "sim_name      init_signal    cushion    risk    rr  margin_closeout      streak_limit\n",
      "sim_2130               -1          3   0.004     2  True                            7\n"
     ]
    },
    {
     "name": "stderr",
     "output_type": "stream",
     "text": [
      " Simulating... : 100%|██████████| 594303/594303 [00:41<00:00, 14320.65it/s]\n"
     ]
    },
    {
     "name": "stdout",
     "output_type": "stream",
     "text": [
      "sim_name      init_signal    cushion    risk    rr  margin_closeout      streak_limit\n",
      "sim_2131               -1          3   0.004     2  True                            8\n"
     ]
    },
    {
     "name": "stderr",
     "output_type": "stream",
     "text": [
      " Simulating... : 100%|██████████| 594303/594303 [00:39<00:00, 15121.94it/s]\n"
     ]
    },
    {
     "name": "stdout",
     "output_type": "stream",
     "text": [
      "sim_name      init_signal    cushion    risk    rr  margin_closeout      streak_limit\n",
      "sim_2132                1          3   0.004     2  True                            9\n"
     ]
    },
    {
     "name": "stderr",
     "output_type": "stream",
     "text": [
      " Simulating... : 100%|██████████| 594303/594303 [00:38<00:00, 15479.33it/s]\n"
     ]
    },
    {
     "name": "stdout",
     "output_type": "stream",
     "text": [
      "sim_name      init_signal    cushion    risk    rr  margin_closeout      streak_limit\n",
      "sim_2133                1          3   0.001     3  True                            7\n"
     ]
    },
    {
     "name": "stderr",
     "output_type": "stream",
     "text": [
      " Simulating... : 100%|██████████| 594303/594303 [00:38<00:00, 15396.62it/s]\n"
     ]
    },
    {
     "name": "stdout",
     "output_type": "stream",
     "text": [
      "sim_name      init_signal    cushion    risk    rr  margin_closeout      streak_limit\n",
      "sim_2134               -1          3   0.001     3  True                            8\n"
     ]
    },
    {
     "name": "stderr",
     "output_type": "stream",
     "text": [
      " Simulating... : 100%|██████████| 594303/594303 [00:44<00:00, 13375.85it/s]\n"
     ]
    },
    {
     "name": "stdout",
     "output_type": "stream",
     "text": [
      "sim_name      init_signal    cushion    risk    rr  margin_closeout      streak_limit\n",
      "sim_2135               -1          3   0.001     3  True                            9\n"
     ]
    },
    {
     "name": "stderr",
     "output_type": "stream",
     "text": [
      " Simulating... : 100%|██████████| 594303/594303 [00:39<00:00, 15160.10it/s]\n"
     ]
    },
    {
     "name": "stdout",
     "output_type": "stream",
     "text": [
      "sim_name      init_signal    cushion    risk    rr  margin_closeout      streak_limit\n",
      "sim_2136                1          3   0.002     3  True                            7\n"
     ]
    },
    {
     "name": "stderr",
     "output_type": "stream",
     "text": [
      " Simulating... : 100%|██████████| 594303/594303 [00:38<00:00, 15353.50it/s]\n"
     ]
    },
    {
     "name": "stdout",
     "output_type": "stream",
     "text": [
      "sim_name      init_signal    cushion    risk    rr  margin_closeout      streak_limit\n",
      "sim_2137               -1          3   0.002     3  True                            8\n"
     ]
    },
    {
     "name": "stderr",
     "output_type": "stream",
     "text": [
      " Simulating... : 100%|██████████| 594303/594303 [00:38<00:00, 15239.41it/s]\n"
     ]
    },
    {
     "name": "stdout",
     "output_type": "stream",
     "text": [
      "sim_name      init_signal    cushion    risk    rr  margin_closeout      streak_limit\n",
      "sim_2138               -1          3   0.002     3  True                            9\n"
     ]
    },
    {
     "name": "stderr",
     "output_type": "stream",
     "text": [
      " Simulating... : 100%|██████████| 594303/594303 [00:42<00:00, 14145.04it/s]\n"
     ]
    },
    {
     "name": "stdout",
     "output_type": "stream",
     "text": [
      "sim_name      init_signal    cushion    risk    rr  margin_closeout      streak_limit\n",
      "sim_2139               -1          3   0.003     3  True                            7\n"
     ]
    },
    {
     "name": "stderr",
     "output_type": "stream",
     "text": [
      " Simulating... : 100%|██████████| 594303/594303 [00:42<00:00, 14094.18it/s]\n"
     ]
    },
    {
     "name": "stdout",
     "output_type": "stream",
     "text": [
      "sim_name      init_signal    cushion    risk    rr  margin_closeout      streak_limit\n",
      "sim_2140               -1          3   0.003     3  True                            8\n"
     ]
    },
    {
     "name": "stderr",
     "output_type": "stream",
     "text": [
      " Simulating... : 100%|██████████| 594303/594303 [00:39<00:00, 15208.38it/s]\n"
     ]
    },
    {
     "name": "stdout",
     "output_type": "stream",
     "text": [
      "sim_name      init_signal    cushion    risk    rr  margin_closeout      streak_limit\n",
      "sim_2141                1          3   0.003     3  True                            9\n"
     ]
    },
    {
     "name": "stderr",
     "output_type": "stream",
     "text": [
      " Simulating... : 100%|██████████| 594303/594303 [00:38<00:00, 15269.81it/s]\n"
     ]
    },
    {
     "name": "stdout",
     "output_type": "stream",
     "text": [
      "sim_name      init_signal    cushion    risk    rr  margin_closeout      streak_limit\n",
      "sim_2142               -1          3   0.004     3  True                            7\n"
     ]
    },
    {
     "name": "stderr",
     "output_type": "stream",
     "text": [
      " Simulating... : 100%|██████████| 594303/594303 [00:38<00:00, 15317.72it/s]\n"
     ]
    },
    {
     "name": "stdout",
     "output_type": "stream",
     "text": [
      "sim_name      init_signal    cushion    risk    rr  margin_closeout      streak_limit\n",
      "sim_2143                1          3   0.004     3  True                            8\n"
     ]
    },
    {
     "name": "stderr",
     "output_type": "stream",
     "text": [
      " Simulating... : 100%|██████████| 594303/594303 [00:44<00:00, 13488.04it/s]\n"
     ]
    },
    {
     "name": "stdout",
     "output_type": "stream",
     "text": [
      "sim_name      init_signal    cushion    risk    rr  margin_closeout      streak_limit\n",
      "sim_2144               -1          3   0.004     3  True                            9\n"
     ]
    },
    {
     "name": "stderr",
     "output_type": "stream",
     "text": [
      " Simulating... : 100%|██████████| 594303/594303 [00:39<00:00, 15073.16it/s]\n"
     ]
    },
    {
     "name": "stdout",
     "output_type": "stream",
     "text": [
      "sim_name      init_signal    cushion    risk    rr  margin_closeout      streak_limit\n",
      "sim_2145               -1          4   0.001   1.5  True                            7\n"
     ]
    },
    {
     "name": "stderr",
     "output_type": "stream",
     "text": [
      " Simulating... : 100%|██████████| 594303/594303 [00:39<00:00, 14958.79it/s]\n"
     ]
    },
    {
     "name": "stdout",
     "output_type": "stream",
     "text": [
      "sim_name      init_signal    cushion    risk    rr  margin_closeout      streak_limit\n",
      "sim_2146               -1          4   0.001   1.5  True                            8\n"
     ]
    },
    {
     "name": "stderr",
     "output_type": "stream",
     "text": [
      " Simulating... : 100%|██████████| 594303/594303 [00:39<00:00, 15067.42it/s]\n"
     ]
    },
    {
     "name": "stdout",
     "output_type": "stream",
     "text": [
      "sim_name      init_signal    cushion    risk    rr  margin_closeout      streak_limit\n",
      "sim_2147               -1          4   0.001   1.5  True                            9\n"
     ]
    },
    {
     "name": "stderr",
     "output_type": "stream",
     "text": [
      " Simulating... : 100%|██████████| 594303/594303 [00:42<00:00, 13862.46it/s]\n"
     ]
    },
    {
     "name": "stdout",
     "output_type": "stream",
     "text": [
      "sim_name      init_signal    cushion    risk    rr  margin_closeout      streak_limit\n",
      "sim_2148                1          4   0.002   1.5  True                            7\n"
     ]
    },
    {
     "name": "stderr",
     "output_type": "stream",
     "text": [
      " Simulating... : 100%|██████████| 594303/594303 [00:41<00:00, 14191.08it/s]\n"
     ]
    },
    {
     "name": "stdout",
     "output_type": "stream",
     "text": [
      "sim_name      init_signal    cushion    risk    rr  margin_closeout      streak_limit\n",
      "sim_2149                1          4   0.002   1.5  True                            8\n"
     ]
    },
    {
     "name": "stderr",
     "output_type": "stream",
     "text": [
      " Simulating... : 100%|██████████| 594303/594303 [00:39<00:00, 15144.63it/s]\n"
     ]
    },
    {
     "name": "stdout",
     "output_type": "stream",
     "text": [
      "sim_name      init_signal    cushion    risk    rr  margin_closeout      streak_limit\n",
      "sim_2150               -1          4   0.002   1.5  True                            9\n"
     ]
    },
    {
     "name": "stderr",
     "output_type": "stream",
     "text": [
      " Simulating... : 100%|██████████| 594303/594303 [00:39<00:00, 14859.78it/s]\n"
     ]
    },
    {
     "name": "stdout",
     "output_type": "stream",
     "text": [
      "sim_name      init_signal    cushion    risk    rr  margin_closeout      streak_limit\n",
      "sim_2151                1          4   0.003   1.5  True                            7\n"
     ]
    },
    {
     "name": "stderr",
     "output_type": "stream",
     "text": [
      " Simulating... : 100%|██████████| 594303/594303 [00:39<00:00, 15114.67it/s]\n"
     ]
    },
    {
     "name": "stdout",
     "output_type": "stream",
     "text": [
      "sim_name      init_signal    cushion    risk    rr  margin_closeout      streak_limit\n",
      "sim_2152               -1          4   0.003   1.5  True                            8\n"
     ]
    },
    {
     "name": "stderr",
     "output_type": "stream",
     "text": [
      " Simulating... : 100%|██████████| 594303/594303 [00:45<00:00, 13151.84it/s]\n"
     ]
    },
    {
     "name": "stdout",
     "output_type": "stream",
     "text": [
      "sim_name      init_signal    cushion    risk    rr  margin_closeout      streak_limit\n",
      "sim_2153               -1          4   0.003   1.5  True                            9\n"
     ]
    },
    {
     "name": "stderr",
     "output_type": "stream",
     "text": [
      " Simulating... : 100%|██████████| 594303/594303 [00:39<00:00, 14927.87it/s]\n"
     ]
    },
    {
     "name": "stdout",
     "output_type": "stream",
     "text": [
      "sim_name      init_signal    cushion    risk    rr  margin_closeout      streak_limit\n",
      "sim_2154               -1          4   0.004   1.5  True                            7\n"
     ]
    },
    {
     "name": "stderr",
     "output_type": "stream",
     "text": [
      " Simulating... : 100%|██████████| 594303/594303 [00:39<00:00, 14987.07it/s]\n"
     ]
    },
    {
     "name": "stdout",
     "output_type": "stream",
     "text": [
      "sim_name      init_signal    cushion    risk    rr  margin_closeout      streak_limit\n",
      "sim_2155               -1          4   0.004   1.5  True                            8\n"
     ]
    },
    {
     "name": "stderr",
     "output_type": "stream",
     "text": [
      " Simulating... : 100%|██████████| 594303/594303 [00:39<00:00, 15233.35it/s]\n"
     ]
    },
    {
     "name": "stdout",
     "output_type": "stream",
     "text": [
      "sim_name      init_signal    cushion    risk    rr  margin_closeout      streak_limit\n",
      "sim_2156               -1          4   0.004   1.5  True                            9\n"
     ]
    },
    {
     "name": "stderr",
     "output_type": "stream",
     "text": [
      " Simulating... : 100%|██████████| 594303/594303 [00:44<00:00, 13453.00it/s]\n"
     ]
    },
    {
     "name": "stdout",
     "output_type": "stream",
     "text": [
      "sim_name      init_signal    cushion    risk    rr  margin_closeout      streak_limit\n",
      "sim_2157                1          4   0.001     2  True                            7\n"
     ]
    },
    {
     "name": "stderr",
     "output_type": "stream",
     "text": [
      " Simulating... : 100%|██████████| 594303/594303 [00:41<00:00, 14347.21it/s]\n"
     ]
    },
    {
     "name": "stdout",
     "output_type": "stream",
     "text": [
      "sim_name      init_signal    cushion    risk    rr  margin_closeout      streak_limit\n",
      "sim_2158               -1          4   0.001     2  True                            8\n"
     ]
    },
    {
     "name": "stderr",
     "output_type": "stream",
     "text": [
      " Simulating... : 100%|██████████| 594303/594303 [00:40<00:00, 14844.36it/s]\n"
     ]
    },
    {
     "name": "stdout",
     "output_type": "stream",
     "text": [
      "sim_name      init_signal    cushion    risk    rr  margin_closeout      streak_limit\n",
      "sim_2159                1          4   0.001     2  True                            9\n"
     ]
    },
    {
     "name": "stderr",
     "output_type": "stream",
     "text": [
      " Simulating... : 100%|██████████| 594303/594303 [00:40<00:00, 14665.24it/s]\n"
     ]
    },
    {
     "name": "stdout",
     "output_type": "stream",
     "text": [
      "sim_name      init_signal    cushion    risk    rr  margin_closeout      streak_limit\n",
      "sim_2160                1          4   0.002     2  True                            7\n"
     ]
    },
    {
     "name": "stderr",
     "output_type": "stream",
     "text": [
      " Simulating... : 100%|██████████| 594303/594303 [00:43<00:00, 13792.08it/s]\n"
     ]
    },
    {
     "name": "stdout",
     "output_type": "stream",
     "text": [
      "sim_name      init_signal    cushion    risk    rr  margin_closeout      streak_limit\n",
      "sim_2161               -1          4   0.002     2  True                            8\n"
     ]
    },
    {
     "name": "stderr",
     "output_type": "stream",
     "text": [
      " Simulating... : 100%|██████████| 594303/594303 [00:43<00:00, 13615.51it/s]\n"
     ]
    },
    {
     "name": "stdout",
     "output_type": "stream",
     "text": [
      "sim_name      init_signal    cushion    risk    rr  margin_closeout      streak_limit\n",
      "sim_2162               -1          4   0.002     2  True                            9\n"
     ]
    },
    {
     "name": "stderr",
     "output_type": "stream",
     "text": [
      " Simulating... : 100%|██████████| 594303/594303 [00:40<00:00, 14701.02it/s]\n"
     ]
    },
    {
     "name": "stdout",
     "output_type": "stream",
     "text": [
      "sim_name      init_signal    cushion    risk    rr  margin_closeout      streak_limit\n",
      "sim_2163                1          4   0.003     2  True                            7\n"
     ]
    },
    {
     "name": "stderr",
     "output_type": "stream",
     "text": [
      " Simulating... : 100%|██████████| 594303/594303 [00:39<00:00, 15055.76it/s]\n"
     ]
    },
    {
     "name": "stdout",
     "output_type": "stream",
     "text": [
      "sim_name      init_signal    cushion    risk    rr  margin_closeout      streak_limit\n",
      "sim_2164                1          4   0.003     2  True                            8\n"
     ]
    },
    {
     "name": "stderr",
     "output_type": "stream",
     "text": [
      " Simulating... : 100%|██████████| 594303/594303 [00:40<00:00, 14837.62it/s]\n"
     ]
    },
    {
     "name": "stdout",
     "output_type": "stream",
     "text": [
      "sim_name      init_signal    cushion    risk    rr  margin_closeout      streak_limit\n",
      "sim_2165                1          4   0.003     2  True                            9\n"
     ]
    },
    {
     "name": "stderr",
     "output_type": "stream",
     "text": [
      " Simulating... : 100%|██████████| 594303/594303 [00:45<00:00, 13097.76it/s]\n"
     ]
    },
    {
     "name": "stdout",
     "output_type": "stream",
     "text": [
      "sim_name      init_signal    cushion    risk    rr  margin_closeout      streak_limit\n",
      "sim_2166               -1          4   0.004     2  True                            7\n"
     ]
    },
    {
     "name": "stderr",
     "output_type": "stream",
     "text": [
      " Simulating... : 100%|██████████| 594303/594303 [00:41<00:00, 14479.80it/s]\n"
     ]
    },
    {
     "name": "stdout",
     "output_type": "stream",
     "text": [
      "sim_name      init_signal    cushion    risk    rr  margin_closeout      streak_limit\n",
      "sim_2167               -1          4   0.004     2  True                            8\n"
     ]
    },
    {
     "name": "stderr",
     "output_type": "stream",
     "text": [
      " Simulating... : 100%|██████████| 594303/594303 [00:39<00:00, 14959.59it/s]\n"
     ]
    },
    {
     "name": "stdout",
     "output_type": "stream",
     "text": [
      "sim_name      init_signal    cushion    risk    rr  margin_closeout      streak_limit\n",
      "sim_2168                1          4   0.004     2  True                            9\n"
     ]
    },
    {
     "name": "stderr",
     "output_type": "stream",
     "text": [
      " Simulating... : 100%|██████████| 594303/594303 [00:39<00:00, 14942.59it/s]\n"
     ]
    },
    {
     "name": "stdout",
     "output_type": "stream",
     "text": [
      "sim_name      init_signal    cushion    risk    rr  margin_closeout      streak_limit\n",
      "sim_2169                1          4   0.001     3  True                            7\n"
     ]
    },
    {
     "name": "stderr",
     "output_type": "stream",
     "text": [
      " Simulating... : 100%|██████████| 594303/594303 [00:43<00:00, 13599.76it/s]\n"
     ]
    },
    {
     "name": "stdout",
     "output_type": "stream",
     "text": [
      "sim_name      init_signal    cushion    risk    rr  margin_closeout      streak_limit\n",
      "sim_2170                1          4   0.001     3  True                            8\n"
     ]
    },
    {
     "name": "stderr",
     "output_type": "stream",
     "text": [
      " Simulating... : 100%|██████████| 594303/594303 [00:41<00:00, 14319.08it/s]\n"
     ]
    },
    {
     "name": "stdout",
     "output_type": "stream",
     "text": [
      "sim_name      init_signal    cushion    risk    rr  margin_closeout      streak_limit\n",
      "sim_2171                1          4   0.001     3  True                            9\n"
     ]
    },
    {
     "name": "stderr",
     "output_type": "stream",
     "text": [
      " Simulating... : 100%|██████████| 594303/594303 [00:39<00:00, 14997.63it/s]\n"
     ]
    },
    {
     "name": "stdout",
     "output_type": "stream",
     "text": [
      "sim_name      init_signal    cushion    risk    rr  margin_closeout      streak_limit\n",
      "sim_2172               -1          4   0.002     3  True                            7\n"
     ]
    },
    {
     "name": "stderr",
     "output_type": "stream",
     "text": [
      " Simulating... : 100%|██████████| 594303/594303 [00:40<00:00, 14708.25it/s]\n"
     ]
    },
    {
     "name": "stdout",
     "output_type": "stream",
     "text": [
      "sim_name      init_signal    cushion    risk    rr  margin_closeout      streak_limit\n",
      "sim_2173                1          4   0.002     3  True                            8\n"
     ]
    },
    {
     "name": "stderr",
     "output_type": "stream",
     "text": [
      " Simulating... : 100%|██████████| 594303/594303 [00:40<00:00, 14613.54it/s]\n"
     ]
    },
    {
     "name": "stdout",
     "output_type": "stream",
     "text": [
      "sim_name      init_signal    cushion    risk    rr  margin_closeout      streak_limit\n",
      "sim_2174               -1          4   0.002     3  True                            9\n"
     ]
    },
    {
     "name": "stderr",
     "output_type": "stream",
     "text": [
      " Simulating... : 100%|██████████| 594303/594303 [00:46<00:00, 12670.49it/s]\n"
     ]
    },
    {
     "name": "stdout",
     "output_type": "stream",
     "text": [
      "sim_name      init_signal    cushion    risk    rr  margin_closeout      streak_limit\n",
      "sim_2175                1          4   0.003     3  True                            7\n"
     ]
    },
    {
     "name": "stderr",
     "output_type": "stream",
     "text": [
      " Simulating... : 100%|██████████| 594303/594303 [00:39<00:00, 14967.84it/s]\n"
     ]
    },
    {
     "name": "stdout",
     "output_type": "stream",
     "text": [
      "sim_name      init_signal    cushion    risk    rr  margin_closeout      streak_limit\n",
      "sim_2176               -1          4   0.003     3  True                            8\n"
     ]
    },
    {
     "name": "stderr",
     "output_type": "stream",
     "text": [
      " Simulating... : 100%|██████████| 594303/594303 [00:40<00:00, 14768.55it/s]\n"
     ]
    },
    {
     "name": "stdout",
     "output_type": "stream",
     "text": [
      "sim_name      init_signal    cushion    risk    rr  margin_closeout      streak_limit\n",
      "sim_2177                1          4   0.003     3  True                            9\n"
     ]
    },
    {
     "name": "stderr",
     "output_type": "stream",
     "text": [
      " Simulating... : 100%|██████████| 594303/594303 [00:39<00:00, 14921.74it/s]\n"
     ]
    },
    {
     "name": "stdout",
     "output_type": "stream",
     "text": [
      "sim_name      init_signal    cushion    risk    rr  margin_closeout      streak_limit\n",
      "sim_2178               -1          4   0.004     3  True                            7\n"
     ]
    },
    {
     "name": "stderr",
     "output_type": "stream",
     "text": [
      " Simulating... : 100%|██████████| 594303/594303 [00:37<00:00, 15945.38it/s]\n"
     ]
    },
    {
     "name": "stdout",
     "output_type": "stream",
     "text": [
      "sim_name      init_signal    cushion    risk    rr  margin_closeout      streak_limit\n",
      "sim_2179                1          4   0.004     3  True                            8\n"
     ]
    },
    {
     "name": "stderr",
     "output_type": "stream",
     "text": [
      " Simulating... : 100%|██████████| 594303/594303 [00:31<00:00, 18689.71it/s]\n"
     ]
    },
    {
     "name": "stdout",
     "output_type": "stream",
     "text": [
      "sim_name      init_signal    cushion    risk    rr  margin_closeout      streak_limit\n",
      "sim_2180               -1          4   0.004     3  True                            9\n"
     ]
    },
    {
     "name": "stderr",
     "output_type": "stream",
     "text": [
      " Simulating... : 100%|██████████| 594303/594303 [00:31<00:00, 18975.96it/s]\n"
     ]
    }
   ],
   "source": [
    "counter = 2001\n",
    "inputs_list = list()\n",
    "# for i_s in init_signal:\n",
    "for c in cushion:\n",
    "    for r_r in rr:\n",
    "        for r in risk:\n",
    "            for m_c in margin_closeout:\n",
    "                if m_c == True:\n",
    "                    for lim in streak_trade_limit:\n",
    "                        # if counter > 163:\n",
    "                        inputs = process_sim(\n",
    "                            counter=counter,\n",
    "                            init_signal=random.choice([BUY, SELL]),\n",
    "                            cushion=c,\n",
    "                            rr=r_r,\n",
    "                            risk=r,\n",
    "                            margin_closeout=m_c,\n",
    "                            streak_trade_limit=lim,\n",
    "                            inputs_list=inputs_list,\n",
    "                            inputs_file=INPUTS_FILE\n",
    "                        )  \n",
    "                        counter =  counter + 1\n",
    "                else:\n",
    "                    # if counter > 163:\n",
    "                    inputs = process_sim(\n",
    "                            counter=counter,\n",
    "                            init_signal=random.choice([BUY, SELL]),\n",
    "                            cushion=c,\n",
    "                            rr=r_r,\n",
    "                            risk=r,\n",
    "                            margin_closeout=m_c,\n",
    "                            streak_trade_limit=0,\n",
    "                            inputs_list=inputs_list\n",
    "                        )\n",
    "                    counter =  counter + 1"
   ]
  },
  {
   "cell_type": "code",
   "execution_count": null,
   "metadata": {},
   "outputs": [],
   "source": []
  },
  {
   "cell_type": "code",
   "execution_count": null,
   "metadata": {},
   "outputs": [],
   "source": []
  },
  {
   "cell_type": "code",
   "execution_count": null,
   "metadata": {},
   "outputs": [],
   "source": []
  },
  {
   "cell_type": "code",
   "execution_count": null,
   "metadata": {},
   "outputs": [],
   "source": []
  },
  {
   "cell_type": "code",
   "execution_count": null,
   "metadata": {},
   "outputs": [],
   "source": []
  },
  {
   "cell_type": "code",
   "execution_count": null,
   "metadata": {},
   "outputs": [],
   "source": []
  },
  {
   "cell_type": "code",
   "execution_count": null,
   "metadata": {},
   "outputs": [],
   "source": []
  },
  {
   "cell_type": "code",
   "execution_count": null,
   "metadata": {},
   "outputs": [],
   "source": []
  },
  {
   "cell_type": "code",
   "execution_count": null,
   "metadata": {},
   "outputs": [],
   "source": []
  },
  {
   "cell_type": "code",
   "execution_count": null,
   "metadata": {},
   "outputs": [],
   "source": []
  },
  {
   "cell_type": "code",
   "execution_count": null,
   "metadata": {},
   "outputs": [],
   "source": []
  },
  {
   "cell_type": "code",
   "execution_count": null,
   "metadata": {},
   "outputs": [],
   "source": []
  }
 ],
 "metadata": {
  "kernelspec": {
   "display_name": "trade",
   "language": "python",
   "name": "python3"
  },
  "language_info": {
   "codemirror_mode": {
    "name": "ipython",
    "version": 3
   },
   "file_extension": ".py",
   "mimetype": "text/x-python",
   "name": "python",
   "nbconvert_exporter": "python",
   "pygments_lexer": "ipython3",
   "version": "3.10.13"
  }
 },
 "nbformat": 4,
 "nbformat_minor": 2
}
