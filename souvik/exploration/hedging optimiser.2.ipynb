{
 "cells": [
  {
   "cell_type": "code",
   "execution_count": 1,
   "metadata": {},
   "outputs": [],
   "source": [
    "import sys\n",
    "sys.path.append(\"../\")"
   ]
  },
  {
   "cell_type": "code",
   "execution_count": 2,
   "metadata": {},
   "outputs": [],
   "source": [
    "import pandas as pd\n",
    "import datetime as dt\n",
    "import math\n",
    "import plotly.graph_objects as go\n",
    "from plotting import CandlePlot\n",
    "from tqdm import tqdm\n",
    "from tabulate import tabulate\n",
    "import pickle as pkl\n",
    "import random\n",
    "pd.set_option(\"display.max_columns\", None)"
   ]
  },
  {
   "cell_type": "code",
   "execution_count": 3,
   "metadata": {},
   "outputs": [],
   "source": [
    "class Data:\n",
    "    \n",
    "    def __init__(self, path):\n",
    "        self.df = {\n",
    "            'raw': pd.read_pickle(path)\n",
    "        }\n",
    "        if 'time' in self.df['raw'].columns:\n",
    "            self.df['raw']['time'] = [ x.replace(tzinfo=None) for x in self.df['raw']['time']]\n",
    "\n",
    "    def __repr__(self) -> str:\n",
    "        repr = str()\n",
    "        for name, df in self.df.items():\n",
    "            repr = repr + name + ':\\n' + str(df.head(3)) + '\\n'\n",
    "        return repr\n",
    "\n",
    "    def shorten(self, name: str, rows: int, direction: int, source: str='raw', cols: list=None):\n",
    "        '''Create new dataframe with specified list of columns and number of rows\n",
    "        direction: 1 if data should be selected from top and -1 if from bottom\n",
    "        '''\n",
    "        assert (direction != 1 or direction != -1), 'direction must be 1 (top) or -1 (bottom)'\n",
    "        \n",
    "        if cols == None:\n",
    "            cols = self.df[source].columns\n",
    "        if direction == 1:\n",
    "            self.df[name] = self.df[source][cols].iloc[:rows].copy()\n",
    "        else:\n",
    "            self.df[name] = self.df[source][cols].iloc[-rows:].copy()\n",
    "        self.df[name].reset_index(drop=True, inplace=True)\n",
    "\n",
    "    def add_columns(self, name: str, cols: list):\n",
    "        '''Add new columns to component dataframes\n",
    "        '''        \n",
    "        exist_cols = list(self.df[name].columns)\n",
    "        cols = exist_cols + cols\n",
    "        self.df[name] = self.df[name].reindex(columns = cols) \n",
    "\n",
    "    def prepare_fast_data(self, name: str):\n",
    "        '''Prepare data as an array for fast processing\n",
    "        fcols = {col1: col1_index, col2: col2_index, .... }     \n",
    "        fdata = [array[col1], array[col2], array[col3], .... ]\n",
    "        Accessed by: self.fdata[fcols[column_name]] for whole column or\n",
    "                     self.fdata[fcols[column_name]][row_index] for a specific row item\n",
    "        '''\n",
    "        self.fcols = dict()\n",
    "        for i in range(len(self.df[name].columns)):\n",
    "            self.fcols[self.df[name].columns[i]] = i\n",
    "        self.fdata = [self.df[name][col].array for col in self.df[name].columns]"
   ]
  },
  {
   "cell_type": "code",
   "execution_count": 4,
   "metadata": {},
   "outputs": [],
   "source": [
    "d = Data(\"../data/EUR_USD_M5.pkl\")"
   ]
  },
  {
   "cell_type": "code",
   "execution_count": 5,
   "metadata": {},
   "outputs": [],
   "source": [
    "our_cols = ['time', 'bid_o', 'bid_h', 'bid_l', 'bid_c', 'ask_o', 'ask_h', 'ask_l', 'ask_c', 'mid_c']\n",
    "max = d.df['raw'].shape[0]\n"
   ]
  },
  {
   "cell_type": "code",
   "execution_count": 6,
   "metadata": {},
   "outputs": [],
   "source": [
    "BUY = 1\n",
    "SELL = -1\n",
    "CLOSE = 2\n",
    "NONE = 0\n",
    "BASE_TRADESIZE = 1000\n",
    "MARGIN_RATE = 0.03333333333333\n",
    "INIT_BAL = 1000"
   ]
  },
  {
   "cell_type": "code",
   "execution_count": 7,
   "metadata": {},
   "outputs": [],
   "source": [
    "def set_price(i: int, buy_price: float, sell_price: float, reward: float):\n",
    "    d.fdata[d.fcols['buy_price']][i] = buy_price\n",
    "    d.fdata[d.fcols['buy_tp_price']][i] = buy_price + reward\n",
    "    d.fdata[d.fcols['sell_price']][i] = sell_price\n",
    "    d.fdata[d.fcols['sell_tp_price']][i] = sell_price - reward\n",
    "\n",
    "def set_position_size(i: int, rr: float, cushion: float, new_streak: bool=False):\n",
    "    if new_streak == True:\n",
    "        # print('i', i, 'rr', rr, 'cus', cushion, 'new_streak', new_streak)\n",
    "        d.fdata[d.fcols['position_size']][i] = BASE_TRADESIZE\n",
    "        d.fdata[d.fcols['cum_position_size']][i] = BASE_TRADESIZE\n",
    "    else:\n",
    "        prev_size = d.fdata[d.fcols['cum_position_size']][i-1]\n",
    "        # print('i', i, 'prev_size', prev_size, 'rr', rr, 'cus', cushion,'new_streak', new_streak)\n",
    "        d.fdata[d.fcols['position_size']][i] = math.ceil(prev_size / rr * cushion)\n",
    "        d.fdata[d.fcols['cum_position_size']][i] = prev_size + d.fdata[d.fcols['position_size']][i]\n",
    "\n",
    "def set_ac_bal(i: int, prev_signal: int, reverse: bool):\n",
    "    if reverse == True: # Stop loss\n",
    "        sell_at = 'ask_l'\n",
    "        buy_at = 'bid_h'\n",
    "    else: # Take profit\n",
    "        sell_at = 'ask_h'\n",
    "        buy_at = 'bid_l'\n",
    "\n",
    "    if prev_signal == BUY:\n",
    "        d.fdata[d.fcols['realised_pl']][i] = (d.fdata[d.fcols[sell_at]][i] - d.fdata[d.fcols['buy_price']][i-1]) * \\\n",
    "            d.fdata[d.fcols['position_size']][i-1]\n",
    "    elif prev_signal == SELL:\n",
    "        d.fdata[d.fcols['realised_pl']][i] = (d.fdata[d.fcols['sell_price']][i-1] - d.fdata[d.fcols[buy_at]][i]) * \\\n",
    "            d.fdata[d.fcols['position_size']][i-1]\n",
    "    d.fdata[d.fcols['ac_bal']][i] = d.fdata[d.fcols['ac_bal']][i-1] + d.fdata[d.fcols['realised_pl']][i]\n",
    "               \n",
    "\n",
    "def make_trade(i: int, signal: int, risk: float, rr: float, cushion: float, new_streak=False, reverse=True) -> int:\n",
    "    # print(i, 'open_position')\n",
    "    if reverse:\n",
    "        prev_signal = BUY if signal == SELL else SELL\n",
    "    else:\n",
    "        prev_signal = BUY if signal == BUY else SELL\n",
    "    d.fdata[d.fcols['signal']][i] = signal\n",
    "    set_position_size(i=i, rr=rr, cushion=cushion, new_streak=new_streak)\n",
    "\n",
    "    if new_streak == True:\n",
    "        d.fdata[d.fcols['trade_no']][i] = 1\n",
    "        if i == 0:\n",
    "            d.fdata[d.fcols['streak_no']][i] = 1\n",
    "            d.fdata[d.fcols['ac_bal']][i] = INIT_BAL\n",
    "        else:\n",
    "            d.fdata[d.fcols['streak_no']][i] = d.fdata[d.fcols['streak_no']][i-1] + 1\n",
    "            set_ac_bal(i, prev_signal, reverse)\n",
    "        d.fdata[d.fcols['realised_pl']][i] = 0 # Overwrite value for new streak\n",
    "\n",
    "    else:\n",
    "        d.fdata[d.fcols['trade_no']][i] = d.fdata[d.fcols['trade_no']][i-1] + 1\n",
    "        d.fdata[d.fcols['streak_no']][i] = d.fdata[d.fcols['streak_no']][i-1]\n",
    "        set_ac_bal(i, prev_signal, reverse)\n",
    "\n",
    "    if signal == BUY:\n",
    "        buy_price = d.fdata[d.fcols['bid_h']][i]\n",
    "        sell_price = buy_price - risk\n",
    "        set_price(i, buy_price, sell_price, risk * rr)\n",
    "        d.fdata[d.fcols['unrealised_pl']][i] = \\\n",
    "            (d.fdata[d.fcols['mid_c']][i] - d.fdata[d.fcols['buy_price']][i]) * d.fdata[d.fcols['position_size']][i]\n",
    "    elif signal == SELL:\n",
    "        sell_price = d.fdata[d.fcols['ask_l']][i]\n",
    "        buy_price = sell_price + risk\n",
    "        set_price(i, buy_price, sell_price, risk * rr)\n",
    "        d.fdata[d.fcols['unrealised_pl']][i] = \\\n",
    "            (d.fdata[d.fcols['sell_price']][i] - d.fdata[d.fcols['mid_c']][i]) * d.fdata[d.fcols['position_size']][i]\n",
    "\n",
    "    d.fdata[d.fcols['margin_used']][i] = d.fdata[d.fcols['position_size']][i] * MARGIN_RATE\n",
    "    d.fdata[d.fcols['margin_closeout']][i] = d.fdata[d.fcols['ac_bal']][i] + d.fdata[d.fcols['unrealised_pl']][i]\n",
    "\n",
    "    # print(i, d.df['analysis'].iloc[i])\n",
    "    # print(d.fdata[d.fcols['realised_pl']][i])\n",
    "    return signal\n",
    "\n",
    "def open_new_streak(i: int, signal: int, risk: float, rr: float, cushion: float, reverse: bool=False) -> int:\n",
    "    return make_trade(i=i, signal=signal, risk=risk, rr=rr, cushion=cushion, new_streak=True, reverse=reverse)\n",
    "\n",
    "def reverse_position(i: int, position: int, risk: float, rr: float, cushion: float) -> int:\n",
    "    signal = BUY if position == SELL else SELL\n",
    "    return make_trade(i=i, signal=signal, risk=risk, rr=rr, cushion=cushion, new_streak=False)\n",
    "    \n"
   ]
  },
  {
   "cell_type": "code",
   "execution_count": 8,
   "metadata": {},
   "outputs": [],
   "source": [
    "def no_signal_update_values(i: int, position: int):\n",
    "    # print(i, 'no_signal_update_values')\n",
    "    d.fdata[d.fcols['signal']][i] = NONE\n",
    "    d.fdata[d.fcols['trade_no']][i] = d.fdata[d.fcols['trade_no']][i-1]\n",
    "    d.fdata[d.fcols['streak_no']][i] = d.fdata[d.fcols['streak_no']][i-1]\n",
    "    d.fdata[d.fcols['position_size']][i] = d.fdata[d.fcols['position_size']][i-1]\n",
    "    d.fdata[d.fcols['cum_position_size']][i] = d.fdata[d.fcols['cum_position_size']][i-1]\n",
    "    d.fdata[d.fcols['buy_price']][i] = d.fdata[d.fcols['buy_price']][i-1]\n",
    "    d.fdata[d.fcols['buy_tp_price']][i] = d.fdata[d.fcols['buy_tp_price']][i-1]\n",
    "    d.fdata[d.fcols['sell_price']][i] = d.fdata[d.fcols['sell_price']][i-1]\n",
    "    d.fdata[d.fcols['sell_tp_price']][i] = d.fdata[d.fcols['sell_tp_price']][i-1]\n",
    "    d.fdata[d.fcols['realised_pl']][i] = d.fdata[d.fcols['realised_pl']][i-1]\n",
    "    d.fdata[d.fcols['ac_bal']][i] = d.fdata[d.fcols['ac_bal']][i-1]\n",
    "    d.fdata[d.fcols['margin_used']][i] = d.fdata[d.fcols['margin_used']][i-1]\n",
    "\n",
    "    if position == BUY:\n",
    "        d.fdata[d.fcols['unrealised_pl']][i] = \\\n",
    "            (d.fdata[d.fcols['mid_c']][i] - d.fdata[d.fcols['buy_price']][i]) * d.fdata[d.fcols['position_size']][i]\n",
    "    elif position == SELL:\n",
    "        d.fdata[d.fcols['unrealised_pl']][i] = \\\n",
    "            (d.fdata[d.fcols['sell_price']][i] - d.fdata[d.fcols['mid_c']][i]) * d.fdata[d.fcols['position_size']][i]\n",
    "    \n",
    "    d.fdata[d.fcols['margin_closeout']][i] = d.fdata[d.fcols['ac_bal']][i] + d.fdata[d.fcols['unrealised_pl']][i]    \n",
    "    # print(i, d.df['analysis'].iloc[i])"
   ]
  },
  {
   "cell_type": "code",
   "execution_count": 9,
   "metadata": {},
   "outputs": [],
   "source": [
    "# INIT_SIGNAL = SELL\n",
    "# CUSHION = 2\n",
    "# RR = 1.5\n",
    "# RISK = 0.0040\n",
    "# MARGIN_CLOSEOUT = False\n",
    "# STREAK_TRADE_LIMIT = 10"
   ]
  },
  {
   "cell_type": "code",
   "execution_count": 10,
   "metadata": {},
   "outputs": [],
   "source": [
    "def run_sim(sim_name: str, init_signal: int, cushion: float, rr: float, risk: float, margin_closeout: bool, streak_trade_limit: int ) -> pd.DataFrame:\n",
    "    INIT_SIGNAL = init_signal\n",
    "    CUSHION = cushion\n",
    "    RR = rr\n",
    "    RISK = risk\n",
    "    MARGIN_CLOSEOUT = margin_closeout\n",
    "    STREAK_TRADE_LIMIT = streak_trade_limit\n",
    "\n",
    "    d.shorten(name=sim_name, rows=max, direction=1, cols=our_cols)\n",
    "    d.add_columns(name=sim_name, cols=['signal', 'streak_no', 'trade_no', 'position_size', 'cum_position_size', 'buy_price', 'sell_price', 'buy_tp_price', 'sell_tp_price', 'unrealised_pl', 'realised_pl', 'ac_bal', 'margin_used', 'margin_closeout', ])\n",
    "    d.prepare_fast_data(sim_name)\n",
    "\n",
    "    candles = d.fdata[0].shape[0]\n",
    "    position = NONE\n",
    "    for i in tqdm(range(candles), desc=\" Simulating... \"):       \n",
    "        # First candle\n",
    "        if i == 0:\n",
    "            # print(i, position, 'before call')\n",
    "            # print(i, '#### First candle')\n",
    "            position = open_new_streak(i=i, signal=INIT_SIGNAL,  risk=RISK, rr=RR, cushion=CUSHION)\n",
    "        \n",
    "        # Subsequent candles\n",
    "        else:\n",
    "            # Reduce trade size to avoid large loss or Margin closeout\n",
    "            # if d.fdata[d.fcols['margin_closeout']][i-1] < d.fdata[d.fcols['margin_used']][i-1]: \n",
    "            if ((position == BUY and d.fdata[d.fcols['ask_l']][i] <= d.fdata[d.fcols['sell_price']][i-1]) or \\\n",
    "                (position == SELL and d.fdata[d.fcols['bid_h']][i] >= d.fdata[d.fcols['buy_price']][i-1])) and \\\n",
    "                d.fdata[d.fcols['trade_no']][i-1] == STREAK_TRADE_LIMIT and MARGIN_CLOSEOUT == True:\n",
    "                # print(i, '#### Margin closeout')\n",
    "                signal = SELL if position == BUY  else BUY\n",
    "                position = open_new_streak(i=i, signal=signal, risk=RISK, rr=RR, cushion=CUSHION, reverse=True)\n",
    "            \n",
    "            # Reverse trade on hitting Stop Loss\n",
    "            ## From Buy to Sell  \n",
    "            elif position == BUY and d.fdata[d.fcols['ask_l']][i] <= d.fdata[d.fcols['sell_price']][i-1]:\n",
    "                # position = SELL\n",
    "                # print(i, position, 'before call')\n",
    "                # print(i, '#### Reverse Buy to Sell')\n",
    "                position = reverse_position(i=i, position=position, risk=RISK, rr=RR, cushion=CUSHION)\n",
    "\n",
    "            ## From Sell to Buy \n",
    "            elif position == SELL and d.fdata[d.fcols['bid_h']][i] >= d.fdata[d.fcols['buy_price']][i-1]:\n",
    "                # position = BUY\n",
    "                # print(i, position, 'before call')\n",
    "                # print(i, '#### Reverse Sell to Buy')\n",
    "                position = reverse_position(i=i, position=position, risk=RISK, rr=RR, cushion=CUSHION)\n",
    "\n",
    "            # Take profit and initiate new trade in same direction on hitting Take Profit\n",
    "            ## Take Profit on long position\n",
    "            elif position == BUY and d.fdata[d.fcols['ask_h']][i] >= d.fdata[d.fcols['buy_tp_price']][i-1]:\n",
    "                # print(i, '#### TP Long')\n",
    "                position = open_new_streak(i=i, signal=position, risk=RISK, rr=RR, cushion=CUSHION)\n",
    "                \n",
    "            ## Take Profit on short position\n",
    "            elif position == SELL and d.fdata[d.fcols['bid_l']][i] <= d.fdata[d.fcols['sell_tp_price']][i-1]:\n",
    "                # print(i, '#### TP Short')\n",
    "                position = open_new_streak(i=i, signal=position, risk=RISK, rr=RR, cushion=CUSHION)     \n",
    "                    \n",
    "            # New trade\n",
    "            \n",
    "            # Update values when there is no signal\n",
    "            else:\n",
    "                # print(i, 'None', 'before call')\n",
    "                # print(i, '#### No signal')\n",
    "                no_signal_update_values(i=i, position=position)   \n",
    "\n",
    "    return dict(\n",
    "        sim_name = sim_name,\n",
    "        init_signal = INIT_SIGNAL,\n",
    "        cushion = CUSHION,\n",
    "        risk = RISK,\n",
    "        rr = RR,\n",
    "        margin_closeout = MARGIN_CLOSEOUT,\n",
    "        streak_limit = STREAK_TRADE_LIMIT,\n",
    "        results = d.df[sim_name]\n",
    "    )"
   ]
  },
  {
   "cell_type": "code",
   "execution_count": 11,
   "metadata": {},
   "outputs": [],
   "source": [
    "def process_sim(counter: int, init_signal: int, cushion: float, rr: float, risk: float, margin_closeout: bool, streak_trade_limit: int, inputs_list: list, inputs_file: str):\n",
    "    sim_name = f'sim_{counter}'\n",
    "    header = ['sim_name', 'init_signal', 'cushion', 'risk', 'rr', 'margin_closeout', 'streak_limit']\n",
    "    inputs = [sim_name, init_signal, cushion, risk, rr, margin_closeout, streak_trade_limit]\n",
    "    print(tabulate([inputs], header, tablefmt='plain'))\n",
    "    result= run_sim(\n",
    "        sim_name=sim_name,\n",
    "        init_signal=init_signal,\n",
    "        cushion=cushion,\n",
    "        rr=rr,\n",
    "        risk=risk,\n",
    "        margin_closeout=margin_closeout,\n",
    "        streak_trade_limit=streak_trade_limit\n",
    "    )\n",
    "    # print('Saving files...')\n",
    "    with open(f'D:/Trading/forex_bot/outputs/{sim_name}.pkl', 'wb') as file:\n",
    "        pkl.dump(result, file)\n",
    "\n",
    "    inputs_list.append(inputs)\n",
    "    header = ['sim_name', 'init_signal', 'cushion', 'risk', 'rr', 'margin_closeout', 'streak_limit']\n",
    "    inputs_df = pd.DataFrame(inputs_list, columns=header)\n",
    "    inputs_df.to_pickle('D:/Trading/forex_bot/outputs/' + inputs_file)\n",
    "    \n",
    "    del d.df[sim_name]\n",
    "    counter =  counter + 1\n",
    "    return inputs"
   ]
  },
  {
   "cell_type": "code",
   "execution_count": 12,
   "metadata": {},
   "outputs": [],
   "source": [
    "# init_signal = [BUY, SELL]\n",
    "# cushion = [1.2, 1.5, 2.0]\n",
    "# rr = [1.5, 2, 3]\n",
    "# risk = [0.0010, 0.0020, 0.0030, 0.0040]\n",
    "# margin_closeout = [True, False]\n",
    "# streak_trade_limit = [2, 3, 4] # , 5, 6, 7, 8, 9, 10]"
   ]
  },
  {
   "cell_type": "code",
   "execution_count": 13,
   "metadata": {},
   "outputs": [],
   "source": [
    "# init_signal = [BUY, SELL]\n",
    "cushion = [1.5, 2.0, 2.5, 3.0, 4.0]\n",
    "rr = [1.5, 2, 3]\n",
    "risk = [0.0010, 0.0020, 0.0030, 0.0040]\n",
    "margin_closeout = [True]\n",
    "streak_trade_limit = [4, 5, 6]\n",
    "INPUTS_FILE = 'inputs2.pkl'"
   ]
  },
  {
   "cell_type": "code",
   "execution_count": 14,
   "metadata": {},
   "outputs": [
    {
     "name": "stdout",
     "output_type": "stream",
     "text": [
      "sim_name      init_signal    cushion    risk    rr  margin_closeout      streak_limit\n",
      "sim_1001                1        1.5   0.001   1.5  True                            4\n"
     ]
    },
    {
     "name": "stderr",
     "output_type": "stream",
     "text": [
      " Simulating... : 100%|██████████| 594303/594303 [00:41<00:00, 14493.53it/s]\n"
     ]
    },
    {
     "name": "stdout",
     "output_type": "stream",
     "text": [
      "sim_name      init_signal    cushion    risk    rr  margin_closeout      streak_limit\n",
      "sim_1002                1        1.5   0.001   1.5  True                            5\n"
     ]
    },
    {
     "name": "stderr",
     "output_type": "stream",
     "text": [
      " Simulating... : 100%|██████████| 594303/594303 [00:47<00:00, 12619.79it/s]\n"
     ]
    },
    {
     "name": "stdout",
     "output_type": "stream",
     "text": [
      "sim_name      init_signal    cushion    risk    rr  margin_closeout      streak_limit\n",
      "sim_1003                1        1.5   0.001   1.5  True                            6\n"
     ]
    },
    {
     "name": "stderr",
     "output_type": "stream",
     "text": [
      " Simulating... : 100%|██████████| 594303/594303 [00:41<00:00, 14460.85it/s]\n"
     ]
    },
    {
     "name": "stdout",
     "output_type": "stream",
     "text": [
      "sim_name      init_signal    cushion    risk    rr  margin_closeout      streak_limit\n",
      "sim_1004                1        1.5   0.002   1.5  True                            4\n"
     ]
    },
    {
     "name": "stderr",
     "output_type": "stream",
     "text": [
      " Simulating... : 100%|██████████| 594303/594303 [00:39<00:00, 14887.26it/s]\n"
     ]
    },
    {
     "name": "stdout",
     "output_type": "stream",
     "text": [
      "sim_name      init_signal    cushion    risk    rr  margin_closeout      streak_limit\n",
      "sim_1005                1        1.5   0.002   1.5  True                            5\n"
     ]
    },
    {
     "name": "stderr",
     "output_type": "stream",
     "text": [
      " Simulating... : 100%|██████████| 594303/594303 [00:39<00:00, 14948.34it/s]\n"
     ]
    },
    {
     "name": "stdout",
     "output_type": "stream",
     "text": [
      "sim_name      init_signal    cushion    risk    rr  margin_closeout      streak_limit\n",
      "sim_1006               -1        1.5   0.002   1.5  True                            6\n"
     ]
    },
    {
     "name": "stderr",
     "output_type": "stream",
     "text": [
      " Simulating... : 100%|██████████| 594303/594303 [00:43<00:00, 13524.57it/s]\n"
     ]
    },
    {
     "name": "stdout",
     "output_type": "stream",
     "text": [
      "sim_name      init_signal    cushion    risk    rr  margin_closeout      streak_limit\n",
      "sim_1007                1        1.5   0.003   1.5  True                            4\n"
     ]
    },
    {
     "name": "stderr",
     "output_type": "stream",
     "text": [
      " Simulating... : 100%|██████████| 594303/594303 [00:41<00:00, 14233.84it/s]\n"
     ]
    },
    {
     "name": "stdout",
     "output_type": "stream",
     "text": [
      "sim_name      init_signal    cushion    risk    rr  margin_closeout      streak_limit\n",
      "sim_1008               -1        1.5   0.003   1.5  True                            5\n"
     ]
    },
    {
     "name": "stderr",
     "output_type": "stream",
     "text": [
      " Simulating... : 100%|██████████| 594303/594303 [00:39<00:00, 14919.74it/s]\n"
     ]
    },
    {
     "name": "stdout",
     "output_type": "stream",
     "text": [
      "sim_name      init_signal    cushion    risk    rr  margin_closeout      streak_limit\n",
      "sim_1009               -1        1.5   0.003   1.5  True                            6\n"
     ]
    },
    {
     "name": "stderr",
     "output_type": "stream",
     "text": [
      " Simulating... : 100%|██████████| 594303/594303 [00:39<00:00, 14949.60it/s]\n"
     ]
    },
    {
     "name": "stdout",
     "output_type": "stream",
     "text": [
      "sim_name      init_signal    cushion    risk    rr  margin_closeout      streak_limit\n",
      "sim_1010                1        1.5   0.004   1.5  True                            4\n"
     ]
    },
    {
     "name": "stderr",
     "output_type": "stream",
     "text": [
      " Simulating... : 100%|██████████| 594303/594303 [00:38<00:00, 15272.55it/s]\n"
     ]
    },
    {
     "name": "stdout",
     "output_type": "stream",
     "text": [
      "sim_name      init_signal    cushion    risk    rr  margin_closeout      streak_limit\n",
      "sim_1011                1        1.5   0.004   1.5  True                            5\n"
     ]
    },
    {
     "name": "stderr",
     "output_type": "stream",
     "text": [
      " Simulating... : 100%|██████████| 594303/594303 [00:44<00:00, 13249.84it/s]\n"
     ]
    },
    {
     "name": "stdout",
     "output_type": "stream",
     "text": [
      "sim_name      init_signal    cushion    risk    rr  margin_closeout      streak_limit\n",
      "sim_1012                1        1.5   0.004   1.5  True                            6\n"
     ]
    },
    {
     "name": "stderr",
     "output_type": "stream",
     "text": [
      " Simulating... : 100%|██████████| 594303/594303 [00:38<00:00, 15254.88it/s]\n"
     ]
    },
    {
     "name": "stdout",
     "output_type": "stream",
     "text": [
      "sim_name      init_signal    cushion    risk    rr  margin_closeout      streak_limit\n",
      "sim_1013               -1        1.5   0.001     2  True                            4\n"
     ]
    },
    {
     "name": "stderr",
     "output_type": "stream",
     "text": [
      " Simulating... : 100%|██████████| 594303/594303 [00:39<00:00, 15224.86it/s]\n"
     ]
    },
    {
     "name": "stdout",
     "output_type": "stream",
     "text": [
      "sim_name      init_signal    cushion    risk    rr  margin_closeout      streak_limit\n",
      "sim_1014               -1        1.5   0.001     2  True                            5\n"
     ]
    },
    {
     "name": "stderr",
     "output_type": "stream",
     "text": [
      " Simulating... : 100%|██████████| 594303/594303 [00:39<00:00, 15164.71it/s]\n"
     ]
    },
    {
     "name": "stdout",
     "output_type": "stream",
     "text": [
      "sim_name      init_signal    cushion    risk    rr  margin_closeout      streak_limit\n",
      "sim_1015               -1        1.5   0.001     2  True                            6\n"
     ]
    },
    {
     "name": "stderr",
     "output_type": "stream",
     "text": [
      " Simulating... : 100%|██████████| 594303/594303 [00:42<00:00, 14085.63it/s]\n"
     ]
    },
    {
     "name": "stdout",
     "output_type": "stream",
     "text": [
      "sim_name      init_signal    cushion    risk    rr  margin_closeout      streak_limit\n",
      "sim_1016                1        1.5   0.002     2  True                            4\n"
     ]
    },
    {
     "name": "stderr",
     "output_type": "stream",
     "text": [
      " Simulating... : 100%|██████████| 594303/594303 [00:41<00:00, 14457.15it/s]\n"
     ]
    },
    {
     "name": "stdout",
     "output_type": "stream",
     "text": [
      "sim_name      init_signal    cushion    risk    rr  margin_closeout      streak_limit\n",
      "sim_1017                1        1.5   0.002     2  True                            5\n"
     ]
    },
    {
     "name": "stderr",
     "output_type": "stream",
     "text": [
      " Simulating... : 100%|██████████| 594303/594303 [00:38<00:00, 15371.21it/s]\n"
     ]
    },
    {
     "name": "stdout",
     "output_type": "stream",
     "text": [
      "sim_name      init_signal    cushion    risk    rr  margin_closeout      streak_limit\n",
      "sim_1018               -1        1.5   0.002     2  True                            6\n"
     ]
    },
    {
     "name": "stderr",
     "output_type": "stream",
     "text": [
      " Simulating... : 100%|██████████| 594303/594303 [00:38<00:00, 15438.39it/s]\n"
     ]
    },
    {
     "name": "stdout",
     "output_type": "stream",
     "text": [
      "sim_name      init_signal    cushion    risk    rr  margin_closeout      streak_limit\n",
      "sim_1019               -1        1.5   0.003     2  True                            4\n"
     ]
    },
    {
     "name": "stderr",
     "output_type": "stream",
     "text": [
      " Simulating... : 100%|██████████| 594303/594303 [00:38<00:00, 15616.82it/s]\n"
     ]
    },
    {
     "name": "stdout",
     "output_type": "stream",
     "text": [
      "sim_name      init_signal    cushion    risk    rr  margin_closeout      streak_limit\n",
      "sim_1020               -1        1.5   0.003     2  True                            5\n"
     ]
    },
    {
     "name": "stderr",
     "output_type": "stream",
     "text": [
      " Simulating... : 100%|██████████| 594303/594303 [00:44<00:00, 13445.46it/s]\n"
     ]
    },
    {
     "name": "stdout",
     "output_type": "stream",
     "text": [
      "sim_name      init_signal    cushion    risk    rr  margin_closeout      streak_limit\n",
      "sim_1021               -1        1.5   0.003     2  True                            6\n"
     ]
    },
    {
     "name": "stderr",
     "output_type": "stream",
     "text": [
      " Simulating... : 100%|██████████| 594303/594303 [00:38<00:00, 15548.16it/s]\n"
     ]
    },
    {
     "name": "stdout",
     "output_type": "stream",
     "text": [
      "sim_name      init_signal    cushion    risk    rr  margin_closeout      streak_limit\n",
      "sim_1022                1        1.5   0.004     2  True                            4\n"
     ]
    },
    {
     "name": "stderr",
     "output_type": "stream",
     "text": [
      " Simulating... : 100%|██████████| 594303/594303 [00:38<00:00, 15458.90it/s]\n"
     ]
    },
    {
     "name": "stdout",
     "output_type": "stream",
     "text": [
      "sim_name      init_signal    cushion    risk    rr  margin_closeout      streak_limit\n",
      "sim_1023               -1        1.5   0.004     2  True                            5\n"
     ]
    },
    {
     "name": "stderr",
     "output_type": "stream",
     "text": [
      " Simulating... : 100%|██████████| 594303/594303 [00:38<00:00, 15636.91it/s]\n"
     ]
    },
    {
     "name": "stdout",
     "output_type": "stream",
     "text": [
      "sim_name      init_signal    cushion    risk    rr  margin_closeout      streak_limit\n",
      "sim_1024               -1        1.5   0.004     2  True                            6\n"
     ]
    },
    {
     "name": "stderr",
     "output_type": "stream",
     "text": [
      " Simulating... : 100%|██████████| 594303/594303 [00:41<00:00, 14286.57it/s]\n"
     ]
    },
    {
     "name": "stdout",
     "output_type": "stream",
     "text": [
      "sim_name      init_signal    cushion    risk    rr  margin_closeout      streak_limit\n",
      "sim_1025               -1        1.5   0.001     3  True                            4\n"
     ]
    },
    {
     "name": "stderr",
     "output_type": "stream",
     "text": [
      " Simulating... : 100%|██████████| 594303/594303 [00:40<00:00, 14656.69it/s]\n"
     ]
    },
    {
     "name": "stdout",
     "output_type": "stream",
     "text": [
      "sim_name      init_signal    cushion    risk    rr  margin_closeout      streak_limit\n",
      "sim_1026                1        1.5   0.001     3  True                            5\n"
     ]
    },
    {
     "name": "stderr",
     "output_type": "stream",
     "text": [
      " Simulating... : 100%|██████████| 594303/594303 [00:38<00:00, 15538.87it/s]\n"
     ]
    },
    {
     "name": "stdout",
     "output_type": "stream",
     "text": [
      "sim_name      init_signal    cushion    risk    rr  margin_closeout      streak_limit\n",
      "sim_1027               -1        1.5   0.001     3  True                            6\n"
     ]
    },
    {
     "name": "stderr",
     "output_type": "stream",
     "text": [
      " Simulating... : 100%|██████████| 594303/594303 [00:38<00:00, 15616.09it/s]\n"
     ]
    },
    {
     "name": "stdout",
     "output_type": "stream",
     "text": [
      "sim_name      init_signal    cushion    risk    rr  margin_closeout      streak_limit\n",
      "sim_1028                1        1.5   0.002     3  True                            4\n"
     ]
    },
    {
     "name": "stderr",
     "output_type": "stream",
     "text": [
      " Simulating... : 100%|██████████| 594303/594303 [00:38<00:00, 15544.23it/s]\n"
     ]
    },
    {
     "name": "stdout",
     "output_type": "stream",
     "text": [
      "sim_name      init_signal    cushion    risk    rr  margin_closeout      streak_limit\n",
      "sim_1029                1        1.5   0.002     3  True                            5\n"
     ]
    },
    {
     "name": "stderr",
     "output_type": "stream",
     "text": [
      " Simulating... : 100%|██████████| 594303/594303 [00:45<00:00, 13152.48it/s]\n"
     ]
    },
    {
     "name": "stdout",
     "output_type": "stream",
     "text": [
      "sim_name      init_signal    cushion    risk    rr  margin_closeout      streak_limit\n",
      "sim_1030                1        1.5   0.002     3  True                            6\n"
     ]
    },
    {
     "name": "stderr",
     "output_type": "stream",
     "text": [
      " Simulating... : 100%|██████████| 594303/594303 [00:38<00:00, 15453.36it/s]\n"
     ]
    },
    {
     "name": "stdout",
     "output_type": "stream",
     "text": [
      "sim_name      init_signal    cushion    risk    rr  margin_closeout      streak_limit\n",
      "sim_1031               -1        1.5   0.003     3  True                            4\n"
     ]
    },
    {
     "name": "stderr",
     "output_type": "stream",
     "text": [
      " Simulating... : 100%|██████████| 594303/594303 [00:38<00:00, 15629.58it/s]\n"
     ]
    },
    {
     "name": "stdout",
     "output_type": "stream",
     "text": [
      "sim_name      init_signal    cushion    risk    rr  margin_closeout      streak_limit\n",
      "sim_1032               -1        1.5   0.003     3  True                            5\n"
     ]
    },
    {
     "name": "stderr",
     "output_type": "stream",
     "text": [
      " Simulating... : 100%|██████████| 594303/594303 [00:38<00:00, 15506.51it/s]\n"
     ]
    },
    {
     "name": "stdout",
     "output_type": "stream",
     "text": [
      "sim_name      init_signal    cushion    risk    rr  margin_closeout      streak_limit\n",
      "sim_1033               -1        1.5   0.003     3  True                            6\n"
     ]
    },
    {
     "name": "stderr",
     "output_type": "stream",
     "text": [
      " Simulating... : 100%|██████████| 594303/594303 [00:41<00:00, 14345.25it/s]\n"
     ]
    },
    {
     "name": "stdout",
     "output_type": "stream",
     "text": [
      "sim_name      init_signal    cushion    risk    rr  margin_closeout      streak_limit\n",
      "sim_1034               -1        1.5   0.004     3  True                            4\n"
     ]
    },
    {
     "name": "stderr",
     "output_type": "stream",
     "text": [
      " Simulating... : 100%|██████████| 594303/594303 [00:40<00:00, 14607.43it/s]\n"
     ]
    },
    {
     "name": "stdout",
     "output_type": "stream",
     "text": [
      "sim_name      init_signal    cushion    risk    rr  margin_closeout      streak_limit\n",
      "sim_1035                1        1.5   0.004     3  True                            5\n"
     ]
    },
    {
     "name": "stderr",
     "output_type": "stream",
     "text": [
      " Simulating... : 100%|██████████| 594303/594303 [00:38<00:00, 15599.16it/s]\n"
     ]
    },
    {
     "name": "stdout",
     "output_type": "stream",
     "text": [
      "sim_name      init_signal    cushion    risk    rr  margin_closeout      streak_limit\n",
      "sim_1036                1        1.5   0.004     3  True                            6\n"
     ]
    },
    {
     "name": "stderr",
     "output_type": "stream",
     "text": [
      " Simulating... : 100%|██████████| 594303/594303 [00:40<00:00, 14611.77it/s]\n"
     ]
    },
    {
     "name": "stdout",
     "output_type": "stream",
     "text": [
      "sim_name      init_signal    cushion    risk    rr  margin_closeout      streak_limit\n",
      "sim_1037                1          2   0.001   1.5  True                            4\n"
     ]
    },
    {
     "name": "stderr",
     "output_type": "stream",
     "text": [
      " Simulating... : 100%|██████████| 594303/594303 [00:38<00:00, 15318.82it/s]\n"
     ]
    },
    {
     "name": "stdout",
     "output_type": "stream",
     "text": [
      "sim_name      init_signal    cushion    risk    rr  margin_closeout      streak_limit\n",
      "sim_1038               -1          2   0.001   1.5  True                            5\n"
     ]
    },
    {
     "name": "stderr",
     "output_type": "stream",
     "text": [
      " Simulating... : 100%|██████████| 594303/594303 [00:44<00:00, 13425.34it/s]\n"
     ]
    },
    {
     "name": "stdout",
     "output_type": "stream",
     "text": [
      "sim_name      init_signal    cushion    risk    rr  margin_closeout      streak_limit\n",
      "sim_1039               -1          2   0.001   1.5  True                            6\n"
     ]
    },
    {
     "name": "stderr",
     "output_type": "stream",
     "text": [
      " Simulating... : 100%|██████████| 594303/594303 [00:38<00:00, 15518.41it/s]\n"
     ]
    },
    {
     "name": "stdout",
     "output_type": "stream",
     "text": [
      "sim_name      init_signal    cushion    risk    rr  margin_closeout      streak_limit\n",
      "sim_1040                1          2   0.002   1.5  True                            4\n"
     ]
    },
    {
     "name": "stderr",
     "output_type": "stream",
     "text": [
      " Simulating... : 100%|██████████| 594303/594303 [00:38<00:00, 15463.50it/s]\n"
     ]
    },
    {
     "name": "stdout",
     "output_type": "stream",
     "text": [
      "sim_name      init_signal    cushion    risk    rr  margin_closeout      streak_limit\n",
      "sim_1041               -1          2   0.002   1.5  True                            5\n"
     ]
    },
    {
     "name": "stderr",
     "output_type": "stream",
     "text": [
      " Simulating... : 100%|██████████| 594303/594303 [00:38<00:00, 15601.30it/s]\n"
     ]
    },
    {
     "name": "stdout",
     "output_type": "stream",
     "text": [
      "sim_name      init_signal    cushion    risk    rr  margin_closeout      streak_limit\n",
      "sim_1042               -1          2   0.002   1.5  True                            6\n"
     ]
    },
    {
     "name": "stderr",
     "output_type": "stream",
     "text": [
      " Simulating... : 100%|██████████| 594303/594303 [00:41<00:00, 14343.24it/s]\n"
     ]
    },
    {
     "name": "stdout",
     "output_type": "stream",
     "text": [
      "sim_name      init_signal    cushion    risk    rr  margin_closeout      streak_limit\n",
      "sim_1043               -1          2   0.003   1.5  True                            4\n"
     ]
    },
    {
     "name": "stderr",
     "output_type": "stream",
     "text": [
      " Simulating... : 100%|██████████| 594303/594303 [00:42<00:00, 13929.81it/s]\n"
     ]
    },
    {
     "name": "stdout",
     "output_type": "stream",
     "text": [
      "sim_name      init_signal    cushion    risk    rr  margin_closeout      streak_limit\n",
      "sim_1044                1          2   0.003   1.5  True                            5\n"
     ]
    },
    {
     "name": "stderr",
     "output_type": "stream",
     "text": [
      " Simulating... : 100%|██████████| 594303/594303 [00:39<00:00, 15224.70it/s]\n"
     ]
    },
    {
     "name": "stdout",
     "output_type": "stream",
     "text": [
      "sim_name      init_signal    cushion    risk    rr  margin_closeout      streak_limit\n",
      "sim_1045               -1          2   0.003   1.5  True                            6\n"
     ]
    },
    {
     "name": "stderr",
     "output_type": "stream",
     "text": [
      " Simulating... : 100%|██████████| 594303/594303 [00:38<00:00, 15461.50it/s]\n"
     ]
    },
    {
     "name": "stdout",
     "output_type": "stream",
     "text": [
      "sim_name      init_signal    cushion    risk    rr  margin_closeout      streak_limit\n",
      "sim_1046                1          2   0.004   1.5  True                            4\n"
     ]
    },
    {
     "name": "stderr",
     "output_type": "stream",
     "text": [
      " Simulating... : 100%|██████████| 594303/594303 [00:38<00:00, 15553.21it/s]\n"
     ]
    },
    {
     "name": "stdout",
     "output_type": "stream",
     "text": [
      "sim_name      init_signal    cushion    risk    rr  margin_closeout      streak_limit\n",
      "sim_1047                1          2   0.004   1.5  True                            5\n"
     ]
    },
    {
     "name": "stderr",
     "output_type": "stream",
     "text": [
      " Simulating... : 100%|██████████| 594303/594303 [00:43<00:00, 13596.07it/s]\n"
     ]
    },
    {
     "name": "stdout",
     "output_type": "stream",
     "text": [
      "sim_name      init_signal    cushion    risk    rr  margin_closeout      streak_limit\n",
      "sim_1048               -1          2   0.004   1.5  True                            6\n"
     ]
    },
    {
     "name": "stderr",
     "output_type": "stream",
     "text": [
      " Simulating... : 100%|██████████| 594303/594303 [00:39<00:00, 15014.67it/s]\n"
     ]
    },
    {
     "name": "stdout",
     "output_type": "stream",
     "text": [
      "sim_name      init_signal    cushion    risk    rr  margin_closeout      streak_limit\n",
      "sim_1049                1          2   0.001     2  True                            4\n"
     ]
    },
    {
     "name": "stderr",
     "output_type": "stream",
     "text": [
      " Simulating... : 100%|██████████| 594303/594303 [00:38<00:00, 15563.86it/s]\n"
     ]
    },
    {
     "name": "stdout",
     "output_type": "stream",
     "text": [
      "sim_name      init_signal    cushion    risk    rr  margin_closeout      streak_limit\n",
      "sim_1050               -1          2   0.001     2  True                            5\n"
     ]
    },
    {
     "name": "stderr",
     "output_type": "stream",
     "text": [
      " Simulating... : 100%|██████████| 594303/594303 [00:38<00:00, 15430.66it/s]\n"
     ]
    },
    {
     "name": "stdout",
     "output_type": "stream",
     "text": [
      "sim_name      init_signal    cushion    risk    rr  margin_closeout      streak_limit\n",
      "sim_1051               -1          2   0.001     2  True                            6\n"
     ]
    },
    {
     "name": "stderr",
     "output_type": "stream",
     "text": [
      " Simulating... : 100%|██████████| 594303/594303 [00:40<00:00, 14499.96it/s]\n"
     ]
    },
    {
     "name": "stdout",
     "output_type": "stream",
     "text": [
      "sim_name      init_signal    cushion    risk    rr  margin_closeout      streak_limit\n",
      "sim_1052                1          2   0.002     2  True                            4\n"
     ]
    },
    {
     "name": "stderr",
     "output_type": "stream",
     "text": [
      " Simulating... : 100%|██████████| 594303/594303 [00:42<00:00, 13979.19it/s]\n"
     ]
    },
    {
     "name": "stdout",
     "output_type": "stream",
     "text": [
      "sim_name      init_signal    cushion    risk    rr  margin_closeout      streak_limit\n",
      "sim_1053                1          2   0.002     2  True                            5\n"
     ]
    },
    {
     "name": "stderr",
     "output_type": "stream",
     "text": [
      " Simulating... : 100%|██████████| 594303/594303 [00:37<00:00, 15688.05it/s]\n"
     ]
    },
    {
     "name": "stdout",
     "output_type": "stream",
     "text": [
      "sim_name      init_signal    cushion    risk    rr  margin_closeout      streak_limit\n",
      "sim_1054                1          2   0.002     2  True                            6\n"
     ]
    },
    {
     "name": "stderr",
     "output_type": "stream",
     "text": [
      " Simulating... : 100%|██████████| 594303/594303 [00:37<00:00, 15738.82it/s]\n"
     ]
    },
    {
     "name": "stdout",
     "output_type": "stream",
     "text": [
      "sim_name      init_signal    cushion    risk    rr  margin_closeout      streak_limit\n",
      "sim_1055                1          2   0.003     2  True                            4\n"
     ]
    },
    {
     "name": "stderr",
     "output_type": "stream",
     "text": [
      " Simulating... : 100%|██████████| 594303/594303 [00:38<00:00, 15344.00it/s]\n"
     ]
    },
    {
     "name": "stdout",
     "output_type": "stream",
     "text": [
      "sim_name      init_signal    cushion    risk    rr  margin_closeout      streak_limit\n",
      "sim_1056               -1          2   0.003     2  True                            5\n"
     ]
    },
    {
     "name": "stderr",
     "output_type": "stream",
     "text": [
      " Simulating... : 100%|██████████| 594303/594303 [00:42<00:00, 13980.32it/s]\n"
     ]
    },
    {
     "name": "stdout",
     "output_type": "stream",
     "text": [
      "sim_name      init_signal    cushion    risk    rr  margin_closeout      streak_limit\n",
      "sim_1057               -1          2   0.003     2  True                            6\n"
     ]
    },
    {
     "name": "stderr",
     "output_type": "stream",
     "text": [
      " Simulating... : 100%|██████████| 594303/594303 [00:39<00:00, 15066.42it/s]\n"
     ]
    },
    {
     "name": "stdout",
     "output_type": "stream",
     "text": [
      "sim_name      init_signal    cushion    risk    rr  margin_closeout      streak_limit\n",
      "sim_1058                1          2   0.004     2  True                            4\n"
     ]
    },
    {
     "name": "stderr",
     "output_type": "stream",
     "text": [
      " Simulating... : 100%|██████████| 594303/594303 [00:38<00:00, 15566.77it/s]\n"
     ]
    },
    {
     "name": "stdout",
     "output_type": "stream",
     "text": [
      "sim_name      init_signal    cushion    risk    rr  margin_closeout      streak_limit\n",
      "sim_1059               -1          2   0.004     2  True                            5\n"
     ]
    },
    {
     "name": "stderr",
     "output_type": "stream",
     "text": [
      " Simulating... : 100%|██████████| 594303/594303 [00:37<00:00, 15678.55it/s]\n"
     ]
    },
    {
     "name": "stdout",
     "output_type": "stream",
     "text": [
      "sim_name      init_signal    cushion    risk    rr  margin_closeout      streak_limit\n",
      "sim_1060                1          2   0.004     2  True                            6\n"
     ]
    },
    {
     "name": "stderr",
     "output_type": "stream",
     "text": [
      " Simulating... : 100%|██████████| 594303/594303 [00:38<00:00, 15458.19it/s]\n"
     ]
    },
    {
     "name": "stdout",
     "output_type": "stream",
     "text": [
      "sim_name      init_signal    cushion    risk    rr  margin_closeout      streak_limit\n",
      "sim_1061               -1          2   0.001     3  True                            4\n"
     ]
    },
    {
     "name": "stderr",
     "output_type": "stream",
     "text": [
      " Simulating... : 100%|██████████| 594303/594303 [00:43<00:00, 13647.49it/s]\n"
     ]
    },
    {
     "name": "stdout",
     "output_type": "stream",
     "text": [
      "sim_name      init_signal    cushion    risk    rr  margin_closeout      streak_limit\n",
      "sim_1062                1          2   0.001     3  True                            5\n"
     ]
    },
    {
     "name": "stderr",
     "output_type": "stream",
     "text": [
      " Simulating... : 100%|██████████| 594303/594303 [00:38<00:00, 15580.36it/s]\n"
     ]
    },
    {
     "name": "stdout",
     "output_type": "stream",
     "text": [
      "sim_name      init_signal    cushion    risk    rr  margin_closeout      streak_limit\n",
      "sim_1063               -1          2   0.001     3  True                            6\n"
     ]
    },
    {
     "name": "stderr",
     "output_type": "stream",
     "text": [
      " Simulating... : 100%|██████████| 594303/594303 [00:37<00:00, 15670.88it/s]\n"
     ]
    },
    {
     "name": "stdout",
     "output_type": "stream",
     "text": [
      "sim_name      init_signal    cushion    risk    rr  margin_closeout      streak_limit\n",
      "sim_1064                1          2   0.002     3  True                            4\n"
     ]
    },
    {
     "name": "stderr",
     "output_type": "stream",
     "text": [
      " Simulating... : 100%|██████████| 594303/594303 [00:40<00:00, 14701.49it/s]\n"
     ]
    },
    {
     "name": "stdout",
     "output_type": "stream",
     "text": [
      "sim_name      init_signal    cushion    risk    rr  margin_closeout      streak_limit\n",
      "sim_1065                1          2   0.002     3  True                            5\n"
     ]
    },
    {
     "name": "stderr",
     "output_type": "stream",
     "text": [
      " Simulating... : 100%|██████████| 594303/594303 [00:43<00:00, 13637.33it/s]\n"
     ]
    },
    {
     "name": "stdout",
     "output_type": "stream",
     "text": [
      "sim_name      init_signal    cushion    risk    rr  margin_closeout      streak_limit\n",
      "sim_1066                1          2   0.002     3  True                            6\n"
     ]
    },
    {
     "name": "stderr",
     "output_type": "stream",
     "text": [
      " Simulating... : 100%|██████████| 594303/594303 [00:40<00:00, 14565.36it/s]\n"
     ]
    },
    {
     "name": "stdout",
     "output_type": "stream",
     "text": [
      "sim_name      init_signal    cushion    risk    rr  margin_closeout      streak_limit\n",
      "sim_1067                1          2   0.003     3  True                            4\n"
     ]
    },
    {
     "name": "stderr",
     "output_type": "stream",
     "text": [
      " Simulating... : 100%|██████████| 594303/594303 [00:38<00:00, 15444.44it/s]\n"
     ]
    },
    {
     "name": "stdout",
     "output_type": "stream",
     "text": [
      "sim_name      init_signal    cushion    risk    rr  margin_closeout      streak_limit\n",
      "sim_1068                1          2   0.003     3  True                            5\n"
     ]
    },
    {
     "name": "stderr",
     "output_type": "stream",
     "text": [
      " Simulating... : 100%|██████████| 594303/594303 [00:42<00:00, 13925.29it/s]\n"
     ]
    },
    {
     "name": "stdout",
     "output_type": "stream",
     "text": [
      "sim_name      init_signal    cushion    risk    rr  margin_closeout      streak_limit\n",
      "sim_1069                1          2   0.003     3  True                            6\n"
     ]
    },
    {
     "name": "stderr",
     "output_type": "stream",
     "text": [
      " Simulating... : 100%|██████████| 594303/594303 [00:40<00:00, 14622.79it/s]\n"
     ]
    },
    {
     "name": "stdout",
     "output_type": "stream",
     "text": [
      "sim_name      init_signal    cushion    risk    rr  margin_closeout      streak_limit\n",
      "sim_1070               -1          2   0.004     3  True                            4\n"
     ]
    },
    {
     "name": "stderr",
     "output_type": "stream",
     "text": [
      " Simulating... : 100%|██████████| 594303/594303 [00:40<00:00, 14689.10it/s]\n"
     ]
    },
    {
     "name": "stdout",
     "output_type": "stream",
     "text": [
      "sim_name      init_signal    cushion    risk    rr  margin_closeout      streak_limit\n",
      "sim_1071                1          2   0.004     3  True                            5\n"
     ]
    },
    {
     "name": "stderr",
     "output_type": "stream",
     "text": [
      " Simulating... : 100%|██████████| 594303/594303 [00:40<00:00, 14607.76it/s]\n"
     ]
    },
    {
     "name": "stdout",
     "output_type": "stream",
     "text": [
      "sim_name      init_signal    cushion    risk    rr  margin_closeout      streak_limit\n",
      "sim_1072               -1          2   0.004     3  True                            6\n"
     ]
    },
    {
     "name": "stderr",
     "output_type": "stream",
     "text": [
      " Simulating... : 100%|██████████| 594303/594303 [00:41<00:00, 14436.50it/s]\n"
     ]
    },
    {
     "name": "stdout",
     "output_type": "stream",
     "text": [
      "sim_name      init_signal    cushion    risk    rr  margin_closeout      streak_limit\n",
      "sim_1073               -1        2.5   0.001   1.5  True                            4\n"
     ]
    },
    {
     "name": "stderr",
     "output_type": "stream",
     "text": [
      " Simulating... : 100%|██████████| 594303/594303 [00:41<00:00, 14260.08it/s]\n"
     ]
    },
    {
     "name": "stdout",
     "output_type": "stream",
     "text": [
      "sim_name      init_signal    cushion    risk    rr  margin_closeout      streak_limit\n",
      "sim_1074               -1        2.5   0.001   1.5  True                            5\n"
     ]
    },
    {
     "name": "stderr",
     "output_type": "stream",
     "text": [
      " Simulating... : 100%|██████████| 594303/594303 [00:42<00:00, 13854.23it/s]\n"
     ]
    },
    {
     "name": "stdout",
     "output_type": "stream",
     "text": [
      "sim_name      init_signal    cushion    risk    rr  margin_closeout      streak_limit\n",
      "sim_1075               -1        2.5   0.001   1.5  True                            6\n"
     ]
    },
    {
     "name": "stderr",
     "output_type": "stream",
     "text": [
      " Simulating... : 100%|██████████| 594303/594303 [00:41<00:00, 14335.49it/s]\n"
     ]
    },
    {
     "name": "stdout",
     "output_type": "stream",
     "text": [
      "sim_name      init_signal    cushion    risk    rr  margin_closeout      streak_limit\n",
      "sim_1076                1        2.5   0.002   1.5  True                            4\n"
     ]
    },
    {
     "name": "stderr",
     "output_type": "stream",
     "text": [
      " Simulating... : 100%|██████████| 594303/594303 [00:41<00:00, 14153.96it/s]\n"
     ]
    },
    {
     "name": "stdout",
     "output_type": "stream",
     "text": [
      "sim_name      init_signal    cushion    risk    rr  margin_closeout      streak_limit\n",
      "sim_1077                1        2.5   0.002   1.5  True                            5\n"
     ]
    },
    {
     "name": "stderr",
     "output_type": "stream",
     "text": [
      " Simulating... : 100%|██████████| 594303/594303 [00:40<00:00, 14536.50it/s]\n"
     ]
    },
    {
     "name": "stdout",
     "output_type": "stream",
     "text": [
      "sim_name      init_signal    cushion    risk    rr  margin_closeout      streak_limit\n",
      "sim_1078               -1        2.5   0.002   1.5  True                            6\n"
     ]
    },
    {
     "name": "stderr",
     "output_type": "stream",
     "text": [
      " Simulating... : 100%|██████████| 594303/594303 [00:41<00:00, 14494.46it/s]\n"
     ]
    },
    {
     "name": "stdout",
     "output_type": "stream",
     "text": [
      "sim_name      init_signal    cushion    risk    rr  margin_closeout      streak_limit\n",
      "sim_1079               -1        2.5   0.003   1.5  True                            4\n"
     ]
    },
    {
     "name": "stderr",
     "output_type": "stream",
     "text": [
      " Simulating... : 100%|██████████| 594303/594303 [00:41<00:00, 14392.57it/s]\n"
     ]
    },
    {
     "name": "stdout",
     "output_type": "stream",
     "text": [
      "sim_name      init_signal    cushion    risk    rr  margin_closeout      streak_limit\n",
      "sim_1080               -1        2.5   0.003   1.5  True                            5\n"
     ]
    },
    {
     "name": "stderr",
     "output_type": "stream",
     "text": [
      " Simulating... : 100%|██████████| 594303/594303 [00:41<00:00, 14461.13it/s]\n"
     ]
    },
    {
     "name": "stdout",
     "output_type": "stream",
     "text": [
      "sim_name      init_signal    cushion    risk    rr  margin_closeout      streak_limit\n",
      "sim_1081                1        2.5   0.003   1.5  True                            6\n"
     ]
    },
    {
     "name": "stderr",
     "output_type": "stream",
     "text": [
      " Simulating... : 100%|██████████| 594303/594303 [00:41<00:00, 14319.70it/s]\n"
     ]
    },
    {
     "name": "stdout",
     "output_type": "stream",
     "text": [
      "sim_name      init_signal    cushion    risk    rr  margin_closeout      streak_limit\n",
      "sim_1082               -1        2.5   0.004   1.5  True                            4\n"
     ]
    },
    {
     "name": "stderr",
     "output_type": "stream",
     "text": [
      " Simulating... : 100%|██████████| 594303/594303 [00:40<00:00, 14553.96it/s]\n"
     ]
    },
    {
     "name": "stdout",
     "output_type": "stream",
     "text": [
      "sim_name      init_signal    cushion    risk    rr  margin_closeout      streak_limit\n",
      "sim_1083               -1        2.5   0.004   1.5  True                            5\n"
     ]
    },
    {
     "name": "stderr",
     "output_type": "stream",
     "text": [
      " Simulating... : 100%|██████████| 594303/594303 [00:41<00:00, 14365.27it/s]\n"
     ]
    },
    {
     "name": "stdout",
     "output_type": "stream",
     "text": [
      "sim_name      init_signal    cushion    risk    rr  margin_closeout      streak_limit\n",
      "sim_1084               -1        2.5   0.004   1.5  True                            6\n"
     ]
    },
    {
     "name": "stderr",
     "output_type": "stream",
     "text": [
      " Simulating... : 100%|██████████| 594303/594303 [00:40<00:00, 14517.81it/s]\n"
     ]
    },
    {
     "name": "stdout",
     "output_type": "stream",
     "text": [
      "sim_name      init_signal    cushion    risk    rr  margin_closeout      streak_limit\n",
      "sim_1085                1        2.5   0.001     2  True                            4\n"
     ]
    },
    {
     "name": "stderr",
     "output_type": "stream",
     "text": [
      " Simulating... : 100%|██████████| 594303/594303 [00:41<00:00, 14165.36it/s]\n"
     ]
    },
    {
     "name": "stdout",
     "output_type": "stream",
     "text": [
      "sim_name      init_signal    cushion    risk    rr  margin_closeout      streak_limit\n",
      "sim_1086                1        2.5   0.001     2  True                            5\n"
     ]
    },
    {
     "name": "stderr",
     "output_type": "stream",
     "text": [
      " Simulating... : 100%|██████████| 594303/594303 [00:42<00:00, 14095.66it/s]\n"
     ]
    },
    {
     "name": "stdout",
     "output_type": "stream",
     "text": [
      "sim_name      init_signal    cushion    risk    rr  margin_closeout      streak_limit\n",
      "sim_1087                1        2.5   0.001     2  True                            6\n"
     ]
    },
    {
     "name": "stderr",
     "output_type": "stream",
     "text": [
      " Simulating... : 100%|██████████| 594303/594303 [00:42<00:00, 14008.51it/s]\n"
     ]
    },
    {
     "name": "stdout",
     "output_type": "stream",
     "text": [
      "sim_name      init_signal    cushion    risk    rr  margin_closeout      streak_limit\n",
      "sim_1088               -1        2.5   0.002     2  True                            4\n"
     ]
    },
    {
     "name": "stderr",
     "output_type": "stream",
     "text": [
      " Simulating... : 100%|██████████| 594303/594303 [00:41<00:00, 14163.86it/s]\n"
     ]
    },
    {
     "name": "stdout",
     "output_type": "stream",
     "text": [
      "sim_name      init_signal    cushion    risk    rr  margin_closeout      streak_limit\n",
      "sim_1089               -1        2.5   0.002     2  True                            5\n"
     ]
    },
    {
     "name": "stderr",
     "output_type": "stream",
     "text": [
      " Simulating... : 100%|██████████| 594303/594303 [00:41<00:00, 14332.27it/s]\n"
     ]
    },
    {
     "name": "stdout",
     "output_type": "stream",
     "text": [
      "sim_name      init_signal    cushion    risk    rr  margin_closeout      streak_limit\n",
      "sim_1090               -1        2.5   0.002     2  True                            6\n"
     ]
    },
    {
     "name": "stderr",
     "output_type": "stream",
     "text": [
      " Simulating... : 100%|██████████| 594303/594303 [00:41<00:00, 14365.70it/s]\n"
     ]
    },
    {
     "name": "stdout",
     "output_type": "stream",
     "text": [
      "sim_name      init_signal    cushion    risk    rr  margin_closeout      streak_limit\n",
      "sim_1091               -1        2.5   0.003     2  True                            4\n"
     ]
    },
    {
     "name": "stderr",
     "output_type": "stream",
     "text": [
      " Simulating... : 100%|██████████| 594303/594303 [00:42<00:00, 13933.01it/s]\n"
     ]
    },
    {
     "name": "stdout",
     "output_type": "stream",
     "text": [
      "sim_name      init_signal    cushion    risk    rr  margin_closeout      streak_limit\n",
      "sim_1092               -1        2.5   0.003     2  True                            5\n"
     ]
    },
    {
     "name": "stderr",
     "output_type": "stream",
     "text": [
      " Simulating... : 100%|██████████| 594303/594303 [00:41<00:00, 14253.56it/s]\n"
     ]
    },
    {
     "name": "stdout",
     "output_type": "stream",
     "text": [
      "sim_name      init_signal    cushion    risk    rr  margin_closeout      streak_limit\n",
      "sim_1093               -1        2.5   0.003     2  True                            6\n"
     ]
    },
    {
     "name": "stderr",
     "output_type": "stream",
     "text": [
      " Simulating... : 100%|██████████| 594303/594303 [00:41<00:00, 14245.57it/s]\n"
     ]
    },
    {
     "name": "stdout",
     "output_type": "stream",
     "text": [
      "sim_name      init_signal    cushion    risk    rr  margin_closeout      streak_limit\n",
      "sim_1094                1        2.5   0.004     2  True                            4\n"
     ]
    },
    {
     "name": "stderr",
     "output_type": "stream",
     "text": [
      " Simulating... : 100%|██████████| 594303/594303 [00:41<00:00, 14398.66it/s]\n"
     ]
    },
    {
     "name": "stdout",
     "output_type": "stream",
     "text": [
      "sim_name      init_signal    cushion    risk    rr  margin_closeout      streak_limit\n",
      "sim_1095                1        2.5   0.004     2  True                            5\n"
     ]
    },
    {
     "name": "stderr",
     "output_type": "stream",
     "text": [
      " Simulating... : 100%|██████████| 594303/594303 [00:41<00:00, 14208.39it/s]\n"
     ]
    },
    {
     "name": "stdout",
     "output_type": "stream",
     "text": [
      "sim_name      init_signal    cushion    risk    rr  margin_closeout      streak_limit\n",
      "sim_1096                1        2.5   0.004     2  True                            6\n"
     ]
    },
    {
     "name": "stderr",
     "output_type": "stream",
     "text": [
      " Simulating... : 100%|██████████| 594303/594303 [00:43<00:00, 13820.87it/s]\n"
     ]
    },
    {
     "name": "stdout",
     "output_type": "stream",
     "text": [
      "sim_name      init_signal    cushion    risk    rr  margin_closeout      streak_limit\n",
      "sim_1097               -1        2.5   0.001     3  True                            4\n"
     ]
    },
    {
     "name": "stderr",
     "output_type": "stream",
     "text": [
      " Simulating... : 100%|██████████| 594303/594303 [00:41<00:00, 14340.77it/s]\n"
     ]
    },
    {
     "name": "stdout",
     "output_type": "stream",
     "text": [
      "sim_name      init_signal    cushion    risk    rr  margin_closeout      streak_limit\n",
      "sim_1098               -1        2.5   0.001     3  True                            5\n"
     ]
    },
    {
     "name": "stderr",
     "output_type": "stream",
     "text": [
      " Simulating... : 100%|██████████| 594303/594303 [00:40<00:00, 14523.26it/s]\n"
     ]
    },
    {
     "name": "stdout",
     "output_type": "stream",
     "text": [
      "sim_name      init_signal    cushion    risk    rr  margin_closeout      streak_limit\n",
      "sim_1099               -1        2.5   0.001     3  True                            6\n"
     ]
    },
    {
     "name": "stderr",
     "output_type": "stream",
     "text": [
      " Simulating... : 100%|██████████| 594303/594303 [00:45<00:00, 12955.86it/s]\n"
     ]
    },
    {
     "name": "stdout",
     "output_type": "stream",
     "text": [
      "sim_name      init_signal    cushion    risk    rr  margin_closeout      streak_limit\n",
      "sim_1100                1        2.5   0.002     3  True                            4\n"
     ]
    },
    {
     "name": "stderr",
     "output_type": "stream",
     "text": [
      " Simulating... : 100%|██████████| 594303/594303 [00:42<00:00, 13952.98it/s]\n"
     ]
    },
    {
     "name": "stdout",
     "output_type": "stream",
     "text": [
      "sim_name      init_signal    cushion    risk    rr  margin_closeout      streak_limit\n",
      "sim_1101                1        2.5   0.002     3  True                            5\n"
     ]
    },
    {
     "name": "stderr",
     "output_type": "stream",
     "text": [
      " Simulating... : 100%|██████████| 594303/594303 [00:38<00:00, 15301.12it/s]\n"
     ]
    },
    {
     "name": "stdout",
     "output_type": "stream",
     "text": [
      "sim_name      init_signal    cushion    risk    rr  margin_closeout      streak_limit\n",
      "sim_1102               -1        2.5   0.002     3  True                            6\n"
     ]
    },
    {
     "name": "stderr",
     "output_type": "stream",
     "text": [
      " Simulating... : 100%|██████████| 594303/594303 [00:39<00:00, 15104.15it/s]\n"
     ]
    },
    {
     "name": "stdout",
     "output_type": "stream",
     "text": [
      "sim_name      init_signal    cushion    risk    rr  margin_closeout      streak_limit\n",
      "sim_1103                1        2.5   0.003     3  True                            4\n"
     ]
    },
    {
     "name": "stderr",
     "output_type": "stream",
     "text": [
      " Simulating... : 100%|██████████| 594303/594303 [00:39<00:00, 15188.39it/s]\n"
     ]
    },
    {
     "name": "stdout",
     "output_type": "stream",
     "text": [
      "sim_name      init_signal    cushion    risk    rr  margin_closeout      streak_limit\n",
      "sim_1104                1        2.5   0.003     3  True                            5\n"
     ]
    },
    {
     "name": "stderr",
     "output_type": "stream",
     "text": [
      " Simulating... : 100%|██████████| 594303/594303 [00:43<00:00, 13619.81it/s]\n"
     ]
    },
    {
     "name": "stdout",
     "output_type": "stream",
     "text": [
      "sim_name      init_signal    cushion    risk    rr  margin_closeout      streak_limit\n",
      "sim_1105                1        2.5   0.003     3  True                            6\n"
     ]
    },
    {
     "name": "stderr",
     "output_type": "stream",
     "text": [
      " Simulating... : 100%|██████████| 594303/594303 [00:39<00:00, 14969.10it/s]\n"
     ]
    },
    {
     "name": "stdout",
     "output_type": "stream",
     "text": [
      "sim_name      init_signal    cushion    risk    rr  margin_closeout      streak_limit\n",
      "sim_1106                1        2.5   0.004     3  True                            4\n"
     ]
    },
    {
     "name": "stderr",
     "output_type": "stream",
     "text": [
      " Simulating... : 100%|██████████| 594303/594303 [00:38<00:00, 15364.50it/s]\n"
     ]
    },
    {
     "name": "stdout",
     "output_type": "stream",
     "text": [
      "sim_name      init_signal    cushion    risk    rr  margin_closeout      streak_limit\n",
      "sim_1107               -1        2.5   0.004     3  True                            5\n"
     ]
    },
    {
     "name": "stderr",
     "output_type": "stream",
     "text": [
      " Simulating... : 100%|██████████| 594303/594303 [00:38<00:00, 15438.06it/s]\n"
     ]
    },
    {
     "name": "stdout",
     "output_type": "stream",
     "text": [
      "sim_name      init_signal    cushion    risk    rr  margin_closeout      streak_limit\n",
      "sim_1108                1        2.5   0.004     3  True                            6\n"
     ]
    },
    {
     "name": "stderr",
     "output_type": "stream",
     "text": [
      " Simulating... : 100%|██████████| 594303/594303 [00:41<00:00, 14306.58it/s]\n"
     ]
    },
    {
     "name": "stdout",
     "output_type": "stream",
     "text": [
      "sim_name      init_signal    cushion    risk    rr  margin_closeout      streak_limit\n",
      "sim_1109                1          3   0.001   1.5  True                            4\n"
     ]
    },
    {
     "name": "stderr",
     "output_type": "stream",
     "text": [
      " Simulating... : 100%|██████████| 594303/594303 [00:41<00:00, 14208.31it/s]\n"
     ]
    },
    {
     "name": "stdout",
     "output_type": "stream",
     "text": [
      "sim_name      init_signal    cushion    risk    rr  margin_closeout      streak_limit\n",
      "sim_1110               -1          3   0.001   1.5  True                            5\n"
     ]
    },
    {
     "name": "stderr",
     "output_type": "stream",
     "text": [
      " Simulating... : 100%|██████████| 594303/594303 [00:38<00:00, 15259.73it/s]\n"
     ]
    },
    {
     "name": "stdout",
     "output_type": "stream",
     "text": [
      "sim_name      init_signal    cushion    risk    rr  margin_closeout      streak_limit\n",
      "sim_1111               -1          3   0.001   1.5  True                            6\n"
     ]
    },
    {
     "name": "stderr",
     "output_type": "stream",
     "text": [
      " Simulating... : 100%|██████████| 594303/594303 [00:38<00:00, 15293.48it/s]\n"
     ]
    },
    {
     "name": "stdout",
     "output_type": "stream",
     "text": [
      "sim_name      init_signal    cushion    risk    rr  margin_closeout      streak_limit\n",
      "sim_1112               -1          3   0.002   1.5  True                            4\n"
     ]
    },
    {
     "name": "stderr",
     "output_type": "stream",
     "text": [
      " Simulating... : 100%|██████████| 594303/594303 [00:38<00:00, 15364.75it/s]\n"
     ]
    },
    {
     "name": "stdout",
     "output_type": "stream",
     "text": [
      "sim_name      init_signal    cushion    risk    rr  margin_closeout      streak_limit\n",
      "sim_1113                1          3   0.002   1.5  True                            5\n"
     ]
    },
    {
     "name": "stderr",
     "output_type": "stream",
     "text": [
      " Simulating... : 100%|██████████| 594303/594303 [00:43<00:00, 13692.32it/s]\n"
     ]
    },
    {
     "name": "stdout",
     "output_type": "stream",
     "text": [
      "sim_name      init_signal    cushion    risk    rr  margin_closeout      streak_limit\n",
      "sim_1114               -1          3   0.002   1.5  True                            6\n"
     ]
    },
    {
     "name": "stderr",
     "output_type": "stream",
     "text": [
      " Simulating... : 100%|██████████| 594303/594303 [00:40<00:00, 14734.22it/s]\n"
     ]
    },
    {
     "name": "stdout",
     "output_type": "stream",
     "text": [
      "sim_name      init_signal    cushion    risk    rr  margin_closeout      streak_limit\n",
      "sim_1115               -1          3   0.003   1.5  True                            4\n"
     ]
    },
    {
     "name": "stderr",
     "output_type": "stream",
     "text": [
      " Simulating... : 100%|██████████| 594303/594303 [00:38<00:00, 15444.42it/s]\n"
     ]
    },
    {
     "name": "stdout",
     "output_type": "stream",
     "text": [
      "sim_name      init_signal    cushion    risk    rr  margin_closeout      streak_limit\n",
      "sim_1116                1          3   0.003   1.5  True                            5\n"
     ]
    },
    {
     "name": "stderr",
     "output_type": "stream",
     "text": [
      " Simulating... : 100%|██████████| 594303/594303 [00:38<00:00, 15295.27it/s]\n"
     ]
    },
    {
     "name": "stdout",
     "output_type": "stream",
     "text": [
      "sim_name      init_signal    cushion    risk    rr  margin_closeout      streak_limit\n",
      "sim_1117               -1          3   0.003   1.5  True                            6\n"
     ]
    },
    {
     "name": "stderr",
     "output_type": "stream",
     "text": [
      " Simulating... : 100%|██████████| 594303/594303 [00:41<00:00, 14324.11it/s]\n"
     ]
    },
    {
     "name": "stdout",
     "output_type": "stream",
     "text": [
      "sim_name      init_signal    cushion    risk    rr  margin_closeout      streak_limit\n",
      "sim_1118                1          3   0.004   1.5  True                            4\n"
     ]
    },
    {
     "name": "stderr",
     "output_type": "stream",
     "text": [
      " Simulating... : 100%|██████████| 594303/594303 [00:42<00:00, 14033.21it/s]\n"
     ]
    },
    {
     "name": "stdout",
     "output_type": "stream",
     "text": [
      "sim_name      init_signal    cushion    risk    rr  margin_closeout      streak_limit\n",
      "sim_1119                1          3   0.004   1.5  True                            5\n"
     ]
    },
    {
     "name": "stderr",
     "output_type": "stream",
     "text": [
      " Simulating... : 100%|██████████| 594303/594303 [00:38<00:00, 15510.28it/s]\n"
     ]
    },
    {
     "name": "stdout",
     "output_type": "stream",
     "text": [
      "sim_name      init_signal    cushion    risk    rr  margin_closeout      streak_limit\n",
      "sim_1120                1          3   0.004   1.5  True                            6\n"
     ]
    },
    {
     "name": "stderr",
     "output_type": "stream",
     "text": [
      " Simulating... : 100%|██████████| 594303/594303 [00:38<00:00, 15603.02it/s]\n"
     ]
    },
    {
     "name": "stdout",
     "output_type": "stream",
     "text": [
      "sim_name      init_signal    cushion    risk    rr  margin_closeout      streak_limit\n",
      "sim_1121               -1          3   0.001     2  True                            4\n"
     ]
    },
    {
     "name": "stderr",
     "output_type": "stream",
     "text": [
      " Simulating... : 100%|██████████| 594303/594303 [00:38<00:00, 15607.19it/s]\n"
     ]
    },
    {
     "name": "stdout",
     "output_type": "stream",
     "text": [
      "sim_name      init_signal    cushion    risk    rr  margin_closeout      streak_limit\n",
      "sim_1122               -1          3   0.001     2  True                            5\n"
     ]
    },
    {
     "name": "stderr",
     "output_type": "stream",
     "text": [
      " Simulating... : 100%|██████████| 594303/594303 [00:42<00:00, 13851.59it/s]\n"
     ]
    },
    {
     "name": "stdout",
     "output_type": "stream",
     "text": [
      "sim_name      init_signal    cushion    risk    rr  margin_closeout      streak_limit\n",
      "sim_1123               -1          3   0.001     2  True                            6\n"
     ]
    },
    {
     "name": "stderr",
     "output_type": "stream",
     "text": [
      " Simulating... : 100%|██████████| 594303/594303 [00:39<00:00, 15089.46it/s]\n"
     ]
    },
    {
     "name": "stdout",
     "output_type": "stream",
     "text": [
      "sim_name      init_signal    cushion    risk    rr  margin_closeout      streak_limit\n",
      "sim_1124               -1          3   0.002     2  True                            4\n"
     ]
    },
    {
     "name": "stderr",
     "output_type": "stream",
     "text": [
      " Simulating... : 100%|██████████| 594303/594303 [00:38<00:00, 15573.42it/s]\n"
     ]
    },
    {
     "name": "stdout",
     "output_type": "stream",
     "text": [
      "sim_name      init_signal    cushion    risk    rr  margin_closeout      streak_limit\n",
      "sim_1125               -1          3   0.002     2  True                            5\n"
     ]
    },
    {
     "name": "stderr",
     "output_type": "stream",
     "text": [
      " Simulating... : 100%|██████████| 594303/594303 [00:38<00:00, 15479.16it/s]\n"
     ]
    },
    {
     "name": "stdout",
     "output_type": "stream",
     "text": [
      "sim_name      init_signal    cushion    risk    rr  margin_closeout      streak_limit\n",
      "sim_1126               -1          3   0.002     2  True                            6\n"
     ]
    },
    {
     "name": "stderr",
     "output_type": "stream",
     "text": [
      " Simulating... : 100%|██████████| 594303/594303 [00:39<00:00, 14917.28it/s]\n"
     ]
    },
    {
     "name": "stdout",
     "output_type": "stream",
     "text": [
      "sim_name      init_signal    cushion    risk    rr  margin_closeout      streak_limit\n",
      "sim_1127                1          3   0.003     2  True                            4\n"
     ]
    },
    {
     "name": "stderr",
     "output_type": "stream",
     "text": [
      " Simulating... : 100%|██████████| 594303/594303 [00:41<00:00, 14208.29it/s]\n"
     ]
    },
    {
     "name": "stdout",
     "output_type": "stream",
     "text": [
      "sim_name      init_signal    cushion    risk    rr  margin_closeout      streak_limit\n",
      "sim_1128               -1          3   0.003     2  True                            5\n"
     ]
    },
    {
     "name": "stderr",
     "output_type": "stream",
     "text": [
      " Simulating... : 100%|██████████| 594303/594303 [00:38<00:00, 15450.53it/s]\n"
     ]
    },
    {
     "name": "stdout",
     "output_type": "stream",
     "text": [
      "sim_name      init_signal    cushion    risk    rr  margin_closeout      streak_limit\n",
      "sim_1129                1          3   0.003     2  True                            6\n"
     ]
    },
    {
     "name": "stderr",
     "output_type": "stream",
     "text": [
      " Simulating... : 100%|██████████| 594303/594303 [00:38<00:00, 15585.97it/s]\n"
     ]
    },
    {
     "name": "stdout",
     "output_type": "stream",
     "text": [
      "sim_name      init_signal    cushion    risk    rr  margin_closeout      streak_limit\n",
      "sim_1130               -1          3   0.004     2  True                            4\n"
     ]
    },
    {
     "name": "stderr",
     "output_type": "stream",
     "text": [
      " Simulating... : 100%|██████████| 594303/594303 [00:38<00:00, 15560.41it/s]\n"
     ]
    },
    {
     "name": "stdout",
     "output_type": "stream",
     "text": [
      "sim_name      init_signal    cushion    risk    rr  margin_closeout      streak_limit\n",
      "sim_1131               -1          3   0.004     2  True                            5\n"
     ]
    },
    {
     "name": "stderr",
     "output_type": "stream",
     "text": [
      " Simulating... : 100%|██████████| 594303/594303 [00:42<00:00, 14140.48it/s]\n"
     ]
    },
    {
     "name": "stdout",
     "output_type": "stream",
     "text": [
      "sim_name      init_signal    cushion    risk    rr  margin_closeout      streak_limit\n",
      "sim_1132               -1          3   0.004     2  True                            6\n"
     ]
    },
    {
     "name": "stderr",
     "output_type": "stream",
     "text": [
      " Simulating... : 100%|██████████| 594303/594303 [00:40<00:00, 14590.40it/s]\n"
     ]
    },
    {
     "name": "stdout",
     "output_type": "stream",
     "text": [
      "sim_name      init_signal    cushion    risk    rr  margin_closeout      streak_limit\n",
      "sim_1133               -1          3   0.001     3  True                            4\n"
     ]
    },
    {
     "name": "stderr",
     "output_type": "stream",
     "text": [
      " Simulating... : 100%|██████████| 594303/594303 [00:38<00:00, 15583.63it/s]\n"
     ]
    },
    {
     "name": "stdout",
     "output_type": "stream",
     "text": [
      "sim_name      init_signal    cushion    risk    rr  margin_closeout      streak_limit\n",
      "sim_1134                1          3   0.001     3  True                            5\n"
     ]
    },
    {
     "name": "stderr",
     "output_type": "stream",
     "text": [
      " Simulating... : 100%|██████████| 594303/594303 [00:38<00:00, 15595.28it/s]\n"
     ]
    },
    {
     "name": "stdout",
     "output_type": "stream",
     "text": [
      "sim_name      init_signal    cushion    risk    rr  margin_closeout      streak_limit\n",
      "sim_1135                1          3   0.001     3  True                            6\n"
     ]
    },
    {
     "name": "stderr",
     "output_type": "stream",
     "text": [
      " Simulating... : 100%|██████████| 594303/594303 [00:38<00:00, 15438.63it/s]\n"
     ]
    },
    {
     "name": "stdout",
     "output_type": "stream",
     "text": [
      "sim_name      init_signal    cushion    risk    rr  margin_closeout      streak_limit\n",
      "sim_1136                1          3   0.002     3  True                            4\n"
     ]
    },
    {
     "name": "stderr",
     "output_type": "stream",
     "text": [
      " Simulating... : 100%|██████████| 594303/594303 [00:43<00:00, 13621.06it/s]\n"
     ]
    },
    {
     "name": "stdout",
     "output_type": "stream",
     "text": [
      "sim_name      init_signal    cushion    risk    rr  margin_closeout      streak_limit\n",
      "sim_1137                1          3   0.002     3  True                            5\n"
     ]
    },
    {
     "name": "stderr",
     "output_type": "stream",
     "text": [
      " Simulating... : 100%|██████████| 594303/594303 [00:38<00:00, 15548.96it/s]\n"
     ]
    },
    {
     "name": "stdout",
     "output_type": "stream",
     "text": [
      "sim_name      init_signal    cushion    risk    rr  margin_closeout      streak_limit\n",
      "sim_1138               -1          3   0.002     3  True                            6\n"
     ]
    },
    {
     "name": "stderr",
     "output_type": "stream",
     "text": [
      " Simulating... : 100%|██████████| 594303/594303 [00:38<00:00, 15514.20it/s]\n"
     ]
    },
    {
     "name": "stdout",
     "output_type": "stream",
     "text": [
      "sim_name      init_signal    cushion    risk    rr  margin_closeout      streak_limit\n",
      "sim_1139               -1          3   0.003     3  True                            4\n"
     ]
    },
    {
     "name": "stderr",
     "output_type": "stream",
     "text": [
      " Simulating... : 100%|██████████| 594303/594303 [00:38<00:00, 15566.66it/s]\n"
     ]
    },
    {
     "name": "stdout",
     "output_type": "stream",
     "text": [
      "sim_name      init_signal    cushion    risk    rr  margin_closeout      streak_limit\n",
      "sim_1140                1          3   0.003     3  True                            5\n"
     ]
    },
    {
     "name": "stderr",
     "output_type": "stream",
     "text": [
      " Simulating... : 100%|██████████| 594303/594303 [00:41<00:00, 14238.15it/s]\n"
     ]
    },
    {
     "name": "stdout",
     "output_type": "stream",
     "text": [
      "sim_name      init_signal    cushion    risk    rr  margin_closeout      streak_limit\n",
      "sim_1141               -1          3   0.003     3  True                            6\n"
     ]
    },
    {
     "name": "stderr",
     "output_type": "stream",
     "text": [
      " Simulating... : 100%|██████████| 594303/594303 [00:41<00:00, 14289.72it/s]\n"
     ]
    },
    {
     "name": "stdout",
     "output_type": "stream",
     "text": [
      "sim_name      init_signal    cushion    risk    rr  margin_closeout      streak_limit\n",
      "sim_1142                1          3   0.004     3  True                            4\n"
     ]
    },
    {
     "name": "stderr",
     "output_type": "stream",
     "text": [
      " Simulating... : 100%|██████████| 594303/594303 [00:38<00:00, 15429.76it/s]\n"
     ]
    },
    {
     "name": "stdout",
     "output_type": "stream",
     "text": [
      "sim_name      init_signal    cushion    risk    rr  margin_closeout      streak_limit\n",
      "sim_1143               -1          3   0.004     3  True                            5\n"
     ]
    },
    {
     "name": "stderr",
     "output_type": "stream",
     "text": [
      " Simulating... : 100%|██████████| 594303/594303 [00:38<00:00, 15468.39it/s]\n"
     ]
    },
    {
     "name": "stdout",
     "output_type": "stream",
     "text": [
      "sim_name      init_signal    cushion    risk    rr  margin_closeout      streak_limit\n",
      "sim_1144                1          3   0.004     3  True                            6\n"
     ]
    },
    {
     "name": "stderr",
     "output_type": "stream",
     "text": [
      " Simulating... : 100%|██████████| 594303/594303 [00:38<00:00, 15629.49it/s]\n"
     ]
    },
    {
     "name": "stdout",
     "output_type": "stream",
     "text": [
      "sim_name      init_signal    cushion    risk    rr  margin_closeout      streak_limit\n",
      "sim_1145                1          4   0.001   1.5  True                            4\n"
     ]
    },
    {
     "name": "stderr",
     "output_type": "stream",
     "text": [
      " Simulating... : 100%|██████████| 594303/594303 [00:43<00:00, 13580.25it/s]\n"
     ]
    },
    {
     "name": "stdout",
     "output_type": "stream",
     "text": [
      "sim_name      init_signal    cushion    risk    rr  margin_closeout      streak_limit\n",
      "sim_1146               -1          4   0.001   1.5  True                            5\n"
     ]
    },
    {
     "name": "stderr",
     "output_type": "stream",
     "text": [
      " Simulating... : 100%|██████████| 594303/594303 [00:39<00:00, 15238.13it/s]\n"
     ]
    },
    {
     "name": "stdout",
     "output_type": "stream",
     "text": [
      "sim_name      init_signal    cushion    risk    rr  margin_closeout      streak_limit\n",
      "sim_1147               -1          4   0.001   1.5  True                            6\n"
     ]
    },
    {
     "name": "stderr",
     "output_type": "stream",
     "text": [
      " Simulating... : 100%|██████████| 594303/594303 [00:39<00:00, 15184.06it/s]\n"
     ]
    },
    {
     "name": "stdout",
     "output_type": "stream",
     "text": [
      "sim_name      init_signal    cushion    risk    rr  margin_closeout      streak_limit\n",
      "sim_1148                1          4   0.002   1.5  True                            4\n"
     ]
    },
    {
     "name": "stderr",
     "output_type": "stream",
     "text": [
      " Simulating... : 100%|██████████| 594303/594303 [00:39<00:00, 15129.79it/s]\n"
     ]
    },
    {
     "name": "stdout",
     "output_type": "stream",
     "text": [
      "sim_name      init_signal    cushion    risk    rr  margin_closeout      streak_limit\n",
      "sim_1149               -1          4   0.002   1.5  True                            5\n"
     ]
    },
    {
     "name": "stderr",
     "output_type": "stream",
     "text": [
      " Simulating... : 100%|██████████| 594303/594303 [00:41<00:00, 14280.73it/s]\n"
     ]
    },
    {
     "name": "stdout",
     "output_type": "stream",
     "text": [
      "sim_name      init_signal    cushion    risk    rr  margin_closeout      streak_limit\n",
      "sim_1150                1          4   0.002   1.5  True                            6\n"
     ]
    },
    {
     "name": "stderr",
     "output_type": "stream",
     "text": [
      " Simulating... : 100%|██████████| 594303/594303 [00:41<00:00, 14349.91it/s]\n"
     ]
    },
    {
     "name": "stdout",
     "output_type": "stream",
     "text": [
      "sim_name      init_signal    cushion    risk    rr  margin_closeout      streak_limit\n",
      "sim_1151               -1          4   0.003   1.5  True                            4\n"
     ]
    },
    {
     "name": "stderr",
     "output_type": "stream",
     "text": [
      " Simulating... : 100%|██████████| 594303/594303 [00:39<00:00, 15211.99it/s]\n"
     ]
    },
    {
     "name": "stdout",
     "output_type": "stream",
     "text": [
      "sim_name      init_signal    cushion    risk    rr  margin_closeout      streak_limit\n",
      "sim_1152               -1          4   0.003   1.5  True                            5\n"
     ]
    },
    {
     "name": "stderr",
     "output_type": "stream",
     "text": [
      " Simulating... : 100%|██████████| 594303/594303 [00:39<00:00, 15077.30it/s]\n"
     ]
    },
    {
     "name": "stdout",
     "output_type": "stream",
     "text": [
      "sim_name      init_signal    cushion    risk    rr  margin_closeout      streak_limit\n",
      "sim_1153                1          4   0.003   1.5  True                            6\n"
     ]
    },
    {
     "name": "stderr",
     "output_type": "stream",
     "text": [
      " Simulating... : 100%|██████████| 594303/594303 [00:38<00:00, 15298.60it/s]\n"
     ]
    },
    {
     "name": "stdout",
     "output_type": "stream",
     "text": [
      "sim_name      init_signal    cushion    risk    rr  margin_closeout      streak_limit\n",
      "sim_1154               -1          4   0.004   1.5  True                            4\n"
     ]
    },
    {
     "name": "stderr",
     "output_type": "stream",
     "text": [
      " Simulating... : 100%|██████████| 594303/594303 [00:44<00:00, 13387.03it/s]\n"
     ]
    },
    {
     "name": "stdout",
     "output_type": "stream",
     "text": [
      "sim_name      init_signal    cushion    risk    rr  margin_closeout      streak_limit\n",
      "sim_1155               -1          4   0.004   1.5  True                            5\n"
     ]
    },
    {
     "name": "stderr",
     "output_type": "stream",
     "text": [
      " Simulating... : 100%|██████████| 594303/594303 [00:39<00:00, 15050.03it/s]\n"
     ]
    },
    {
     "name": "stdout",
     "output_type": "stream",
     "text": [
      "sim_name      init_signal    cushion    risk    rr  margin_closeout      streak_limit\n",
      "sim_1156                1          4   0.004   1.5  True                            6\n"
     ]
    },
    {
     "name": "stderr",
     "output_type": "stream",
     "text": [
      " Simulating... : 100%|██████████| 594303/594303 [00:39<00:00, 15093.75it/s]\n"
     ]
    },
    {
     "name": "stdout",
     "output_type": "stream",
     "text": [
      "sim_name      init_signal    cushion    risk    rr  margin_closeout      streak_limit\n",
      "sim_1157               -1          4   0.001     2  True                            4\n"
     ]
    },
    {
     "name": "stderr",
     "output_type": "stream",
     "text": [
      " Simulating... : 100%|██████████| 594303/594303 [00:38<00:00, 15257.74it/s]\n"
     ]
    },
    {
     "name": "stdout",
     "output_type": "stream",
     "text": [
      "sim_name      init_signal    cushion    risk    rr  margin_closeout      streak_limit\n",
      "sim_1158               -1          4   0.001     2  True                            5\n"
     ]
    },
    {
     "name": "stderr",
     "output_type": "stream",
     "text": [
      " Simulating... : 100%|██████████| 594303/594303 [00:43<00:00, 13818.28it/s]\n"
     ]
    },
    {
     "name": "stdout",
     "output_type": "stream",
     "text": [
      "sim_name      init_signal    cushion    risk    rr  margin_closeout      streak_limit\n",
      "sim_1159               -1          4   0.001     2  True                            6\n"
     ]
    },
    {
     "name": "stderr",
     "output_type": "stream",
     "text": [
      " Simulating... : 100%|██████████| 594303/594303 [00:41<00:00, 14258.32it/s]\n"
     ]
    },
    {
     "name": "stdout",
     "output_type": "stream",
     "text": [
      "sim_name      init_signal    cushion    risk    rr  margin_closeout      streak_limit\n",
      "sim_1160                1          4   0.002     2  True                            4\n"
     ]
    },
    {
     "name": "stderr",
     "output_type": "stream",
     "text": [
      " Simulating... : 100%|██████████| 594303/594303 [00:39<00:00, 15087.33it/s]\n"
     ]
    },
    {
     "name": "stdout",
     "output_type": "stream",
     "text": [
      "sim_name      init_signal    cushion    risk    rr  margin_closeout      streak_limit\n",
      "sim_1161               -1          4   0.002     2  True                            5\n"
     ]
    },
    {
     "name": "stderr",
     "output_type": "stream",
     "text": [
      " Simulating... : 100%|██████████| 594303/594303 [00:39<00:00, 14971.99it/s]\n"
     ]
    },
    {
     "name": "stdout",
     "output_type": "stream",
     "text": [
      "sim_name      init_signal    cushion    risk    rr  margin_closeout      streak_limit\n",
      "sim_1162               -1          4   0.002     2  True                            6\n"
     ]
    },
    {
     "name": "stderr",
     "output_type": "stream",
     "text": [
      " Simulating... : 100%|██████████| 594303/594303 [00:40<00:00, 14812.60it/s]\n"
     ]
    },
    {
     "name": "stdout",
     "output_type": "stream",
     "text": [
      "sim_name      init_signal    cushion    risk    rr  margin_closeout      streak_limit\n",
      "sim_1163                1          4   0.003     2  True                            4\n"
     ]
    },
    {
     "name": "stderr",
     "output_type": "stream",
     "text": [
      " Simulating... : 100%|██████████| 594303/594303 [00:44<00:00, 13292.61it/s]\n"
     ]
    },
    {
     "name": "stdout",
     "output_type": "stream",
     "text": [
      "sim_name      init_signal    cushion    risk    rr  margin_closeout      streak_limit\n",
      "sim_1164               -1          4   0.003     2  True                            5\n"
     ]
    },
    {
     "name": "stderr",
     "output_type": "stream",
     "text": [
      " Simulating... : 100%|██████████| 594303/594303 [00:40<00:00, 14829.48it/s]\n"
     ]
    },
    {
     "name": "stdout",
     "output_type": "stream",
     "text": [
      "sim_name      init_signal    cushion    risk    rr  margin_closeout      streak_limit\n",
      "sim_1165                1          4   0.003     2  True                            6\n"
     ]
    },
    {
     "name": "stderr",
     "output_type": "stream",
     "text": [
      " Simulating... : 100%|██████████| 594303/594303 [00:39<00:00, 15169.18it/s]\n"
     ]
    },
    {
     "name": "stdout",
     "output_type": "stream",
     "text": [
      "sim_name      init_signal    cushion    risk    rr  margin_closeout      streak_limit\n",
      "sim_1166               -1          4   0.004     2  True                            4\n"
     ]
    },
    {
     "name": "stderr",
     "output_type": "stream",
     "text": [
      " Simulating... : 100%|██████████| 594303/594303 [00:39<00:00, 15119.31it/s]\n"
     ]
    },
    {
     "name": "stdout",
     "output_type": "stream",
     "text": [
      "sim_name      init_signal    cushion    risk    rr  margin_closeout      streak_limit\n",
      "sim_1167                1          4   0.004     2  True                            5\n"
     ]
    },
    {
     "name": "stderr",
     "output_type": "stream",
     "text": [
      " Simulating... : 100%|██████████| 594303/594303 [00:43<00:00, 13673.51it/s]\n"
     ]
    },
    {
     "name": "stdout",
     "output_type": "stream",
     "text": [
      "sim_name      init_signal    cushion    risk    rr  margin_closeout      streak_limit\n",
      "sim_1168               -1          4   0.004     2  True                            6\n"
     ]
    },
    {
     "name": "stderr",
     "output_type": "stream",
     "text": [
      " Simulating... : 100%|██████████| 594303/594303 [00:41<00:00, 14302.57it/s]\n"
     ]
    },
    {
     "name": "stdout",
     "output_type": "stream",
     "text": [
      "sim_name      init_signal    cushion    risk    rr  margin_closeout      streak_limit\n",
      "sim_1169                1          4   0.001     3  True                            4\n"
     ]
    },
    {
     "name": "stderr",
     "output_type": "stream",
     "text": [
      " Simulating... : 100%|██████████| 594303/594303 [00:39<00:00, 15137.26it/s]\n"
     ]
    },
    {
     "name": "stdout",
     "output_type": "stream",
     "text": [
      "sim_name      init_signal    cushion    risk    rr  margin_closeout      streak_limit\n",
      "sim_1170               -1          4   0.001     3  True                            5\n"
     ]
    },
    {
     "name": "stderr",
     "output_type": "stream",
     "text": [
      " Simulating... : 100%|██████████| 594303/594303 [00:39<00:00, 14972.27it/s]\n"
     ]
    },
    {
     "name": "stdout",
     "output_type": "stream",
     "text": [
      "sim_name      init_signal    cushion    risk    rr  margin_closeout      streak_limit\n",
      "sim_1171                1          4   0.001     3  True                            6\n"
     ]
    },
    {
     "name": "stderr",
     "output_type": "stream",
     "text": [
      " Simulating... : 100%|██████████| 594303/594303 [00:41<00:00, 14358.20it/s]\n"
     ]
    },
    {
     "name": "stdout",
     "output_type": "stream",
     "text": [
      "sim_name      init_signal    cushion    risk    rr  margin_closeout      streak_limit\n",
      "sim_1172               -1          4   0.002     3  True                            4\n"
     ]
    },
    {
     "name": "stderr",
     "output_type": "stream",
     "text": [
      " Simulating... : 100%|██████████| 594303/594303 [00:42<00:00, 13843.65it/s]\n"
     ]
    },
    {
     "name": "stdout",
     "output_type": "stream",
     "text": [
      "sim_name      init_signal    cushion    risk    rr  margin_closeout      streak_limit\n",
      "sim_1173                1          4   0.002     3  True                            5\n"
     ]
    },
    {
     "name": "stderr",
     "output_type": "stream",
     "text": [
      " Simulating... : 100%|██████████| 594303/594303 [00:39<00:00, 15168.54it/s]\n"
     ]
    },
    {
     "name": "stdout",
     "output_type": "stream",
     "text": [
      "sim_name      init_signal    cushion    risk    rr  margin_closeout      streak_limit\n",
      "sim_1174               -1          4   0.002     3  True                            6\n"
     ]
    },
    {
     "name": "stderr",
     "output_type": "stream",
     "text": [
      " Simulating... : 100%|██████████| 594303/594303 [00:39<00:00, 15066.81it/s]\n"
     ]
    },
    {
     "name": "stdout",
     "output_type": "stream",
     "text": [
      "sim_name      init_signal    cushion    risk    rr  margin_closeout      streak_limit\n",
      "sim_1175                1          4   0.003     3  True                            4\n"
     ]
    },
    {
     "name": "stderr",
     "output_type": "stream",
     "text": [
      " Simulating... : 100%|██████████| 594303/594303 [00:39<00:00, 15098.15it/s]\n"
     ]
    },
    {
     "name": "stdout",
     "output_type": "stream",
     "text": [
      "sim_name      init_signal    cushion    risk    rr  margin_closeout      streak_limit\n",
      "sim_1176                1          4   0.003     3  True                            5\n"
     ]
    },
    {
     "name": "stderr",
     "output_type": "stream",
     "text": [
      " Simulating... : 100%|██████████| 594303/594303 [00:45<00:00, 13100.89it/s]\n"
     ]
    },
    {
     "name": "stdout",
     "output_type": "stream",
     "text": [
      "sim_name      init_signal    cushion    risk    rr  margin_closeout      streak_limit\n",
      "sim_1177                1          4   0.003     3  True                            6\n"
     ]
    },
    {
     "name": "stderr",
     "output_type": "stream",
     "text": [
      " Simulating... : 100%|██████████| 594303/594303 [00:41<00:00, 14469.05it/s]\n"
     ]
    },
    {
     "name": "stdout",
     "output_type": "stream",
     "text": [
      "sim_name      init_signal    cushion    risk    rr  margin_closeout      streak_limit\n",
      "sim_1178               -1          4   0.004     3  True                            4\n"
     ]
    },
    {
     "name": "stderr",
     "output_type": "stream",
     "text": [
      " Simulating... : 100%|██████████| 594303/594303 [00:39<00:00, 15065.33it/s]\n"
     ]
    },
    {
     "name": "stdout",
     "output_type": "stream",
     "text": [
      "sim_name      init_signal    cushion    risk    rr  margin_closeout      streak_limit\n",
      "sim_1179               -1          4   0.004     3  True                            5\n"
     ]
    },
    {
     "name": "stderr",
     "output_type": "stream",
     "text": [
      " Simulating... : 100%|██████████| 594303/594303 [00:39<00:00, 15151.51it/s]\n"
     ]
    },
    {
     "name": "stdout",
     "output_type": "stream",
     "text": [
      "sim_name      init_signal    cushion    risk    rr  margin_closeout      streak_limit\n",
      "sim_1180               -1          4   0.004     3  True                            6\n"
     ]
    },
    {
     "name": "stderr",
     "output_type": "stream",
     "text": [
      " Simulating... : 100%|██████████| 594303/594303 [00:39<00:00, 15002.50it/s]\n"
     ]
    }
   ],
   "source": [
    "counter = 1001\n",
    "inputs_list = list()\n",
    "# for i_s in init_signal:\n",
    "for c in cushion:\n",
    "    for r_r in rr:\n",
    "        for r in risk:\n",
    "            for m_c in margin_closeout:\n",
    "                if m_c == True:\n",
    "                    for lim in streak_trade_limit:\n",
    "                        # if counter > 163:\n",
    "                        inputs = process_sim(\n",
    "                            counter=counter,\n",
    "                            init_signal=random.choice([BUY, SELL]),\n",
    "                            cushion=c,\n",
    "                            rr=r_r,\n",
    "                            risk=r,\n",
    "                            margin_closeout=m_c,\n",
    "                            streak_trade_limit=lim,\n",
    "                            inputs_list=inputs_list,\n",
    "                            inputs_file=INPUTS_FILE\n",
    "                        )  \n",
    "                        counter =  counter + 1\n",
    "                else:\n",
    "                    # if counter > 163:\n",
    "                    inputs = process_sim(\n",
    "                            counter=counter,\n",
    "                            init_signal=random.choice([BUY, SELL]),\n",
    "                            cushion=c,\n",
    "                            rr=r_r,\n",
    "                            risk=r,\n",
    "                            margin_closeout=m_c,\n",
    "                            streak_trade_limit=0,\n",
    "                            inputs_list=inputs_list\n",
    "                        )\n",
    "                    counter =  counter + 1"
   ]
  },
  {
   "cell_type": "code",
   "execution_count": null,
   "metadata": {},
   "outputs": [],
   "source": []
  },
  {
   "cell_type": "code",
   "execution_count": null,
   "metadata": {},
   "outputs": [],
   "source": []
  },
  {
   "cell_type": "code",
   "execution_count": null,
   "metadata": {},
   "outputs": [],
   "source": []
  },
  {
   "cell_type": "code",
   "execution_count": null,
   "metadata": {},
   "outputs": [],
   "source": []
  },
  {
   "cell_type": "code",
   "execution_count": null,
   "metadata": {},
   "outputs": [],
   "source": []
  },
  {
   "cell_type": "code",
   "execution_count": null,
   "metadata": {},
   "outputs": [],
   "source": []
  },
  {
   "cell_type": "code",
   "execution_count": null,
   "metadata": {},
   "outputs": [],
   "source": []
  },
  {
   "cell_type": "code",
   "execution_count": null,
   "metadata": {},
   "outputs": [],
   "source": []
  },
  {
   "cell_type": "code",
   "execution_count": null,
   "metadata": {},
   "outputs": [],
   "source": []
  },
  {
   "cell_type": "code",
   "execution_count": null,
   "metadata": {},
   "outputs": [],
   "source": []
  },
  {
   "cell_type": "code",
   "execution_count": null,
   "metadata": {},
   "outputs": [],
   "source": []
  },
  {
   "cell_type": "code",
   "execution_count": null,
   "metadata": {},
   "outputs": [],
   "source": []
  }
 ],
 "metadata": {
  "kernelspec": {
   "display_name": "trade",
   "language": "python",
   "name": "python3"
  },
  "language_info": {
   "codemirror_mode": {
    "name": "ipython",
    "version": 3
   },
   "file_extension": ".py",
   "mimetype": "text/x-python",
   "name": "python",
   "nbconvert_exporter": "python",
   "pygments_lexer": "ipython3",
   "version": "3.10.13"
  }
 },
 "nbformat": 4,
 "nbformat_minor": 2
}
