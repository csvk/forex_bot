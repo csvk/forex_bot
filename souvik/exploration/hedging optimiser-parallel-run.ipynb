{
 "cells": [
  {
   "cell_type": "code",
   "execution_count": 1,
   "metadata": {},
   "outputs": [],
   "source": [
    "import sys\n",
    "sys.path.append(\"../\")"
   ]
  },
  {
   "cell_type": "code",
   "execution_count": 2,
   "metadata": {},
   "outputs": [],
   "source": [
    "import pandas as pd\n",
    "import datetime as dt\n",
    "import math\n",
    "import plotly.graph_objects as go\n",
    "from plotting import CandlePlot\n",
    "from tqdm import tqdm\n",
    "from tabulate import tabulate\n",
    "import pickle as pkl\n",
    "pd.set_option(\"display.max_columns\", None)"
   ]
  },
  {
   "cell_type": "code",
   "execution_count": 3,
   "metadata": {},
   "outputs": [],
   "source": [
    "class Data:\n",
    "    \n",
    "    def __init__(self, path):\n",
    "        self.df = {\n",
    "            'raw': pd.read_pickle(path)\n",
    "        }\n",
    "        if 'time' in self.df['raw'].columns:\n",
    "            self.df['raw']['time'] = [ x.replace(tzinfo=None) for x in self.df['raw']['time']]\n",
    "\n",
    "    def __repr__(self) -> str:\n",
    "        repr = str()\n",
    "        for name, df in self.df.items():\n",
    "            repr = repr + name + ':\\n' + str(df.head(3)) + '\\n'\n",
    "        return repr\n",
    "\n",
    "    def shorten(self, name: str, rows: int, direction: int, source: str='raw', cols: list=None):\n",
    "        '''Create new dataframe with specified list of columns and number of rows\n",
    "        direction: 1 if data should be selected from top and -1 if from bottom\n",
    "        '''\n",
    "        assert (direction != 1 or direction != -1), 'direction must be 1 (top) or -1 (bottom)'\n",
    "        \n",
    "        if cols == None:\n",
    "            cols = self.df[source].columns\n",
    "        if direction == 1:\n",
    "            self.df[name] = self.df[source][cols].iloc[:rows].copy()\n",
    "        else:\n",
    "            self.df[name] = self.df[source][cols].iloc[-rows:].copy()\n",
    "        self.df[name].reset_index(drop=True, inplace=True)\n",
    "\n",
    "    def add_columns(self, name: str, cols: list):\n",
    "        '''Add new columns to component dataframes\n",
    "        '''        \n",
    "        exist_cols = list(self.df[name].columns)\n",
    "        cols = exist_cols + cols\n",
    "        self.df[name] = self.df[name].reindex(columns = cols) \n",
    "\n",
    "    def prepare_fast_data(self, name: str):\n",
    "        '''Prepare data as an array for fast processing\n",
    "        fcols = {col1: col1_index, col2: col2_index, .... }     \n",
    "        fdata = [array[col1], array[col2], array[col3], .... ]\n",
    "        Accessed by: self.fdata[fcols[column_name]] for whole column or\n",
    "                     self.fdata[fcols[column_name]][row_index] for a specific row item\n",
    "        '''\n",
    "        self.fcols = dict()\n",
    "        for i in range(len(self.df[name].columns)):\n",
    "            self.fcols[self.df[name].columns[i]] = i\n",
    "        self.fdata = [self.df[name][col].array for col in self.df[name].columns]"
   ]
  },
  {
   "cell_type": "code",
   "execution_count": 4,
   "metadata": {},
   "outputs": [],
   "source": [
    "d = Data(\"../data/EUR_USD_M5.pkl\")"
   ]
  },
  {
   "cell_type": "code",
   "execution_count": 5,
   "metadata": {},
   "outputs": [],
   "source": [
    "our_cols = ['time', 'bid_o', 'bid_h', 'bid_l', 'bid_c', 'ask_o', 'ask_h', 'ask_l', 'ask_c', 'mid_c']\n",
    "max = d.df['raw'].shape[0]\n"
   ]
  },
  {
   "cell_type": "code",
   "execution_count": 6,
   "metadata": {},
   "outputs": [],
   "source": [
    "BUY = 1\n",
    "SELL = -1\n",
    "CLOSE = 2\n",
    "NONE = 0\n",
    "BASE_TRADESIZE = 100\n",
    "MARGIN_RATE = 0.03333333333333\n",
    "INIT_BAL = 1000"
   ]
  },
  {
   "cell_type": "code",
   "execution_count": 7,
   "metadata": {},
   "outputs": [],
   "source": [
    "def set_price(i: int, buy_price: float, sell_price: float, reward: float):\n",
    "    d.fdata[d.fcols['buy_price']][i] = buy_price\n",
    "    d.fdata[d.fcols['buy_tp_price']][i] = buy_price + reward\n",
    "    d.fdata[d.fcols['sell_price']][i] = sell_price\n",
    "    d.fdata[d.fcols['sell_tp_price']][i] = sell_price - reward\n",
    "\n",
    "def set_position_size(i: int, rr: float, cushion: float, new_streak: bool=False):\n",
    "    if new_streak == True:\n",
    "        # print('i', i, 'rr', rr, 'cus', cushion, 'new_streak', new_streak)\n",
    "        d.fdata[d.fcols['position_size']][i] = BASE_TRADESIZE\n",
    "        d.fdata[d.fcols['cum_position_size']][i] = BASE_TRADESIZE\n",
    "    else:\n",
    "        prev_size = d.fdata[d.fcols['cum_position_size']][i-1]\n",
    "        # print('i', i, 'prev_size', prev_size, 'rr', rr, 'cus', cushion,'new_streak', new_streak)\n",
    "        d.fdata[d.fcols['position_size']][i] = math.ceil(prev_size / rr * cushion)\n",
    "        d.fdata[d.fcols['cum_position_size']][i] = prev_size + d.fdata[d.fcols['position_size']][i]\n",
    "\n",
    "def set_ac_bal(i: int, prev_signal: int, reverse: bool):\n",
    "    if reverse == True: # Stop loss\n",
    "        sell_at = 'ask_l'\n",
    "        buy_at = 'bid_h'\n",
    "    else: # Take profit\n",
    "        sell_at = 'ask_h'\n",
    "        buy_at = 'bid_l'\n",
    "\n",
    "    if prev_signal == BUY:\n",
    "        d.fdata[d.fcols['realised_pl']][i] = (d.fdata[d.fcols[sell_at]][i] - d.fdata[d.fcols['buy_price']][i-1]) * \\\n",
    "            d.fdata[d.fcols['position_size']][i-1]\n",
    "    elif prev_signal == SELL:\n",
    "        d.fdata[d.fcols['realised_pl']][i] = (d.fdata[d.fcols['sell_price']][i-1] - d.fdata[d.fcols[buy_at]][i]) * \\\n",
    "            d.fdata[d.fcols['position_size']][i-1]\n",
    "    d.fdata[d.fcols['ac_bal']][i] = d.fdata[d.fcols['ac_bal']][i-1] + d.fdata[d.fcols['realised_pl']][i]\n",
    "               \n",
    "\n",
    "def make_trade(i: int, signal: int, risk: float, rr: float, cushion: float, new_streak=False, reverse=True) -> int:\n",
    "    # print(i, 'open_position')\n",
    "    if reverse:\n",
    "        prev_signal = BUY if signal == SELL else SELL\n",
    "    else:\n",
    "        prev_signal = BUY if signal == BUY else SELL\n",
    "    d.fdata[d.fcols['signal']][i] = signal\n",
    "    set_position_size(i=i, rr=rr, cushion=cushion, new_streak=new_streak)\n",
    "\n",
    "    if new_streak == True:\n",
    "        d.fdata[d.fcols['trade_no']][i] = 1\n",
    "        if i == 0:\n",
    "            d.fdata[d.fcols['streak_no']][i] = 1\n",
    "            d.fdata[d.fcols['ac_bal']][i] = INIT_BAL\n",
    "        else:\n",
    "            d.fdata[d.fcols['streak_no']][i] = d.fdata[d.fcols['streak_no']][i-1] + 1\n",
    "            set_ac_bal(i, prev_signal, reverse)\n",
    "        d.fdata[d.fcols['realised_pl']][i] = 0 # Overwrite value for new streak\n",
    "\n",
    "    else:\n",
    "        d.fdata[d.fcols['trade_no']][i] = d.fdata[d.fcols['trade_no']][i-1] + 1\n",
    "        d.fdata[d.fcols['streak_no']][i] = d.fdata[d.fcols['streak_no']][i-1]\n",
    "        set_ac_bal(i, prev_signal, reverse)\n",
    "\n",
    "    if signal == BUY:\n",
    "        buy_price = d.fdata[d.fcols['bid_h']][i]\n",
    "        sell_price = buy_price - risk\n",
    "        set_price(i, buy_price, sell_price, risk * rr)\n",
    "        d.fdata[d.fcols['unrealised_pl']][i] = \\\n",
    "            (d.fdata[d.fcols['mid_c']][i] - d.fdata[d.fcols['buy_price']][i]) * d.fdata[d.fcols['position_size']][i]\n",
    "    elif signal == SELL:\n",
    "        sell_price = d.fdata[d.fcols['ask_l']][i]\n",
    "        buy_price = sell_price + risk\n",
    "        set_price(i, buy_price, sell_price, risk * rr)\n",
    "        d.fdata[d.fcols['unrealised_pl']][i] = \\\n",
    "            (d.fdata[d.fcols['sell_price']][i] - d.fdata[d.fcols['mid_c']][i]) * d.fdata[d.fcols['position_size']][i]\n",
    "\n",
    "    d.fdata[d.fcols['margin_used']][i] = d.fdata[d.fcols['position_size']][i] * MARGIN_RATE\n",
    "    d.fdata[d.fcols['margin_closeout']][i] = d.fdata[d.fcols['ac_bal']][i] + d.fdata[d.fcols['unrealised_pl']][i]\n",
    "\n",
    "    # print(i, d.df['analysis'].iloc[i])\n",
    "    # print(d.fdata[d.fcols['realised_pl']][i])\n",
    "    return signal\n",
    "\n",
    "def open_new_streak(i: int, signal: int, risk: float, rr: float, cushion: float, reverse: bool=False) -> int:\n",
    "    return make_trade(i=i, signal=signal, risk=risk, rr=rr, cushion=cushion, new_streak=True, reverse=reverse)\n",
    "\n",
    "def reverse_position(i: int, position: int, risk: float, rr: float, cushion: float) -> int:\n",
    "    signal = BUY if position == SELL else SELL\n",
    "    return make_trade(i=i, signal=signal, risk=risk, rr=rr, cushion=cushion, new_streak=False)\n",
    "    \n"
   ]
  },
  {
   "cell_type": "code",
   "execution_count": 8,
   "metadata": {},
   "outputs": [],
   "source": [
    "def no_signal_update_values(i: int, position: int):\n",
    "    # print(i, 'no_signal_update_values')\n",
    "    d.fdata[d.fcols['signal']][i] = NONE\n",
    "    d.fdata[d.fcols['trade_no']][i] = d.fdata[d.fcols['trade_no']][i-1]\n",
    "    d.fdata[d.fcols['streak_no']][i] = d.fdata[d.fcols['streak_no']][i-1]\n",
    "    d.fdata[d.fcols['position_size']][i] = d.fdata[d.fcols['position_size']][i-1]\n",
    "    d.fdata[d.fcols['cum_position_size']][i] = d.fdata[d.fcols['cum_position_size']][i-1]\n",
    "    d.fdata[d.fcols['buy_price']][i] = d.fdata[d.fcols['buy_price']][i-1]\n",
    "    d.fdata[d.fcols['buy_tp_price']][i] = d.fdata[d.fcols['buy_tp_price']][i-1]\n",
    "    d.fdata[d.fcols['sell_price']][i] = d.fdata[d.fcols['sell_price']][i-1]\n",
    "    d.fdata[d.fcols['sell_tp_price']][i] = d.fdata[d.fcols['sell_tp_price']][i-1]\n",
    "    d.fdata[d.fcols['realised_pl']][i] = d.fdata[d.fcols['realised_pl']][i-1]\n",
    "    d.fdata[d.fcols['ac_bal']][i] = d.fdata[d.fcols['ac_bal']][i-1]\n",
    "    d.fdata[d.fcols['margin_used']][i] = d.fdata[d.fcols['margin_used']][i-1]\n",
    "\n",
    "    if position == BUY:\n",
    "        d.fdata[d.fcols['unrealised_pl']][i] = \\\n",
    "            (d.fdata[d.fcols['mid_c']][i] - d.fdata[d.fcols['buy_price']][i]) * d.fdata[d.fcols['position_size']][i]\n",
    "    elif position == SELL:\n",
    "        d.fdata[d.fcols['unrealised_pl']][i] = \\\n",
    "            (d.fdata[d.fcols['sell_price']][i] - d.fdata[d.fcols['mid_c']][i]) * d.fdata[d.fcols['position_size']][i]\n",
    "    \n",
    "    d.fdata[d.fcols['margin_closeout']][i] = d.fdata[d.fcols['ac_bal']][i] + d.fdata[d.fcols['unrealised_pl']][i]    \n",
    "    # print(i, d.df['analysis'].iloc[i])"
   ]
  },
  {
   "cell_type": "code",
   "execution_count": 9,
   "metadata": {},
   "outputs": [],
   "source": [
    "INIT_SIGNAL = SELL\n",
    "CUSHION = 2\n",
    "RR = 1.5\n",
    "RISK = 0.0040\n",
    "MARGIN_CLOSEOUT = False\n",
    "STREAK_TRADE_LIMIT = 10"
   ]
  },
  {
   "cell_type": "code",
   "execution_count": 10,
   "metadata": {},
   "outputs": [],
   "source": [
    "def run_sim(sim_name: str, init_signal: int, cushion: float, rr: float, risk: float, margin_closeout: bool, streak_trade_limit: int ) -> pd.DataFrame:\n",
    "    INIT_SIGNAL = init_signal\n",
    "    CUSHION = cushion\n",
    "    RR = rr\n",
    "    RISK = risk\n",
    "    MARGIN_CLOSEOUT = margin_closeout\n",
    "    STREAK_TRADE_LIMIT = streak_trade_limit\n",
    "\n",
    "    d.shorten(name=sim_name, rows=max, direction=1, cols=our_cols)\n",
    "    d.add_columns(name=sim_name, cols=['signal', 'streak_no', 'trade_no', 'position_size', 'cum_position_size', 'buy_price', 'sell_price', 'buy_tp_price', 'sell_tp_price', 'unrealised_pl', 'realised_pl', 'ac_bal', 'margin_used', 'margin_closeout', ])\n",
    "    d.prepare_fast_data(sim_name)\n",
    "\n",
    "    candles = d.fdata[0].shape[0]\n",
    "    position = NONE\n",
    "    for i in tqdm(range(candles), desc=\" Simulating... \"):       \n",
    "        # First candle\n",
    "        if i == 0:\n",
    "            # print(i, position, 'before call')\n",
    "            # print(i, '#### First candle')\n",
    "            position = open_new_streak(i=i, signal=INIT_SIGNAL,  risk=RISK, rr=RR, cushion=CUSHION)\n",
    "        \n",
    "        # Subsequent candles\n",
    "        else:\n",
    "            # Reduce trade size to avoid large loss or Margin closeout\n",
    "            # if d.fdata[d.fcols['margin_closeout']][i-1] < d.fdata[d.fcols['margin_used']][i-1]: \n",
    "            if ((position == BUY and d.fdata[d.fcols['ask_l']][i] <= d.fdata[d.fcols['sell_price']][i-1]) or \\\n",
    "                (position == SELL and d.fdata[d.fcols['bid_h']][i] >= d.fdata[d.fcols['buy_price']][i-1])) and \\\n",
    "                d.fdata[d.fcols['trade_no']][i-1] == STREAK_TRADE_LIMIT and MARGIN_CLOSEOUT == True:\n",
    "                # print(i, '#### Margin closeout')\n",
    "                position = open_new_streak(i=i, signal=position, risk=RISK, rr=RR, cushion=CUSHION, reverse=True)\n",
    "            \n",
    "            # Reverse trade on hitting Stop Loss\n",
    "            ## From Buy to Sell  \n",
    "            elif position == BUY and d.fdata[d.fcols['ask_l']][i] <= d.fdata[d.fcols['sell_price']][i-1]:\n",
    "                # position = SELL\n",
    "                # print(i, position, 'before call')\n",
    "                # print(i, '#### Reverse Buy to Sell')\n",
    "                position = reverse_position(i=i, position=position, risk=RISK, rr=RR, cushion=CUSHION)\n",
    "\n",
    "            ## From Sell to Buy \n",
    "            elif position == SELL and d.fdata[d.fcols['bid_h']][i] >= d.fdata[d.fcols['buy_price']][i-1]:\n",
    "                # position = BUY\n",
    "                # print(i, position, 'before call')\n",
    "                # print(i, '#### Reverse Sell to Buy')\n",
    "                position = reverse_position(i=i, position=position, risk=RISK, rr=RR, cushion=CUSHION)\n",
    "\n",
    "            # Take profit and initiate new trade in same direction on hitting Take Profit\n",
    "            ## Take Profit on long position\n",
    "            elif position == BUY and d.fdata[d.fcols['ask_h']][i] >= d.fdata[d.fcols['buy_tp_price']][i-1]:\n",
    "                # print(i, '#### TP Long')\n",
    "                position = open_new_streak(i=i, signal=position, risk=RISK, rr=RR, cushion=CUSHION)\n",
    "                \n",
    "            ## Take Profit on short position\n",
    "            elif position == SELL and d.fdata[d.fcols['bid_l']][i] <= d.fdata[d.fcols['sell_tp_price']][i-1]:\n",
    "                # print(i, '#### TP Short')\n",
    "                position = open_new_streak(i=i, signal=position, risk=RISK, rr=RR, cushion=CUSHION)     \n",
    "                    \n",
    "            # New trade\n",
    "            \n",
    "            # Update values when there is no signal\n",
    "            else:\n",
    "                # print(i, 'None', 'before call')\n",
    "                # print(i, '#### No signal')\n",
    "                no_signal_update_values(i=i, position=position)   \n",
    "\n",
    "    return dict(\n",
    "        sim_name = sim_name,\n",
    "        init_signal = INIT_SIGNAL,\n",
    "        cushion = CUSHION,\n",
    "        risk = RISK,\n",
    "        rr = RR,\n",
    "        margin_closeout = MARGIN_CLOSEOUT,\n",
    "        streak_limit = STREAK_TRADE_LIMIT,\n",
    "        results = d.df[sim_name]\n",
    "    )"
   ]
  },
  {
   "cell_type": "code",
   "execution_count": 11,
   "metadata": {},
   "outputs": [],
   "source": [
    "def process_sim(counter: int, init_signal: int, cushion: float, rr: float, risk: float, margin_closeout: bool, streak_trade_limit: int, inputs_list: list):\n",
    "    sim_name = f'sim_{counter}'\n",
    "    header = ['sim_name', 'init_signal', 'cushion', 'risk', 'rr', 'margin_closeout', 'streak_limit']\n",
    "    inputs = [sim_name, init_signal, cushion, risk, rr, margin_closeout, streak_trade_limit]\n",
    "    print(tabulate([inputs], header, tablefmt='plain'))\n",
    "    result= run_sim(\n",
    "        sim_name=sim_name,\n",
    "        init_signal=init_signal,\n",
    "        cushion=cushion,\n",
    "        rr=rr,\n",
    "        risk=risk,\n",
    "        margin_closeout=margin_closeout,\n",
    "        streak_trade_limit=streak_trade_limit\n",
    "    )\n",
    "    # print('Saving files...')\n",
    "    with open(f'../outputs/{sim_name}.pkl', 'wb') as file:\n",
    "        pkl.dump(result, file)\n",
    "\n",
    "    inputs_list.append(inputs)\n",
    "    header = ['sim_name', 'init_signal', 'cushion', 'risk', 'rr', 'margin_closeout', 'streak_limit']\n",
    "    inputs_df = pd.DataFrame(inputs_list, columns=header)\n",
    "    inputs_df.to_pickle('../outputs/inputs2.pkl')\n",
    "    \n",
    "    counter =  counter + 1\n",
    "    return inputs"
   ]
  },
  {
   "cell_type": "code",
   "execution_count": 12,
   "metadata": {},
   "outputs": [
    {
     "name": "stdout",
     "output_type": "stream",
     "text": [
      "sim_name      init_signal    cushion    risk    rr  margin_closeout      streak_limit\n",
      "sim_1166               -1        1.2   0.002     2  True                            6\n"
     ]
    },
    {
     "name": "stderr",
     "output_type": "stream",
     "text": [
      " Simulating... : 100%|██████████| 594303/594303 [00:32<00:00, 18563.18it/s]\n"
     ]
    },
    {
     "name": "stdout",
     "output_type": "stream",
     "text": [
      "sim_name      init_signal    cushion    risk    rr  margin_closeout      streak_limit\n",
      "sim_1167               -1        1.2   0.002     2  True                            7\n"
     ]
    },
    {
     "name": "stderr",
     "output_type": "stream",
     "text": [
      " Simulating... : 100%|██████████| 594303/594303 [00:37<00:00, 15747.77it/s]\n"
     ]
    },
    {
     "name": "stdout",
     "output_type": "stream",
     "text": [
      "sim_name      init_signal    cushion    risk    rr  margin_closeout      streak_limit\n",
      "sim_1168               -1        1.2   0.002     2  False                           0\n"
     ]
    },
    {
     "name": "stderr",
     "output_type": "stream",
     "text": [
      " Simulating... : 100%|██████████| 594303/594303 [00:36<00:00, 16132.10it/s]\n"
     ]
    },
    {
     "name": "stdout",
     "output_type": "stream",
     "text": [
      "sim_name      init_signal    cushion    risk    rr  margin_closeout      streak_limit\n",
      "sim_1169               -1        1.2   0.003     2  True                            5\n"
     ]
    },
    {
     "name": "stderr",
     "output_type": "stream",
     "text": [
      " Simulating... : 100%|██████████| 594303/594303 [00:36<00:00, 16115.43it/s]\n"
     ]
    },
    {
     "name": "stdout",
     "output_type": "stream",
     "text": [
      "sim_name      init_signal    cushion    risk    rr  margin_closeout      streak_limit\n",
      "sim_1170               -1        1.2   0.003     2  True                            6\n"
     ]
    },
    {
     "name": "stderr",
     "output_type": "stream",
     "text": [
      " Simulating... : 100%|██████████| 594303/594303 [00:36<00:00, 16112.03it/s]\n"
     ]
    },
    {
     "name": "stdout",
     "output_type": "stream",
     "text": [
      "sim_name      init_signal    cushion    risk    rr  margin_closeout      streak_limit\n",
      "sim_1171               -1        1.2   0.003     2  True                            7\n"
     ]
    },
    {
     "name": "stderr",
     "output_type": "stream",
     "text": [
      " Simulating... : 100%|██████████| 594303/594303 [00:37<00:00, 16031.86it/s]\n"
     ]
    },
    {
     "name": "stdout",
     "output_type": "stream",
     "text": [
      "sim_name      init_signal    cushion    risk    rr  margin_closeout      streak_limit\n",
      "sim_1172               -1        1.2   0.003     2  False                           0\n"
     ]
    },
    {
     "name": "stderr",
     "output_type": "stream",
     "text": [
      " Simulating... : 100%|██████████| 594303/594303 [00:40<00:00, 14783.12it/s]\n"
     ]
    },
    {
     "name": "stdout",
     "output_type": "stream",
     "text": [
      "sim_name      init_signal    cushion    risk    rr  margin_closeout      streak_limit\n",
      "sim_1173               -1        1.2   0.004     2  True                            5\n"
     ]
    },
    {
     "name": "stderr",
     "output_type": "stream",
     "text": [
      " Simulating... : 100%|██████████| 594303/594303 [00:37<00:00, 15902.44it/s]\n"
     ]
    },
    {
     "name": "stdout",
     "output_type": "stream",
     "text": [
      "sim_name      init_signal    cushion    risk    rr  margin_closeout      streak_limit\n",
      "sim_1174               -1        1.2   0.004     2  True                            6\n"
     ]
    },
    {
     "name": "stderr",
     "output_type": "stream",
     "text": [
      " Simulating... : 100%|██████████| 594303/594303 [00:37<00:00, 15758.16it/s]\n"
     ]
    },
    {
     "name": "stdout",
     "output_type": "stream",
     "text": [
      "sim_name      init_signal    cushion    risk    rr  margin_closeout      streak_limit\n",
      "sim_1175               -1        1.2   0.004     2  True                            7\n"
     ]
    },
    {
     "name": "stderr",
     "output_type": "stream",
     "text": [
      " Simulating... : 100%|██████████| 594303/594303 [00:39<00:00, 14942.58it/s]\n"
     ]
    },
    {
     "name": "stdout",
     "output_type": "stream",
     "text": [
      "sim_name      init_signal    cushion    risk    rr  margin_closeout      streak_limit\n",
      "sim_1176               -1        1.2   0.004     2  False                           0\n"
     ]
    },
    {
     "name": "stderr",
     "output_type": "stream",
     "text": [
      " Simulating... : 100%|██████████| 594303/594303 [00:40<00:00, 14662.09it/s]\n"
     ]
    },
    {
     "name": "stdout",
     "output_type": "stream",
     "text": [
      "sim_name      init_signal    cushion    risk    rr  margin_closeout      streak_limit\n",
      "sim_1177               -1        1.2   0.001     3  True                            5\n"
     ]
    },
    {
     "name": "stderr",
     "output_type": "stream",
     "text": [
      " Simulating... : 100%|██████████| 594303/594303 [00:41<00:00, 14478.71it/s]\n"
     ]
    },
    {
     "name": "stdout",
     "output_type": "stream",
     "text": [
      "sim_name      init_signal    cushion    risk    rr  margin_closeout      streak_limit\n",
      "sim_1178               -1        1.2   0.001     3  True                            6\n"
     ]
    },
    {
     "name": "stderr",
     "output_type": "stream",
     "text": [
      " Simulating... : 100%|██████████| 594303/594303 [00:44<00:00, 13446.09it/s]\n"
     ]
    },
    {
     "name": "stdout",
     "output_type": "stream",
     "text": [
      "sim_name      init_signal    cushion    risk    rr  margin_closeout      streak_limit\n",
      "sim_1179               -1        1.2   0.001     3  True                            7\n"
     ]
    },
    {
     "name": "stderr",
     "output_type": "stream",
     "text": [
      " Simulating... : 100%|██████████| 594303/594303 [00:43<00:00, 13667.02it/s]\n"
     ]
    },
    {
     "name": "stdout",
     "output_type": "stream",
     "text": [
      "sim_name      init_signal    cushion    risk    rr  margin_closeout      streak_limit\n",
      "sim_1180               -1        1.2   0.001     3  False                           0\n"
     ]
    },
    {
     "name": "stderr",
     "output_type": "stream",
     "text": [
      " Simulating... : 100%|██████████| 594303/594303 [00:44<00:00, 13405.21it/s]\n"
     ]
    },
    {
     "name": "stdout",
     "output_type": "stream",
     "text": [
      "sim_name      init_signal    cushion    risk    rr  margin_closeout      streak_limit\n",
      "sim_1181               -1        1.2   0.002     3  True                            5\n"
     ]
    },
    {
     "name": "stderr",
     "output_type": "stream",
     "text": [
      " Simulating... : 100%|██████████| 594303/594303 [00:42<00:00, 13834.61it/s]\n"
     ]
    },
    {
     "name": "stdout",
     "output_type": "stream",
     "text": [
      "sim_name      init_signal    cushion    risk    rr  margin_closeout      streak_limit\n",
      "sim_1182               -1        1.2   0.002     3  True                            6\n"
     ]
    },
    {
     "name": "stderr",
     "output_type": "stream",
     "text": [
      " Simulating... : 100%|██████████| 594303/594303 [00:43<00:00, 13616.41it/s]\n"
     ]
    },
    {
     "name": "stdout",
     "output_type": "stream",
     "text": [
      "sim_name      init_signal    cushion    risk    rr  margin_closeout      streak_limit\n",
      "sim_1183               -1        1.2   0.002     3  True                            7\n"
     ]
    },
    {
     "name": "stderr",
     "output_type": "stream",
     "text": [
      " Simulating... : 100%|██████████| 594303/594303 [00:40<00:00, 14550.49it/s]\n"
     ]
    },
    {
     "name": "stdout",
     "output_type": "stream",
     "text": [
      "sim_name      init_signal    cushion    risk    rr  margin_closeout      streak_limit\n",
      "sim_1184               -1        1.2   0.002     3  False                           0\n"
     ]
    },
    {
     "name": "stderr",
     "output_type": "stream",
     "text": [
      " Simulating... : 100%|██████████| 594303/594303 [00:38<00:00, 15275.05it/s]\n"
     ]
    },
    {
     "name": "stdout",
     "output_type": "stream",
     "text": [
      "sim_name      init_signal    cushion    risk    rr  margin_closeout      streak_limit\n",
      "sim_1185               -1        1.2   0.003     3  True                            5\n"
     ]
    },
    {
     "name": "stderr",
     "output_type": "stream",
     "text": [
      " Simulating... : 100%|██████████| 594303/594303 [00:38<00:00, 15352.10it/s]\n"
     ]
    },
    {
     "name": "stdout",
     "output_type": "stream",
     "text": [
      "sim_name      init_signal    cushion    risk    rr  margin_closeout      streak_limit\n",
      "sim_1186               -1        1.2   0.003     3  True                            6\n"
     ]
    },
    {
     "name": "stderr",
     "output_type": "stream",
     "text": [
      " Simulating... : 100%|██████████| 594303/594303 [00:40<00:00, 14683.98it/s]\n"
     ]
    },
    {
     "name": "stdout",
     "output_type": "stream",
     "text": [
      "sim_name      init_signal    cushion    risk    rr  margin_closeout      streak_limit\n",
      "sim_1187               -1        1.2   0.003     3  True                            7\n"
     ]
    },
    {
     "name": "stderr",
     "output_type": "stream",
     "text": [
      " Simulating... : 100%|██████████| 594303/594303 [00:45<00:00, 13073.77it/s]\n"
     ]
    },
    {
     "name": "stdout",
     "output_type": "stream",
     "text": [
      "sim_name      init_signal    cushion    risk    rr  margin_closeout      streak_limit\n",
      "sim_1188               -1        1.2   0.003     3  False                           0\n"
     ]
    },
    {
     "name": "stderr",
     "output_type": "stream",
     "text": [
      " Simulating... : 100%|██████████| 594303/594303 [00:41<00:00, 14176.72it/s]\n"
     ]
    },
    {
     "name": "stdout",
     "output_type": "stream",
     "text": [
      "sim_name      init_signal    cushion    risk    rr  margin_closeout      streak_limit\n",
      "sim_1189               -1        1.2   0.004     3  True                            5\n"
     ]
    },
    {
     "name": "stderr",
     "output_type": "stream",
     "text": [
      " Simulating... : 100%|██████████| 594303/594303 [00:43<00:00, 13539.55it/s]\n"
     ]
    },
    {
     "name": "stdout",
     "output_type": "stream",
     "text": [
      "sim_name      init_signal    cushion    risk    rr  margin_closeout      streak_limit\n",
      "sim_1190               -1        1.2   0.004     3  True                            6\n"
     ]
    },
    {
     "name": "stderr",
     "output_type": "stream",
     "text": [
      " Simulating... : 100%|██████████| 594303/594303 [00:40<00:00, 14852.99it/s]\n"
     ]
    },
    {
     "name": "stdout",
     "output_type": "stream",
     "text": [
      "sim_name      init_signal    cushion    risk    rr  margin_closeout      streak_limit\n",
      "sim_1191               -1        1.2   0.004     3  True                            7\n"
     ]
    },
    {
     "name": "stderr",
     "output_type": "stream",
     "text": [
      " Simulating... : 100%|██████████| 594303/594303 [00:39<00:00, 15213.93it/s]\n"
     ]
    },
    {
     "name": "stdout",
     "output_type": "stream",
     "text": [
      "sim_name      init_signal    cushion    risk    rr  margin_closeout      streak_limit\n",
      "sim_1192               -1        1.2   0.004     3  False                           0\n"
     ]
    },
    {
     "name": "stderr",
     "output_type": "stream",
     "text": [
      " Simulating... : 100%|██████████| 594303/594303 [00:40<00:00, 14844.23it/s]\n"
     ]
    },
    {
     "name": "stdout",
     "output_type": "stream",
     "text": [
      "sim_name      init_signal    cushion    risk    rr  margin_closeout      streak_limit\n",
      "sim_1193               -1        1.5   0.001   1.5  True                            5\n"
     ]
    },
    {
     "name": "stderr",
     "output_type": "stream",
     "text": [
      " Simulating... : 100%|██████████| 594303/594303 [00:40<00:00, 14604.58it/s]\n"
     ]
    },
    {
     "name": "stdout",
     "output_type": "stream",
     "text": [
      "sim_name      init_signal    cushion    risk    rr  margin_closeout      streak_limit\n",
      "sim_1194               -1        1.5   0.001   1.5  True                            6\n"
     ]
    },
    {
     "name": "stderr",
     "output_type": "stream",
     "text": [
      " Simulating... : 100%|██████████| 594303/594303 [00:39<00:00, 14983.40it/s]\n"
     ]
    },
    {
     "name": "stdout",
     "output_type": "stream",
     "text": [
      "sim_name      init_signal    cushion    risk    rr  margin_closeout      streak_limit\n",
      "sim_1195               -1        1.5   0.001   1.5  True                            7\n"
     ]
    },
    {
     "name": "stderr",
     "output_type": "stream",
     "text": [
      " Simulating... : 100%|██████████| 594303/594303 [00:43<00:00, 13670.85it/s]\n"
     ]
    },
    {
     "name": "stdout",
     "output_type": "stream",
     "text": [
      "sim_name      init_signal    cushion    risk    rr  margin_closeout      streak_limit\n",
      "sim_1196               -1        1.5   0.001   1.5  False                           0\n"
     ]
    },
    {
     "name": "stderr",
     "output_type": "stream",
     "text": [
      " Simulating... : 100%|██████████| 594303/594303 [00:45<00:00, 13029.72it/s]\n"
     ]
    },
    {
     "name": "stdout",
     "output_type": "stream",
     "text": [
      "sim_name      init_signal    cushion    risk    rr  margin_closeout      streak_limit\n",
      "sim_1197               -1        1.5   0.002   1.5  True                            5\n"
     ]
    },
    {
     "name": "stderr",
     "output_type": "stream",
     "text": [
      " Simulating... : 100%|██████████| 594303/594303 [00:44<00:00, 13351.33it/s]\n"
     ]
    },
    {
     "name": "stdout",
     "output_type": "stream",
     "text": [
      "sim_name      init_signal    cushion    risk    rr  margin_closeout      streak_limit\n",
      "sim_1198               -1        1.5   0.002   1.5  True                            6\n"
     ]
    },
    {
     "name": "stderr",
     "output_type": "stream",
     "text": [
      " Simulating... : 100%|██████████| 594303/594303 [00:42<00:00, 13977.75it/s]\n"
     ]
    },
    {
     "name": "stdout",
     "output_type": "stream",
     "text": [
      "sim_name      init_signal    cushion    risk    rr  margin_closeout      streak_limit\n",
      "sim_1199               -1        1.5   0.002   1.5  True                            7\n"
     ]
    },
    {
     "name": "stderr",
     "output_type": "stream",
     "text": [
      " Simulating... : 100%|██████████| 594303/594303 [00:44<00:00, 13470.90it/s]\n"
     ]
    },
    {
     "name": "stdout",
     "output_type": "stream",
     "text": [
      "sim_name      init_signal    cushion    risk    rr  margin_closeout      streak_limit\n",
      "sim_1200               -1        1.5   0.002   1.5  False                           0\n"
     ]
    },
    {
     "name": "stderr",
     "output_type": "stream",
     "text": [
      " Simulating... : 100%|██████████| 594303/594303 [00:43<00:00, 13746.24it/s]\n"
     ]
    },
    {
     "name": "stdout",
     "output_type": "stream",
     "text": [
      "sim_name      init_signal    cushion    risk    rr  margin_closeout      streak_limit\n",
      "sim_1201               -1        1.5   0.003   1.5  True                            5\n"
     ]
    },
    {
     "name": "stderr",
     "output_type": "stream",
     "text": [
      " Simulating... : 100%|██████████| 594303/594303 [00:43<00:00, 13628.83it/s]\n"
     ]
    },
    {
     "name": "stdout",
     "output_type": "stream",
     "text": [
      "sim_name      init_signal    cushion    risk    rr  margin_closeout      streak_limit\n",
      "sim_1202               -1        1.5   0.003   1.5  True                            6\n"
     ]
    },
    {
     "name": "stderr",
     "output_type": "stream",
     "text": [
      " Simulating... : 100%|██████████| 594303/594303 [00:42<00:00, 14093.58it/s]\n"
     ]
    },
    {
     "name": "stdout",
     "output_type": "stream",
     "text": [
      "sim_name      init_signal    cushion    risk    rr  margin_closeout      streak_limit\n",
      "sim_1203               -1        1.5   0.003   1.5  True                            7\n"
     ]
    },
    {
     "name": "stderr",
     "output_type": "stream",
     "text": [
      " Simulating... : 100%|██████████| 594303/594303 [00:41<00:00, 14220.66it/s]\n"
     ]
    },
    {
     "name": "stdout",
     "output_type": "stream",
     "text": [
      "sim_name      init_signal    cushion    risk    rr  margin_closeout      streak_limit\n",
      "sim_1204               -1        1.5   0.003   1.5  False                           0\n"
     ]
    },
    {
     "name": "stderr",
     "output_type": "stream",
     "text": [
      " Simulating... : 100%|██████████| 594303/594303 [00:40<00:00, 14603.90it/s]\n"
     ]
    },
    {
     "name": "stdout",
     "output_type": "stream",
     "text": [
      "sim_name      init_signal    cushion    risk    rr  margin_closeout      streak_limit\n",
      "sim_1205               -1        1.5   0.004   1.5  True                            5\n"
     ]
    },
    {
     "name": "stderr",
     "output_type": "stream",
     "text": [
      " Simulating... : 100%|██████████| 594303/594303 [00:38<00:00, 15238.94it/s]\n"
     ]
    },
    {
     "name": "stdout",
     "output_type": "stream",
     "text": [
      "sim_name      init_signal    cushion    risk    rr  margin_closeout      streak_limit\n",
      "sim_1206               -1        1.5   0.004   1.5  True                            6\n"
     ]
    },
    {
     "name": "stderr",
     "output_type": "stream",
     "text": [
      " Simulating... : 100%|██████████| 594303/594303 [00:39<00:00, 15091.85it/s]\n"
     ]
    },
    {
     "name": "stdout",
     "output_type": "stream",
     "text": [
      "sim_name      init_signal    cushion    risk    rr  margin_closeout      streak_limit\n",
      "sim_1207               -1        1.5   0.004   1.5  True                            7\n"
     ]
    },
    {
     "name": "stderr",
     "output_type": "stream",
     "text": [
      " Simulating... : 100%|██████████| 594303/594303 [00:39<00:00, 15128.95it/s]\n"
     ]
    },
    {
     "name": "stdout",
     "output_type": "stream",
     "text": [
      "sim_name      init_signal    cushion    risk    rr  margin_closeout      streak_limit\n",
      "sim_1208               -1        1.5   0.004   1.5  False                           0\n"
     ]
    },
    {
     "name": "stderr",
     "output_type": "stream",
     "text": [
      " Simulating... : 100%|██████████| 594303/594303 [00:40<00:00, 14612.16it/s]\n"
     ]
    },
    {
     "name": "stdout",
     "output_type": "stream",
     "text": [
      "sim_name      init_signal    cushion    risk    rr  margin_closeout      streak_limit\n",
      "sim_1209               -1        1.5   0.001     2  True                            5\n"
     ]
    },
    {
     "name": "stderr",
     "output_type": "stream",
     "text": [
      " Simulating... : 100%|██████████| 594303/594303 [00:39<00:00, 15020.42it/s]\n"
     ]
    },
    {
     "name": "stdout",
     "output_type": "stream",
     "text": [
      "sim_name      init_signal    cushion    risk    rr  margin_closeout      streak_limit\n",
      "sim_1210               -1        1.5   0.001     2  True                            6\n"
     ]
    },
    {
     "name": "stderr",
     "output_type": "stream",
     "text": [
      " Simulating... : 100%|██████████| 594303/594303 [00:39<00:00, 15077.21it/s]\n"
     ]
    },
    {
     "name": "stdout",
     "output_type": "stream",
     "text": [
      "sim_name      init_signal    cushion    risk    rr  margin_closeout      streak_limit\n",
      "sim_1211               -1        1.5   0.001     2  True                            7\n"
     ]
    },
    {
     "name": "stderr",
     "output_type": "stream",
     "text": [
      " Simulating... : 100%|██████████| 594303/594303 [00:41<00:00, 14161.85it/s]\n"
     ]
    },
    {
     "name": "stdout",
     "output_type": "stream",
     "text": [
      "sim_name      init_signal    cushion    risk    rr  margin_closeout      streak_limit\n",
      "sim_1212               -1        1.5   0.001     2  False                           0\n"
     ]
    },
    {
     "name": "stderr",
     "output_type": "stream",
     "text": [
      " Simulating... : 100%|██████████| 594303/594303 [00:39<00:00, 15116.97it/s]\n"
     ]
    },
    {
     "name": "stdout",
     "output_type": "stream",
     "text": [
      "sim_name      init_signal    cushion    risk    rr  margin_closeout      streak_limit\n",
      "sim_1213               -1        1.5   0.002     2  True                            5\n"
     ]
    },
    {
     "name": "stderr",
     "output_type": "stream",
     "text": [
      " Simulating... : 100%|██████████| 594303/594303 [00:38<00:00, 15375.89it/s]\n"
     ]
    },
    {
     "name": "stdout",
     "output_type": "stream",
     "text": [
      "sim_name      init_signal    cushion    risk    rr  margin_closeout      streak_limit\n",
      "sim_1214               -1        1.5   0.002     2  True                            6\n"
     ]
    },
    {
     "name": "stderr",
     "output_type": "stream",
     "text": [
      " Simulating... : 100%|██████████| 594303/594303 [00:38<00:00, 15269.54it/s]\n"
     ]
    },
    {
     "name": "stdout",
     "output_type": "stream",
     "text": [
      "sim_name      init_signal    cushion    risk    rr  margin_closeout      streak_limit\n",
      "sim_1215               -1        1.5   0.002     2  True                            7\n"
     ]
    },
    {
     "name": "stderr",
     "output_type": "stream",
     "text": [
      " Simulating... : 100%|██████████| 594303/594303 [00:39<00:00, 15184.23it/s]\n"
     ]
    },
    {
     "name": "stdout",
     "output_type": "stream",
     "text": [
      "sim_name      init_signal    cushion    risk    rr  margin_closeout      streak_limit\n",
      "sim_1216               -1        1.5   0.002     2  False                           0\n"
     ]
    },
    {
     "name": "stderr",
     "output_type": "stream",
     "text": [
      " Simulating... : 100%|██████████| 594303/594303 [20:29<00:00, 483.56it/s]  \n"
     ]
    },
    {
     "name": "stdout",
     "output_type": "stream",
     "text": [
      "sim_name      init_signal    cushion    risk    rr  margin_closeout      streak_limit\n",
      "sim_1217               -1        1.5   0.003     2  True                            5\n"
     ]
    },
    {
     "name": "stderr",
     "output_type": "stream",
     "text": [
      " Simulating... : 100%|██████████| 594303/594303 [00:36<00:00, 16088.59it/s]\n"
     ]
    },
    {
     "name": "stdout",
     "output_type": "stream",
     "text": [
      "sim_name      init_signal    cushion    risk    rr  margin_closeout      streak_limit\n",
      "sim_1218               -1        1.5   0.003     2  True                            6\n"
     ]
    },
    {
     "name": "stderr",
     "output_type": "stream",
     "text": [
      " Simulating... : 100%|██████████| 594303/594303 [00:32<00:00, 18503.09it/s]\n"
     ]
    },
    {
     "name": "stdout",
     "output_type": "stream",
     "text": [
      "sim_name      init_signal    cushion    risk    rr  margin_closeout      streak_limit\n",
      "sim_1219               -1        1.5   0.003     2  True                            7\n"
     ]
    },
    {
     "name": "stderr",
     "output_type": "stream",
     "text": [
      " Simulating... : 100%|██████████| 594303/594303 [00:32<00:00, 18065.11it/s]\n"
     ]
    },
    {
     "name": "stdout",
     "output_type": "stream",
     "text": [
      "sim_name      init_signal    cushion    risk    rr  margin_closeout      streak_limit\n",
      "sim_1220               -1        1.5   0.003     2  False                           0\n"
     ]
    },
    {
     "name": "stderr",
     "output_type": "stream",
     "text": [
      " Simulating... : 100%|██████████| 594303/594303 [00:33<00:00, 17588.83it/s]\n"
     ]
    },
    {
     "name": "stdout",
     "output_type": "stream",
     "text": [
      "sim_name      init_signal    cushion    risk    rr  margin_closeout      streak_limit\n",
      "sim_1221               -1        1.5   0.004     2  True                            5\n"
     ]
    },
    {
     "name": "stderr",
     "output_type": "stream",
     "text": [
      " Simulating... : 100%|██████████| 594303/594303 [00:34<00:00, 17235.37it/s]\n"
     ]
    },
    {
     "name": "stdout",
     "output_type": "stream",
     "text": [
      "sim_name      init_signal    cushion    risk    rr  margin_closeout      streak_limit\n",
      "sim_1222               -1        1.5   0.004     2  True                            6\n"
     ]
    },
    {
     "name": "stderr",
     "output_type": "stream",
     "text": [
      " Simulating... : 100%|██████████| 594303/594303 [00:36<00:00, 16317.18it/s]\n"
     ]
    },
    {
     "name": "stdout",
     "output_type": "stream",
     "text": [
      "sim_name      init_signal    cushion    risk    rr  margin_closeout      streak_limit\n",
      "sim_1223               -1        1.5   0.004     2  True                            7\n"
     ]
    },
    {
     "name": "stderr",
     "output_type": "stream",
     "text": [
      " Simulating... : 100%|██████████| 594303/594303 [00:34<00:00, 17162.56it/s]\n"
     ]
    },
    {
     "name": "stdout",
     "output_type": "stream",
     "text": [
      "sim_name      init_signal    cushion    risk    rr  margin_closeout      streak_limit\n",
      "sim_1224               -1        1.5   0.004     2  False                           0\n"
     ]
    },
    {
     "name": "stderr",
     "output_type": "stream",
     "text": [
      " Simulating... : 100%|██████████| 594303/594303 [00:35<00:00, 16976.70it/s]\n"
     ]
    },
    {
     "name": "stdout",
     "output_type": "stream",
     "text": [
      "sim_name      init_signal    cushion    risk    rr  margin_closeout      streak_limit\n",
      "sim_1225               -1        1.5   0.001     3  True                            5\n"
     ]
    },
    {
     "name": "stderr",
     "output_type": "stream",
     "text": [
      " Simulating... : 100%|██████████| 594303/594303 [00:36<00:00, 16500.87it/s]\n"
     ]
    },
    {
     "name": "stdout",
     "output_type": "stream",
     "text": [
      "sim_name      init_signal    cushion    risk    rr  margin_closeout      streak_limit\n",
      "sim_1226               -1        1.5   0.001     3  True                            6\n"
     ]
    },
    {
     "name": "stderr",
     "output_type": "stream",
     "text": [
      " Simulating... : 100%|██████████| 594303/594303 [00:36<00:00, 16501.09it/s]\n"
     ]
    },
    {
     "name": "stdout",
     "output_type": "stream",
     "text": [
      "sim_name      init_signal    cushion    risk    rr  margin_closeout      streak_limit\n",
      "sim_1227               -1        1.5   0.001     3  True                            7\n"
     ]
    },
    {
     "name": "stderr",
     "output_type": "stream",
     "text": [
      " Simulating... : 100%|██████████| 594303/594303 [00:38<00:00, 15433.62it/s]\n"
     ]
    },
    {
     "name": "stdout",
     "output_type": "stream",
     "text": [
      "sim_name      init_signal    cushion    risk    rr  margin_closeout      streak_limit\n",
      "sim_1228               -1        1.5   0.001     3  False                           0\n"
     ]
    },
    {
     "name": "stderr",
     "output_type": "stream",
     "text": [
      " Simulating... : 100%|██████████| 594303/594303 [00:36<00:00, 16087.40it/s]\n"
     ]
    },
    {
     "name": "stdout",
     "output_type": "stream",
     "text": [
      "sim_name      init_signal    cushion    risk    rr  margin_closeout      streak_limit\n",
      "sim_1229               -1        1.5   0.002     3  True                            5\n"
     ]
    },
    {
     "name": "stderr",
     "output_type": "stream",
     "text": [
      " Simulating... : 100%|██████████| 594303/594303 [00:36<00:00, 16063.27it/s]\n"
     ]
    },
    {
     "name": "stdout",
     "output_type": "stream",
     "text": [
      "sim_name      init_signal    cushion    risk    rr  margin_closeout      streak_limit\n",
      "sim_1230               -1        1.5   0.002     3  True                            6\n"
     ]
    },
    {
     "name": "stderr",
     "output_type": "stream",
     "text": [
      " Simulating... : 100%|██████████| 594303/594303 [00:36<00:00, 16077.30it/s]\n"
     ]
    },
    {
     "name": "stdout",
     "output_type": "stream",
     "text": [
      "sim_name      init_signal    cushion    risk    rr  margin_closeout      streak_limit\n",
      "sim_1231               -1        1.5   0.002     3  True                            7\n"
     ]
    },
    {
     "name": "stderr",
     "output_type": "stream",
     "text": [
      " Simulating... : 100%|██████████| 594303/594303 [00:36<00:00, 16164.22it/s]\n"
     ]
    },
    {
     "name": "stdout",
     "output_type": "stream",
     "text": [
      "sim_name      init_signal    cushion    risk    rr  margin_closeout      streak_limit\n",
      "sim_1232               -1        1.5   0.002     3  False                           0\n"
     ]
    },
    {
     "name": "stderr",
     "output_type": "stream",
     "text": [
      " Simulating... : 100%|██████████| 594303/594303 [00:39<00:00, 14982.32it/s]\n"
     ]
    },
    {
     "name": "stdout",
     "output_type": "stream",
     "text": [
      "sim_name      init_signal    cushion    risk    rr  margin_closeout      streak_limit\n",
      "sim_1233               -1        1.5   0.003     3  True                            5\n"
     ]
    },
    {
     "name": "stderr",
     "output_type": "stream",
     "text": [
      " Simulating... : 100%|██████████| 594303/594303 [00:38<00:00, 15482.69it/s]\n"
     ]
    },
    {
     "name": "stdout",
     "output_type": "stream",
     "text": [
      "sim_name      init_signal    cushion    risk    rr  margin_closeout      streak_limit\n",
      "sim_1234               -1        1.5   0.003     3  True                            6\n"
     ]
    },
    {
     "name": "stderr",
     "output_type": "stream",
     "text": [
      " Simulating... : 100%|██████████| 594303/594303 [00:37<00:00, 15858.04it/s]\n"
     ]
    },
    {
     "name": "stdout",
     "output_type": "stream",
     "text": [
      "sim_name      init_signal    cushion    risk    rr  margin_closeout      streak_limit\n",
      "sim_1235               -1        1.5   0.003     3  True                            7\n"
     ]
    },
    {
     "name": "stderr",
     "output_type": "stream",
     "text": [
      " Simulating... : 100%|██████████| 594303/594303 [00:37<00:00, 15878.11it/s]\n"
     ]
    },
    {
     "name": "stdout",
     "output_type": "stream",
     "text": [
      "sim_name      init_signal    cushion    risk    rr  margin_closeout      streak_limit\n",
      "sim_1236               -1        1.5   0.003     3  False                           0\n"
     ]
    },
    {
     "name": "stderr",
     "output_type": "stream",
     "text": [
      " Simulating... : 100%|██████████| 594303/594303 [00:39<00:00, 15156.27it/s]\n"
     ]
    },
    {
     "name": "stdout",
     "output_type": "stream",
     "text": [
      "sim_name      init_signal    cushion    risk    rr  margin_closeout      streak_limit\n",
      "sim_1237               -1        1.5   0.004     3  True                            5\n"
     ]
    },
    {
     "name": "stderr",
     "output_type": "stream",
     "text": [
      " Simulating... : 100%|██████████| 594303/594303 [00:39<00:00, 14910.41it/s]\n"
     ]
    },
    {
     "name": "stdout",
     "output_type": "stream",
     "text": [
      "sim_name      init_signal    cushion    risk    rr  margin_closeout      streak_limit\n",
      "sim_1238               -1        1.5   0.004     3  True                            6\n"
     ]
    },
    {
     "name": "stderr",
     "output_type": "stream",
     "text": [
      " Simulating... : 100%|██████████| 594303/594303 [00:37<00:00, 15826.29it/s]\n"
     ]
    },
    {
     "name": "stdout",
     "output_type": "stream",
     "text": [
      "sim_name      init_signal    cushion    risk    rr  margin_closeout      streak_limit\n",
      "sim_1239               -1        1.5   0.004     3  True                            7\n"
     ]
    },
    {
     "name": "stderr",
     "output_type": "stream",
     "text": [
      " Simulating... : 100%|██████████| 594303/594303 [00:37<00:00, 15772.95it/s]\n"
     ]
    },
    {
     "name": "stdout",
     "output_type": "stream",
     "text": [
      "sim_name      init_signal    cushion    risk    rr  margin_closeout      streak_limit\n",
      "sim_1240               -1        1.5   0.004     3  False                           0\n"
     ]
    },
    {
     "name": "stderr",
     "output_type": "stream",
     "text": [
      " Simulating... : 100%|██████████| 594303/594303 [00:37<00:00, 15925.08it/s]\n"
     ]
    },
    {
     "name": "stdout",
     "output_type": "stream",
     "text": [
      "sim_name      init_signal    cushion    risk    rr  margin_closeout      streak_limit\n",
      "sim_1241               -1          2   0.001   1.5  True                            5\n"
     ]
    },
    {
     "name": "stderr",
     "output_type": "stream",
     "text": [
      " Simulating... : 100%|██████████| 594303/594303 [00:40<00:00, 14652.15it/s]\n"
     ]
    },
    {
     "name": "stdout",
     "output_type": "stream",
     "text": [
      "sim_name      init_signal    cushion    risk    rr  margin_closeout      streak_limit\n",
      "sim_1242               -1          2   0.001   1.5  True                            6\n"
     ]
    },
    {
     "name": "stderr",
     "output_type": "stream",
     "text": [
      " Simulating... : 100%|██████████| 594303/594303 [00:39<00:00, 14864.59it/s]\n"
     ]
    },
    {
     "name": "stdout",
     "output_type": "stream",
     "text": [
      "sim_name      init_signal    cushion    risk    rr  margin_closeout      streak_limit\n",
      "sim_1243               -1          2   0.001   1.5  True                            7\n"
     ]
    },
    {
     "name": "stderr",
     "output_type": "stream",
     "text": [
      " Simulating... : 100%|██████████| 594303/594303 [00:38<00:00, 15464.57it/s]\n"
     ]
    },
    {
     "name": "stdout",
     "output_type": "stream",
     "text": [
      "sim_name      init_signal    cushion    risk    rr  margin_closeout      streak_limit\n",
      "sim_1244               -1          2   0.001   1.5  False                           0\n"
     ]
    },
    {
     "name": "stderr",
     "output_type": "stream",
     "text": [
      " Simulating... : 100%|██████████| 594303/594303 [00:38<00:00, 15490.73it/s]\n"
     ]
    },
    {
     "name": "stdout",
     "output_type": "stream",
     "text": [
      "sim_name      init_signal    cushion    risk    rr  margin_closeout      streak_limit\n",
      "sim_1245               -1          2   0.002   1.5  True                            5\n"
     ]
    },
    {
     "name": "stderr",
     "output_type": "stream",
     "text": [
      " Simulating... : 100%|██████████| 594303/594303 [00:38<00:00, 15448.62it/s]\n"
     ]
    },
    {
     "name": "stdout",
     "output_type": "stream",
     "text": [
      "sim_name      init_signal    cushion    risk    rr  margin_closeout      streak_limit\n",
      "sim_1246               -1          2   0.002   1.5  True                            6\n"
     ]
    },
    {
     "name": "stderr",
     "output_type": "stream",
     "text": [
      " Simulating... : 100%|██████████| 594303/594303 [00:40<00:00, 14688.60it/s]\n"
     ]
    },
    {
     "name": "stdout",
     "output_type": "stream",
     "text": [
      "sim_name      init_signal    cushion    risk    rr  margin_closeout      streak_limit\n",
      "sim_1247               -1          2   0.002   1.5  True                            7\n"
     ]
    },
    {
     "name": "stderr",
     "output_type": "stream",
     "text": [
      " Simulating... : 100%|██████████| 594303/594303 [00:38<00:00, 15544.00it/s]\n"
     ]
    },
    {
     "name": "stdout",
     "output_type": "stream",
     "text": [
      "sim_name      init_signal    cushion    risk    rr  margin_closeout      streak_limit\n",
      "sim_1248               -1          2   0.002   1.5  False                           0\n"
     ]
    },
    {
     "name": "stderr",
     "output_type": "stream",
     "text": [
      " Simulating... : 100%|██████████| 594303/594303 [00:38<00:00, 15295.05it/s]\n"
     ]
    },
    {
     "name": "stdout",
     "output_type": "stream",
     "text": [
      "sim_name      init_signal    cushion    risk    rr  margin_closeout      streak_limit\n",
      "sim_1249               -1          2   0.003   1.5  True                            5\n"
     ]
    },
    {
     "name": "stderr",
     "output_type": "stream",
     "text": [
      " Simulating... : 100%|██████████| 594303/594303 [00:38<00:00, 15448.77it/s]\n"
     ]
    },
    {
     "name": "stdout",
     "output_type": "stream",
     "text": [
      "sim_name      init_signal    cushion    risk    rr  margin_closeout      streak_limit\n",
      "sim_1250               -1          2   0.003   1.5  True                            6\n"
     ]
    },
    {
     "name": "stderr",
     "output_type": "stream",
     "text": [
      " Simulating... : 100%|██████████| 594303/594303 [00:38<00:00, 15402.75it/s]\n"
     ]
    },
    {
     "name": "stdout",
     "output_type": "stream",
     "text": [
      "sim_name      init_signal    cushion    risk    rr  margin_closeout      streak_limit\n",
      "sim_1251               -1          2   0.003   1.5  True                            7\n"
     ]
    },
    {
     "name": "stderr",
     "output_type": "stream",
     "text": [
      " Simulating... : 100%|██████████| 594303/594303 [00:41<00:00, 14352.44it/s]\n"
     ]
    },
    {
     "name": "stdout",
     "output_type": "stream",
     "text": [
      "sim_name      init_signal    cushion    risk    rr  margin_closeout      streak_limit\n",
      "sim_1252               -1          2   0.003   1.5  False                           0\n"
     ]
    },
    {
     "name": "stderr",
     "output_type": "stream",
     "text": [
      " Simulating... : 100%|██████████| 594303/594303 [00:38<00:00, 15530.68it/s]\n"
     ]
    },
    {
     "name": "stdout",
     "output_type": "stream",
     "text": [
      "sim_name      init_signal    cushion    risk    rr  margin_closeout      streak_limit\n",
      "sim_1253               -1          2   0.004   1.5  True                            5\n"
     ]
    },
    {
     "name": "stderr",
     "output_type": "stream",
     "text": [
      " Simulating... : 100%|██████████| 594303/594303 [00:38<00:00, 15520.27it/s]\n"
     ]
    },
    {
     "name": "stdout",
     "output_type": "stream",
     "text": [
      "sim_name      init_signal    cushion    risk    rr  margin_closeout      streak_limit\n",
      "sim_1254               -1          2   0.004   1.5  True                            6\n"
     ]
    },
    {
     "name": "stderr",
     "output_type": "stream",
     "text": [
      " Simulating... : 100%|██████████| 594303/594303 [00:38<00:00, 15477.85it/s]\n"
     ]
    },
    {
     "name": "stdout",
     "output_type": "stream",
     "text": [
      "sim_name      init_signal    cushion    risk    rr  margin_closeout      streak_limit\n",
      "sim_1255               -1          2   0.004   1.5  True                            7\n"
     ]
    },
    {
     "name": "stderr",
     "output_type": "stream",
     "text": [
      " Simulating... : 100%|██████████| 594303/594303 [00:40<00:00, 14689.43it/s]\n"
     ]
    },
    {
     "name": "stdout",
     "output_type": "stream",
     "text": [
      "sim_name      init_signal    cushion    risk    rr  margin_closeout      streak_limit\n",
      "sim_1256               -1          2   0.004   1.5  False                           0\n"
     ]
    },
    {
     "name": "stderr",
     "output_type": "stream",
     "text": [
      " Simulating... : 100%|██████████| 594303/594303 [00:38<00:00, 15298.44it/s]\n"
     ]
    },
    {
     "name": "stdout",
     "output_type": "stream",
     "text": [
      "sim_name      init_signal    cushion    risk    rr  margin_closeout      streak_limit\n",
      "sim_1257               -1          2   0.001     2  True                            5\n"
     ]
    },
    {
     "name": "stderr",
     "output_type": "stream",
     "text": [
      " Simulating... : 100%|██████████| 594303/594303 [00:40<00:00, 14851.60it/s]\n"
     ]
    },
    {
     "name": "stdout",
     "output_type": "stream",
     "text": [
      "sim_name      init_signal    cushion    risk    rr  margin_closeout      streak_limit\n",
      "sim_1258               -1          2   0.001     2  True                            6\n"
     ]
    },
    {
     "name": "stderr",
     "output_type": "stream",
     "text": [
      " Simulating... : 100%|██████████| 594303/594303 [00:40<00:00, 14505.62it/s]\n"
     ]
    },
    {
     "name": "stdout",
     "output_type": "stream",
     "text": [
      "sim_name      init_signal    cushion    risk    rr  margin_closeout      streak_limit\n",
      "sim_1259               -1          2   0.001     2  True                            7\n"
     ]
    },
    {
     "name": "stderr",
     "output_type": "stream",
     "text": [
      " Simulating... : 100%|██████████| 594303/594303 [00:39<00:00, 14893.05it/s]\n"
     ]
    },
    {
     "name": "stdout",
     "output_type": "stream",
     "text": [
      "sim_name      init_signal    cushion    risk    rr  margin_closeout      streak_limit\n",
      "sim_1260               -1          2   0.001     2  False                           0\n"
     ]
    },
    {
     "name": "stderr",
     "output_type": "stream",
     "text": [
      " Simulating... : 100%|██████████| 594303/594303 [00:43<00:00, 13788.72it/s]\n"
     ]
    },
    {
     "name": "stdout",
     "output_type": "stream",
     "text": [
      "sim_name      init_signal    cushion    risk    rr  margin_closeout      streak_limit\n",
      "sim_1261               -1          2   0.002     2  True                            5\n"
     ]
    },
    {
     "name": "stderr",
     "output_type": "stream",
     "text": [
      " Simulating... : 100%|██████████| 594303/594303 [00:38<00:00, 15399.94it/s]\n"
     ]
    },
    {
     "name": "stdout",
     "output_type": "stream",
     "text": [
      "sim_name      init_signal    cushion    risk    rr  margin_closeout      streak_limit\n",
      "sim_1262               -1          2   0.002     2  True                            6\n"
     ]
    },
    {
     "name": "stderr",
     "output_type": "stream",
     "text": [
      " Simulating... : 100%|██████████| 594303/594303 [00:39<00:00, 14881.29it/s]\n"
     ]
    },
    {
     "name": "stdout",
     "output_type": "stream",
     "text": [
      "sim_name      init_signal    cushion    risk    rr  margin_closeout      streak_limit\n",
      "sim_1263               -1          2   0.002     2  True                            7\n"
     ]
    },
    {
     "name": "stderr",
     "output_type": "stream",
     "text": [
      " Simulating... : 100%|██████████| 594303/594303 [00:43<00:00, 13779.42it/s]\n"
     ]
    },
    {
     "name": "stdout",
     "output_type": "stream",
     "text": [
      "sim_name      init_signal    cushion    risk    rr  margin_closeout      streak_limit\n",
      "sim_1264               -1          2   0.002     2  False                           0\n"
     ]
    },
    {
     "name": "stderr",
     "output_type": "stream",
     "text": [
      " Simulating... : 100%|██████████| 594303/594303 [00:40<00:00, 14654.87it/s]\n"
     ]
    },
    {
     "name": "stdout",
     "output_type": "stream",
     "text": [
      "sim_name      init_signal    cushion    risk    rr  margin_closeout      streak_limit\n",
      "sim_1265               -1          2   0.003     2  True                            5\n"
     ]
    },
    {
     "name": "stderr",
     "output_type": "stream",
     "text": [
      " Simulating... : 100%|██████████| 594303/594303 [00:40<00:00, 14831.01it/s]\n"
     ]
    },
    {
     "name": "stdout",
     "output_type": "stream",
     "text": [
      "sim_name      init_signal    cushion    risk    rr  margin_closeout      streak_limit\n",
      "sim_1266               -1          2   0.003     2  True                            6\n"
     ]
    },
    {
     "name": "stderr",
     "output_type": "stream",
     "text": [
      " Simulating... : 100%|██████████| 594303/594303 [00:40<00:00, 14710.00it/s]\n"
     ]
    },
    {
     "name": "stdout",
     "output_type": "stream",
     "text": [
      "sim_name      init_signal    cushion    risk    rr  margin_closeout      streak_limit\n",
      "sim_1267               -1          2   0.003     2  True                            7\n"
     ]
    },
    {
     "name": "stderr",
     "output_type": "stream",
     "text": [
      " Simulating... : 100%|██████████| 594303/594303 [00:38<00:00, 15323.75it/s]\n"
     ]
    },
    {
     "name": "stdout",
     "output_type": "stream",
     "text": [
      "sim_name      init_signal    cushion    risk    rr  margin_closeout      streak_limit\n",
      "sim_1268               -1          2   0.003     2  False                           0\n"
     ]
    },
    {
     "name": "stderr",
     "output_type": "stream",
     "text": [
      " Simulating... : 100%|██████████| 594303/594303 [00:41<00:00, 14184.32it/s]\n"
     ]
    },
    {
     "name": "stdout",
     "output_type": "stream",
     "text": [
      "sim_name      init_signal    cushion    risk    rr  margin_closeout      streak_limit\n",
      "sim_1269               -1          2   0.004     2  True                            5\n"
     ]
    },
    {
     "name": "stderr",
     "output_type": "stream",
     "text": [
      " Simulating... : 100%|██████████| 594303/594303 [00:40<00:00, 14662.26it/s]\n"
     ]
    },
    {
     "name": "stdout",
     "output_type": "stream",
     "text": [
      "sim_name      init_signal    cushion    risk    rr  margin_closeout      streak_limit\n",
      "sim_1270               -1          2   0.004     2  True                            6\n"
     ]
    },
    {
     "name": "stderr",
     "output_type": "stream",
     "text": [
      " Simulating... : 100%|██████████| 594303/594303 [00:39<00:00, 14928.47it/s]\n"
     ]
    },
    {
     "name": "stdout",
     "output_type": "stream",
     "text": [
      "sim_name      init_signal    cushion    risk    rr  margin_closeout      streak_limit\n",
      "sim_1271               -1          2   0.004     2  True                            7\n"
     ]
    },
    {
     "name": "stderr",
     "output_type": "stream",
     "text": [
      " Simulating... : 100%|██████████| 594303/594303 [00:41<00:00, 14275.40it/s]\n"
     ]
    },
    {
     "name": "stdout",
     "output_type": "stream",
     "text": [
      "sim_name      init_signal    cushion    risk    rr  margin_closeout      streak_limit\n",
      "sim_1272               -1          2   0.004     2  False                           0\n"
     ]
    },
    {
     "name": "stderr",
     "output_type": "stream",
     "text": [
      " Simulating... : 100%|██████████| 594303/594303 [00:40<00:00, 14623.20it/s]\n"
     ]
    },
    {
     "name": "stdout",
     "output_type": "stream",
     "text": [
      "sim_name      init_signal    cushion    risk    rr  margin_closeout      streak_limit\n",
      "sim_1273               -1          2   0.001     3  True                            5\n"
     ]
    },
    {
     "name": "stderr",
     "output_type": "stream",
     "text": [
      " Simulating... : 100%|██████████| 594303/594303 [00:39<00:00, 14940.42it/s]\n"
     ]
    },
    {
     "name": "stdout",
     "output_type": "stream",
     "text": [
      "sim_name      init_signal    cushion    risk    rr  margin_closeout      streak_limit\n",
      "sim_1274               -1          2   0.001     3  True                            6\n"
     ]
    },
    {
     "name": "stderr",
     "output_type": "stream",
     "text": [
      " Simulating... : 100%|██████████| 594303/594303 [00:41<00:00, 14239.20it/s]\n"
     ]
    },
    {
     "name": "stdout",
     "output_type": "stream",
     "text": [
      "sim_name      init_signal    cushion    risk    rr  margin_closeout      streak_limit\n",
      "sim_1275               -1          2   0.001     3  True                            7\n"
     ]
    },
    {
     "name": "stderr",
     "output_type": "stream",
     "text": [
      " Simulating... : 100%|██████████| 594303/594303 [00:39<00:00, 14898.35it/s]\n"
     ]
    },
    {
     "name": "stdout",
     "output_type": "stream",
     "text": [
      "sim_name      init_signal    cushion    risk    rr  margin_closeout      streak_limit\n",
      "sim_1276               -1          2   0.001     3  False                           0\n"
     ]
    },
    {
     "name": "stderr",
     "output_type": "stream",
     "text": [
      " Simulating... : 100%|██████████| 594303/594303 [00:40<00:00, 14621.09it/s]\n"
     ]
    },
    {
     "name": "stdout",
     "output_type": "stream",
     "text": [
      "sim_name      init_signal    cushion    risk    rr  margin_closeout      streak_limit\n",
      "sim_1277               -1          2   0.002     3  True                            5\n"
     ]
    },
    {
     "name": "stderr",
     "output_type": "stream",
     "text": [
      " Simulating... : 100%|██████████| 594303/594303 [00:42<00:00, 13821.14it/s]\n"
     ]
    },
    {
     "name": "stdout",
     "output_type": "stream",
     "text": [
      "sim_name      init_signal    cushion    risk    rr  margin_closeout      streak_limit\n",
      "sim_1278               -1          2   0.002     3  True                            6\n"
     ]
    },
    {
     "name": "stderr",
     "output_type": "stream",
     "text": [
      " Simulating... : 100%|██████████| 594303/594303 [00:41<00:00, 14378.47it/s]\n"
     ]
    },
    {
     "name": "stdout",
     "output_type": "stream",
     "text": [
      "sim_name      init_signal    cushion    risk    rr  margin_closeout      streak_limit\n",
      "sim_1279               -1          2   0.002     3  True                            7\n"
     ]
    },
    {
     "name": "stderr",
     "output_type": "stream",
     "text": [
      " Simulating... : 100%|██████████| 594303/594303 [00:49<00:00, 12091.26it/s]\n"
     ]
    },
    {
     "name": "stdout",
     "output_type": "stream",
     "text": [
      "sim_name      init_signal    cushion    risk    rr  margin_closeout      streak_limit\n",
      "sim_1280               -1          2   0.002     3  False                           0\n"
     ]
    },
    {
     "name": "stderr",
     "output_type": "stream",
     "text": [
      " Simulating... : 100%|██████████| 594303/594303 [00:45<00:00, 12965.84it/s]\n"
     ]
    },
    {
     "name": "stdout",
     "output_type": "stream",
     "text": [
      "sim_name      init_signal    cushion    risk    rr  margin_closeout      streak_limit\n",
      "sim_1281               -1          2   0.003     3  True                            5\n"
     ]
    },
    {
     "name": "stderr",
     "output_type": "stream",
     "text": [
      " Simulating... : 100%|██████████| 594303/594303 [00:46<00:00, 12880.86it/s]\n"
     ]
    },
    {
     "name": "stdout",
     "output_type": "stream",
     "text": [
      "sim_name      init_signal    cushion    risk    rr  margin_closeout      streak_limit\n",
      "sim_1282               -1          2   0.003     3  True                            6\n"
     ]
    },
    {
     "name": "stderr",
     "output_type": "stream",
     "text": [
      " Simulating... : 100%|██████████| 594303/594303 [00:44<00:00, 13400.05it/s]\n"
     ]
    },
    {
     "name": "stdout",
     "output_type": "stream",
     "text": [
      "sim_name      init_signal    cushion    risk    rr  margin_closeout      streak_limit\n",
      "sim_1283               -1          2   0.003     3  True                            7\n"
     ]
    },
    {
     "name": "stderr",
     "output_type": "stream",
     "text": [
      " Simulating... : 100%|██████████| 594303/594303 [00:44<00:00, 13226.49it/s]\n"
     ]
    },
    {
     "name": "stdout",
     "output_type": "stream",
     "text": [
      "sim_name      init_signal    cushion    risk    rr  margin_closeout      streak_limit\n",
      "sim_1284               -1          2   0.003     3  False                           0\n"
     ]
    },
    {
     "name": "stderr",
     "output_type": "stream",
     "text": [
      " Simulating... : 100%|██████████| 594303/594303 [00:39<00:00, 15053.57it/s]\n"
     ]
    },
    {
     "name": "stdout",
     "output_type": "stream",
     "text": [
      "sim_name      init_signal    cushion    risk    rr  margin_closeout      streak_limit\n",
      "sim_1285               -1          2   0.004     3  True                            5\n"
     ]
    },
    {
     "name": "stderr",
     "output_type": "stream",
     "text": [
      " Simulating... : 100%|██████████| 594303/594303 [00:39<00:00, 15008.14it/s]\n"
     ]
    },
    {
     "name": "stdout",
     "output_type": "stream",
     "text": [
      "sim_name      init_signal    cushion    risk    rr  margin_closeout      streak_limit\n",
      "sim_1286               -1          2   0.004     3  True                            6\n"
     ]
    },
    {
     "name": "stderr",
     "output_type": "stream",
     "text": [
      " Simulating... : 100%|██████████| 594303/594303 [00:39<00:00, 14884.98it/s]\n"
     ]
    },
    {
     "name": "stdout",
     "output_type": "stream",
     "text": [
      "sim_name      init_signal    cushion    risk    rr  margin_closeout      streak_limit\n",
      "sim_1287               -1          2   0.004     3  True                            7\n"
     ]
    },
    {
     "name": "stderr",
     "output_type": "stream",
     "text": [
      " Simulating... : 100%|██████████| 594303/594303 [00:37<00:00, 15859.07it/s]\n"
     ]
    },
    {
     "name": "stdout",
     "output_type": "stream",
     "text": [
      "sim_name      init_signal    cushion    risk    rr  margin_closeout      streak_limit\n",
      "sim_1288               -1          2   0.004     3  False                           0\n"
     ]
    },
    {
     "name": "stderr",
     "output_type": "stream",
     "text": [
      " Simulating... : 100%|██████████| 594303/594303 [00:35<00:00, 16911.01it/s]\n"
     ]
    }
   ],
   "source": [
    "init_signal = [BUY, SELL]\n",
    "cushion = [1.2, 1.5, 2.0]\n",
    "rr = [1.5, 2, 3]\n",
    "risk = [0.0010, 0.0020, 0.0030, 0.0040]\n",
    "margin_closeout = [True, False]\n",
    "streak_trade_limit = [5, 6, 7] #, 8, 9, 10]\n",
    "\n",
    "counter = 1001\n",
    "inputs_list = list()\n",
    "for i_s in init_signal:\n",
    "    for c in cushion:\n",
    "        for r_r in rr:\n",
    "            for r in risk:\n",
    "                for m_c in margin_closeout:\n",
    "                    if m_c == True:\n",
    "                        for lim in streak_trade_limit:\n",
    "                            if counter > 1165:\n",
    "                                inputs = process_sim(\n",
    "                                    counter=counter,\n",
    "                                    init_signal=i_s,\n",
    "                                    cushion=c,\n",
    "                                    rr=r_r,\n",
    "                                    risk=r,\n",
    "                                    margin_closeout=m_c,\n",
    "                                    streak_trade_limit=lim,\n",
    "                                    inputs_list=inputs_list\n",
    "                                )  \n",
    "                            counter =  counter + 1\n",
    "                    else:\n",
    "                        if counter > 1165:\n",
    "                            inputs = process_sim(\n",
    "                                    counter=counter,\n",
    "                                    init_signal=i_s,\n",
    "                                    cushion=c,\n",
    "                                    rr=r_r,\n",
    "                                    risk=r,\n",
    "                                    margin_closeout=m_c,\n",
    "                                    streak_trade_limit=0,\n",
    "                                    inputs_list=inputs_list\n",
    "                                )\n",
    "                        counter =  counter + 1"
   ]
  },
  {
   "cell_type": "code",
   "execution_count": null,
   "metadata": {},
   "outputs": [],
   "source": []
  },
  {
   "cell_type": "code",
   "execution_count": null,
   "metadata": {},
   "outputs": [],
   "source": []
  },
  {
   "cell_type": "code",
   "execution_count": null,
   "metadata": {},
   "outputs": [],
   "source": []
  },
  {
   "cell_type": "code",
   "execution_count": null,
   "metadata": {},
   "outputs": [],
   "source": []
  },
  {
   "cell_type": "code",
   "execution_count": null,
   "metadata": {},
   "outputs": [],
   "source": []
  },
  {
   "cell_type": "code",
   "execution_count": null,
   "metadata": {},
   "outputs": [],
   "source": []
  },
  {
   "cell_type": "code",
   "execution_count": null,
   "metadata": {},
   "outputs": [],
   "source": []
  },
  {
   "cell_type": "code",
   "execution_count": null,
   "metadata": {},
   "outputs": [],
   "source": []
  },
  {
   "cell_type": "code",
   "execution_count": null,
   "metadata": {},
   "outputs": [],
   "source": []
  },
  {
   "cell_type": "code",
   "execution_count": null,
   "metadata": {},
   "outputs": [],
   "source": []
  },
  {
   "cell_type": "code",
   "execution_count": null,
   "metadata": {},
   "outputs": [],
   "source": []
  },
  {
   "cell_type": "code",
   "execution_count": null,
   "metadata": {},
   "outputs": [],
   "source": []
  }
 ],
 "metadata": {
  "kernelspec": {
   "display_name": "trade",
   "language": "python",
   "name": "python3"
  },
  "language_info": {
   "codemirror_mode": {
    "name": "ipython",
    "version": 3
   },
   "file_extension": ".py",
   "mimetype": "text/x-python",
   "name": "python",
   "nbconvert_exporter": "python",
   "pygments_lexer": "ipython3",
   "version": "3.10.13"
  }
 },
 "nbformat": 4,
 "nbformat_minor": 2
}
