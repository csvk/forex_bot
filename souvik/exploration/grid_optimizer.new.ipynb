{
 "cells": [
  {
   "cell_type": "code",
   "execution_count": 1,
   "metadata": {},
   "outputs": [],
   "source": [
    "from grid_optimizer import GridOptimizer"
   ]
  },
  {
   "cell_type": "code",
   "execution_count": 2,
   "metadata": {},
   "outputs": [],
   "source": [
    "data_path = '../data/'\n",
    "out_path = 'D:/Trading/ml4t-data/grid/'\n",
    "instruments = \"../data/instruments.json\""
   ]
  },
  {
   "cell_type": "code",
   "execution_count": 3,
   "metadata": {},
   "outputs": [],
   "source": [
    "checkpoint=0\n",
    "counter=8001\n",
    "start=0\n",
    "end=5000\n",
    "tickers=['EUR_USD']\n",
    "frequency=['M5']\n",
    "init_bal=[1000]\n",
    "init_trade_size=[1000]\n",
    "grid_pips=[10]\n",
    "sl_grid_count=[50]\n",
    "stop_loss_type=['margin_grid_count']\n",
    "margin_sl_percent=[0.90]\n",
    "sizing=['dynamic']\n",
    "cash_out_factor=[1.1, 1.9]\n",
    "inputs_file='inputs.8.csv'"
   ]
  },
  {
   "cell_type": "code",
   "execution_count": 4,
   "metadata": {},
   "outputs": [],
   "source": [
    "optim = GridOptimizer(\n",
    "    checkpoint=checkpoint,\n",
    "    counter=counter,\n",
    "    start=start,\n",
    "    end=end,\n",
    "    tickers=tickers,\n",
    "    frequency=frequency,\n",
    "    init_bal=init_bal,      \n",
    "    init_trade_size=init_trade_size,\n",
    "    grid_pips=grid_pips,\n",
    "    sl_grid_count=sl_grid_count,\n",
    "    stop_loss_type=stop_loss_type,\n",
    "    margin_sl_percent=margin_sl_percent,\n",
    "    sizing=sizing,\n",
    "    cash_out_factor=cash_out_factor,\n",
    "    data_path=data_path,\n",
    "    instruments=instruments,\n",
    "    out_path=out_path,\n",
    "    inputs_file=inputs_file\n",
    ")"
   ]
  },
  {
   "cell_type": "code",
   "execution_count": 5,
   "metadata": {},
   "outputs": [
    {
     "data": {
      "text/plain": [
       "{'checkpoint': 0, 'counter': 8001, 'start': 0, 'end': 5000, 'tickers': ['EUR_USD'], 'frequency': ['M5'], 'init_bal': [1000], 'init_trade_size': [1000], 'grid_pips': [10], 'sl_grid_count': [50], 'stop_loss_type': ['margin_grid_count'], 'margin_sl_percent': [0.9], 'sizing': ['dynamic'], 'cash_out_factor': [1.1, 1.9], 'data_path': '../data/', 'instruments': '../data/instruments.json', 'out_path': 'D:/Trading/ml4t-data/grid/', 'inputs_file': 'inputs.8.csv'}"
      ]
     },
     "execution_count": 5,
     "metadata": {},
     "output_type": "execute_result"
    }
   ],
   "source": [
    "optim"
   ]
  },
  {
   "cell_type": "code",
   "execution_count": 6,
   "metadata": {},
   "outputs": [
    {
     "name": "stdout",
     "output_type": "stream",
     "text": [
      "sim_name           init_trade_size    grid_pips  stop_loss_type       sl_grid_count    stoploss_pips    margin_sl_percent  sizing      cash_out_factor\n",
      "EUR_USD-M5-8001               1000           10  margin_grid_count               50              500                  0.9  dynamic                 1.1\n"
     ]
    },
    {
     "name": "stderr",
     "output_type": "stream",
     "text": [
      " Simulating... :   0%|          | 16/5000 [00:00<00:00, 5346.89it/s]"
     ]
    },
    {
     "name": "stdout",
     "output_type": "stream",
     "text": [
      "16 nan\n"
     ]
    },
    {
     "name": "stderr",
     "output_type": "stream",
     "text": [
      "\n"
     ]
    },
    {
     "ename": "ValueError",
     "evalue": "cannot convert float NaN to integer",
     "output_type": "error",
     "traceback": [
      "\u001b[1;31m---------------------------------------------------------------------------\u001b[0m",
      "\u001b[1;31mValueError\u001b[0m                                Traceback (most recent call last)",
      "Cell \u001b[1;32mIn[6], line 1\u001b[0m\n\u001b[1;32m----> 1\u001b[0m \u001b[43moptim\u001b[49m\u001b[38;5;241;43m.\u001b[39;49m\u001b[43mrun_optimizer\u001b[49m\u001b[43m(\u001b[49m\u001b[43m)\u001b[49m\n",
      "File \u001b[1;32md:\\OneDrive\\Studies\\forex_bot\\souvik\\exploration\\grid_optimizer.py:130\u001b[0m, in \u001b[0;36mGridOptimizer.run_optimizer\u001b[1;34m(self)\u001b[0m\n\u001b[0;32m    128\u001b[0m \u001b[38;5;28;01mfor\u001b[39;00m slgc \u001b[38;5;129;01min\u001b[39;00m \u001b[38;5;28mself\u001b[39m\u001b[38;5;241m.\u001b[39msl_grid_count:\n\u001b[0;32m    129\u001b[0m     \u001b[38;5;28;01mif\u001b[39;00m \u001b[38;5;28mself\u001b[39m\u001b[38;5;241m.\u001b[39mcounter \u001b[38;5;241m>\u001b[39m\u001b[38;5;241m=\u001b[39m \u001b[38;5;28mself\u001b[39m\u001b[38;5;241m.\u001b[39mcheckpoint:\n\u001b[1;32m--> 130\u001b[0m         \u001b[38;5;28;43mself\u001b[39;49m\u001b[38;5;241;43m.\u001b[39;49m\u001b[43mprocess_sim\u001b[49m\u001b[43m(\u001b[49m\n\u001b[0;32m    131\u001b[0m \u001b[43m            \u001b[49m\u001b[43mdf\u001b[49m\u001b[38;5;241;43m=\u001b[39;49m\u001b[43mdf\u001b[49m\u001b[43m,\u001b[49m\n\u001b[0;32m    132\u001b[0m \u001b[43m            \u001b[49m\u001b[43mticker\u001b[49m\u001b[38;5;241;43m=\u001b[39;49m\u001b[43mtk\u001b[49m\u001b[43m,\u001b[49m\n\u001b[0;32m    133\u001b[0m \u001b[43m            \u001b[49m\u001b[43mfrequency\u001b[49m\u001b[38;5;241;43m=\u001b[39;49m\u001b[43mf\u001b[49m\u001b[43m,\u001b[49m\n\u001b[0;32m    134\u001b[0m \u001b[43m            \u001b[49m\u001b[43minit_bal\u001b[49m\u001b[38;5;241;43m=\u001b[39;49m\u001b[43mib\u001b[49m\u001b[43m,\u001b[49m\n\u001b[0;32m    135\u001b[0m \u001b[43m            \u001b[49m\u001b[43minit_trade_size\u001b[49m\u001b[38;5;241;43m=\u001b[39;49m\u001b[43mt\u001b[49m\u001b[43m,\u001b[49m\n\u001b[0;32m    136\u001b[0m \u001b[43m            \u001b[49m\u001b[43mgrid_pips\u001b[49m\u001b[38;5;241;43m=\u001b[39;49m\u001b[43mg\u001b[49m\u001b[43m,\u001b[49m\n\u001b[0;32m    137\u001b[0m \u001b[43m            \u001b[49m\u001b[43msl_grid_count\u001b[49m\u001b[38;5;241;43m=\u001b[39;49m\u001b[43mslgc\u001b[49m\u001b[43m,\u001b[49m\n\u001b[0;32m    138\u001b[0m \u001b[43m            \u001b[49m\u001b[43mstop_loss_type\u001b[49m\u001b[38;5;241;43m=\u001b[39;49m\u001b[43msl\u001b[49m\u001b[43m,\u001b[49m\n\u001b[0;32m    139\u001b[0m \u001b[43m            \u001b[49m\u001b[43mmargin_sl_percent\u001b[49m\u001b[38;5;241;43m=\u001b[39;49m\u001b[43mmslp\u001b[49m\u001b[43m,\u001b[49m\n\u001b[0;32m    140\u001b[0m \u001b[43m            \u001b[49m\u001b[43msizing\u001b[49m\u001b[38;5;241;43m=\u001b[39;49m\u001b[43ms\u001b[49m\u001b[43m,\u001b[49m\n\u001b[0;32m    141\u001b[0m \u001b[43m            \u001b[49m\u001b[43mcash_out_factor\u001b[49m\u001b[38;5;241;43m=\u001b[39;49m\u001b[43mc\u001b[49m\n\u001b[0;32m    142\u001b[0m \u001b[43m        \u001b[49m\u001b[43m)\u001b[49m  \n\u001b[0;32m    143\u001b[0m     \u001b[38;5;28mself\u001b[39m\u001b[38;5;241m.\u001b[39mcounter \u001b[38;5;241m=\u001b[39m  \u001b[38;5;28mself\u001b[39m\u001b[38;5;241m.\u001b[39mcounter \u001b[38;5;241m+\u001b[39m \u001b[38;5;241m1\u001b[39m\n",
      "File \u001b[1;32md:\\OneDrive\\Studies\\forex_bot\\souvik\\exploration\\grid_optimizer.py:109\u001b[0m, in \u001b[0;36mGridOptimizer.process_sim\u001b[1;34m(self, df, ticker, frequency, init_bal, init_trade_size, grid_pips, sl_grid_count, stop_loss_type, margin_sl_percent, sizing, cash_out_factor)\u001b[0m\n\u001b[0;32m     92\u001b[0m \u001b[38;5;28mprint\u001b[39m(tabulate([inputs], header, tablefmt\u001b[38;5;241m=\u001b[39m\u001b[38;5;124m'\u001b[39m\u001b[38;5;124mplain\u001b[39m\u001b[38;5;124m'\u001b[39m))\n\u001b[0;32m     94\u001b[0m sim \u001b[38;5;241m=\u001b[39m GridSimulator(\n\u001b[0;32m     95\u001b[0m     name\u001b[38;5;241m=\u001b[39msim_name,\n\u001b[0;32m     96\u001b[0m     df\u001b[38;5;241m=\u001b[39mdf,\n\u001b[1;32m   (...)\u001b[0m\n\u001b[0;32m    106\u001b[0m     cash_out_factor\u001b[38;5;241m=\u001b[39mcash_out_factor\n\u001b[0;32m    107\u001b[0m )\n\u001b[1;32m--> 109\u001b[0m result \u001b[38;5;241m=\u001b[39m \u001b[43msim\u001b[49m\u001b[38;5;241;43m.\u001b[39;49m\u001b[43mrun_sim\u001b[49m\u001b[43m(\u001b[49m\u001b[43m)\u001b[49m\n\u001b[0;32m    110\u001b[0m \u001b[38;5;66;03m# result[~result.event_type.isnull()].to_csv(f'{self.out_path}{sim_name}.csv', index=False)\u001b[39;00m\n\u001b[0;32m    111\u001b[0m result\u001b[38;5;241m.\u001b[39mto_csv(\u001b[38;5;124mf\u001b[39m\u001b[38;5;124m'\u001b[39m\u001b[38;5;132;01m{\u001b[39;00m\u001b[38;5;28mself\u001b[39m\u001b[38;5;241m.\u001b[39mout_path\u001b[38;5;132;01m}\u001b[39;00m\u001b[38;5;132;01m{\u001b[39;00msim_name\u001b[38;5;132;01m}\u001b[39;00m\u001b[38;5;124m.csv\u001b[39m\u001b[38;5;124m'\u001b[39m, index\u001b[38;5;241m=\u001b[39m\u001b[38;5;28;01mFalse\u001b[39;00m)\n",
      "File \u001b[1;32md:\\OneDrive\\Studies\\forex_bot\\souvik\\exploration\\grid_simulator.py:384\u001b[0m, in \u001b[0;36mGridSimulator.run_sim\u001b[1;34m(self)\u001b[0m\n\u001b[0;32m    382\u001b[0m         \u001b[38;5;28mself\u001b[39m\u001b[38;5;241m.\u001b[39mtake_profit()\n\u001b[0;32m    383\u001b[0m         \u001b[38;5;28mself\u001b[39m\u001b[38;5;241m.\u001b[39mcash_transfer()\n\u001b[1;32m--> 384\u001b[0m         \u001b[38;5;28;43mself\u001b[39;49m\u001b[38;5;241;43m.\u001b[39;49m\u001b[43mentry\u001b[49m\u001b[43m(\u001b[49m\u001b[43m)\u001b[49m\n\u001b[0;32m    385\u001b[0m         \u001b[38;5;28mself\u001b[39m\u001b[38;5;241m.\u001b[39mupdate_ac_values()\n\u001b[0;32m    387\u001b[0m \u001b[38;5;28;01mreturn\u001b[39;00m \u001b[38;5;28mself\u001b[39m\u001b[38;5;241m.\u001b[39md\u001b[38;5;241m.\u001b[39mdf[\u001b[38;5;28mself\u001b[39m\u001b[38;5;241m.\u001b[39mname]\u001b[38;5;241m.\u001b[39mcopy()\n",
      "File \u001b[1;32md:\\OneDrive\\Studies\\forex_bot\\souvik\\exploration\\grid_simulator.py:214\u001b[0m, in \u001b[0;36mGridSimulator.entry\u001b[1;34m(self)\u001b[0m\n\u001b[0;32m    212\u001b[0m     trade_size \u001b[38;5;241m=\u001b[39m \u001b[38;5;28mself\u001b[39m\u001b[38;5;241m.\u001b[39minit_trade_size\n\u001b[0;32m    213\u001b[0m \u001b[38;5;28;01melse\u001b[39;00m:\n\u001b[1;32m--> 214\u001b[0m     trade_size \u001b[38;5;241m=\u001b[39m \u001b[38;5;28;43mself\u001b[39;49m\u001b[38;5;241;43m.\u001b[39;49m\u001b[43mdynamic_trade_size\u001b[49m\u001b[43m(\u001b[49m\u001b[43m)\u001b[49m \u001b[38;5;28;01mif\u001b[39;00m \u001b[38;5;28mself\u001b[39m\u001b[38;5;241m.\u001b[39msizing \u001b[38;5;241m==\u001b[39m \u001b[38;5;124m'\u001b[39m\u001b[38;5;124mdynamic\u001b[39m\u001b[38;5;124m'\u001b[39m \u001b[38;5;28;01melse\u001b[39;00m \u001b[38;5;28mself\u001b[39m\u001b[38;5;241m.\u001b[39minit_trade_size\n\u001b[0;32m    216\u001b[0m open_longs \u001b[38;5;241m=\u001b[39m \u001b[38;5;28mself\u001b[39m\u001b[38;5;241m.\u001b[39md\u001b[38;5;241m.\u001b[39mfdata(\u001b[38;5;124m'\u001b[39m\u001b[38;5;124mopen_longs\u001b[39m\u001b[38;5;124m'\u001b[39m, \u001b[38;5;28mself\u001b[39m\u001b[38;5;241m.\u001b[39mi)\u001b[38;5;241m.\u001b[39mcopy() \u001b[38;5;28;01mif\u001b[39;00m \u001b[38;5;28mtype\u001b[39m(\u001b[38;5;28mself\u001b[39m\u001b[38;5;241m.\u001b[39md\u001b[38;5;241m.\u001b[39mfdata(\u001b[38;5;124m'\u001b[39m\u001b[38;5;124mopen_longs\u001b[39m\u001b[38;5;124m'\u001b[39m, \u001b[38;5;28mself\u001b[39m\u001b[38;5;241m.\u001b[39mi)) \u001b[38;5;241m==\u001b[39m \u001b[38;5;28mdict\u001b[39m \u001b[38;5;28;01melse\u001b[39;00m \u001b[38;5;28mdict\u001b[39m()\n\u001b[0;32m    217\u001b[0m open_shorts \u001b[38;5;241m=\u001b[39m \u001b[38;5;28mself\u001b[39m\u001b[38;5;241m.\u001b[39md\u001b[38;5;241m.\u001b[39mfdata(\u001b[38;5;124m'\u001b[39m\u001b[38;5;124mopen_shorts\u001b[39m\u001b[38;5;124m'\u001b[39m, \u001b[38;5;28mself\u001b[39m\u001b[38;5;241m.\u001b[39mi)\u001b[38;5;241m.\u001b[39mcopy() \u001b[38;5;28;01mif\u001b[39;00m \u001b[38;5;28mtype\u001b[39m(\u001b[38;5;28mself\u001b[39m\u001b[38;5;241m.\u001b[39md\u001b[38;5;241m.\u001b[39mfdata(\u001b[38;5;124m'\u001b[39m\u001b[38;5;124mopen_shorts\u001b[39m\u001b[38;5;124m'\u001b[39m, \u001b[38;5;28mself\u001b[39m\u001b[38;5;241m.\u001b[39mi)) \u001b[38;5;241m==\u001b[39m \u001b[38;5;28mdict\u001b[39m \u001b[38;5;28;01melse\u001b[39;00m \u001b[38;5;28mdict\u001b[39m()\n",
      "File \u001b[1;32md:\\OneDrive\\Studies\\forex_bot\\souvik\\exploration\\grid_simulator.py:168\u001b[0m, in \u001b[0;36mGridSimulator.dynamic_trade_size\u001b[1;34m(self)\u001b[0m\n\u001b[0;32m    166\u001b[0m net_bal, _ \u001b[38;5;241m=\u001b[39m \u001b[38;5;28mself\u001b[39m\u001b[38;5;241m.\u001b[39mcurrent_ac_values()\n\u001b[0;32m    167\u001b[0m \u001b[38;5;28mprint\u001b[39m(\u001b[38;5;28mself\u001b[39m\u001b[38;5;241m.\u001b[39mi, net_bal)\n\u001b[1;32m--> 168\u001b[0m \u001b[38;5;28;01mreturn\u001b[39;00m \u001b[38;5;28;43mint\u001b[39;49m\u001b[43m(\u001b[49m\u001b[43mnet_bal\u001b[49m\u001b[43m \u001b[49m\u001b[38;5;241;43m*\u001b[39;49m\u001b[43m \u001b[49m\u001b[38;5;28;43mself\u001b[39;49m\u001b[38;5;241;43m.\u001b[39;49m\u001b[43msizing_ratio\u001b[49m\u001b[43m)\u001b[49m\n",
      "\u001b[1;31mValueError\u001b[0m: cannot convert float NaN to integer"
     ]
    }
   ],
   "source": [
    "optim.run_optimizer()"
   ]
  },
  {
   "cell_type": "code",
   "execution_count": null,
   "metadata": {},
   "outputs": [],
   "source": [
    "# from data import Data\n",
    "\n",
    "# df = optim.read_data(ticker=tickers[0], frequency=frequency[0]).iloc[start:end]\n",
    "\n",
    "# d = Data(\n",
    "#     source=df.copy(),\n",
    "#     ticker=tickers[0],\n",
    "#     cols=['time', 'mid_c', 'bid_c', 'ask_c'],\n",
    "#     instruments=instruments\n",
    "#     )"
   ]
  },
  {
   "cell_type": "code",
   "execution_count": null,
   "metadata": {},
   "outputs": [],
   "source": [
    "# d.ticker['marginRate']"
   ]
  },
  {
   "cell_type": "code",
   "execution_count": null,
   "metadata": {},
   "outputs": [],
   "source": [
    "# run_optimizer(\n",
    "#     checkpoint=1,\n",
    "#     counter=8001,\n",
    "#     start=1,\n",
    "#     end=5000,\n",
    "#     tickers=['EUR_USD'],\n",
    "#     frequency=['M5'],\n",
    "#     init_bal=[1000],\n",
    "#     init_trade_size=[1000],\n",
    "#     grid_pips=[10],\n",
    "#     sl_grid_count=[50],\n",
    "#     stop_loss=['margin_grid_count'],\n",
    "#     margin_sl_percent=[0.90],\n",
    "#     sizing=['dynamic'],\n",
    "#     cash_out_factor=[1.1],\n",
    "#     INPUTS_FILE='inputs.8a.csv'\n",
    "# )"
   ]
  },
  {
   "cell_type": "code",
   "execution_count": null,
   "metadata": {},
   "outputs": [],
   "source": [
    "# run_optimizer(\n",
    "#     checkpoint=1,\n",
    "#     counter=8001,\n",
    "#     start=None,\n",
    "#     end=None,\n",
    "#     tickers=['EUR_USD'],\n",
    "#     frequency=['M5'],\n",
    "#     init_bal=[1000],\n",
    "#     init_trade_size=[1000],\n",
    "#     grid_pips=[10, 20, 30, 40, 50, 60, 100],\n",
    "#     sl_grid_count=[5, 10, 15, 20, 30, 50, 100],\n",
    "#     stop_loss=['margin_grid_count'],\n",
    "#     margin_sl_percent=[0.90, 0.80, 0.70],\n",
    "#     sizing=['dynamic', 'static'],\n",
    "#     cash_out_factor=[1.1, 1.25, 1.5, 1.75],\n",
    "#     INPUTS_FILE='inputs.8.csv'\n",
    "# )"
   ]
  }
 ],
 "metadata": {
  "kernelspec": {
   "display_name": "trade",
   "language": "python",
   "name": "python3"
  },
  "language_info": {
   "codemirror_mode": {
    "name": "ipython",
    "version": 3
   },
   "file_extension": ".py",
   "mimetype": "text/x-python",
   "name": "python",
   "nbconvert_exporter": "python",
   "pygments_lexer": "ipython3",
   "version": "3.10.13"
  }
 },
 "nbformat": 4,
 "nbformat_minor": 2
}
