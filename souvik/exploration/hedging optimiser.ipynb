{
 "cells": [
  {
   "cell_type": "code",
   "execution_count": 1,
   "metadata": {},
   "outputs": [],
   "source": [
    "import sys\n",
    "sys.path.append(\"../\")"
   ]
  },
  {
   "cell_type": "code",
   "execution_count": 2,
   "metadata": {},
   "outputs": [],
   "source": [
    "import pandas as pd\n",
    "import datetime as dt\n",
    "import math\n",
    "import plotly.graph_objects as go\n",
    "from plotting import CandlePlot\n",
    "from tqdm import tqdm\n",
    "from tabulate import tabulate\n",
    "import pickle as pkl\n",
    "pd.set_option(\"display.max_columns\", None)"
   ]
  },
  {
   "cell_type": "code",
   "execution_count": 3,
   "metadata": {},
   "outputs": [],
   "source": [
    "class Data:\n",
    "    \n",
    "    def __init__(self, path):\n",
    "        self.df = {\n",
    "            'raw': pd.read_pickle(path)\n",
    "        }\n",
    "        if 'time' in self.df['raw'].columns:\n",
    "            self.df['raw']['time'] = [ x.replace(tzinfo=None) for x in self.df['raw']['time']]\n",
    "\n",
    "    def __repr__(self) -> str:\n",
    "        repr = str()\n",
    "        for name, df in self.df.items():\n",
    "            repr = repr + name + ':\\n' + str(df.head(3)) + '\\n'\n",
    "        return repr\n",
    "\n",
    "    def shorten(self, name: str, rows: int, direction: int, source: str='raw', cols: list=None):\n",
    "        '''Create new dataframe with specified list of columns and number of rows\n",
    "        direction: 1 if data should be selected from top and -1 if from bottom\n",
    "        '''\n",
    "        assert (direction != 1 or direction != -1), 'direction must be 1 (top) or -1 (bottom)'\n",
    "        \n",
    "        if cols == None:\n",
    "            cols = self.df[source].columns\n",
    "        if direction == 1:\n",
    "            self.df[name] = self.df[source][cols].iloc[:rows].copy()\n",
    "        else:\n",
    "            self.df[name] = self.df[source][cols].iloc[-rows:].copy()\n",
    "        self.df[name].reset_index(drop=True, inplace=True)\n",
    "\n",
    "    def add_columns(self, name: str, cols: list):\n",
    "        '''Add new columns to component dataframes\n",
    "        '''        \n",
    "        exist_cols = list(self.df[name].columns)\n",
    "        cols = exist_cols + cols\n",
    "        self.df[name] = self.df[name].reindex(columns = cols) \n",
    "\n",
    "    def prepare_fast_data(self, name: str):\n",
    "        '''Prepare data as an array for fast processing\n",
    "        fcols = {col1: col1_index, col2: col2_index, .... }     \n",
    "        fdata = [array[col1], array[col2], array[col3], .... ]\n",
    "        Accessed by: self.fdata[fcols[column_name]] for whole column or\n",
    "                     self.fdata[fcols[column_name]][row_index] for a specific row item\n",
    "        '''\n",
    "        self.fcols = dict()\n",
    "        for i in range(len(self.df[name].columns)):\n",
    "            self.fcols[self.df[name].columns[i]] = i\n",
    "        self.fdata = [self.df[name][col].array for col in self.df[name].columns]"
   ]
  },
  {
   "cell_type": "code",
   "execution_count": 4,
   "metadata": {},
   "outputs": [],
   "source": [
    "d = Data(\"../data/EUR_USD_M5.pkl\")"
   ]
  },
  {
   "cell_type": "code",
   "execution_count": 5,
   "metadata": {},
   "outputs": [],
   "source": [
    "our_cols = ['time', 'bid_o', 'bid_h', 'bid_l', 'bid_c', 'ask_o', 'ask_h', 'ask_l', 'ask_c', 'mid_c']\n",
    "max = d.df['raw'].shape[0]\n"
   ]
  },
  {
   "cell_type": "code",
   "execution_count": 6,
   "metadata": {},
   "outputs": [],
   "source": [
    "BUY = 1\n",
    "SELL = -1\n",
    "CLOSE = 2\n",
    "NONE = 0\n",
    "BASE_TRADESIZE = 100\n",
    "MARGIN_RATE = 0.03333333333333\n",
    "INIT_BAL = 1000"
   ]
  },
  {
   "cell_type": "code",
   "execution_count": 7,
   "metadata": {},
   "outputs": [],
   "source": [
    "def set_price(i: int, buy_price: float, sell_price: float, reward: float):\n",
    "    d.fdata[d.fcols['buy_price']][i] = buy_price\n",
    "    d.fdata[d.fcols['buy_tp_price']][i] = buy_price + reward\n",
    "    d.fdata[d.fcols['sell_price']][i] = sell_price\n",
    "    d.fdata[d.fcols['sell_tp_price']][i] = sell_price - reward\n",
    "\n",
    "def set_position_size(i: int, rr: float, cushion: float, new_streak: bool=False):\n",
    "    if new_streak == True:\n",
    "        # print('i', i, 'rr', rr, 'cus', cushion, 'new_streak', new_streak)\n",
    "        d.fdata[d.fcols['position_size']][i] = BASE_TRADESIZE\n",
    "        d.fdata[d.fcols['cum_position_size']][i] = BASE_TRADESIZE\n",
    "    else:\n",
    "        prev_size = d.fdata[d.fcols['cum_position_size']][i-1]\n",
    "        # print('i', i, 'prev_size', prev_size, 'rr', rr, 'cus', cushion,'new_streak', new_streak)\n",
    "        d.fdata[d.fcols['position_size']][i] = math.ceil(prev_size / rr * cushion)\n",
    "        d.fdata[d.fcols['cum_position_size']][i] = prev_size + d.fdata[d.fcols['position_size']][i]\n",
    "\n",
    "def set_ac_bal(i: int, prev_signal: int, reverse: bool):\n",
    "    if reverse == True: # Stop loss\n",
    "        sell_at = 'ask_l'\n",
    "        buy_at = 'bid_h'\n",
    "    else: # Take profit\n",
    "        sell_at = 'ask_h'\n",
    "        buy_at = 'bid_l'\n",
    "\n",
    "    if prev_signal == BUY:\n",
    "        d.fdata[d.fcols['realised_pl']][i] = (d.fdata[d.fcols[sell_at]][i] - d.fdata[d.fcols['buy_price']][i-1]) * \\\n",
    "            d.fdata[d.fcols['position_size']][i-1]\n",
    "    elif prev_signal == SELL:\n",
    "        d.fdata[d.fcols['realised_pl']][i] = (d.fdata[d.fcols['sell_price']][i-1] - d.fdata[d.fcols[buy_at]][i]) * \\\n",
    "            d.fdata[d.fcols['position_size']][i-1]\n",
    "    d.fdata[d.fcols['ac_bal']][i] = d.fdata[d.fcols['ac_bal']][i-1] + d.fdata[d.fcols['realised_pl']][i]\n",
    "               \n",
    "\n",
    "def make_trade(i: int, signal: int, risk: float, rr: float, cushion: float, new_streak=False, reverse=True) -> int:\n",
    "    # print(i, 'open_position')\n",
    "    if reverse:\n",
    "        prev_signal = BUY if signal == SELL else SELL\n",
    "    else:\n",
    "        prev_signal = BUY if signal == BUY else SELL\n",
    "    d.fdata[d.fcols['signal']][i] = signal\n",
    "    set_position_size(i=i, rr=rr, cushion=cushion, new_streak=new_streak)\n",
    "\n",
    "    if new_streak == True:\n",
    "        d.fdata[d.fcols['trade_no']][i] = 1\n",
    "        if i == 0:\n",
    "            d.fdata[d.fcols['streak_no']][i] = 1\n",
    "            d.fdata[d.fcols['ac_bal']][i] = INIT_BAL\n",
    "        else:\n",
    "            d.fdata[d.fcols['streak_no']][i] = d.fdata[d.fcols['streak_no']][i-1] + 1\n",
    "            set_ac_bal(i, prev_signal, reverse)\n",
    "        d.fdata[d.fcols['realised_pl']][i] = 0 # Overwrite value for new streak\n",
    "\n",
    "    else:\n",
    "        d.fdata[d.fcols['trade_no']][i] = d.fdata[d.fcols['trade_no']][i-1] + 1\n",
    "        d.fdata[d.fcols['streak_no']][i] = d.fdata[d.fcols['streak_no']][i-1]\n",
    "        set_ac_bal(i, prev_signal, reverse)\n",
    "\n",
    "    if signal == BUY:\n",
    "        buy_price = d.fdata[d.fcols['bid_h']][i]\n",
    "        sell_price = buy_price - risk\n",
    "        set_price(i, buy_price, sell_price, risk * rr)\n",
    "        d.fdata[d.fcols['unrealised_pl']][i] = \\\n",
    "            (d.fdata[d.fcols['mid_c']][i] - d.fdata[d.fcols['buy_price']][i]) * d.fdata[d.fcols['position_size']][i]\n",
    "    elif signal == SELL:\n",
    "        sell_price = d.fdata[d.fcols['ask_l']][i]\n",
    "        buy_price = sell_price + risk\n",
    "        set_price(i, buy_price, sell_price, risk * rr)\n",
    "        d.fdata[d.fcols['unrealised_pl']][i] = \\\n",
    "            (d.fdata[d.fcols['sell_price']][i] - d.fdata[d.fcols['mid_c']][i]) * d.fdata[d.fcols['position_size']][i]\n",
    "\n",
    "    d.fdata[d.fcols['margin_used']][i] = d.fdata[d.fcols['position_size']][i] * MARGIN_RATE\n",
    "    d.fdata[d.fcols['margin_closeout']][i] = d.fdata[d.fcols['ac_bal']][i] + d.fdata[d.fcols['unrealised_pl']][i]\n",
    "\n",
    "    # print(i, d.df['analysis'].iloc[i])\n",
    "    # print(d.fdata[d.fcols['realised_pl']][i])\n",
    "    return signal\n",
    "\n",
    "def open_new_streak(i: int, signal: int, risk: float, rr: float, cushion: float, reverse: bool=False) -> int:\n",
    "    return make_trade(i=i, signal=signal, risk=risk, rr=rr, cushion=cushion, new_streak=True, reverse=reverse)\n",
    "\n",
    "def reverse_position(i: int, position: int, risk: float, rr: float, cushion: float) -> int:\n",
    "    signal = BUY if position == SELL else SELL\n",
    "    return make_trade(i=i, signal=signal, risk=risk, rr=rr, cushion=cushion, new_streak=False)\n",
    "    \n"
   ]
  },
  {
   "cell_type": "code",
   "execution_count": 8,
   "metadata": {},
   "outputs": [],
   "source": [
    "def no_signal_update_values(i: int, position: int):\n",
    "    # print(i, 'no_signal_update_values')\n",
    "    d.fdata[d.fcols['signal']][i] = NONE\n",
    "    d.fdata[d.fcols['trade_no']][i] = d.fdata[d.fcols['trade_no']][i-1]\n",
    "    d.fdata[d.fcols['streak_no']][i] = d.fdata[d.fcols['streak_no']][i-1]\n",
    "    d.fdata[d.fcols['position_size']][i] = d.fdata[d.fcols['position_size']][i-1]\n",
    "    d.fdata[d.fcols['cum_position_size']][i] = d.fdata[d.fcols['cum_position_size']][i-1]\n",
    "    d.fdata[d.fcols['buy_price']][i] = d.fdata[d.fcols['buy_price']][i-1]\n",
    "    d.fdata[d.fcols['buy_tp_price']][i] = d.fdata[d.fcols['buy_tp_price']][i-1]\n",
    "    d.fdata[d.fcols['sell_price']][i] = d.fdata[d.fcols['sell_price']][i-1]\n",
    "    d.fdata[d.fcols['sell_tp_price']][i] = d.fdata[d.fcols['sell_tp_price']][i-1]\n",
    "    d.fdata[d.fcols['realised_pl']][i] = d.fdata[d.fcols['realised_pl']][i-1]\n",
    "    d.fdata[d.fcols['ac_bal']][i] = d.fdata[d.fcols['ac_bal']][i-1]\n",
    "    d.fdata[d.fcols['margin_used']][i] = d.fdata[d.fcols['margin_used']][i-1]\n",
    "\n",
    "    if position == BUY:\n",
    "        d.fdata[d.fcols['unrealised_pl']][i] = \\\n",
    "            (d.fdata[d.fcols['mid_c']][i] - d.fdata[d.fcols['buy_price']][i]) * d.fdata[d.fcols['position_size']][i]\n",
    "    elif position == SELL:\n",
    "        d.fdata[d.fcols['unrealised_pl']][i] = \\\n",
    "            (d.fdata[d.fcols['sell_price']][i] - d.fdata[d.fcols['mid_c']][i]) * d.fdata[d.fcols['position_size']][i]\n",
    "    \n",
    "    d.fdata[d.fcols['margin_closeout']][i] = d.fdata[d.fcols['ac_bal']][i] + d.fdata[d.fcols['unrealised_pl']][i]    \n",
    "    # print(i, d.df['analysis'].iloc[i])"
   ]
  },
  {
   "cell_type": "code",
   "execution_count": 9,
   "metadata": {},
   "outputs": [],
   "source": [
    "INIT_SIGNAL = SELL\n",
    "CUSHION = 2\n",
    "RR = 1.5\n",
    "RISK = 0.0040\n",
    "MARGIN_CLOSEOUT = False\n",
    "STREAK_TRADE_LIMIT = 10"
   ]
  },
  {
   "cell_type": "code",
   "execution_count": 10,
   "metadata": {},
   "outputs": [],
   "source": [
    "def run_sim(sim_name: str, init_signal: int, cushion: float, rr: float, risk: float, margin_closeout: bool, streak_trade_limit: int ) -> pd.DataFrame:\n",
    "    INIT_SIGNAL = init_signal\n",
    "    CUSHION = cushion\n",
    "    RR = rr\n",
    "    RISK = risk\n",
    "    MARGIN_CLOSEOUT = margin_closeout\n",
    "    STREAK_TRADE_LIMIT = streak_trade_limit\n",
    "\n",
    "    d.shorten(name=sim_name, rows=max, direction=1, cols=our_cols)\n",
    "    d.add_columns(name=sim_name, cols=['signal', 'streak_no', 'trade_no', 'position_size', 'cum_position_size', 'buy_price', 'sell_price', 'buy_tp_price', 'sell_tp_price', 'unrealised_pl', 'realised_pl', 'ac_bal', 'margin_used', 'margin_closeout', ])\n",
    "    d.prepare_fast_data(sim_name)\n",
    "\n",
    "    candles = d.fdata[0].shape[0]\n",
    "    position = NONE\n",
    "    for i in tqdm(range(candles), desc=\" Simulating... \"):       \n",
    "        # First candle\n",
    "        if i == 0:\n",
    "            # print(i, position, 'before call')\n",
    "            # print(i, '#### First candle')\n",
    "            position = open_new_streak(i=i, signal=INIT_SIGNAL,  risk=RISK, rr=RR, cushion=CUSHION)\n",
    "        \n",
    "        # Subsequent candles\n",
    "        else:\n",
    "            # Reduce trade size to avoid large loss or Margin closeout\n",
    "            # if d.fdata[d.fcols['margin_closeout']][i-1] < d.fdata[d.fcols['margin_used']][i-1]: \n",
    "            if ((position == BUY and d.fdata[d.fcols['ask_l']][i] <= d.fdata[d.fcols['sell_price']][i-1]) or \\\n",
    "                (position == SELL and d.fdata[d.fcols['bid_h']][i] >= d.fdata[d.fcols['buy_price']][i-1])) and \\\n",
    "                d.fdata[d.fcols['trade_no']][i-1] == STREAK_TRADE_LIMIT and MARGIN_CLOSEOUT == True:\n",
    "                # print(i, '#### Margin closeout')\n",
    "                position = open_new_streak(i=i, signal=position, risk=RISK, rr=RR, cushion=CUSHION, reverse=True)\n",
    "            \n",
    "            # Reverse trade on hitting Stop Loss\n",
    "            ## From Buy to Sell  \n",
    "            elif position == BUY and d.fdata[d.fcols['ask_l']][i] <= d.fdata[d.fcols['sell_price']][i-1]:\n",
    "                # position = SELL\n",
    "                # print(i, position, 'before call')\n",
    "                # print(i, '#### Reverse Buy to Sell')\n",
    "                position = reverse_position(i=i, position=position, risk=RISK, rr=RR, cushion=CUSHION)\n",
    "\n",
    "            ## From Sell to Buy \n",
    "            elif position == SELL and d.fdata[d.fcols['bid_h']][i] >= d.fdata[d.fcols['buy_price']][i-1]:\n",
    "                # position = BUY\n",
    "                # print(i, position, 'before call')\n",
    "                # print(i, '#### Reverse Sell to Buy')\n",
    "                position = reverse_position(i=i, position=position, risk=RISK, rr=RR, cushion=CUSHION)\n",
    "\n",
    "            # Take profit and initiate new trade in same direction on hitting Take Profit\n",
    "            ## Take Profit on long position\n",
    "            elif position == BUY and d.fdata[d.fcols['ask_h']][i] >= d.fdata[d.fcols['buy_tp_price']][i-1]:\n",
    "                # print(i, '#### TP Long')\n",
    "                position = open_new_streak(i=i, signal=position, risk=RISK, rr=RR, cushion=CUSHION)\n",
    "                \n",
    "            ## Take Profit on short position\n",
    "            elif position == SELL and d.fdata[d.fcols['bid_l']][i] <= d.fdata[d.fcols['sell_tp_price']][i-1]:\n",
    "                # print(i, '#### TP Short')\n",
    "                position = open_new_streak(i=i, signal=position, risk=RISK, rr=RR, cushion=CUSHION)     \n",
    "                    \n",
    "            # New trade\n",
    "            \n",
    "            # Update values when there is no signal\n",
    "            else:\n",
    "                # print(i, 'None', 'before call')\n",
    "                # print(i, '#### No signal')\n",
    "                no_signal_update_values(i=i, position=position)   \n",
    "\n",
    "    return dict(\n",
    "        sim_name = sim_name,\n",
    "        init_signal = INIT_SIGNAL,\n",
    "        cushion = CUSHION,\n",
    "        risk = RISK,\n",
    "        rr = RR,\n",
    "        margin_closeout = MARGIN_CLOSEOUT,\n",
    "        streak_limit = STREAK_TRADE_LIMIT,\n",
    "        results = d.df[sim_name]\n",
    "    )"
   ]
  },
  {
   "cell_type": "code",
   "execution_count": 11,
   "metadata": {},
   "outputs": [],
   "source": [
    "def process_sim(counter: int, init_signal: int, cushion: float, rr: float, risk: float, margin_closeout: bool, streak_trade_limit: int, inputs_list: list):\n",
    "    sim_name = f'sim_{counter}'\n",
    "    header = ['sim_name', 'init_signal', 'cushion', 'risk', 'rr', 'margin_closeout', 'streak_limit']\n",
    "    inputs = [sim_name, init_signal, cushion, risk, rr, margin_closeout, streak_trade_limit]\n",
    "    print(tabulate([inputs], header, tablefmt='plain'))\n",
    "    result= run_sim(\n",
    "        sim_name=sim_name,\n",
    "        init_signal=init_signal,\n",
    "        cushion=cushion,\n",
    "        rr=rr,\n",
    "        risk=risk,\n",
    "        margin_closeout=margin_closeout,\n",
    "        streak_trade_limit=streak_trade_limit\n",
    "    )\n",
    "    # print('Saving files...')\n",
    "    with open(f'../outputs/{sim_name}.pkl', 'wb') as file:\n",
    "        pkl.dump(result, file)\n",
    "\n",
    "    inputs_list.append(inputs)\n",
    "    header = ['sim_name', 'init_signal', 'cushion', 'risk', 'rr', 'margin_closeout', 'streak_limit']\n",
    "    inputs_df = pd.DataFrame(inputs_list, columns=header)\n",
    "    inputs_df.to_pickle('../outputs/inputs1.pkl')\n",
    "    \n",
    "    counter =  counter + 1\n",
    "    return inputs"
   ]
  },
  {
   "cell_type": "code",
   "execution_count": 12,
   "metadata": {},
   "outputs": [
    {
     "name": "stdout",
     "output_type": "stream",
     "text": [
      "sim_name      init_signal    cushion    risk    rr  margin_closeout      streak_limit\n",
      "sim_164                -1        1.2   0.001     2  False                           0\n"
     ]
    },
    {
     "name": "stderr",
     "output_type": "stream",
     "text": [
      " Simulating... : 100%|██████████| 594303/594303 [00:27<00:00, 21611.07it/s]\n"
     ]
    },
    {
     "name": "stdout",
     "output_type": "stream",
     "text": [
      "sim_name      init_signal    cushion    risk    rr  margin_closeout      streak_limit\n",
      "sim_165                -1        1.2   0.002     2  True                            2\n"
     ]
    },
    {
     "name": "stderr",
     "output_type": "stream",
     "text": [
      " Simulating... : 100%|██████████| 594303/594303 [00:29<00:00, 20020.05it/s]\n"
     ]
    },
    {
     "name": "stdout",
     "output_type": "stream",
     "text": [
      "sim_name      init_signal    cushion    risk    rr  margin_closeout      streak_limit\n",
      "sim_166                -1        1.2   0.002     2  True                            3\n"
     ]
    },
    {
     "name": "stderr",
     "output_type": "stream",
     "text": [
      " Simulating... : 100%|██████████| 594303/594303 [00:31<00:00, 18811.63it/s]\n"
     ]
    },
    {
     "name": "stdout",
     "output_type": "stream",
     "text": [
      "sim_name      init_signal    cushion    risk    rr  margin_closeout      streak_limit\n",
      "sim_167                -1        1.2   0.002     2  True                            4\n"
     ]
    },
    {
     "name": "stderr",
     "output_type": "stream",
     "text": [
      " Simulating... : 100%|██████████| 594303/594303 [00:37<00:00, 15936.03it/s]\n"
     ]
    },
    {
     "name": "stdout",
     "output_type": "stream",
     "text": [
      "sim_name      init_signal    cushion    risk    rr  margin_closeout      streak_limit\n",
      "sim_168                -1        1.2   0.002     2  False                           0\n"
     ]
    },
    {
     "name": "stderr",
     "output_type": "stream",
     "text": [
      " Simulating... : 100%|██████████| 594303/594303 [00:35<00:00, 16554.16it/s]\n"
     ]
    },
    {
     "name": "stdout",
     "output_type": "stream",
     "text": [
      "sim_name      init_signal    cushion    risk    rr  margin_closeout      streak_limit\n",
      "sim_169                -1        1.2   0.003     2  True                            2\n"
     ]
    },
    {
     "name": "stderr",
     "output_type": "stream",
     "text": [
      " Simulating... : 100%|██████████| 594303/594303 [00:35<00:00, 16511.61it/s]\n"
     ]
    },
    {
     "name": "stdout",
     "output_type": "stream",
     "text": [
      "sim_name      init_signal    cushion    risk    rr  margin_closeout      streak_limit\n",
      "sim_170                -1        1.2   0.003     2  True                            3\n"
     ]
    },
    {
     "name": "stderr",
     "output_type": "stream",
     "text": [
      " Simulating... : 100%|██████████| 594303/594303 [00:36<00:00, 16370.83it/s]\n"
     ]
    },
    {
     "name": "stdout",
     "output_type": "stream",
     "text": [
      "sim_name      init_signal    cushion    risk    rr  margin_closeout      streak_limit\n",
      "sim_171                -1        1.2   0.003     2  True                            4\n"
     ]
    },
    {
     "name": "stderr",
     "output_type": "stream",
     "text": [
      " Simulating... : 100%|██████████| 594303/594303 [00:36<00:00, 16244.23it/s]\n"
     ]
    },
    {
     "name": "stdout",
     "output_type": "stream",
     "text": [
      "sim_name      init_signal    cushion    risk    rr  margin_closeout      streak_limit\n",
      "sim_172                -1        1.2   0.003     2  False                           0\n"
     ]
    },
    {
     "name": "stderr",
     "output_type": "stream",
     "text": [
      " Simulating... : 100%|██████████| 594303/594303 [00:39<00:00, 14990.68it/s]\n"
     ]
    },
    {
     "name": "stdout",
     "output_type": "stream",
     "text": [
      "sim_name      init_signal    cushion    risk    rr  margin_closeout      streak_limit\n",
      "sim_173                -1        1.2   0.004     2  True                            2\n"
     ]
    },
    {
     "name": "stderr",
     "output_type": "stream",
     "text": [
      " Simulating... : 100%|██████████| 594303/594303 [00:37<00:00, 16023.58it/s]\n"
     ]
    },
    {
     "name": "stdout",
     "output_type": "stream",
     "text": [
      "sim_name      init_signal    cushion    risk    rr  margin_closeout      streak_limit\n",
      "sim_174                -1        1.2   0.004     2  True                            3\n"
     ]
    },
    {
     "name": "stderr",
     "output_type": "stream",
     "text": [
      " Simulating... : 100%|██████████| 594303/594303 [00:37<00:00, 16006.89it/s]\n"
     ]
    },
    {
     "name": "stdout",
     "output_type": "stream",
     "text": [
      "sim_name      init_signal    cushion    risk    rr  margin_closeout      streak_limit\n",
      "sim_175                -1        1.2   0.004     2  True                            4\n"
     ]
    },
    {
     "name": "stderr",
     "output_type": "stream",
     "text": [
      " Simulating... : 100%|██████████| 594303/594303 [00:39<00:00, 15142.11it/s]\n"
     ]
    },
    {
     "name": "stdout",
     "output_type": "stream",
     "text": [
      "sim_name      init_signal    cushion    risk    rr  margin_closeout      streak_limit\n",
      "sim_176                -1        1.2   0.004     2  False                           0\n"
     ]
    },
    {
     "name": "stderr",
     "output_type": "stream",
     "text": [
      " Simulating... : 100%|██████████| 594303/594303 [00:40<00:00, 14753.84it/s]\n"
     ]
    },
    {
     "name": "stdout",
     "output_type": "stream",
     "text": [
      "sim_name      init_signal    cushion    risk    rr  margin_closeout      streak_limit\n",
      "sim_177                -1        1.2   0.001     3  True                            2\n"
     ]
    },
    {
     "name": "stderr",
     "output_type": "stream",
     "text": [
      " Simulating... : 100%|██████████| 594303/594303 [00:39<00:00, 14865.50it/s]\n"
     ]
    },
    {
     "name": "stdout",
     "output_type": "stream",
     "text": [
      "sim_name      init_signal    cushion    risk    rr  margin_closeout      streak_limit\n",
      "sim_178                -1        1.2   0.001     3  True                            3\n"
     ]
    },
    {
     "name": "stderr",
     "output_type": "stream",
     "text": [
      " Simulating... : 100%|██████████| 594303/594303 [00:43<00:00, 13693.80it/s]\n"
     ]
    },
    {
     "name": "stdout",
     "output_type": "stream",
     "text": [
      "sim_name      init_signal    cushion    risk    rr  margin_closeout      streak_limit\n",
      "sim_179                -1        1.2   0.001     3  True                            4\n"
     ]
    },
    {
     "name": "stderr",
     "output_type": "stream",
     "text": [
      " Simulating... : 100%|██████████| 594303/594303 [00:42<00:00, 13897.03it/s]\n"
     ]
    },
    {
     "name": "stdout",
     "output_type": "stream",
     "text": [
      "sim_name      init_signal    cushion    risk    rr  margin_closeout      streak_limit\n",
      "sim_180                -1        1.2   0.001     3  False                           0\n"
     ]
    },
    {
     "name": "stderr",
     "output_type": "stream",
     "text": [
      " Simulating... : 100%|██████████| 594303/594303 [00:42<00:00, 13889.35it/s]\n"
     ]
    },
    {
     "name": "stdout",
     "output_type": "stream",
     "text": [
      "sim_name      init_signal    cushion    risk    rr  margin_closeout      streak_limit\n",
      "sim_181                -1        1.2   0.002     3  True                            2\n"
     ]
    },
    {
     "name": "stderr",
     "output_type": "stream",
     "text": [
      " Simulating... : 100%|██████████| 594303/594303 [00:43<00:00, 13768.20it/s]\n"
     ]
    },
    {
     "name": "stdout",
     "output_type": "stream",
     "text": [
      "sim_name      init_signal    cushion    risk    rr  margin_closeout      streak_limit\n",
      "sim_182                -1        1.2   0.002     3  True                            3\n"
     ]
    },
    {
     "name": "stderr",
     "output_type": "stream",
     "text": [
      " Simulating... : 100%|██████████| 594303/594303 [00:42<00:00, 13893.11it/s]\n"
     ]
    },
    {
     "name": "stdout",
     "output_type": "stream",
     "text": [
      "sim_name      init_signal    cushion    risk    rr  margin_closeout      streak_limit\n",
      "sim_183                -1        1.2   0.002     3  True                            4\n"
     ]
    },
    {
     "name": "stderr",
     "output_type": "stream",
     "text": [
      " Simulating... : 100%|██████████| 594303/594303 [00:41<00:00, 14460.50it/s]\n"
     ]
    },
    {
     "name": "stdout",
     "output_type": "stream",
     "text": [
      "sim_name      init_signal    cushion    risk    rr  margin_closeout      streak_limit\n",
      "sim_184                -1        1.2   0.002     3  False                           0\n"
     ]
    },
    {
     "name": "stderr",
     "output_type": "stream",
     "text": [
      " Simulating... : 100%|██████████| 594303/594303 [00:38<00:00, 15427.01it/s]\n"
     ]
    },
    {
     "name": "stdout",
     "output_type": "stream",
     "text": [
      "sim_name      init_signal    cushion    risk    rr  margin_closeout      streak_limit\n",
      "sim_185                -1        1.2   0.003     3  True                            2\n"
     ]
    },
    {
     "name": "stderr",
     "output_type": "stream",
     "text": [
      " Simulating... : 100%|██████████| 594303/594303 [00:38<00:00, 15614.23it/s]\n"
     ]
    },
    {
     "name": "stdout",
     "output_type": "stream",
     "text": [
      "sim_name      init_signal    cushion    risk    rr  margin_closeout      streak_limit\n",
      "sim_186                -1        1.2   0.003     3  True                            3\n"
     ]
    },
    {
     "name": "stderr",
     "output_type": "stream",
     "text": [
      " Simulating... : 100%|██████████| 594303/594303 [00:39<00:00, 14987.22it/s]\n"
     ]
    },
    {
     "name": "stdout",
     "output_type": "stream",
     "text": [
      "sim_name      init_signal    cushion    risk    rr  margin_closeout      streak_limit\n",
      "sim_187                -1        1.2   0.003     3  True                            4\n"
     ]
    },
    {
     "name": "stderr",
     "output_type": "stream",
     "text": [
      " Simulating... : 100%|██████████| 594303/594303 [00:43<00:00, 13713.91it/s]\n"
     ]
    },
    {
     "name": "stdout",
     "output_type": "stream",
     "text": [
      "sim_name      init_signal    cushion    risk    rr  margin_closeout      streak_limit\n",
      "sim_188                -1        1.2   0.003     3  False                           0\n"
     ]
    },
    {
     "name": "stderr",
     "output_type": "stream",
     "text": [
      " Simulating... : 100%|██████████| 594303/594303 [00:41<00:00, 14151.04it/s]\n"
     ]
    },
    {
     "name": "stdout",
     "output_type": "stream",
     "text": [
      "sim_name      init_signal    cushion    risk    rr  margin_closeout      streak_limit\n",
      "sim_189                -1        1.2   0.004     3  True                            2\n"
     ]
    },
    {
     "name": "stderr",
     "output_type": "stream",
     "text": [
      " Simulating... : 100%|██████████| 594303/594303 [00:42<00:00, 13867.38it/s]\n"
     ]
    },
    {
     "name": "stdout",
     "output_type": "stream",
     "text": [
      "sim_name      init_signal    cushion    risk    rr  margin_closeout      streak_limit\n",
      "sim_190                -1        1.2   0.004     3  True                            3\n"
     ]
    },
    {
     "name": "stderr",
     "output_type": "stream",
     "text": [
      " Simulating... : 100%|██████████| 594303/594303 [00:41<00:00, 14349.97it/s]\n"
     ]
    },
    {
     "name": "stdout",
     "output_type": "stream",
     "text": [
      "sim_name      init_signal    cushion    risk    rr  margin_closeout      streak_limit\n",
      "sim_191                -1        1.2   0.004     3  True                            4\n"
     ]
    },
    {
     "name": "stderr",
     "output_type": "stream",
     "text": [
      " Simulating... : 100%|██████████| 594303/594303 [00:38<00:00, 15526.44it/s]\n"
     ]
    },
    {
     "name": "stdout",
     "output_type": "stream",
     "text": [
      "sim_name      init_signal    cushion    risk    rr  margin_closeout      streak_limit\n",
      "sim_192                -1        1.2   0.004     3  False                           0\n"
     ]
    },
    {
     "name": "stderr",
     "output_type": "stream",
     "text": [
      " Simulating... : 100%|██████████| 594303/594303 [00:38<00:00, 15632.84it/s]\n"
     ]
    },
    {
     "name": "stdout",
     "output_type": "stream",
     "text": [
      "sim_name      init_signal    cushion    risk    rr  margin_closeout      streak_limit\n",
      "sim_193                -1        1.5   0.001   1.5  True                            2\n"
     ]
    },
    {
     "name": "stderr",
     "output_type": "stream",
     "text": [
      " Simulating... : 100%|██████████| 594303/594303 [00:40<00:00, 14564.53it/s]\n"
     ]
    },
    {
     "name": "stdout",
     "output_type": "stream",
     "text": [
      "sim_name      init_signal    cushion    risk    rr  margin_closeout      streak_limit\n",
      "sim_194                -1        1.5   0.001   1.5  True                            3\n"
     ]
    },
    {
     "name": "stderr",
     "output_type": "stream",
     "text": [
      " Simulating... : 100%|██████████| 594303/594303 [00:39<00:00, 15058.51it/s]\n"
     ]
    },
    {
     "name": "stdout",
     "output_type": "stream",
     "text": [
      "sim_name      init_signal    cushion    risk    rr  margin_closeout      streak_limit\n",
      "sim_195                -1        1.5   0.001   1.5  True                            4\n"
     ]
    },
    {
     "name": "stderr",
     "output_type": "stream",
     "text": [
      " Simulating... : 100%|██████████| 594303/594303 [00:38<00:00, 15512.03it/s]\n"
     ]
    },
    {
     "name": "stdout",
     "output_type": "stream",
     "text": [
      "sim_name      init_signal    cushion    risk    rr  margin_closeout      streak_limit\n",
      "sim_196                -1        1.5   0.001   1.5  False                           0\n"
     ]
    },
    {
     "name": "stderr",
     "output_type": "stream",
     "text": [
      " Simulating... : 100%|██████████| 594303/594303 [00:46<00:00, 12671.33it/s]\n"
     ]
    },
    {
     "name": "stdout",
     "output_type": "stream",
     "text": [
      "sim_name      init_signal    cushion    risk    rr  margin_closeout      streak_limit\n",
      "sim_197                -1        1.5   0.002   1.5  True                            2\n"
     ]
    },
    {
     "name": "stderr",
     "output_type": "stream",
     "text": [
      " Simulating... : 100%|██████████| 594303/594303 [00:42<00:00, 13960.90it/s]\n"
     ]
    },
    {
     "name": "stdout",
     "output_type": "stream",
     "text": [
      "sim_name      init_signal    cushion    risk    rr  margin_closeout      streak_limit\n",
      "sim_198                -1        1.5   0.002   1.5  True                            3\n"
     ]
    },
    {
     "name": "stderr",
     "output_type": "stream",
     "text": [
      " Simulating... : 100%|██████████| 594303/594303 [00:44<00:00, 13419.54it/s]\n"
     ]
    },
    {
     "name": "stdout",
     "output_type": "stream",
     "text": [
      "sim_name      init_signal    cushion    risk    rr  margin_closeout      streak_limit\n",
      "sim_199                -1        1.5   0.002   1.5  True                            4\n"
     ]
    },
    {
     "name": "stderr",
     "output_type": "stream",
     "text": [
      " Simulating... : 100%|██████████| 594303/594303 [00:42<00:00, 14118.00it/s]\n"
     ]
    },
    {
     "name": "stdout",
     "output_type": "stream",
     "text": [
      "sim_name      init_signal    cushion    risk    rr  margin_closeout      streak_limit\n",
      "sim_200                -1        1.5   0.002   1.5  False                           0\n"
     ]
    },
    {
     "name": "stderr",
     "output_type": "stream",
     "text": [
      " Simulating... : 100%|██████████| 594303/594303 [00:42<00:00, 13892.50it/s]\n"
     ]
    },
    {
     "name": "stdout",
     "output_type": "stream",
     "text": [
      "sim_name      init_signal    cushion    risk    rr  margin_closeout      streak_limit\n",
      "sim_201                -1        1.5   0.003   1.5  True                            2\n"
     ]
    },
    {
     "name": "stderr",
     "output_type": "stream",
     "text": [
      " Simulating... : 100%|██████████| 594303/594303 [00:42<00:00, 13915.92it/s]\n"
     ]
    },
    {
     "name": "stdout",
     "output_type": "stream",
     "text": [
      "sim_name      init_signal    cushion    risk    rr  margin_closeout      streak_limit\n",
      "sim_202                -1        1.5   0.003   1.5  True                            3\n"
     ]
    },
    {
     "name": "stderr",
     "output_type": "stream",
     "text": [
      " Simulating... : 100%|██████████| 594303/594303 [00:41<00:00, 14437.66it/s]\n"
     ]
    },
    {
     "name": "stdout",
     "output_type": "stream",
     "text": [
      "sim_name      init_signal    cushion    risk    rr  margin_closeout      streak_limit\n",
      "sim_203                -1        1.5   0.003   1.5  True                            4\n"
     ]
    },
    {
     "name": "stderr",
     "output_type": "stream",
     "text": [
      " Simulating... : 100%|██████████| 594303/594303 [00:41<00:00, 14306.20it/s]\n"
     ]
    },
    {
     "name": "stdout",
     "output_type": "stream",
     "text": [
      "sim_name      init_signal    cushion    risk    rr  margin_closeout      streak_limit\n",
      "sim_204                -1        1.5   0.003   1.5  False                           0\n"
     ]
    },
    {
     "name": "stderr",
     "output_type": "stream",
     "text": [
      " Simulating... : 100%|██████████| 594303/594303 [00:41<00:00, 14482.08it/s]\n"
     ]
    },
    {
     "name": "stdout",
     "output_type": "stream",
     "text": [
      "sim_name      init_signal    cushion    risk    rr  margin_closeout      streak_limit\n",
      "sim_205                -1        1.5   0.004   1.5  True                            2\n"
     ]
    },
    {
     "name": "stderr",
     "output_type": "stream",
     "text": [
      " Simulating... : 100%|██████████| 594303/594303 [00:39<00:00, 15015.55it/s]\n"
     ]
    },
    {
     "name": "stdout",
     "output_type": "stream",
     "text": [
      "sim_name      init_signal    cushion    risk    rr  margin_closeout      streak_limit\n",
      "sim_206                -1        1.5   0.004   1.5  True                            3\n"
     ]
    },
    {
     "name": "stderr",
     "output_type": "stream",
     "text": [
      " Simulating... : 100%|██████████| 594303/594303 [00:38<00:00, 15525.50it/s]\n"
     ]
    },
    {
     "name": "stdout",
     "output_type": "stream",
     "text": [
      "sim_name      init_signal    cushion    risk    rr  margin_closeout      streak_limit\n",
      "sim_207                -1        1.5   0.004   1.5  True                            4\n"
     ]
    },
    {
     "name": "stderr",
     "output_type": "stream",
     "text": [
      " Simulating... : 100%|██████████| 594303/594303 [00:38<00:00, 15489.82it/s]\n"
     ]
    },
    {
     "name": "stdout",
     "output_type": "stream",
     "text": [
      "sim_name      init_signal    cushion    risk    rr  margin_closeout      streak_limit\n",
      "sim_208                -1        1.5   0.004   1.5  False                           0\n"
     ]
    },
    {
     "name": "stderr",
     "output_type": "stream",
     "text": [
      " Simulating... : 100%|██████████| 594303/594303 [00:39<00:00, 14874.96it/s]\n"
     ]
    },
    {
     "name": "stdout",
     "output_type": "stream",
     "text": [
      "sim_name      init_signal    cushion    risk    rr  margin_closeout      streak_limit\n",
      "sim_209                -1        1.5   0.001     2  True                            2\n"
     ]
    },
    {
     "name": "stderr",
     "output_type": "stream",
     "text": [
      " Simulating... : 100%|██████████| 594303/594303 [00:38<00:00, 15260.30it/s]\n"
     ]
    },
    {
     "name": "stdout",
     "output_type": "stream",
     "text": [
      "sim_name      init_signal    cushion    risk    rr  margin_closeout      streak_limit\n",
      "sim_210                -1        1.5   0.001     2  True                            3\n"
     ]
    },
    {
     "name": "stderr",
     "output_type": "stream",
     "text": [
      " Simulating... : 100%|██████████| 594303/594303 [00:38<00:00, 15309.48it/s]\n"
     ]
    },
    {
     "name": "stdout",
     "output_type": "stream",
     "text": [
      "sim_name      init_signal    cushion    risk    rr  margin_closeout      streak_limit\n",
      "sim_211                -1        1.5   0.001     2  True                            4\n"
     ]
    },
    {
     "name": "stderr",
     "output_type": "stream",
     "text": [
      " Simulating... : 100%|██████████| 594303/594303 [00:39<00:00, 15235.56it/s]\n"
     ]
    },
    {
     "name": "stdout",
     "output_type": "stream",
     "text": [
      "sim_name      init_signal    cushion    risk    rr  margin_closeout      streak_limit\n",
      "sim_212                -1        1.5   0.001     2  False                           0\n"
     ]
    },
    {
     "name": "stderr",
     "output_type": "stream",
     "text": [
      " Simulating... : 100%|██████████| 594303/594303 [00:41<00:00, 14492.77it/s]\n"
     ]
    },
    {
     "name": "stdout",
     "output_type": "stream",
     "text": [
      "sim_name      init_signal    cushion    risk    rr  margin_closeout      streak_limit\n",
      "sim_213                -1        1.5   0.002     2  True                            2\n"
     ]
    },
    {
     "name": "stderr",
     "output_type": "stream",
     "text": [
      " Simulating... : 100%|██████████| 594303/594303 [00:38<00:00, 15539.57it/s]\n"
     ]
    },
    {
     "name": "stdout",
     "output_type": "stream",
     "text": [
      "sim_name      init_signal    cushion    risk    rr  margin_closeout      streak_limit\n",
      "sim_214                -1        1.5   0.002     2  True                            3\n"
     ]
    },
    {
     "name": "stderr",
     "output_type": "stream",
     "text": [
      " Simulating... : 100%|██████████| 594303/594303 [00:38<00:00, 15525.05it/s]\n"
     ]
    },
    {
     "name": "stdout",
     "output_type": "stream",
     "text": [
      "sim_name      init_signal    cushion    risk    rr  margin_closeout      streak_limit\n",
      "sim_215                -1        1.5   0.002     2  True                            4\n"
     ]
    },
    {
     "name": "stderr",
     "output_type": "stream",
     "text": [
      " Simulating... : 100%|██████████| 594303/594303 [00:38<00:00, 15520.14it/s]\n"
     ]
    },
    {
     "name": "stdout",
     "output_type": "stream",
     "text": [
      "sim_name      init_signal    cushion    risk    rr  margin_closeout      streak_limit\n",
      "sim_216                -1        1.5   0.002     2  False                           0\n"
     ]
    },
    {
     "name": "stderr",
     "output_type": "stream",
     "text": [
      " Simulating... : 100%|██████████| 594303/594303 [00:39<00:00, 15194.89it/s]\n"
     ]
    },
    {
     "name": "stdout",
     "output_type": "stream",
     "text": [
      "sim_name      init_signal    cushion    risk    rr  margin_closeout      streak_limit\n",
      "sim_217                -1        1.5   0.003     2  True                            2\n"
     ]
    },
    {
     "name": "stderr",
     "output_type": "stream",
     "text": [
      " Simulating... : 100%|██████████| 594303/594303 [20:27<00:00, 484.26it/s]  \n"
     ]
    },
    {
     "name": "stdout",
     "output_type": "stream",
     "text": [
      "sim_name      init_signal    cushion    risk    rr  margin_closeout      streak_limit\n",
      "sim_218                -1        1.5   0.003     2  True                            3\n"
     ]
    },
    {
     "name": "stderr",
     "output_type": "stream",
     "text": [
      " Simulating... : 100%|██████████| 594303/594303 [00:35<00:00, 16584.27it/s]\n"
     ]
    },
    {
     "name": "stdout",
     "output_type": "stream",
     "text": [
      "sim_name      init_signal    cushion    risk    rr  margin_closeout      streak_limit\n",
      "sim_219                -1        1.5   0.003     2  True                            4\n"
     ]
    },
    {
     "name": "stderr",
     "output_type": "stream",
     "text": [
      " Simulating... : 100%|██████████| 594303/594303 [00:32<00:00, 18495.07it/s]\n"
     ]
    },
    {
     "name": "stdout",
     "output_type": "stream",
     "text": [
      "sim_name      init_signal    cushion    risk    rr  margin_closeout      streak_limit\n",
      "sim_220                -1        1.5   0.003     2  False                           0\n"
     ]
    },
    {
     "name": "stderr",
     "output_type": "stream",
     "text": [
      " Simulating... : 100%|██████████| 594303/594303 [00:32<00:00, 18353.03it/s]\n"
     ]
    },
    {
     "name": "stdout",
     "output_type": "stream",
     "text": [
      "sim_name      init_signal    cushion    risk    rr  margin_closeout      streak_limit\n",
      "sim_221                -1        1.5   0.004     2  True                            2\n"
     ]
    },
    {
     "name": "stderr",
     "output_type": "stream",
     "text": [
      " Simulating... : 100%|██████████| 594303/594303 [00:33<00:00, 17691.70it/s]\n"
     ]
    },
    {
     "name": "stdout",
     "output_type": "stream",
     "text": [
      "sim_name      init_signal    cushion    risk    rr  margin_closeout      streak_limit\n",
      "sim_222                -1        1.5   0.004     2  True                            3\n"
     ]
    },
    {
     "name": "stderr",
     "output_type": "stream",
     "text": [
      " Simulating... : 100%|██████████| 594303/594303 [00:33<00:00, 17603.51it/s]\n"
     ]
    },
    {
     "name": "stdout",
     "output_type": "stream",
     "text": [
      "sim_name      init_signal    cushion    risk    rr  margin_closeout      streak_limit\n",
      "sim_223                -1        1.5   0.004     2  True                            4\n"
     ]
    },
    {
     "name": "stderr",
     "output_type": "stream",
     "text": [
      " Simulating... : 100%|██████████| 594303/594303 [00:35<00:00, 16524.43it/s]\n"
     ]
    },
    {
     "name": "stdout",
     "output_type": "stream",
     "text": [
      "sim_name      init_signal    cushion    risk    rr  margin_closeout      streak_limit\n",
      "sim_224                -1        1.5   0.004     2  False                           0\n"
     ]
    },
    {
     "name": "stderr",
     "output_type": "stream",
     "text": [
      " Simulating... : 100%|██████████| 594303/594303 [00:34<00:00, 17198.72it/s]\n"
     ]
    },
    {
     "name": "stdout",
     "output_type": "stream",
     "text": [
      "sim_name      init_signal    cushion    risk    rr  margin_closeout      streak_limit\n",
      "sim_225                -1        1.5   0.001     3  True                            2\n"
     ]
    },
    {
     "name": "stderr",
     "output_type": "stream",
     "text": [
      " Simulating... : 100%|██████████| 594303/594303 [00:34<00:00, 17080.33it/s]\n"
     ]
    },
    {
     "name": "stdout",
     "output_type": "stream",
     "text": [
      "sim_name      init_signal    cushion    risk    rr  margin_closeout      streak_limit\n",
      "sim_226                -1        1.5   0.001     3  True                            3\n"
     ]
    },
    {
     "name": "stderr",
     "output_type": "stream",
     "text": [
      " Simulating... : 100%|██████████| 594303/594303 [00:35<00:00, 16566.22it/s]\n"
     ]
    },
    {
     "name": "stdout",
     "output_type": "stream",
     "text": [
      "sim_name      init_signal    cushion    risk    rr  margin_closeout      streak_limit\n",
      "sim_227                -1        1.5   0.001     3  True                            4\n"
     ]
    },
    {
     "name": "stderr",
     "output_type": "stream",
     "text": [
      " Simulating... : 100%|██████████| 594303/594303 [00:35<00:00, 16827.53it/s]\n"
     ]
    },
    {
     "name": "stdout",
     "output_type": "stream",
     "text": [
      "sim_name      init_signal    cushion    risk    rr  margin_closeout      streak_limit\n",
      "sim_228                -1        1.5   0.001     3  False                           0\n"
     ]
    },
    {
     "name": "stderr",
     "output_type": "stream",
     "text": [
      " Simulating... : 100%|██████████| 594303/594303 [00:37<00:00, 15696.26it/s]\n"
     ]
    },
    {
     "name": "stdout",
     "output_type": "stream",
     "text": [
      "sim_name      init_signal    cushion    risk    rr  margin_closeout      streak_limit\n",
      "sim_229                -1        1.5   0.002     3  True                            2\n"
     ]
    },
    {
     "name": "stderr",
     "output_type": "stream",
     "text": [
      " Simulating... : 100%|██████████| 594303/594303 [00:35<00:00, 16621.39it/s]\n"
     ]
    },
    {
     "name": "stdout",
     "output_type": "stream",
     "text": [
      "sim_name      init_signal    cushion    risk    rr  margin_closeout      streak_limit\n",
      "sim_230                -1        1.5   0.002     3  True                            3\n"
     ]
    },
    {
     "name": "stderr",
     "output_type": "stream",
     "text": [
      " Simulating... : 100%|██████████| 594303/594303 [00:36<00:00, 16375.37it/s]\n"
     ]
    },
    {
     "name": "stdout",
     "output_type": "stream",
     "text": [
      "sim_name      init_signal    cushion    risk    rr  margin_closeout      streak_limit\n",
      "sim_231                -1        1.5   0.002     3  True                            4\n"
     ]
    },
    {
     "name": "stderr",
     "output_type": "stream",
     "text": [
      " Simulating... : 100%|██████████| 594303/594303 [00:36<00:00, 16464.64it/s]\n"
     ]
    },
    {
     "name": "stdout",
     "output_type": "stream",
     "text": [
      "sim_name      init_signal    cushion    risk    rr  margin_closeout      streak_limit\n",
      "sim_232                -1        1.5   0.002     3  False                           0\n"
     ]
    },
    {
     "name": "stderr",
     "output_type": "stream",
     "text": [
      " Simulating... : 100%|██████████| 594303/594303 [00:36<00:00, 16416.02it/s]\n"
     ]
    },
    {
     "name": "stdout",
     "output_type": "stream",
     "text": [
      "sim_name      init_signal    cushion    risk    rr  margin_closeout      streak_limit\n",
      "sim_233                -1        1.5   0.003     3  True                            2\n"
     ]
    },
    {
     "name": "stderr",
     "output_type": "stream",
     "text": [
      " Simulating... : 100%|██████████| 594303/594303 [00:39<00:00, 15154.33it/s]\n"
     ]
    },
    {
     "name": "stdout",
     "output_type": "stream",
     "text": [
      "sim_name      init_signal    cushion    risk    rr  margin_closeout      streak_limit\n",
      "sim_234                -1        1.5   0.003     3  True                            3\n"
     ]
    },
    {
     "name": "stderr",
     "output_type": "stream",
     "text": [
      " Simulating... : 100%|██████████| 594303/594303 [00:37<00:00, 15823.31it/s]\n"
     ]
    },
    {
     "name": "stdout",
     "output_type": "stream",
     "text": [
      "sim_name      init_signal    cushion    risk    rr  margin_closeout      streak_limit\n",
      "sim_235                -1        1.5   0.003     3  True                            4\n"
     ]
    },
    {
     "name": "stderr",
     "output_type": "stream",
     "text": [
      " Simulating... : 100%|██████████| 594303/594303 [00:36<00:00, 16109.91it/s]\n"
     ]
    },
    {
     "name": "stdout",
     "output_type": "stream",
     "text": [
      "sim_name      init_signal    cushion    risk    rr  margin_closeout      streak_limit\n",
      "sim_236                -1        1.5   0.003     3  False                           0\n"
     ]
    },
    {
     "name": "stderr",
     "output_type": "stream",
     "text": [
      " Simulating... : 100%|██████████| 594303/594303 [00:36<00:00, 16150.23it/s]\n"
     ]
    },
    {
     "name": "stdout",
     "output_type": "stream",
     "text": [
      "sim_name      init_signal    cushion    risk    rr  margin_closeout      streak_limit\n",
      "sim_237                -1        1.5   0.004     3  True                            2\n"
     ]
    },
    {
     "name": "stderr",
     "output_type": "stream",
     "text": [
      " Simulating... : 100%|██████████| 594303/594303 [00:38<00:00, 15428.79it/s]\n"
     ]
    },
    {
     "name": "stdout",
     "output_type": "stream",
     "text": [
      "sim_name      init_signal    cushion    risk    rr  margin_closeout      streak_limit\n",
      "sim_238                -1        1.5   0.004     3  True                            3\n"
     ]
    },
    {
     "name": "stderr",
     "output_type": "stream",
     "text": [
      " Simulating... : 100%|██████████| 594303/594303 [00:39<00:00, 15160.60it/s]\n"
     ]
    },
    {
     "name": "stdout",
     "output_type": "stream",
     "text": [
      "sim_name      init_signal    cushion    risk    rr  margin_closeout      streak_limit\n",
      "sim_239                -1        1.5   0.004     3  True                            4\n"
     ]
    },
    {
     "name": "stderr",
     "output_type": "stream",
     "text": [
      " Simulating... : 100%|██████████| 594303/594303 [00:37<00:00, 16002.44it/s]\n"
     ]
    },
    {
     "name": "stdout",
     "output_type": "stream",
     "text": [
      "sim_name      init_signal    cushion    risk    rr  margin_closeout      streak_limit\n",
      "sim_240                -1        1.5   0.004     3  False                           0\n"
     ]
    },
    {
     "name": "stderr",
     "output_type": "stream",
     "text": [
      " Simulating... : 100%|██████████| 594303/594303 [00:37<00:00, 16006.59it/s]\n"
     ]
    },
    {
     "name": "stdout",
     "output_type": "stream",
     "text": [
      "sim_name      init_signal    cushion    risk    rr  margin_closeout      streak_limit\n",
      "sim_241                -1          2   0.001   1.5  True                            2\n"
     ]
    },
    {
     "name": "stderr",
     "output_type": "stream",
     "text": [
      " Simulating... : 100%|██████████| 594303/594303 [00:37<00:00, 16049.85it/s]\n"
     ]
    },
    {
     "name": "stdout",
     "output_type": "stream",
     "text": [
      "sim_name      init_signal    cushion    risk    rr  margin_closeout      streak_limit\n",
      "sim_242                -1          2   0.001   1.5  True                            3\n"
     ]
    },
    {
     "name": "stderr",
     "output_type": "stream",
     "text": [
      " Simulating... : 100%|██████████| 594303/594303 [00:37<00:00, 15920.04it/s]\n"
     ]
    },
    {
     "name": "stdout",
     "output_type": "stream",
     "text": [
      "sim_name      init_signal    cushion    risk    rr  margin_closeout      streak_limit\n",
      "sim_243                -1          2   0.001   1.5  True                            4\n"
     ]
    },
    {
     "name": "stderr",
     "output_type": "stream",
     "text": [
      " Simulating... : 100%|██████████| 594303/594303 [00:42<00:00, 14076.47it/s]\n"
     ]
    },
    {
     "name": "stdout",
     "output_type": "stream",
     "text": [
      "sim_name      init_signal    cushion    risk    rr  margin_closeout      streak_limit\n",
      "sim_244                -1          2   0.001   1.5  False                           0\n"
     ]
    },
    {
     "name": "stderr",
     "output_type": "stream",
     "text": [
      " Simulating... : 100%|██████████| 594303/594303 [00:37<00:00, 15765.40it/s]\n"
     ]
    },
    {
     "name": "stdout",
     "output_type": "stream",
     "text": [
      "sim_name      init_signal    cushion    risk    rr  margin_closeout      streak_limit\n",
      "sim_245                -1          2   0.002   1.5  True                            2\n"
     ]
    },
    {
     "name": "stderr",
     "output_type": "stream",
     "text": [
      " Simulating... : 100%|██████████| 594303/594303 [00:37<00:00, 15727.83it/s]\n"
     ]
    },
    {
     "name": "stdout",
     "output_type": "stream",
     "text": [
      "sim_name      init_signal    cushion    risk    rr  margin_closeout      streak_limit\n",
      "sim_246                -1          2   0.002   1.5  True                            3\n"
     ]
    },
    {
     "name": "stderr",
     "output_type": "stream",
     "text": [
      " Simulating... : 100%|██████████| 594303/594303 [00:37<00:00, 15791.09it/s]\n"
     ]
    },
    {
     "name": "stdout",
     "output_type": "stream",
     "text": [
      "sim_name      init_signal    cushion    risk    rr  margin_closeout      streak_limit\n",
      "sim_247                -1          2   0.002   1.5  True                            4\n"
     ]
    },
    {
     "name": "stderr",
     "output_type": "stream",
     "text": [
      " Simulating... : 100%|██████████| 594303/594303 [00:39<00:00, 14868.73it/s]\n"
     ]
    },
    {
     "name": "stdout",
     "output_type": "stream",
     "text": [
      "sim_name      init_signal    cushion    risk    rr  margin_closeout      streak_limit\n",
      "sim_248                -1          2   0.002   1.5  False                           0\n"
     ]
    },
    {
     "name": "stderr",
     "output_type": "stream",
     "text": [
      " Simulating... : 100%|██████████| 594303/594303 [00:37<00:00, 15737.59it/s]\n"
     ]
    },
    {
     "name": "stdout",
     "output_type": "stream",
     "text": [
      "sim_name      init_signal    cushion    risk    rr  margin_closeout      streak_limit\n",
      "sim_249                -1          2   0.003   1.5  True                            2\n"
     ]
    },
    {
     "name": "stderr",
     "output_type": "stream",
     "text": [
      " Simulating... : 100%|██████████| 594303/594303 [00:37<00:00, 15703.11it/s]\n"
     ]
    },
    {
     "name": "stdout",
     "output_type": "stream",
     "text": [
      "sim_name      init_signal    cushion    risk    rr  margin_closeout      streak_limit\n",
      "sim_250                -1          2   0.003   1.5  True                            3\n"
     ]
    },
    {
     "name": "stderr",
     "output_type": "stream",
     "text": [
      " Simulating... : 100%|██████████| 594303/594303 [00:38<00:00, 15283.35it/s]\n"
     ]
    },
    {
     "name": "stdout",
     "output_type": "stream",
     "text": [
      "sim_name      init_signal    cushion    risk    rr  margin_closeout      streak_limit\n",
      "sim_251                -1          2   0.003   1.5  True                            4\n"
     ]
    },
    {
     "name": "stderr",
     "output_type": "stream",
     "text": [
      " Simulating... : 100%|██████████| 594303/594303 [00:38<00:00, 15595.42it/s]\n"
     ]
    },
    {
     "name": "stdout",
     "output_type": "stream",
     "text": [
      "sim_name      init_signal    cushion    risk    rr  margin_closeout      streak_limit\n",
      "sim_252                -1          2   0.003   1.5  False                           0\n"
     ]
    },
    {
     "name": "stderr",
     "output_type": "stream",
     "text": [
      " Simulating... : 100%|██████████| 594303/594303 [00:40<00:00, 14797.06it/s]\n"
     ]
    },
    {
     "name": "stdout",
     "output_type": "stream",
     "text": [
      "sim_name      init_signal    cushion    risk    rr  margin_closeout      streak_limit\n",
      "sim_253                -1          2   0.004   1.5  True                            2\n"
     ]
    },
    {
     "name": "stderr",
     "output_type": "stream",
     "text": [
      " Simulating... : 100%|██████████| 594303/594303 [00:38<00:00, 15392.03it/s]\n"
     ]
    },
    {
     "name": "stdout",
     "output_type": "stream",
     "text": [
      "sim_name      init_signal    cushion    risk    rr  margin_closeout      streak_limit\n",
      "sim_254                -1          2   0.004   1.5  True                            3\n"
     ]
    },
    {
     "name": "stderr",
     "output_type": "stream",
     "text": [
      " Simulating... : 100%|██████████| 594303/594303 [00:38<00:00, 15621.96it/s]\n"
     ]
    },
    {
     "name": "stdout",
     "output_type": "stream",
     "text": [
      "sim_name      init_signal    cushion    risk    rr  margin_closeout      streak_limit\n",
      "sim_255                -1          2   0.004   1.5  True                            4\n"
     ]
    },
    {
     "name": "stderr",
     "output_type": "stream",
     "text": [
      " Simulating... : 100%|██████████| 594303/594303 [00:37<00:00, 15731.41it/s]\n"
     ]
    },
    {
     "name": "stdout",
     "output_type": "stream",
     "text": [
      "sim_name      init_signal    cushion    risk    rr  margin_closeout      streak_limit\n",
      "sim_256                -1          2   0.004   1.5  False                           0\n"
     ]
    },
    {
     "name": "stderr",
     "output_type": "stream",
     "text": [
      " Simulating... : 100%|██████████| 594303/594303 [00:37<00:00, 15711.28it/s]\n"
     ]
    },
    {
     "name": "stdout",
     "output_type": "stream",
     "text": [
      "sim_name      init_signal    cushion    risk    rr  margin_closeout      streak_limit\n",
      "sim_257                -1          2   0.001     2  True                            2\n"
     ]
    },
    {
     "name": "stderr",
     "output_type": "stream",
     "text": [
      " Simulating... : 100%|██████████| 594303/594303 [00:40<00:00, 14785.28it/s]\n"
     ]
    },
    {
     "name": "stdout",
     "output_type": "stream",
     "text": [
      "sim_name      init_signal    cushion    risk    rr  margin_closeout      streak_limit\n",
      "sim_258                -1          2   0.001     2  True                            3\n"
     ]
    },
    {
     "name": "stderr",
     "output_type": "stream",
     "text": [
      " Simulating... : 100%|██████████| 594303/594303 [00:39<00:00, 15168.20it/s]\n"
     ]
    },
    {
     "name": "stdout",
     "output_type": "stream",
     "text": [
      "sim_name      init_signal    cushion    risk    rr  margin_closeout      streak_limit\n",
      "sim_259                -1          2   0.001     2  True                            4\n"
     ]
    },
    {
     "name": "stderr",
     "output_type": "stream",
     "text": [
      " Simulating... : 100%|██████████| 594303/594303 [00:38<00:00, 15333.70it/s]\n"
     ]
    },
    {
     "name": "stdout",
     "output_type": "stream",
     "text": [
      "sim_name      init_signal    cushion    risk    rr  margin_closeout      streak_limit\n",
      "sim_260                -1          2   0.001     2  False                           0\n"
     ]
    },
    {
     "name": "stderr",
     "output_type": "stream",
     "text": [
      " Simulating... : 100%|██████████| 594303/594303 [00:40<00:00, 14579.24it/s]\n"
     ]
    },
    {
     "name": "stdout",
     "output_type": "stream",
     "text": [
      "sim_name      init_signal    cushion    risk    rr  margin_closeout      streak_limit\n",
      "sim_261                -1          2   0.002     2  True                            2\n"
     ]
    },
    {
     "name": "stderr",
     "output_type": "stream",
     "text": [
      " Simulating... : 100%|██████████| 594303/594303 [00:40<00:00, 14674.59it/s]\n"
     ]
    },
    {
     "name": "stdout",
     "output_type": "stream",
     "text": [
      "sim_name      init_signal    cushion    risk    rr  margin_closeout      streak_limit\n",
      "sim_262                -1          2   0.002     2  True                            3\n"
     ]
    },
    {
     "name": "stderr",
     "output_type": "stream",
     "text": [
      " Simulating... : 100%|██████████| 594303/594303 [00:39<00:00, 15080.48it/s]\n"
     ]
    },
    {
     "name": "stdout",
     "output_type": "stream",
     "text": [
      "sim_name      init_signal    cushion    risk    rr  margin_closeout      streak_limit\n",
      "sim_263                -1          2   0.002     2  True                            4\n"
     ]
    },
    {
     "name": "stderr",
     "output_type": "stream",
     "text": [
      " Simulating... : 100%|██████████| 594303/594303 [00:37<00:00, 15642.89it/s]\n"
     ]
    },
    {
     "name": "stdout",
     "output_type": "stream",
     "text": [
      "sim_name      init_signal    cushion    risk    rr  margin_closeout      streak_limit\n",
      "sim_264                -1          2   0.002     2  False                           0\n"
     ]
    },
    {
     "name": "stderr",
     "output_type": "stream",
     "text": [
      " Simulating... : 100%|██████████| 594303/594303 [00:40<00:00, 14789.19it/s]\n"
     ]
    },
    {
     "name": "stdout",
     "output_type": "stream",
     "text": [
      "sim_name      init_signal    cushion    risk    rr  margin_closeout      streak_limit\n",
      "sim_265                -1          2   0.003     2  True                            2\n"
     ]
    },
    {
     "name": "stderr",
     "output_type": "stream",
     "text": [
      " Simulating... : 100%|██████████| 594303/594303 [00:42<00:00, 13910.33it/s]\n"
     ]
    },
    {
     "name": "stdout",
     "output_type": "stream",
     "text": [
      "sim_name      init_signal    cushion    risk    rr  margin_closeout      streak_limit\n",
      "sim_266                -1          2   0.003     2  True                            3\n"
     ]
    },
    {
     "name": "stderr",
     "output_type": "stream",
     "text": [
      " Simulating... : 100%|██████████| 594303/594303 [00:39<00:00, 14920.91it/s]\n"
     ]
    },
    {
     "name": "stdout",
     "output_type": "stream",
     "text": [
      "sim_name      init_signal    cushion    risk    rr  margin_closeout      streak_limit\n",
      "sim_267                -1          2   0.003     2  True                            4\n"
     ]
    },
    {
     "name": "stderr",
     "output_type": "stream",
     "text": [
      " Simulating... : 100%|██████████| 594303/594303 [00:38<00:00, 15478.23it/s]\n"
     ]
    },
    {
     "name": "stdout",
     "output_type": "stream",
     "text": [
      "sim_name      init_signal    cushion    risk    rr  margin_closeout      streak_limit\n",
      "sim_268                -1          2   0.003     2  False                           0\n"
     ]
    },
    {
     "name": "stderr",
     "output_type": "stream",
     "text": [
      " Simulating... : 100%|██████████| 594303/594303 [00:40<00:00, 14784.47it/s]\n"
     ]
    },
    {
     "name": "stdout",
     "output_type": "stream",
     "text": [
      "sim_name      init_signal    cushion    risk    rr  margin_closeout      streak_limit\n",
      "sim_269                -1          2   0.004     2  True                            2\n"
     ]
    },
    {
     "name": "stderr",
     "output_type": "stream",
     "text": [
      " Simulating... : 100%|██████████| 594303/594303 [00:38<00:00, 15510.56it/s]\n"
     ]
    },
    {
     "name": "stdout",
     "output_type": "stream",
     "text": [
      "sim_name      init_signal    cushion    risk    rr  margin_closeout      streak_limit\n",
      "sim_270                -1          2   0.004     2  True                            3\n"
     ]
    },
    {
     "name": "stderr",
     "output_type": "stream",
     "text": [
      " Simulating... : 100%|██████████| 594303/594303 [00:42<00:00, 13967.62it/s]\n"
     ]
    },
    {
     "name": "stdout",
     "output_type": "stream",
     "text": [
      "sim_name      init_signal    cushion    risk    rr  margin_closeout      streak_limit\n",
      "sim_271                -1          2   0.004     2  True                            4\n"
     ]
    },
    {
     "name": "stderr",
     "output_type": "stream",
     "text": [
      " Simulating... : 100%|██████████| 594303/594303 [00:39<00:00, 14879.84it/s]\n"
     ]
    },
    {
     "name": "stdout",
     "output_type": "stream",
     "text": [
      "sim_name      init_signal    cushion    risk    rr  margin_closeout      streak_limit\n",
      "sim_272                -1          2   0.004     2  False                           0\n"
     ]
    },
    {
     "name": "stderr",
     "output_type": "stream",
     "text": [
      " Simulating... : 100%|██████████| 594303/594303 [00:41<00:00, 14482.77it/s]\n"
     ]
    },
    {
     "name": "stdout",
     "output_type": "stream",
     "text": [
      "sim_name      init_signal    cushion    risk    rr  margin_closeout      streak_limit\n",
      "sim_273                -1          2   0.001     3  True                            2\n"
     ]
    },
    {
     "name": "stderr",
     "output_type": "stream",
     "text": [
      " Simulating... : 100%|██████████| 594303/594303 [00:39<00:00, 14930.12it/s]\n"
     ]
    },
    {
     "name": "stdout",
     "output_type": "stream",
     "text": [
      "sim_name      init_signal    cushion    risk    rr  margin_closeout      streak_limit\n",
      "sim_274                -1          2   0.001     3  True                            3\n"
     ]
    },
    {
     "name": "stderr",
     "output_type": "stream",
     "text": [
      " Simulating... : 100%|██████████| 594303/594303 [00:40<00:00, 14719.82it/s]\n"
     ]
    },
    {
     "name": "stdout",
     "output_type": "stream",
     "text": [
      "sim_name      init_signal    cushion    risk    rr  margin_closeout      streak_limit\n",
      "sim_275                -1          2   0.001     3  True                            4\n"
     ]
    },
    {
     "name": "stderr",
     "output_type": "stream",
     "text": [
      " Simulating... : 100%|██████████| 594303/594303 [00:40<00:00, 14767.89it/s]\n"
     ]
    },
    {
     "name": "stdout",
     "output_type": "stream",
     "text": [
      "sim_name      init_signal    cushion    risk    rr  margin_closeout      streak_limit\n",
      "sim_276                -1          2   0.001     3  False                           0\n"
     ]
    },
    {
     "name": "stderr",
     "output_type": "stream",
     "text": [
      " Simulating... : 100%|██████████| 594303/594303 [00:40<00:00, 14778.09it/s]\n"
     ]
    },
    {
     "name": "stdout",
     "output_type": "stream",
     "text": [
      "sim_name      init_signal    cushion    risk    rr  margin_closeout      streak_limit\n",
      "sim_277                -1          2   0.002     3  True                            2\n"
     ]
    },
    {
     "name": "stderr",
     "output_type": "stream",
     "text": [
      " Simulating... : 100%|██████████| 594303/594303 [00:39<00:00, 15059.10it/s]\n"
     ]
    },
    {
     "name": "stdout",
     "output_type": "stream",
     "text": [
      "sim_name      init_signal    cushion    risk    rr  margin_closeout      streak_limit\n",
      "sim_278                -1          2   0.002     3  True                            3\n"
     ]
    },
    {
     "name": "stderr",
     "output_type": "stream",
     "text": [
      " Simulating... : 100%|██████████| 594303/594303 [00:39<00:00, 14893.74it/s]\n"
     ]
    },
    {
     "name": "stdout",
     "output_type": "stream",
     "text": [
      "sim_name      init_signal    cushion    risk    rr  margin_closeout      streak_limit\n",
      "sim_279                -1          2   0.002     3  True                            4\n"
     ]
    },
    {
     "name": "stderr",
     "output_type": "stream",
     "text": [
      " Simulating... : 100%|██████████| 594303/594303 [00:41<00:00, 14157.02it/s]\n"
     ]
    },
    {
     "name": "stdout",
     "output_type": "stream",
     "text": [
      "sim_name      init_signal    cushion    risk    rr  margin_closeout      streak_limit\n",
      "sim_280                -1          2   0.002     3  False                           0\n"
     ]
    },
    {
     "name": "stderr",
     "output_type": "stream",
     "text": [
      " Simulating... : 100%|██████████| 594303/594303 [00:46<00:00, 12781.01it/s]\n"
     ]
    },
    {
     "name": "stdout",
     "output_type": "stream",
     "text": [
      "sim_name      init_signal    cushion    risk    rr  margin_closeout      streak_limit\n",
      "sim_281                -1          2   0.003     3  True                            2\n"
     ]
    },
    {
     "name": "stderr",
     "output_type": "stream",
     "text": [
      " Simulating... : 100%|██████████| 594303/594303 [00:43<00:00, 13599.26it/s]\n"
     ]
    },
    {
     "name": "stdout",
     "output_type": "stream",
     "text": [
      "sim_name      init_signal    cushion    risk    rr  margin_closeout      streak_limit\n",
      "sim_282                -1          2   0.003     3  True                            3\n"
     ]
    },
    {
     "name": "stderr",
     "output_type": "stream",
     "text": [
      " Simulating... : 100%|██████████| 594303/594303 [00:46<00:00, 12818.18it/s]\n"
     ]
    },
    {
     "name": "stdout",
     "output_type": "stream",
     "text": [
      "sim_name      init_signal    cushion    risk    rr  margin_closeout      streak_limit\n",
      "sim_283                -1          2   0.003     3  True                            4\n"
     ]
    },
    {
     "name": "stderr",
     "output_type": "stream",
     "text": [
      " Simulating... : 100%|██████████| 594303/594303 [00:44<00:00, 13472.37it/s]\n"
     ]
    },
    {
     "name": "stdout",
     "output_type": "stream",
     "text": [
      "sim_name      init_signal    cushion    risk    rr  margin_closeout      streak_limit\n",
      "sim_284                -1          2   0.003     3  False                           0\n"
     ]
    },
    {
     "name": "stderr",
     "output_type": "stream",
     "text": [
      " Simulating... : 100%|██████████| 594303/594303 [00:47<00:00, 12402.84it/s]\n"
     ]
    },
    {
     "name": "stdout",
     "output_type": "stream",
     "text": [
      "sim_name      init_signal    cushion    risk    rr  margin_closeout      streak_limit\n",
      "sim_285                -1          2   0.004     3  True                            2\n"
     ]
    },
    {
     "name": "stderr",
     "output_type": "stream",
     "text": [
      " Simulating... : 100%|██████████| 594303/594303 [00:40<00:00, 14780.30it/s]\n"
     ]
    },
    {
     "name": "stdout",
     "output_type": "stream",
     "text": [
      "sim_name      init_signal    cushion    risk    rr  margin_closeout      streak_limit\n",
      "sim_286                -1          2   0.004     3  True                            3\n"
     ]
    },
    {
     "name": "stderr",
     "output_type": "stream",
     "text": [
      " Simulating... : 100%|██████████| 594303/594303 [00:38<00:00, 15334.73it/s]\n"
     ]
    },
    {
     "name": "stdout",
     "output_type": "stream",
     "text": [
      "sim_name      init_signal    cushion    risk    rr  margin_closeout      streak_limit\n",
      "sim_287                -1          2   0.004     3  True                            4\n"
     ]
    },
    {
     "name": "stderr",
     "output_type": "stream",
     "text": [
      " Simulating... : 100%|██████████| 594303/594303 [00:38<00:00, 15279.68it/s]\n"
     ]
    },
    {
     "name": "stdout",
     "output_type": "stream",
     "text": [
      "sim_name      init_signal    cushion    risk    rr  margin_closeout      streak_limit\n",
      "sim_288                -1          2   0.004     3  False                           0\n"
     ]
    },
    {
     "name": "stderr",
     "output_type": "stream",
     "text": [
      " Simulating... : 100%|██████████| 594303/594303 [00:39<00:00, 15031.43it/s]\n"
     ]
    }
   ],
   "source": [
    "init_signal = [BUY, SELL]\n",
    "cushion = [1.2, 1.5, 2.0]\n",
    "rr = [1.5, 2, 3]\n",
    "risk = [0.0010, 0.0020, 0.0030, 0.0040]\n",
    "margin_closeout = [True, False]\n",
    "streak_trade_limit = [2, 3, 4] # , 5, 6, 7, 8, 9, 10]\n",
    "\n",
    "counter = 1\n",
    "inputs_list = list()\n",
    "for i_s in init_signal:\n",
    "    for c in cushion:\n",
    "        for r_r in rr:\n",
    "            for r in risk:\n",
    "                for m_c in margin_closeout:\n",
    "                    if m_c == True:\n",
    "                        for lim in streak_trade_limit:\n",
    "                            if counter > 163:\n",
    "                                inputs = process_sim(\n",
    "                                    counter=counter,\n",
    "                                    init_signal=i_s,\n",
    "                                    cushion=c,\n",
    "                                    rr=r_r,\n",
    "                                    risk=r,\n",
    "                                    margin_closeout=m_c,\n",
    "                                    streak_trade_limit=lim,\n",
    "                                    inputs_list=inputs_list\n",
    "                                )  \n",
    "                            counter =  counter + 1\n",
    "                    else:\n",
    "                        if counter > 163:\n",
    "                            inputs = process_sim(\n",
    "                                    counter=counter,\n",
    "                                    init_signal=i_s,\n",
    "                                    cushion=c,\n",
    "                                    rr=r_r,\n",
    "                                    risk=r,\n",
    "                                    margin_closeout=m_c,\n",
    "                                    streak_trade_limit=0,\n",
    "                                    inputs_list=inputs_list\n",
    "                                )\n",
    "                        counter =  counter + 1"
   ]
  },
  {
   "cell_type": "code",
   "execution_count": null,
   "metadata": {},
   "outputs": [],
   "source": []
  },
  {
   "cell_type": "code",
   "execution_count": null,
   "metadata": {},
   "outputs": [],
   "source": []
  },
  {
   "cell_type": "code",
   "execution_count": null,
   "metadata": {},
   "outputs": [],
   "source": []
  },
  {
   "cell_type": "code",
   "execution_count": null,
   "metadata": {},
   "outputs": [],
   "source": []
  },
  {
   "cell_type": "code",
   "execution_count": null,
   "metadata": {},
   "outputs": [],
   "source": []
  },
  {
   "cell_type": "code",
   "execution_count": null,
   "metadata": {},
   "outputs": [],
   "source": []
  },
  {
   "cell_type": "code",
   "execution_count": null,
   "metadata": {},
   "outputs": [],
   "source": []
  },
  {
   "cell_type": "code",
   "execution_count": null,
   "metadata": {},
   "outputs": [],
   "source": []
  },
  {
   "cell_type": "code",
   "execution_count": null,
   "metadata": {},
   "outputs": [],
   "source": []
  },
  {
   "cell_type": "code",
   "execution_count": null,
   "metadata": {},
   "outputs": [],
   "source": []
  },
  {
   "cell_type": "code",
   "execution_count": null,
   "metadata": {},
   "outputs": [],
   "source": []
  },
  {
   "cell_type": "code",
   "execution_count": null,
   "metadata": {},
   "outputs": [],
   "source": []
  }
 ],
 "metadata": {
  "kernelspec": {
   "display_name": "trade",
   "language": "python",
   "name": "python3"
  },
  "language_info": {
   "codemirror_mode": {
    "name": "ipython",
    "version": 3
   },
   "file_extension": ".py",
   "mimetype": "text/x-python",
   "name": "python",
   "nbconvert_exporter": "python",
   "pygments_lexer": "ipython3",
   "version": "3.10.13"
  }
 },
 "nbformat": 4,
 "nbformat_minor": 2
}
