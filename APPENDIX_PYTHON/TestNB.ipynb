{
 "cells": [
  {
   "cell_type": "code",
   "execution_count": 1,
   "id": "3a911c3e",
   "metadata": {},
   "outputs": [
    {
     "name": "stdout",
     "output_type": "stream",
     "text": [
      "hobbit.py: frodo.hobbit\n"
     ]
    }
   ],
   "source": [
    "from frodo.hobbit import sing"
   ]
  },
  {
   "cell_type": "code",
   "execution_count": 2,
   "id": "6cfa939c",
   "metadata": {},
   "outputs": [
    {
     "name": "stdout",
     "output_type": "stream",
     "text": [
      "The hobbit sings nothing\n",
      "cast_spell\n"
     ]
    }
   ],
   "source": [
    "sing()"
   ]
  },
  {
   "cell_type": "code",
   "execution_count": null,
   "id": "a453fb4b",
   "metadata": {},
   "outputs": [],
   "source": [
    "num = 4\n",
    "print(num)"
   ]
  },
  {
   "cell_type": "code",
   "execution_count": null,
   "id": "95b167f5",
   "metadata": {},
   "outputs": [],
   "source": [
    "def foo():\n",
    "    print(\"foo\")"
   ]
  },
  {
   "cell_type": "code",
   "execution_count": null,
   "id": "6261ef8a",
   "metadata": {},
   "outputs": [],
   "source": [
    "foo()"
   ]
  },
  {
   "cell_type": "code",
   "execution_count": null,
   "id": "08e4aab5",
   "metadata": {},
   "outputs": [],
   "source": []
  }
 ],
 "metadata": {
  "kernelspec": {
   "display_name": "Python 3 (ipykernel)",
   "language": "python",
   "name": "python3"
  },
  "language_info": {
   "codemirror_mode": {
    "name": "ipython",
    "version": 3
   },
   "file_extension": ".py",
   "mimetype": "text/x-python",
   "name": "python",
   "nbconvert_exporter": "python",
   "pygments_lexer": "ipython3",
   "version": "3.10.1"
  }
 },
 "nbformat": 4,
 "nbformat_minor": 5
}
