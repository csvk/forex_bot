{
 "cells": [
  {
   "cell_type": "code",
   "execution_count": 1,
   "id": "ed1e3197",
   "metadata": {},
   "outputs": [],
   "source": [
    "import pandas as pd\n",
    "from plotting import CandlePlot\n",
    "pd.set_option(\"display.max_columns\", None)"
   ]
  },
  {
   "cell_type": "code",
   "execution_count": 2,
   "id": "c69a1c64",
   "metadata": {},
   "outputs": [],
   "source": [
    "df_ma_res = pd.read_pickle(\"../data/ma_res.pkl\")\n",
    "df_ma_trades = pd.read_pickle(\"../data/ma_trades.pkl\")"
   ]
  },
  {
   "cell_type": "code",
   "execution_count": 3,
   "id": "002dc629",
   "metadata": {},
   "outputs": [
    {
     "data": {
      "text/plain": [
       "array(['H1', 'H4'], dtype=object)"
      ]
     },
     "execution_count": 3,
     "metadata": {},
     "output_type": "execute_result"
    }
   ],
   "source": [
    "df_ma_res.granularity.unique()"
   ]
  },
  {
   "cell_type": "code",
   "execution_count": 4,
   "id": "3bc85f28",
   "metadata": {},
   "outputs": [],
   "source": [
    "df_ma_res_h1 = df_ma_res[df_ma_res.granularity == \"H1\"].copy()\n",
    "df_ma_trades_h1 = df_ma_trades[df_ma_trades.granularity == \"H1\"].copy()"
   ]
  },
  {
   "cell_type": "code",
   "execution_count": 5,
   "id": "a4cae280",
   "metadata": {},
   "outputs": [
    {
     "data": {
      "text/plain": [
       "(17581, 32)"
      ]
     },
     "execution_count": 5,
     "metadata": {},
     "output_type": "execute_result"
    }
   ],
   "source": [
    "df_ma_trades_h1.shape"
   ]
  },
  {
   "cell_type": "code",
   "execution_count": 6,
   "id": "1f1357db",
   "metadata": {},
   "outputs": [
    {
     "data": {
      "text/plain": [
       "Index(['pair', 'num_trades', 'total_gain', 'mean_gain', 'min_gain', 'max_gain',\n",
       "       'ma_l', 'ma_s', 'cross', 'granularity'],\n",
       "      dtype='object')"
      ]
     },
     "execution_count": 6,
     "metadata": {},
     "output_type": "execute_result"
    }
   ],
   "source": [
    "df_ma_res_h1.columns"
   ]
  },
  {
   "cell_type": "code",
   "execution_count": 7,
   "id": "596ecfa0",
   "metadata": {},
   "outputs": [],
   "source": [
    "df_cross_summary = df_ma_res_h1[['pair', 'num_trades', 'total_gain','cross']].copy()"
   ]
  },
  {
   "cell_type": "code",
   "execution_count": 8,
   "id": "28376ea9",
   "metadata": {},
   "outputs": [],
   "source": [
    "df_cross_gr = df_cross_summary.groupby(by=\"cross\", as_index=False).sum()\n",
    "df_cross_gr.sort_values(by=\"total_gain\", ascending=False, inplace=True)"
   ]
  },
  {
   "cell_type": "code",
   "execution_count": 9,
   "id": "6885b252",
   "metadata": {},
   "outputs": [
    {
     "data": {
      "text/html": [
       "<div>\n",
       "<style scoped>\n",
       "    .dataframe tbody tr th:only-of-type {\n",
       "        vertical-align: middle;\n",
       "    }\n",
       "\n",
       "    .dataframe tbody tr th {\n",
       "        vertical-align: top;\n",
       "    }\n",
       "\n",
       "    .dataframe thead th {\n",
       "        text-align: right;\n",
       "    }\n",
       "</style>\n",
       "<table border=\"1\" class=\"dataframe\">\n",
       "  <thead>\n",
       "    <tr style=\"text-align: right;\">\n",
       "      <th></th>\n",
       "      <th>cross</th>\n",
       "      <th>pair</th>\n",
       "      <th>num_trades</th>\n",
       "      <th>total_gain</th>\n",
       "    </tr>\n",
       "  </thead>\n",
       "  <tbody>\n",
       "    <tr>\n",
       "      <th>3</th>\n",
       "      <td>MA_10_MA_40</td>\n",
       "      <td>EUR_USDEUR_GBPEUR_JPYEUR_AUDEUR_CADUSD_JPYUSD_...</td>\n",
       "      <td>1809</td>\n",
       "      <td>6</td>\n",
       "    </tr>\n",
       "    <tr>\n",
       "      <th>2</th>\n",
       "      <td>MA_10_MA_20</td>\n",
       "      <td>EUR_USDEUR_GBPEUR_JPYEUR_AUDEUR_CADUSD_JPYUSD_...</td>\n",
       "      <td>3204</td>\n",
       "      <td>-76</td>\n",
       "    </tr>\n",
       "    <tr>\n",
       "      <th>11</th>\n",
       "      <td>MA_30_MA_40</td>\n",
       "      <td>EUR_USDEUR_GBPEUR_JPYEUR_AUDEUR_CADUSD_JPYUSD_...</td>\n",
       "      <td>1806</td>\n",
       "      <td>-2654</td>\n",
       "    </tr>\n",
       "    <tr>\n",
       "      <th>7</th>\n",
       "      <td>MA_20_MA_40</td>\n",
       "      <td>EUR_USDEUR_GBPEUR_JPYEUR_AUDEUR_CADUSD_JPYUSD_...</td>\n",
       "      <td>1560</td>\n",
       "      <td>-3954</td>\n",
       "    </tr>\n",
       "    <tr>\n",
       "      <th>8</th>\n",
       "      <td>MA_20_MA_80</td>\n",
       "      <td>EUR_USDEUR_GBPEUR_JPYEUR_AUDEUR_CADUSD_JPYUSD_...</td>\n",
       "      <td>918</td>\n",
       "      <td>-7053</td>\n",
       "    </tr>\n",
       "  </tbody>\n",
       "</table>\n",
       "</div>"
      ],
      "text/plain": [
       "          cross                                               pair  \\\n",
       "3   MA_10_MA_40  EUR_USDEUR_GBPEUR_JPYEUR_AUDEUR_CADUSD_JPYUSD_...   \n",
       "2   MA_10_MA_20  EUR_USDEUR_GBPEUR_JPYEUR_AUDEUR_CADUSD_JPYUSD_...   \n",
       "11  MA_30_MA_40  EUR_USDEUR_GBPEUR_JPYEUR_AUDEUR_CADUSD_JPYUSD_...   \n",
       "7   MA_20_MA_40  EUR_USDEUR_GBPEUR_JPYEUR_AUDEUR_CADUSD_JPYUSD_...   \n",
       "8   MA_20_MA_80  EUR_USDEUR_GBPEUR_JPYEUR_AUDEUR_CADUSD_JPYUSD_...   \n",
       "\n",
       "    num_trades  total_gain  \n",
       "3         1809           6  \n",
       "2         3204         -76  \n",
       "11        1806       -2654  \n",
       "7         1560       -3954  \n",
       "8          918       -7053  "
      ]
     },
     "execution_count": 9,
     "metadata": {},
     "output_type": "execute_result"
    }
   ],
   "source": [
    "df_cross_gr.head()"
   ]
  },
  {
   "cell_type": "code",
   "execution_count": 10,
   "id": "2aede132",
   "metadata": {},
   "outputs": [],
   "source": [
    "total_pairs = len(df_ma_res_h1.pair.unique())"
   ]
  },
  {
   "cell_type": "code",
   "execution_count": 11,
   "id": "1b460708",
   "metadata": {},
   "outputs": [
    {
     "data": {
      "text/plain": [
       "15"
      ]
     },
     "execution_count": 11,
     "metadata": {},
     "output_type": "execute_result"
    }
   ],
   "source": [
    "total_pairs"
   ]
  },
  {
   "cell_type": "code",
   "execution_count": 12,
   "id": "dfe06d16",
   "metadata": {},
   "outputs": [],
   "source": [
    "temp = df_ma_res_h1[df_ma_res_h1.cross == \"MA_10_MA_40\"]"
   ]
  },
  {
   "cell_type": "code",
   "execution_count": 13,
   "id": "f8d15622",
   "metadata": {},
   "outputs": [
    {
     "data": {
      "text/plain": [
       "8"
      ]
     },
     "execution_count": 13,
     "metadata": {},
     "output_type": "execute_result"
    }
   ],
   "source": [
    "temp[temp.total_gain > 0].shape[0]"
   ]
  },
  {
   "cell_type": "code",
   "execution_count": 14,
   "id": "e290be51",
   "metadata": {},
   "outputs": [
    {
     "name": "stdout",
     "output_type": "stream",
     "text": [
      "MA_10_MA_20 pg:7 perc gain:47%\n",
      "MA_10_MA_40 pg:8 perc gain:53%\n",
      "MA_20_MA_40 pg:6 perc gain:40%\n",
      "MA_30_MA_40 pg:7 perc gain:47%\n",
      "MA_10_MA_80 pg:3 perc gain:20%\n",
      "MA_20_MA_80 pg:2 perc gain:13%\n",
      "MA_30_MA_80 pg:1 perc gain:7%\n",
      "MA_40_MA_80 pg:5 perc gain:33%\n",
      "MA_10_MA_120 pg:1 perc gain:7%\n",
      "MA_20_MA_120 pg:2 perc gain:13%\n",
      "MA_30_MA_120 pg:3 perc gain:20%\n",
      "MA_40_MA_120 pg:4 perc gain:27%\n",
      "MA_10_MA_150 pg:4 perc gain:27%\n",
      "MA_20_MA_150 pg:4 perc gain:27%\n",
      "MA_30_MA_150 pg:5 perc gain:33%\n",
      "MA_40_MA_150 pg:4 perc gain:27%\n"
     ]
    }
   ],
   "source": [
    "for c in df_ma_res_h1.cross.unique():\n",
    "    temp = df_ma_res_h1[df_ma_res_h1.cross == c]\n",
    "    pg = temp[temp.total_gain > 0].shape[0]\n",
    "    print(f\"{c} pg:{pg} perc gain:{(pg / total_pairs) * 100:.0f}%\")"
   ]
  },
  {
   "cell_type": "code",
   "execution_count": 15,
   "id": "5ac6b45f",
   "metadata": {},
   "outputs": [],
   "source": [
    "cross = \"MA_10_MA_20\"\n",
    "df_MA_10_MA_20 = df_ma_res_h1[df_ma_res_h1.cross == cross].copy()\n",
    "df_MA_10_MA_20.sort_values(by=\"total_gain\", ascending=False, inplace=True)"
   ]
  },
  {
   "cell_type": "code",
   "execution_count": 16,
   "id": "c2d5205b",
   "metadata": {},
   "outputs": [
    {
     "data": {
      "text/html": [
       "<div>\n",
       "<style scoped>\n",
       "    .dataframe tbody tr th:only-of-type {\n",
       "        vertical-align: middle;\n",
       "    }\n",
       "\n",
       "    .dataframe tbody tr th {\n",
       "        vertical-align: top;\n",
       "    }\n",
       "\n",
       "    .dataframe thead th {\n",
       "        text-align: right;\n",
       "    }\n",
       "</style>\n",
       "<table border=\"1\" class=\"dataframe\">\n",
       "  <thead>\n",
       "    <tr style=\"text-align: right;\">\n",
       "      <th></th>\n",
       "      <th>pair</th>\n",
       "      <th>num_trades</th>\n",
       "      <th>total_gain</th>\n",
       "      <th>mean_gain</th>\n",
       "      <th>min_gain</th>\n",
       "      <th>max_gain</th>\n",
       "      <th>ma_l</th>\n",
       "      <th>ma_s</th>\n",
       "      <th>cross</th>\n",
       "      <th>granularity</th>\n",
       "    </tr>\n",
       "  </thead>\n",
       "  <tbody>\n",
       "    <tr>\n",
       "      <th>128</th>\n",
       "      <td>GBP_JPY</td>\n",
       "      <td>216</td>\n",
       "      <td>1555</td>\n",
       "      <td>7</td>\n",
       "      <td>-264</td>\n",
       "      <td>387</td>\n",
       "      <td>MA_20</td>\n",
       "      <td>MA_10</td>\n",
       "      <td>MA_10_MA_20</td>\n",
       "      <td>H1</td>\n",
       "    </tr>\n",
       "    <tr>\n",
       "      <th>80</th>\n",
       "      <td>USD_JPY</td>\n",
       "      <td>205</td>\n",
       "      <td>1499</td>\n",
       "      <td>7</td>\n",
       "      <td>-158</td>\n",
       "      <td>331</td>\n",
       "      <td>MA_20</td>\n",
       "      <td>MA_10</td>\n",
       "      <td>MA_10_MA_20</td>\n",
       "      <td>H1</td>\n",
       "    </tr>\n",
       "    <tr>\n",
       "      <th>32</th>\n",
       "      <td>EUR_JPY</td>\n",
       "      <td>212</td>\n",
       "      <td>904</td>\n",
       "      <td>4</td>\n",
       "      <td>-278</td>\n",
       "      <td>297</td>\n",
       "      <td>MA_20</td>\n",
       "      <td>MA_10</td>\n",
       "      <td>MA_10_MA_20</td>\n",
       "      <td>H1</td>\n",
       "    </tr>\n",
       "    <tr>\n",
       "      <th>224</th>\n",
       "      <td>CAD_JPY</td>\n",
       "      <td>210</td>\n",
       "      <td>780</td>\n",
       "      <td>3</td>\n",
       "      <td>-93</td>\n",
       "      <td>212</td>\n",
       "      <td>MA_20</td>\n",
       "      <td>MA_10</td>\n",
       "      <td>MA_10_MA_20</td>\n",
       "      <td>H1</td>\n",
       "    </tr>\n",
       "    <tr>\n",
       "      <th>192</th>\n",
       "      <td>AUD_JPY</td>\n",
       "      <td>197</td>\n",
       "      <td>377</td>\n",
       "      <td>1</td>\n",
       "      <td>-98</td>\n",
       "      <td>197</td>\n",
       "      <td>MA_20</td>\n",
       "      <td>MA_10</td>\n",
       "      <td>MA_10_MA_20</td>\n",
       "      <td>H1</td>\n",
       "    </tr>\n",
       "    <tr>\n",
       "      <th>144</th>\n",
       "      <td>GBP_AUD</td>\n",
       "      <td>196</td>\n",
       "      <td>228</td>\n",
       "      <td>1</td>\n",
       "      <td>-135</td>\n",
       "      <td>268</td>\n",
       "      <td>MA_20</td>\n",
       "      <td>MA_10</td>\n",
       "      <td>MA_10_MA_20</td>\n",
       "      <td>H1</td>\n",
       "    </tr>\n",
       "    <tr>\n",
       "      <th>48</th>\n",
       "      <td>EUR_AUD</td>\n",
       "      <td>206</td>\n",
       "      <td>44</td>\n",
       "      <td>0</td>\n",
       "      <td>-99</td>\n",
       "      <td>218</td>\n",
       "      <td>MA_20</td>\n",
       "      <td>MA_10</td>\n",
       "      <td>MA_10_MA_20</td>\n",
       "      <td>H1</td>\n",
       "    </tr>\n",
       "    <tr>\n",
       "      <th>96</th>\n",
       "      <td>USD_CAD</td>\n",
       "      <td>206</td>\n",
       "      <td>-12</td>\n",
       "      <td>0</td>\n",
       "      <td>-93</td>\n",
       "      <td>210</td>\n",
       "      <td>MA_20</td>\n",
       "      <td>MA_10</td>\n",
       "      <td>MA_10_MA_20</td>\n",
       "      <td>H1</td>\n",
       "    </tr>\n",
       "    <tr>\n",
       "      <th>176</th>\n",
       "      <td>AUD_USD</td>\n",
       "      <td>211</td>\n",
       "      <td>-25</td>\n",
       "      <td>0</td>\n",
       "      <td>-102</td>\n",
       "      <td>179</td>\n",
       "      <td>MA_20</td>\n",
       "      <td>MA_10</td>\n",
       "      <td>MA_10_MA_20</td>\n",
       "      <td>H1</td>\n",
       "    </tr>\n",
       "    <tr>\n",
       "      <th>208</th>\n",
       "      <td>AUD_CAD</td>\n",
       "      <td>216</td>\n",
       "      <td>-180</td>\n",
       "      <td>0</td>\n",
       "      <td>-57</td>\n",
       "      <td>116</td>\n",
       "      <td>MA_20</td>\n",
       "      <td>MA_10</td>\n",
       "      <td>MA_10_MA_20</td>\n",
       "      <td>H1</td>\n",
       "    </tr>\n",
       "    <tr>\n",
       "      <th>16</th>\n",
       "      <td>EUR_GBP</td>\n",
       "      <td>228</td>\n",
       "      <td>-282</td>\n",
       "      <td>-1</td>\n",
       "      <td>-36</td>\n",
       "      <td>84</td>\n",
       "      <td>MA_20</td>\n",
       "      <td>MA_10</td>\n",
       "      <td>MA_10_MA_20</td>\n",
       "      <td>H1</td>\n",
       "    </tr>\n",
       "    <tr>\n",
       "      <th>112</th>\n",
       "      <td>GBP_USD</td>\n",
       "      <td>230</td>\n",
       "      <td>-772</td>\n",
       "      <td>-3</td>\n",
       "      <td>-130</td>\n",
       "      <td>250</td>\n",
       "      <td>MA_20</td>\n",
       "      <td>MA_10</td>\n",
       "      <td>MA_10_MA_20</td>\n",
       "      <td>H1</td>\n",
       "    </tr>\n",
       "    <tr>\n",
       "      <th>0</th>\n",
       "      <td>EUR_USD</td>\n",
       "      <td>214</td>\n",
       "      <td>-962</td>\n",
       "      <td>-4</td>\n",
       "      <td>-100</td>\n",
       "      <td>211</td>\n",
       "      <td>MA_20</td>\n",
       "      <td>MA_10</td>\n",
       "      <td>MA_10_MA_20</td>\n",
       "      <td>H1</td>\n",
       "    </tr>\n",
       "    <tr>\n",
       "      <th>64</th>\n",
       "      <td>EUR_CAD</td>\n",
       "      <td>220</td>\n",
       "      <td>-1503</td>\n",
       "      <td>-6</td>\n",
       "      <td>-150</td>\n",
       "      <td>190</td>\n",
       "      <td>MA_20</td>\n",
       "      <td>MA_10</td>\n",
       "      <td>MA_10_MA_20</td>\n",
       "      <td>H1</td>\n",
       "    </tr>\n",
       "    <tr>\n",
       "      <th>160</th>\n",
       "      <td>GBP_CAD</td>\n",
       "      <td>237</td>\n",
       "      <td>-1727</td>\n",
       "      <td>-7</td>\n",
       "      <td>-110</td>\n",
       "      <td>168</td>\n",
       "      <td>MA_20</td>\n",
       "      <td>MA_10</td>\n",
       "      <td>MA_10_MA_20</td>\n",
       "      <td>H1</td>\n",
       "    </tr>\n",
       "  </tbody>\n",
       "</table>\n",
       "</div>"
      ],
      "text/plain": [
       "        pair  num_trades  total_gain  mean_gain  min_gain  max_gain   ma_l  \\\n",
       "128  GBP_JPY         216        1555          7      -264       387  MA_20   \n",
       "80   USD_JPY         205        1499          7      -158       331  MA_20   \n",
       "32   EUR_JPY         212         904          4      -278       297  MA_20   \n",
       "224  CAD_JPY         210         780          3       -93       212  MA_20   \n",
       "192  AUD_JPY         197         377          1       -98       197  MA_20   \n",
       "144  GBP_AUD         196         228          1      -135       268  MA_20   \n",
       "48   EUR_AUD         206          44          0       -99       218  MA_20   \n",
       "96   USD_CAD         206         -12          0       -93       210  MA_20   \n",
       "176  AUD_USD         211         -25          0      -102       179  MA_20   \n",
       "208  AUD_CAD         216        -180          0       -57       116  MA_20   \n",
       "16   EUR_GBP         228        -282         -1       -36        84  MA_20   \n",
       "112  GBP_USD         230        -772         -3      -130       250  MA_20   \n",
       "0    EUR_USD         214        -962         -4      -100       211  MA_20   \n",
       "64   EUR_CAD         220       -1503         -6      -150       190  MA_20   \n",
       "160  GBP_CAD         237       -1727         -7      -110       168  MA_20   \n",
       "\n",
       "      ma_s        cross granularity  \n",
       "128  MA_10  MA_10_MA_20          H1  \n",
       "80   MA_10  MA_10_MA_20          H1  \n",
       "32   MA_10  MA_10_MA_20          H1  \n",
       "224  MA_10  MA_10_MA_20          H1  \n",
       "192  MA_10  MA_10_MA_20          H1  \n",
       "144  MA_10  MA_10_MA_20          H1  \n",
       "48   MA_10  MA_10_MA_20          H1  \n",
       "96   MA_10  MA_10_MA_20          H1  \n",
       "176  MA_10  MA_10_MA_20          H1  \n",
       "208  MA_10  MA_10_MA_20          H1  \n",
       "16   MA_10  MA_10_MA_20          H1  \n",
       "112  MA_10  MA_10_MA_20          H1  \n",
       "0    MA_10  MA_10_MA_20          H1  \n",
       "64   MA_10  MA_10_MA_20          H1  \n",
       "160  MA_10  MA_10_MA_20          H1  "
      ]
     },
     "execution_count": 16,
     "metadata": {},
     "output_type": "execute_result"
    }
   ],
   "source": [
    "df_MA_10_MA_20"
   ]
  },
  {
   "cell_type": "code",
   "execution_count": 17,
   "id": "5d5f1c99",
   "metadata": {},
   "outputs": [],
   "source": [
    "df_gains = df_ma_trades_h1[(df_ma_trades_h1.cross==cross)&\n",
    "                           (df_ma_trades_h1.pair==\"CAD_JPY\")].copy()"
   ]
  },
  {
   "cell_type": "code",
   "execution_count": 18,
   "id": "51bca4a1",
   "metadata": {},
   "outputs": [
    {
     "data": {
      "text/html": [
       "<div>\n",
       "<style scoped>\n",
       "    .dataframe tbody tr th:only-of-type {\n",
       "        vertical-align: middle;\n",
       "    }\n",
       "\n",
       "    .dataframe tbody tr th {\n",
       "        vertical-align: top;\n",
       "    }\n",
       "\n",
       "    .dataframe thead th {\n",
       "        text-align: right;\n",
       "    }\n",
       "</style>\n",
       "<table border=\"1\" class=\"dataframe\">\n",
       "  <thead>\n",
       "    <tr style=\"text-align: right;\">\n",
       "      <th></th>\n",
       "      <th>time</th>\n",
       "      <th>volume</th>\n",
       "      <th>mid_o</th>\n",
       "      <th>mid_h</th>\n",
       "      <th>mid_l</th>\n",
       "      <th>mid_c</th>\n",
       "      <th>bid_o</th>\n",
       "      <th>bid_h</th>\n",
       "      <th>bid_l</th>\n",
       "      <th>bid_c</th>\n",
       "      <th>ask_o</th>\n",
       "      <th>ask_h</th>\n",
       "      <th>ask_l</th>\n",
       "      <th>ask_c</th>\n",
       "      <th>MA_40</th>\n",
       "      <th>MA_10</th>\n",
       "      <th>MA_80</th>\n",
       "      <th>MA_20</th>\n",
       "      <th>MA_150</th>\n",
       "      <th>MA_120</th>\n",
       "      <th>MA_30</th>\n",
       "      <th>DELTA</th>\n",
       "      <th>DELTA_PREV</th>\n",
       "      <th>TRADE</th>\n",
       "      <th>DIFF</th>\n",
       "      <th>GAIN</th>\n",
       "      <th>granularity</th>\n",
       "      <th>pair</th>\n",
       "      <th>GAIN_C</th>\n",
       "      <th>ma_l</th>\n",
       "      <th>ma_s</th>\n",
       "      <th>cross</th>\n",
       "    </tr>\n",
       "  </thead>\n",
       "  <tbody>\n",
       "    <tr>\n",
       "      <th>16441</th>\n",
       "      <td>2023-06-26 09:00:00+00:00</td>\n",
       "      <td>4764</td>\n",
       "      <td>108.706</td>\n",
       "      <td>108.787</td>\n",
       "      <td>108.662</td>\n",
       "      <td>108.786</td>\n",
       "      <td>108.697</td>\n",
       "      <td>108.777</td>\n",
       "      <td>108.652</td>\n",
       "      <td>108.776</td>\n",
       "      <td>108.716</td>\n",
       "      <td>108.797</td>\n",
       "      <td>108.673</td>\n",
       "      <td>108.796</td>\n",
       "      <td>108.785325</td>\n",
       "      <td>108.9355</td>\n",
       "      <td>108.262887</td>\n",
       "      <td>108.96855</td>\n",
       "      <td>107.750000</td>\n",
       "      <td>107.901708</td>\n",
       "      <td>108.798167</td>\n",
       "      <td>-0.03305</td>\n",
       "      <td>0.00735</td>\n",
       "      <td>-1</td>\n",
       "      <td>0.344</td>\n",
       "      <td>-34.4</td>\n",
       "      <td>H1</td>\n",
       "      <td>CAD_JPY</td>\n",
       "      <td>-34.4</td>\n",
       "      <td>MA_20</td>\n",
       "      <td>MA_10</td>\n",
       "      <td>MA_10_MA_20</td>\n",
       "    </tr>\n",
       "    <tr>\n",
       "      <th>16442</th>\n",
       "      <td>2023-06-26 18:00:00+00:00</td>\n",
       "      <td>2387</td>\n",
       "      <td>109.164</td>\n",
       "      <td>109.188</td>\n",
       "      <td>109.092</td>\n",
       "      <td>109.130</td>\n",
       "      <td>109.154</td>\n",
       "      <td>109.178</td>\n",
       "      <td>109.082</td>\n",
       "      <td>109.120</td>\n",
       "      <td>109.173</td>\n",
       "      <td>109.197</td>\n",
       "      <td>109.103</td>\n",
       "      <td>109.140</td>\n",
       "      <td>108.839500</td>\n",
       "      <td>108.9921</td>\n",
       "      <td>108.462150</td>\n",
       "      <td>108.97600</td>\n",
       "      <td>107.896413</td>\n",
       "      <td>108.019108</td>\n",
       "      <td>108.965733</td>\n",
       "      <td>0.01610</td>\n",
       "      <td>-0.01915</td>\n",
       "      <td>1</td>\n",
       "      <td>0.128</td>\n",
       "      <td>12.8</td>\n",
       "      <td>H1</td>\n",
       "      <td>CAD_JPY</td>\n",
       "      <td>-21.6</td>\n",
       "      <td>MA_20</td>\n",
       "      <td>MA_10</td>\n",
       "      <td>MA_10_MA_20</td>\n",
       "    </tr>\n",
       "    <tr>\n",
       "      <th>16443</th>\n",
       "      <td>2023-06-27 17:00:00+00:00</td>\n",
       "      <td>2781</td>\n",
       "      <td>109.201</td>\n",
       "      <td>109.302</td>\n",
       "      <td>109.201</td>\n",
       "      <td>109.258</td>\n",
       "      <td>109.191</td>\n",
       "      <td>109.292</td>\n",
       "      <td>109.191</td>\n",
       "      <td>109.248</td>\n",
       "      <td>109.211</td>\n",
       "      <td>109.311</td>\n",
       "      <td>109.211</td>\n",
       "      <td>109.267</td>\n",
       "      <td>109.111550</td>\n",
       "      <td>109.2286</td>\n",
       "      <td>108.887100</td>\n",
       "      <td>109.23090</td>\n",
       "      <td>108.175353</td>\n",
       "      <td>108.412417</td>\n",
       "      <td>109.182267</td>\n",
       "      <td>-0.00230</td>\n",
       "      <td>0.01665</td>\n",
       "      <td>-1</td>\n",
       "      <td>-0.349</td>\n",
       "      <td>34.9</td>\n",
       "      <td>H1</td>\n",
       "      <td>CAD_JPY</td>\n",
       "      <td>13.3</td>\n",
       "      <td>MA_20</td>\n",
       "      <td>MA_10</td>\n",
       "      <td>MA_10_MA_20</td>\n",
       "    </tr>\n",
       "  </tbody>\n",
       "</table>\n",
       "</div>"
      ],
      "text/plain": [
       "                           time  volume    mid_o    mid_h    mid_l    mid_c  \\\n",
       "16441 2023-06-26 09:00:00+00:00    4764  108.706  108.787  108.662  108.786   \n",
       "16442 2023-06-26 18:00:00+00:00    2387  109.164  109.188  109.092  109.130   \n",
       "16443 2023-06-27 17:00:00+00:00    2781  109.201  109.302  109.201  109.258   \n",
       "\n",
       "         bid_o    bid_h    bid_l    bid_c    ask_o    ask_h    ask_l    ask_c  \\\n",
       "16441  108.697  108.777  108.652  108.776  108.716  108.797  108.673  108.796   \n",
       "16442  109.154  109.178  109.082  109.120  109.173  109.197  109.103  109.140   \n",
       "16443  109.191  109.292  109.191  109.248  109.211  109.311  109.211  109.267   \n",
       "\n",
       "            MA_40     MA_10       MA_80      MA_20      MA_150      MA_120  \\\n",
       "16441  108.785325  108.9355  108.262887  108.96855  107.750000  107.901708   \n",
       "16442  108.839500  108.9921  108.462150  108.97600  107.896413  108.019108   \n",
       "16443  109.111550  109.2286  108.887100  109.23090  108.175353  108.412417   \n",
       "\n",
       "            MA_30    DELTA  DELTA_PREV  TRADE   DIFF  GAIN granularity  \\\n",
       "16441  108.798167 -0.03305     0.00735     -1  0.344 -34.4          H1   \n",
       "16442  108.965733  0.01610    -0.01915      1  0.128  12.8          H1   \n",
       "16443  109.182267 -0.00230     0.01665     -1 -0.349  34.9          H1   \n",
       "\n",
       "          pair  GAIN_C   ma_l   ma_s        cross  \n",
       "16441  CAD_JPY   -34.4  MA_20  MA_10  MA_10_MA_20  \n",
       "16442  CAD_JPY   -21.6  MA_20  MA_10  MA_10_MA_20  \n",
       "16443  CAD_JPY    13.3  MA_20  MA_10  MA_10_MA_20  "
      ]
     },
     "execution_count": 18,
     "metadata": {},
     "output_type": "execute_result"
    }
   ],
   "source": [
    "df_gains.head(3)"
   ]
  },
  {
   "cell_type": "code",
   "execution_count": 19,
   "id": "ab9653d6",
   "metadata": {},
   "outputs": [
    {
     "data": {
      "application/vnd.plotly.v1+json": {
       "config": {
        "plotlyServerURL": "https://plot.ly"
       },
       "data": [
        {
         "line": {
          "shape": "spline",
          "width": 2
         },
         "name": "GAIN_C",
         "type": "scatter",
         "x": [
          "s23-06-26 09:00",
          "s23-06-26 18:00",
          "s23-06-27 17:00",
          "s23-06-29 04:00",
          "s23-06-29 05:00",
          "s23-06-29 15:00",
          "s23-06-30 08:00",
          "s23-07-03 06:00",
          "s23-07-03 21:00",
          "s23-07-03 22:00",
          "s23-07-04 05:00",
          "s23-07-04 12:00",
          "s23-07-05 05:00",
          "s23-07-10 01:00",
          "s23-07-10 13:00",
          "s23-07-11 21:00",
          "s23-07-12 04:00",
          "s23-07-13 07:00",
          "s23-07-14 00:00",
          "s23-07-14 10:00",
          "s23-07-14 20:00",
          "s23-07-17 14:00",
          "s23-07-18 04:00",
          "s23-07-18 18:00",
          "s23-07-20 02:00",
          "s23-07-20 09:00",
          "s23-07-21 02:00",
          "s23-07-21 07:00",
          "s23-07-24 01:00",
          "s23-07-24 17:00",
          "s23-07-25 10:00",
          "s23-07-27 04:00",
          "s23-07-27 10:00",
          "s23-07-27 11:00",
          "s23-07-27 20:00",
          "s23-07-28 12:00",
          "s23-08-01 08:00",
          "s23-08-01 20:00",
          "s23-08-02 04:00",
          "s23-08-02 21:00",
          "s23-08-03 05:00",
          "s23-08-04 07:00",
          "s23-08-04 10:00",
          "s23-08-07 08:00",
          "s23-08-08 12:00",
          "s23-08-08 22:00",
          "s23-08-09 11:00",
          "s23-08-09 15:00",
          "s23-08-11 08:00",
          "s23-08-11 18:00",
          "s23-08-14 06:00",
          "s23-08-14 13:00",
          "s23-08-15 12:00",
          "s23-08-16 13:00",
          "s23-08-17 12:00",
          "s23-08-21 02:00",
          "s23-08-22 04:00",
          "s23-08-24 02:00",
          "s23-08-25 02:00",
          "s23-08-25 07:00",
          "s23-08-25 11:00",
          "s23-08-25 12:00",
          "s23-08-25 17:00",
          "s23-08-25 19:00",
          "s23-08-28 23:00",
          "s23-08-29 11:00",
          "s23-08-29 19:00",
          "s23-08-30 05:00",
          "s23-08-31 05:00",
          "s23-09-01 03:00",
          "s23-09-01 12:00",
          "s23-09-04 02:00",
          "s23-09-05 07:00",
          "s23-09-05 12:00",
          "s23-09-06 05:00",
          "s23-09-06 19:00",
          "s23-09-07 09:00",
          "s23-09-08 07:00",
          "s23-09-11 02:00",
          "s23-09-11 16:00",
          "s23-09-14 02:00",
          "s23-09-14 11:00",
          "s23-09-17 22:00",
          "s23-09-17 23:00",
          "s23-09-18 00:00",
          "s23-09-18 12:00",
          "s23-09-20 01:00",
          "s23-09-20 10:00",
          "s23-09-21 00:00",
          "s23-09-22 02:00",
          "s23-09-24 21:00",
          "s23-09-25 08:00",
          "s23-09-26 08:00",
          "s23-09-27 10:00",
          "s23-09-27 11:00",
          "s23-09-27 12:00",
          "s23-09-28 09:00",
          "s23-09-29 03:00",
          "s23-09-29 18:00",
          "s23-10-02 09:00",
          "s23-10-02 11:00",
          "s23-10-04 07:00",
          "s23-10-04 13:00",
          "s23-10-05 23:00",
          "s23-10-09 10:00",
          "s23-10-09 20:00",
          "s23-10-10 21:00",
          "s23-10-11 08:00",
          "s23-10-12 16:00",
          "s23-10-13 14:00",
          "s23-10-17 05:00",
          "s23-10-17 22:00",
          "s23-10-18 14:00",
          "s23-10-19 16:00",
          "s23-10-22 22:00",
          "s23-10-23 14:00",
          "s23-10-24 03:00",
          "s23-10-24 05:00",
          "s23-10-24 07:00",
          "s23-10-24 11:00",
          "s23-10-24 12:00",
          "s23-10-26 04:00",
          "s23-10-26 16:00",
          "s23-10-30 07:00",
          "s23-10-30 19:00",
          "s23-10-31 04:00",
          "s23-11-01 05:00",
          "s23-11-02 13:00",
          "s23-11-03 11:00",
          "s23-11-06 01:00",
          "s23-11-06 20:00",
          "s23-11-08 09:00",
          "s23-11-08 23:00",
          "s23-11-09 02:00",
          "s23-11-10 03:00",
          "s23-11-10 06:00",
          "s23-11-10 15:00",
          "s23-11-12 22:00",
          "s23-11-14 03:00",
          "s23-11-14 21:00",
          "s23-11-16 07:00",
          "s23-11-20 00:00",
          "s23-11-20 05:00",
          "s23-11-21 18:00",
          "s23-11-23 09:00",
          "s23-11-23 15:00",
          "s23-11-24 05:00",
          "s23-11-24 13:00",
          "s23-11-27 03:00",
          "s23-11-28 11:00",
          "s23-11-28 19:00",
          "s23-11-29 11:00",
          "s23-11-29 19:00",
          "s23-11-30 11:00",
          "s23-12-01 18:00",
          "s23-12-04 19:00",
          "s23-12-05 07:00",
          "s23-12-05 23:00",
          "s23-12-06 21:00",
          "s23-12-08 09:00",
          "s23-12-12 02:00",
          "s23-12-13 05:00",
          "s23-12-13 18:00",
          "s23-12-14 16:00",
          "s23-12-15 16:00",
          "s23-12-15 18:00",
          "s23-12-19 01:00",
          "s23-12-19 06:00",
          "s23-12-20 01:00",
          "s23-12-20 19:00",
          "s23-12-21 01:00",
          "s23-12-22 02:00",
          "s23-12-26 08:00",
          "s23-12-26 11:00",
          "s23-12-27 16:00",
          "s23-12-28 21:00",
          "s23-12-29 11:00",
          "s24-01-02 07:00",
          "s24-01-02 18:00",
          "s24-01-03 08:00",
          "s24-01-05 20:00",
          "s24-01-09 02:00",
          "s24-01-09 05:00",
          "s24-01-09 18:00",
          "s24-01-11 09:00",
          "s24-01-11 14:00",
          "s24-01-11 15:00",
          "s24-01-12 13:00",
          "s24-01-12 16:00",
          "s24-01-15 06:00",
          "s24-01-16 00:00",
          "s24-01-16 11:00",
          "s24-01-18 08:00",
          "s24-01-18 18:00",
          "s24-01-19 16:00",
          "s24-01-19 18:00",
          "s24-01-22 09:00",
          "s24-01-23 17:00",
          "s24-01-24 05:00",
          "s24-01-25 07:00",
          "s24-01-29 10:00",
          "s24-01-30 09:00",
          "s24-01-30 12:00",
          "s24-01-30 17:00",
          "s24-01-31 08:00",
          "s24-02-01 19:00",
          "s24-02-05 08:00",
          "s24-02-06 09:00",
          "s24-02-06 15:00",
          "s24-02-07 08:00"
         ],
         "y": [
          -34.39999999999941,
          -21.599999999999397,
          13.299999999999557,
          10.199999999998965,
          -23.800000000001376,
          -36.20000000000232,
          -48.70000000000232,
          -52.00000000000102,
          -52.00000000000102,
          -57.200000000001694,
          -72.4000000000018,
          -67.70000000000209,
          137.59999999999764,
          81.79999999999694,
          145.99999999999653,
          102.39999999999725,
          148.29999999999757,
          129.39999999999685,
          60.499999999996135,
          -6.70000000000357,
          -69.50000000000358,
          -136.50000000000375,
          -177.6000000000039,
          -120.00000000000455,
          -154.90000000000492,
          -132.80000000000456,
          -212.20000000000425,
          -248.80000000000422,
          -302.5000000000034,
          -316.400000000003,
          -210.0000000000037,
          -198.60000000000468,
          -199.2000000000047,
          -293.00000000000495,
          -333.80000000000507,
          -155.70000000000448,
          -181.80000000000405,
          -218.400000000004,
          -193.20000000000448,
          -171.5000000000046,
          -95.20000000000408,
          -93.80000000000308,
          -48.8000000000028,
          -65.90000000000344,
          -132.40000000000407,
          -131.80000000000405,
          -131.30000000000308,
          -59.20000000000272,
          -85.80000000000325,
          -104.60000000000349,
          -143.60000000000355,
          -132.3000000000036,
          -122.90000000000418,
          -130.80000000000496,
          -73.00000000000466,
          -30.00000000000398,
          25.299999999995748,
          41.699999999995896,
          31.599999999995987,
          32.19999999999601,
          44.79999999999649,
          53.49999999999682,
          40.49999999999727,
          48.59999999999758,
          19.39999999999742,
          -25.300000000002854,
          -44.80000000000217,
          -36.60000000000139,
          -19.600000000001216,
          -97.4000000000018,
          -166.80000000000206,
          -164.80000000000246,
          -202.00000000000244,
          -206.40000000000214,
          -244.00000000000261,
          -268.0000000000021,
          -250.4000000000019,
          -271.0000000000022,
          -297.00000000000273,
          -225.40000000000333,
          -260.0000000000037,
          -228.40000000000344,
          -233.70000000000317,
          -242.000000000003,
          -258.2000000000022,
          -212.6000000000019,
          -234.80000000000132,
          -238.40000000000146,
          -222.60000000000275,
          -208.6000000000027,
          -221.4000000000027,
          -201.10000000000383,
          -187.60000000000474,
          -189.4000000000048,
          -206.80000000000405,
          -181.40000000000356,
          -195.20000000000408,
          -255.20000000000493,
          -238.70000000000573,
          -238.60000000000667,
          -95.80000000000695,
          -114.2000000000067,
          -104.10000000000679,
          -24.600000000006617,
          -43.60000000000639,
          -28.600000000007242,
          -18.400000000008276,
          1.5999999999920078,
          -0.3000000000071168,
          22.09999999999326,
          28.399999999993497,
          -5.5000000000063665,
          -3.200000000006753,
          -6.6000000000073555,
          -18.20000000000732,
          -20.400000000006457,
          -21.00000000000648,
          -35.70000000000704,
          -42.80000000000683,
          -48.00000000000608,
          -5.800000000004957,
          -26.000000000004775,
          51.19999999999436,
          43.69999999999408,
          -14.900000000005775,
          42.399999999993554,
          31.999999999993634,
          52.19999999999487,
          32.59999999999508,
          34.19999999999419,
          51.59999999999343,
          55.29999999999262,
          49.09999999999286,
          68.99999999999409,
          62.99999999999528,
          40.39999999999537,
          10.199999999994702,
          16.599999999993997,
          17.299999999993076,
          80.99999999999312,
          211.39999999999333,
          172.49999999999375,
          218.79999999999455,
          293.79999999999455,
          286.7999999999938,
          270.1999999999927,
          214.89999999999156,
          173.69999999999095,
          146.99999999999136,
          76.39999999999247,
          63.09999999999292,
          22.199999999992315,
          8.199999999992258,
          25.699999999991974,
          19.799999999990803,
          -33.400000000010266,
          -38.80000000001047,
          -29.40000000000964,
          183.19999999999084,
          306.5999999999903,
          345.19999999998987,
          314.59999999999013,
          435.99999999999,
          479.99999999998977,
          452.7999999999892,
          466.9999999999888,
          388.39999999998867,
          444.89999999998844,
          444.9999999999889,
          377.0999999999887,
          367.9999999999879,
          388.4999999999877,
          382.0999999999884,
          395.59999999998894,
          464.9999999999892,
          453.99999999998926,
          451.7999999999887,
          421.799999999989,
          374.1999999999891,
          505.39999999998884,
          570.7999999999885,
          565.7999999999873,
          533.1999999999866,
          625.7999999999868,
          619.3999999999875,
          596.1999999999875,
          623.9999999999867,
          592.3999999999864,
          556.6999999999865,
          554.199999999986,
          526.3999999999853,
          611.7999999999852,
          596.3999999999855,
          628.5999999999858,
          613.1999999999862,
          625.7999999999867,
          636.3999999999876,
          594.5999999999883,
          651.7999999999886,
          730.9999999999887,
          736.399999999989,
          724.3999999999885,
          688.7999999999877,
          663.9999999999873,
          730.7999999999865,
          820.3999999999867,
          851.8999999999878,
          817.3999999999879,
          780.6999999999875,
          780.6999999999875
         ]
        }
       ],
       "layout": {
        "font": {
         "color": "#e1e1e1",
         "size": 8
        },
        "height": 400,
        "margin": {
         "b": 10,
         "l": 10,
         "r": 10,
         "t": 10
        },
        "paper_bgcolor": "#2c303c",
        "plot_bgcolor": "#2c303c",
        "template": {
         "data": {
          "bar": [
           {
            "error_x": {
             "color": "#2a3f5f"
            },
            "error_y": {
             "color": "#2a3f5f"
            },
            "marker": {
             "line": {
              "color": "#E5ECF6",
              "width": 0.5
             },
             "pattern": {
              "fillmode": "overlay",
              "size": 10,
              "solidity": 0.2
             }
            },
            "type": "bar"
           }
          ],
          "barpolar": [
           {
            "marker": {
             "line": {
              "color": "#E5ECF6",
              "width": 0.5
             },
             "pattern": {
              "fillmode": "overlay",
              "size": 10,
              "solidity": 0.2
             }
            },
            "type": "barpolar"
           }
          ],
          "carpet": [
           {
            "aaxis": {
             "endlinecolor": "#2a3f5f",
             "gridcolor": "white",
             "linecolor": "white",
             "minorgridcolor": "white",
             "startlinecolor": "#2a3f5f"
            },
            "baxis": {
             "endlinecolor": "#2a3f5f",
             "gridcolor": "white",
             "linecolor": "white",
             "minorgridcolor": "white",
             "startlinecolor": "#2a3f5f"
            },
            "type": "carpet"
           }
          ],
          "choropleth": [
           {
            "colorbar": {
             "outlinewidth": 0,
             "ticks": ""
            },
            "type": "choropleth"
           }
          ],
          "contour": [
           {
            "colorbar": {
             "outlinewidth": 0,
             "ticks": ""
            },
            "colorscale": [
             [
              0,
              "#0d0887"
             ],
             [
              0.1111111111111111,
              "#46039f"
             ],
             [
              0.2222222222222222,
              "#7201a8"
             ],
             [
              0.3333333333333333,
              "#9c179e"
             ],
             [
              0.4444444444444444,
              "#bd3786"
             ],
             [
              0.5555555555555556,
              "#d8576b"
             ],
             [
              0.6666666666666666,
              "#ed7953"
             ],
             [
              0.7777777777777778,
              "#fb9f3a"
             ],
             [
              0.8888888888888888,
              "#fdca26"
             ],
             [
              1,
              "#f0f921"
             ]
            ],
            "type": "contour"
           }
          ],
          "contourcarpet": [
           {
            "colorbar": {
             "outlinewidth": 0,
             "ticks": ""
            },
            "type": "contourcarpet"
           }
          ],
          "heatmap": [
           {
            "colorbar": {
             "outlinewidth": 0,
             "ticks": ""
            },
            "colorscale": [
             [
              0,
              "#0d0887"
             ],
             [
              0.1111111111111111,
              "#46039f"
             ],
             [
              0.2222222222222222,
              "#7201a8"
             ],
             [
              0.3333333333333333,
              "#9c179e"
             ],
             [
              0.4444444444444444,
              "#bd3786"
             ],
             [
              0.5555555555555556,
              "#d8576b"
             ],
             [
              0.6666666666666666,
              "#ed7953"
             ],
             [
              0.7777777777777778,
              "#fb9f3a"
             ],
             [
              0.8888888888888888,
              "#fdca26"
             ],
             [
              1,
              "#f0f921"
             ]
            ],
            "type": "heatmap"
           }
          ],
          "heatmapgl": [
           {
            "colorbar": {
             "outlinewidth": 0,
             "ticks": ""
            },
            "colorscale": [
             [
              0,
              "#0d0887"
             ],
             [
              0.1111111111111111,
              "#46039f"
             ],
             [
              0.2222222222222222,
              "#7201a8"
             ],
             [
              0.3333333333333333,
              "#9c179e"
             ],
             [
              0.4444444444444444,
              "#bd3786"
             ],
             [
              0.5555555555555556,
              "#d8576b"
             ],
             [
              0.6666666666666666,
              "#ed7953"
             ],
             [
              0.7777777777777778,
              "#fb9f3a"
             ],
             [
              0.8888888888888888,
              "#fdca26"
             ],
             [
              1,
              "#f0f921"
             ]
            ],
            "type": "heatmapgl"
           }
          ],
          "histogram": [
           {
            "marker": {
             "pattern": {
              "fillmode": "overlay",
              "size": 10,
              "solidity": 0.2
             }
            },
            "type": "histogram"
           }
          ],
          "histogram2d": [
           {
            "colorbar": {
             "outlinewidth": 0,
             "ticks": ""
            },
            "colorscale": [
             [
              0,
              "#0d0887"
             ],
             [
              0.1111111111111111,
              "#46039f"
             ],
             [
              0.2222222222222222,
              "#7201a8"
             ],
             [
              0.3333333333333333,
              "#9c179e"
             ],
             [
              0.4444444444444444,
              "#bd3786"
             ],
             [
              0.5555555555555556,
              "#d8576b"
             ],
             [
              0.6666666666666666,
              "#ed7953"
             ],
             [
              0.7777777777777778,
              "#fb9f3a"
             ],
             [
              0.8888888888888888,
              "#fdca26"
             ],
             [
              1,
              "#f0f921"
             ]
            ],
            "type": "histogram2d"
           }
          ],
          "histogram2dcontour": [
           {
            "colorbar": {
             "outlinewidth": 0,
             "ticks": ""
            },
            "colorscale": [
             [
              0,
              "#0d0887"
             ],
             [
              0.1111111111111111,
              "#46039f"
             ],
             [
              0.2222222222222222,
              "#7201a8"
             ],
             [
              0.3333333333333333,
              "#9c179e"
             ],
             [
              0.4444444444444444,
              "#bd3786"
             ],
             [
              0.5555555555555556,
              "#d8576b"
             ],
             [
              0.6666666666666666,
              "#ed7953"
             ],
             [
              0.7777777777777778,
              "#fb9f3a"
             ],
             [
              0.8888888888888888,
              "#fdca26"
             ],
             [
              1,
              "#f0f921"
             ]
            ],
            "type": "histogram2dcontour"
           }
          ],
          "mesh3d": [
           {
            "colorbar": {
             "outlinewidth": 0,
             "ticks": ""
            },
            "type": "mesh3d"
           }
          ],
          "parcoords": [
           {
            "line": {
             "colorbar": {
              "outlinewidth": 0,
              "ticks": ""
             }
            },
            "type": "parcoords"
           }
          ],
          "pie": [
           {
            "automargin": true,
            "type": "pie"
           }
          ],
          "scatter": [
           {
            "fillpattern": {
             "fillmode": "overlay",
             "size": 10,
             "solidity": 0.2
            },
            "type": "scatter"
           }
          ],
          "scatter3d": [
           {
            "line": {
             "colorbar": {
              "outlinewidth": 0,
              "ticks": ""
             }
            },
            "marker": {
             "colorbar": {
              "outlinewidth": 0,
              "ticks": ""
             }
            },
            "type": "scatter3d"
           }
          ],
          "scattercarpet": [
           {
            "marker": {
             "colorbar": {
              "outlinewidth": 0,
              "ticks": ""
             }
            },
            "type": "scattercarpet"
           }
          ],
          "scattergeo": [
           {
            "marker": {
             "colorbar": {
              "outlinewidth": 0,
              "ticks": ""
             }
            },
            "type": "scattergeo"
           }
          ],
          "scattergl": [
           {
            "marker": {
             "colorbar": {
              "outlinewidth": 0,
              "ticks": ""
             }
            },
            "type": "scattergl"
           }
          ],
          "scattermapbox": [
           {
            "marker": {
             "colorbar": {
              "outlinewidth": 0,
              "ticks": ""
             }
            },
            "type": "scattermapbox"
           }
          ],
          "scatterpolar": [
           {
            "marker": {
             "colorbar": {
              "outlinewidth": 0,
              "ticks": ""
             }
            },
            "type": "scatterpolar"
           }
          ],
          "scatterpolargl": [
           {
            "marker": {
             "colorbar": {
              "outlinewidth": 0,
              "ticks": ""
             }
            },
            "type": "scatterpolargl"
           }
          ],
          "scatterternary": [
           {
            "marker": {
             "colorbar": {
              "outlinewidth": 0,
              "ticks": ""
             }
            },
            "type": "scatterternary"
           }
          ],
          "surface": [
           {
            "colorbar": {
             "outlinewidth": 0,
             "ticks": ""
            },
            "colorscale": [
             [
              0,
              "#0d0887"
             ],
             [
              0.1111111111111111,
              "#46039f"
             ],
             [
              0.2222222222222222,
              "#7201a8"
             ],
             [
              0.3333333333333333,
              "#9c179e"
             ],
             [
              0.4444444444444444,
              "#bd3786"
             ],
             [
              0.5555555555555556,
              "#d8576b"
             ],
             [
              0.6666666666666666,
              "#ed7953"
             ],
             [
              0.7777777777777778,
              "#fb9f3a"
             ],
             [
              0.8888888888888888,
              "#fdca26"
             ],
             [
              1,
              "#f0f921"
             ]
            ],
            "type": "surface"
           }
          ],
          "table": [
           {
            "cells": {
             "fill": {
              "color": "#EBF0F8"
             },
             "line": {
              "color": "white"
             }
            },
            "header": {
             "fill": {
              "color": "#C8D4E3"
             },
             "line": {
              "color": "white"
             }
            },
            "type": "table"
           }
          ]
         },
         "layout": {
          "annotationdefaults": {
           "arrowcolor": "#2a3f5f",
           "arrowhead": 0,
           "arrowwidth": 1
          },
          "autotypenumbers": "strict",
          "coloraxis": {
           "colorbar": {
            "outlinewidth": 0,
            "ticks": ""
           }
          },
          "colorscale": {
           "diverging": [
            [
             0,
             "#8e0152"
            ],
            [
             0.1,
             "#c51b7d"
            ],
            [
             0.2,
             "#de77ae"
            ],
            [
             0.3,
             "#f1b6da"
            ],
            [
             0.4,
             "#fde0ef"
            ],
            [
             0.5,
             "#f7f7f7"
            ],
            [
             0.6,
             "#e6f5d0"
            ],
            [
             0.7,
             "#b8e186"
            ],
            [
             0.8,
             "#7fbc41"
            ],
            [
             0.9,
             "#4d9221"
            ],
            [
             1,
             "#276419"
            ]
           ],
           "sequential": [
            [
             0,
             "#0d0887"
            ],
            [
             0.1111111111111111,
             "#46039f"
            ],
            [
             0.2222222222222222,
             "#7201a8"
            ],
            [
             0.3333333333333333,
             "#9c179e"
            ],
            [
             0.4444444444444444,
             "#bd3786"
            ],
            [
             0.5555555555555556,
             "#d8576b"
            ],
            [
             0.6666666666666666,
             "#ed7953"
            ],
            [
             0.7777777777777778,
             "#fb9f3a"
            ],
            [
             0.8888888888888888,
             "#fdca26"
            ],
            [
             1,
             "#f0f921"
            ]
           ],
           "sequentialminus": [
            [
             0,
             "#0d0887"
            ],
            [
             0.1111111111111111,
             "#46039f"
            ],
            [
             0.2222222222222222,
             "#7201a8"
            ],
            [
             0.3333333333333333,
             "#9c179e"
            ],
            [
             0.4444444444444444,
             "#bd3786"
            ],
            [
             0.5555555555555556,
             "#d8576b"
            ],
            [
             0.6666666666666666,
             "#ed7953"
            ],
            [
             0.7777777777777778,
             "#fb9f3a"
            ],
            [
             0.8888888888888888,
             "#fdca26"
            ],
            [
             1,
             "#f0f921"
            ]
           ]
          },
          "colorway": [
           "#636efa",
           "#EF553B",
           "#00cc96",
           "#ab63fa",
           "#FFA15A",
           "#19d3f3",
           "#FF6692",
           "#B6E880",
           "#FF97FF",
           "#FECB52"
          ],
          "font": {
           "color": "#2a3f5f"
          },
          "geo": {
           "bgcolor": "white",
           "lakecolor": "white",
           "landcolor": "#E5ECF6",
           "showlakes": true,
           "showland": true,
           "subunitcolor": "white"
          },
          "hoverlabel": {
           "align": "left"
          },
          "hovermode": "closest",
          "mapbox": {
           "style": "light"
          },
          "paper_bgcolor": "white",
          "plot_bgcolor": "#E5ECF6",
          "polar": {
           "angularaxis": {
            "gridcolor": "white",
            "linecolor": "white",
            "ticks": ""
           },
           "bgcolor": "#E5ECF6",
           "radialaxis": {
            "gridcolor": "white",
            "linecolor": "white",
            "ticks": ""
           }
          },
          "scene": {
           "xaxis": {
            "backgroundcolor": "#E5ECF6",
            "gridcolor": "white",
            "gridwidth": 2,
            "linecolor": "white",
            "showbackground": true,
            "ticks": "",
            "zerolinecolor": "white"
           },
           "yaxis": {
            "backgroundcolor": "#E5ECF6",
            "gridcolor": "white",
            "gridwidth": 2,
            "linecolor": "white",
            "showbackground": true,
            "ticks": "",
            "zerolinecolor": "white"
           },
           "zaxis": {
            "backgroundcolor": "#E5ECF6",
            "gridcolor": "white",
            "gridwidth": 2,
            "linecolor": "white",
            "showbackground": true,
            "ticks": "",
            "zerolinecolor": "white"
           }
          },
          "shapedefaults": {
           "line": {
            "color": "#2a3f5f"
           }
          },
          "ternary": {
           "aaxis": {
            "gridcolor": "white",
            "linecolor": "white",
            "ticks": ""
           },
           "baxis": {
            "gridcolor": "white",
            "linecolor": "white",
            "ticks": ""
           },
           "bgcolor": "#E5ECF6",
           "caxis": {
            "gridcolor": "white",
            "linecolor": "white",
            "ticks": ""
           }
          },
          "title": {
           "x": 0.05
          },
          "xaxis": {
           "automargin": true,
           "gridcolor": "white",
           "linecolor": "white",
           "ticks": "",
           "title": {
            "standoff": 15
           },
           "zerolinecolor": "white",
           "zerolinewidth": 2
          },
          "yaxis": {
           "automargin": true,
           "gridcolor": "white",
           "linecolor": "white",
           "ticks": "",
           "title": {
            "standoff": 15
           },
           "zerolinecolor": "white",
           "zerolinewidth": 2
          }
         }
        },
        "width": 900,
        "xaxis": {
         "gridcolor": "#1f292f",
         "nticks": 5,
         "rangeslider": {
          "visible": false
         }
        },
        "yaxis": {
         "gridcolor": "#1f292f"
        }
       }
      }
     },
     "metadata": {},
     "output_type": "display_data"
    }
   ],
   "source": [
    "cp = CandlePlot(df_gains, candles=False)\n",
    "cp.show_plot(line_traces=['GAIN_C'])"
   ]
  },
  {
   "cell_type": "code",
   "execution_count": 20,
   "id": "8b8a946d",
   "metadata": {
    "scrolled": false
   },
   "outputs": [
    {
     "name": "stdout",
     "output_type": "stream",
     "text": [
      "GBP_JPY 1555\n"
     ]
    },
    {
     "data": {
      "application/vnd.plotly.v1+json": {
       "config": {
        "plotlyServerURL": "https://plot.ly"
       },
       "data": [
        {
         "line": {
          "shape": "spline",
          "width": 2
         },
         "name": "GAIN_C",
         "type": "scatter",
         "x": [
          "s23-06-26 08:00",
          "s23-06-26 21:00",
          "s23-06-28 06:00",
          "s23-06-29 10:00",
          "s23-07-03 16:00",
          "s23-07-03 19:00",
          "s23-07-04 06:00",
          "s23-07-04 14:00",
          "s23-07-05 04:00",
          "s23-07-05 20:00",
          "s23-07-06 03:00",
          "s23-07-06 15:00",
          "s23-07-07 04:00",
          "s23-07-10 02:00",
          "s23-07-10 11:00",
          "s23-07-11 18:00",
          "s23-07-12 02:00",
          "s23-07-13 05:00",
          "s23-07-14 03:00",
          "s23-07-14 11:00",
          "s23-07-17 01:00",
          "s23-07-17 18:00",
          "s23-07-18 02:00",
          "s23-07-18 19:00",
          "s23-07-18 20:00",
          "s23-07-18 22:00",
          "s23-07-19 01:00",
          "s23-07-19 05:00",
          "s23-07-19 08:00",
          "s23-07-20 01:00",
          "s23-07-20 07:00",
          "s23-07-20 21:00",
          "s23-07-24 07:00",
          "s23-07-25 01:00",
          "s23-07-25 18:00",
          "s23-07-25 19:00",
          "s23-07-26 08:00",
          "s23-07-26 22:00",
          "s23-07-27 08:00",
          "s23-07-27 11:00",
          "s23-07-27 17:00",
          "s23-07-28 12:00",
          "s23-07-31 23:00",
          "s23-08-01 05:00",
          "s23-08-01 16:00",
          "s23-08-01 20:00",
          "s23-08-01 23:00",
          "s23-08-02 00:00",
          "s23-08-02 05:00",
          "s23-08-03 01:00",
          "s23-08-03 08:00",
          "s23-08-04 00:00",
          "s23-08-04 12:00",
          "s23-08-07 09:00",
          "s23-08-08 13:00",
          "s23-08-08 22:00",
          "s23-08-09 11:00",
          "s23-08-09 15:00",
          "s23-08-09 17:00",
          "s23-08-09 19:00",
          "s23-08-11 00:00",
          "s23-08-11 09:00",
          "s23-08-14 04:00",
          "s23-08-14 14:00",
          "s23-08-16 00:00",
          "s23-08-16 09:00",
          "s23-08-17 11:00",
          "s23-08-21 00:00",
          "s23-08-22 09:00",
          "s23-08-24 01:00",
          "s23-08-24 17:00",
          "s23-08-25 13:00",
          "s23-08-28 14:00",
          "s23-08-28 19:00",
          "s23-08-29 15:00",
          "s23-08-30 06:00",
          "s23-08-31 06:00",
          "s23-09-04 05:00",
          "s23-09-05 08:00",
          "s23-09-05 17:00",
          "s23-09-06 06:00",
          "s23-09-08 02:00",
          "s23-09-10 23:00",
          "s23-09-11 15:00",
          "s23-09-12 00:00",
          "s23-09-12 06:00",
          "s23-09-12 12:00",
          "s23-09-12 19:00",
          "s23-09-13 13:00",
          "s23-09-13 16:00",
          "s23-09-14 03:00",
          "s23-09-15 05:00",
          "s23-09-15 19:00",
          "s23-09-19 09:00",
          "s23-09-20 04:00",
          "s23-09-22 04:00",
          "s23-09-22 17:00",
          "s23-09-25 09:00",
          "s23-09-26 03:00",
          "s23-09-27 13:00",
          "s23-09-28 06:00",
          "s23-09-28 09:00",
          "s23-09-29 20:00",
          "s23-10-02 06:00",
          "s23-10-02 12:00",
          "s23-10-04 08:00",
          "s23-10-05 03:00",
          "s23-10-05 15:00",
          "s23-10-09 05:00",
          "s23-10-10 00:00",
          "s23-10-12 12:00",
          "s23-10-13 08:00",
          "s23-10-13 13:00",
          "s23-10-16 07:00",
          "s23-10-17 07:00",
          "s23-10-17 20:00",
          "s23-10-18 07:00",
          "s23-10-18 11:00",
          "s23-10-18 16:00",
          "s23-10-19 16:00",
          "s23-10-20 04:00",
          "s23-10-20 15:00",
          "s23-10-24 12:00",
          "s23-10-26 13:00",
          "s23-10-27 07:00",
          "s23-10-30 12:00",
          "s23-10-30 22:00",
          "s23-10-31 01:00",
          "s23-11-01 06:00",
          "s23-11-02 04:00",
          "s23-11-02 08:00",
          "s23-11-02 18:00",
          "s23-11-03 08:00",
          "s23-11-03 12:00",
          "s23-11-06 22:00",
          "s23-11-08 15:00",
          "s23-11-09 08:00",
          "s23-11-09 09:00",
          "s23-11-09 12:00",
          "s23-11-09 14:00",
          "s23-11-09 18:00",
          "s23-11-10 12:00",
          "s23-11-15 09:00",
          "s23-11-15 22:00",
          "s23-11-16 05:00",
          "s23-11-19 22:00",
          "s23-11-20 08:00",
          "s23-11-21 00:00",
          "s23-11-21 05:00",
          "s23-11-21 17:00",
          "s23-11-23 05:00",
          "s23-11-23 11:00",
          "s23-11-24 04:00",
          "s23-11-24 11:00",
          "s23-11-27 04:00",
          "s23-11-28 14:00",
          "s23-11-28 21:00",
          "s23-11-29 11:00",
          "s23-11-29 21:00",
          "s23-11-30 16:00",
          "s23-12-01 16:00",
          "s23-12-05 00:00",
          "s23-12-05 09:00",
          "s23-12-06 05:00",
          "s23-12-06 14:00",
          "s23-12-08 10:00",
          "s23-12-12 01:00",
          "s23-12-12 23:00",
          "s23-12-13 08:00",
          "s23-12-13 09:00",
          "s23-12-13 10:00",
          "s23-12-14 15:00",
          "s23-12-15 11:00",
          "s23-12-18 07:00",
          "s23-12-19 00:00",
          "s23-12-19 03:00",
          "s23-12-20 00:00",
          "s23-12-22 04:00",
          "s23-12-26 03:00",
          "s23-12-26 15:00",
          "s23-12-28 00:00",
          "s23-12-29 02:00",
          "s23-12-29 16:00",
          "s24-01-02 07:00",
          "s24-01-02 15:00",
          "s24-01-03 06:00",
          "s24-01-08 03:00",
          "s24-01-08 19:00",
          "s24-01-09 05:00",
          "s24-01-09 20:00",
          "s24-01-11 12:00",
          "s24-01-11 19:00",
          "s24-01-11 23:00",
          "s24-01-15 04:00",
          "s24-01-16 02:00",
          "s24-01-16 15:00",
          "s24-01-18 07:00",
          "s24-01-18 19:00",
          "s24-01-19 12:00",
          "s24-01-21 23:00",
          "s24-01-22 15:00",
          "s24-01-22 17:00",
          "s24-01-23 09:00",
          "s24-01-23 20:00",
          "s24-01-24 04:00",
          "s24-01-25 05:00",
          "s24-01-25 17:00",
          "s24-01-26 08:00",
          "s24-01-29 04:00",
          "s24-01-30 20:00",
          "s24-01-31 08:00",
          "s24-02-01 20:00",
          "s24-02-05 05:00",
          "s24-02-06 08:00",
          "s24-02-06 21:00",
          "s24-02-07 07:00"
         ],
         "y": [
          -5.89999999999975,
          76.70000000000243,
          151.2000000000029,
          274.60000000000093,
          278.60000000000014,
          258.7999999999994,
          232.69999999999698,
          222.79999999999518,
          209.39999999999372,
          142.4999999999926,
          125.49999999999386,
          124.19999999999618,
          141.59999999999684,
          -4.800000000003024,
          -1.700000000002433,
          -64.20000000000243,
          0.3999999999962256,
          25.399999999996226,
          -85.6000000000023,
          -123.40000000000089,
          -132.39999999999839,
          -134.1999999999956,
          -115.09999999999536,
          -137.59999999999764,
          -156.99999999999932,
          -149.19999999999902,
          -183.299999999997,
          -269.2999999999955,
          -235.39999999999566,
          -245.9999999999951,
          -244.5999999999941,
          -98.59999999999332,
          -67.7999999999912,
          -23.099999999990928,
          -22.39999999999327,
          -88.19999999999482,
          -140.29999999999632,
          -125.89999999999861,
          -108.40000000000032,
          -372.80000000000086,
          -480.4000000000002,
          -227.60000000000105,
          -277.1000000000015,
          -291.5999999999997,
          -306.79999999999836,
          -328.3999999999992,
          -324.199999999999,
          -360.79999999999757,
          -338.3999999999986,
          -460.3999999999985,
          -517.1999999999969,
          -551.1999999999972,
          -527.5999999999982,
          -467.99999999999784,
          -567.7999999999969,
          -566.5999999999968,
          -556.1999999999983,
          -530.8999999999997,
          -530.4000000000002,
          -446.20000000000175,
          -440.8000000000044,
          -438.00000000000523,
          -489.60000000000434,
          -419.4000000000045,
          -508.10000000000457,
          -470.20000000000266,
          -365.00000000000057,
          -252.00000000000102,
          -59.30000000000177,
          -90.20000000000152,
          -115.40000000000248,
          -91.40000000000441,
          -113.1000000000057,
          -164.5000000000067,
          -233.2000000000079,
          -165.40000000000816,
          -48.0000000000075,
          -54.4000000000068,
          -197.20000000000653,
          -255.60000000000684,
          -144.9000000000069,
          -171.40000000000555,
          -144.60000000000548,
          -147.00000000000557,
          -180.600000000004,
          -216.20000000000346,
          -253.00000000000296,
          -210.20000000000323,
          -198.80000000000564,
          -228.10000000000628,
          -165.40000000000532,
          -173.70000000000516,
          -157.80000000000598,
          -138.90000000000668,
          -8.400000000006003,
          -30.70000000000448,
          -39.800000000002456,
          -51.600000000001955,
          -29.800000000003024,
          -53.000000000002956,
          -144.8000000000036,
          -121.60000000000366,
          -167.50000000000398,
          -239.00000000000432,
          -84.20000000000414,
          -73.40000000000373,
          -84.2000000000013,
          51.59999999999911,
          67.69999999999925,
          203.89999999999873,
          245.19999999999698,
          174.39999999999714,
          177.49999999999773,
          182.39999999999839,
          147.39999999999895,
          150.60000000000002,
          159.60000000000036,
          122.39999999999895,
          100.49999999999955,
          55.70000000000164,
          32.80000000000314,
          107.000000000005,
          175.00000000000568,
          159.00000000000603,
          171.20000000000744,
          126.60000000000764,
          99.7000000000071,
          304.80000000000587,
          357.40000000000407,
          332.3000000000036,
          268.4000000000026,
          249.0000000000009,
          192.79999999999973,
          315.1999999999987,
          299.39999999999714,
          332.39999999999554,
          321.59999999999513,
          272.5999999999942,
          262.39999999999384,
          249.69999999999288,
          274.5999999999924,
          516.7999999999921,
          474.39999999999145,
          442.7999999999912,
          546.5999999999894,
          453.7999999999897,
          485.99999999999,
          472.59999999998854,
          420.19999999998845,
          496.79999999998756,
          397.89999999998713,
          383.59999999998706,
          311.19999999998527,
          298.1999999999857,
          320.39999999998656,
          281.19999999998697,
          274.0999999999872,
          234.19999999998709,
          237.79999999998722,
          190.1999999999873,
          242.69999999998788,
          231.39999999998793,
          246.79999999998756,
          222.9999999999876,
          587.1999999999872,
          726.5999999999877,
          775.9999999999906,
          790.9999999999911,
          800.7999999999896,
          762.0999999999896,
          913.9999999999901,
          939.7999999999911,
          973.1999999999914,
          940.5999999999921,
          807.5999999999937,
          940.999999999994,
          1184.5999999999947,
          1201.7999999999943,
          1162.0999999999922,
          1172.39999999999,
          1286.3999999999887,
          1227.4999999999889,
          1159.3999999999905,
          1055.7999999999904,
          1009.0999999999891,
          1396.7999999999902,
          1363.5999999999908,
          1301.5999999999904,
          1265.599999999989,
          1458.9999999999886,
          1444.99999999999,
          1419.5999999999908,
          1445.5999999999926,
          1456.4999999999936,
          1402.399999999994,
          1587.3999999999933,
          1549.1999999999928,
          1529.599999999993,
          1503.399999999993,
          1498.5999999999929,
          1479.3999999999921,
          1455.199999999993,
          1436.3999999999942,
          1401.5999999999958,
          1400.999999999996,
          1375.2999999999954,
          1356.7999999999952,
          1392.1999999999937,
          1465.3999999999937,
          1439.3999999999946,
          1501.599999999996,
          1556.199999999998,
          1604.3999999999978,
          1583.999999999997,
          1555.5999999999979,
          1555.5999999999979
         ]
        }
       ],
       "layout": {
        "font": {
         "color": "#e1e1e1",
         "size": 8
        },
        "height": 400,
        "margin": {
         "b": 10,
         "l": 10,
         "r": 10,
         "t": 10
        },
        "paper_bgcolor": "#2c303c",
        "plot_bgcolor": "#2c303c",
        "template": {
         "data": {
          "bar": [
           {
            "error_x": {
             "color": "#2a3f5f"
            },
            "error_y": {
             "color": "#2a3f5f"
            },
            "marker": {
             "line": {
              "color": "#E5ECF6",
              "width": 0.5
             },
             "pattern": {
              "fillmode": "overlay",
              "size": 10,
              "solidity": 0.2
             }
            },
            "type": "bar"
           }
          ],
          "barpolar": [
           {
            "marker": {
             "line": {
              "color": "#E5ECF6",
              "width": 0.5
             },
             "pattern": {
              "fillmode": "overlay",
              "size": 10,
              "solidity": 0.2
             }
            },
            "type": "barpolar"
           }
          ],
          "carpet": [
           {
            "aaxis": {
             "endlinecolor": "#2a3f5f",
             "gridcolor": "white",
             "linecolor": "white",
             "minorgridcolor": "white",
             "startlinecolor": "#2a3f5f"
            },
            "baxis": {
             "endlinecolor": "#2a3f5f",
             "gridcolor": "white",
             "linecolor": "white",
             "minorgridcolor": "white",
             "startlinecolor": "#2a3f5f"
            },
            "type": "carpet"
           }
          ],
          "choropleth": [
           {
            "colorbar": {
             "outlinewidth": 0,
             "ticks": ""
            },
            "type": "choropleth"
           }
          ],
          "contour": [
           {
            "colorbar": {
             "outlinewidth": 0,
             "ticks": ""
            },
            "colorscale": [
             [
              0,
              "#0d0887"
             ],
             [
              0.1111111111111111,
              "#46039f"
             ],
             [
              0.2222222222222222,
              "#7201a8"
             ],
             [
              0.3333333333333333,
              "#9c179e"
             ],
             [
              0.4444444444444444,
              "#bd3786"
             ],
             [
              0.5555555555555556,
              "#d8576b"
             ],
             [
              0.6666666666666666,
              "#ed7953"
             ],
             [
              0.7777777777777778,
              "#fb9f3a"
             ],
             [
              0.8888888888888888,
              "#fdca26"
             ],
             [
              1,
              "#f0f921"
             ]
            ],
            "type": "contour"
           }
          ],
          "contourcarpet": [
           {
            "colorbar": {
             "outlinewidth": 0,
             "ticks": ""
            },
            "type": "contourcarpet"
           }
          ],
          "heatmap": [
           {
            "colorbar": {
             "outlinewidth": 0,
             "ticks": ""
            },
            "colorscale": [
             [
              0,
              "#0d0887"
             ],
             [
              0.1111111111111111,
              "#46039f"
             ],
             [
              0.2222222222222222,
              "#7201a8"
             ],
             [
              0.3333333333333333,
              "#9c179e"
             ],
             [
              0.4444444444444444,
              "#bd3786"
             ],
             [
              0.5555555555555556,
              "#d8576b"
             ],
             [
              0.6666666666666666,
              "#ed7953"
             ],
             [
              0.7777777777777778,
              "#fb9f3a"
             ],
             [
              0.8888888888888888,
              "#fdca26"
             ],
             [
              1,
              "#f0f921"
             ]
            ],
            "type": "heatmap"
           }
          ],
          "heatmapgl": [
           {
            "colorbar": {
             "outlinewidth": 0,
             "ticks": ""
            },
            "colorscale": [
             [
              0,
              "#0d0887"
             ],
             [
              0.1111111111111111,
              "#46039f"
             ],
             [
              0.2222222222222222,
              "#7201a8"
             ],
             [
              0.3333333333333333,
              "#9c179e"
             ],
             [
              0.4444444444444444,
              "#bd3786"
             ],
             [
              0.5555555555555556,
              "#d8576b"
             ],
             [
              0.6666666666666666,
              "#ed7953"
             ],
             [
              0.7777777777777778,
              "#fb9f3a"
             ],
             [
              0.8888888888888888,
              "#fdca26"
             ],
             [
              1,
              "#f0f921"
             ]
            ],
            "type": "heatmapgl"
           }
          ],
          "histogram": [
           {
            "marker": {
             "pattern": {
              "fillmode": "overlay",
              "size": 10,
              "solidity": 0.2
             }
            },
            "type": "histogram"
           }
          ],
          "histogram2d": [
           {
            "colorbar": {
             "outlinewidth": 0,
             "ticks": ""
            },
            "colorscale": [
             [
              0,
              "#0d0887"
             ],
             [
              0.1111111111111111,
              "#46039f"
             ],
             [
              0.2222222222222222,
              "#7201a8"
             ],
             [
              0.3333333333333333,
              "#9c179e"
             ],
             [
              0.4444444444444444,
              "#bd3786"
             ],
             [
              0.5555555555555556,
              "#d8576b"
             ],
             [
              0.6666666666666666,
              "#ed7953"
             ],
             [
              0.7777777777777778,
              "#fb9f3a"
             ],
             [
              0.8888888888888888,
              "#fdca26"
             ],
             [
              1,
              "#f0f921"
             ]
            ],
            "type": "histogram2d"
           }
          ],
          "histogram2dcontour": [
           {
            "colorbar": {
             "outlinewidth": 0,
             "ticks": ""
            },
            "colorscale": [
             [
              0,
              "#0d0887"
             ],
             [
              0.1111111111111111,
              "#46039f"
             ],
             [
              0.2222222222222222,
              "#7201a8"
             ],
             [
              0.3333333333333333,
              "#9c179e"
             ],
             [
              0.4444444444444444,
              "#bd3786"
             ],
             [
              0.5555555555555556,
              "#d8576b"
             ],
             [
              0.6666666666666666,
              "#ed7953"
             ],
             [
              0.7777777777777778,
              "#fb9f3a"
             ],
             [
              0.8888888888888888,
              "#fdca26"
             ],
             [
              1,
              "#f0f921"
             ]
            ],
            "type": "histogram2dcontour"
           }
          ],
          "mesh3d": [
           {
            "colorbar": {
             "outlinewidth": 0,
             "ticks": ""
            },
            "type": "mesh3d"
           }
          ],
          "parcoords": [
           {
            "line": {
             "colorbar": {
              "outlinewidth": 0,
              "ticks": ""
             }
            },
            "type": "parcoords"
           }
          ],
          "pie": [
           {
            "automargin": true,
            "type": "pie"
           }
          ],
          "scatter": [
           {
            "fillpattern": {
             "fillmode": "overlay",
             "size": 10,
             "solidity": 0.2
            },
            "type": "scatter"
           }
          ],
          "scatter3d": [
           {
            "line": {
             "colorbar": {
              "outlinewidth": 0,
              "ticks": ""
             }
            },
            "marker": {
             "colorbar": {
              "outlinewidth": 0,
              "ticks": ""
             }
            },
            "type": "scatter3d"
           }
          ],
          "scattercarpet": [
           {
            "marker": {
             "colorbar": {
              "outlinewidth": 0,
              "ticks": ""
             }
            },
            "type": "scattercarpet"
           }
          ],
          "scattergeo": [
           {
            "marker": {
             "colorbar": {
              "outlinewidth": 0,
              "ticks": ""
             }
            },
            "type": "scattergeo"
           }
          ],
          "scattergl": [
           {
            "marker": {
             "colorbar": {
              "outlinewidth": 0,
              "ticks": ""
             }
            },
            "type": "scattergl"
           }
          ],
          "scattermapbox": [
           {
            "marker": {
             "colorbar": {
              "outlinewidth": 0,
              "ticks": ""
             }
            },
            "type": "scattermapbox"
           }
          ],
          "scatterpolar": [
           {
            "marker": {
             "colorbar": {
              "outlinewidth": 0,
              "ticks": ""
             }
            },
            "type": "scatterpolar"
           }
          ],
          "scatterpolargl": [
           {
            "marker": {
             "colorbar": {
              "outlinewidth": 0,
              "ticks": ""
             }
            },
            "type": "scatterpolargl"
           }
          ],
          "scatterternary": [
           {
            "marker": {
             "colorbar": {
              "outlinewidth": 0,
              "ticks": ""
             }
            },
            "type": "scatterternary"
           }
          ],
          "surface": [
           {
            "colorbar": {
             "outlinewidth": 0,
             "ticks": ""
            },
            "colorscale": [
             [
              0,
              "#0d0887"
             ],
             [
              0.1111111111111111,
              "#46039f"
             ],
             [
              0.2222222222222222,
              "#7201a8"
             ],
             [
              0.3333333333333333,
              "#9c179e"
             ],
             [
              0.4444444444444444,
              "#bd3786"
             ],
             [
              0.5555555555555556,
              "#d8576b"
             ],
             [
              0.6666666666666666,
              "#ed7953"
             ],
             [
              0.7777777777777778,
              "#fb9f3a"
             ],
             [
              0.8888888888888888,
              "#fdca26"
             ],
             [
              1,
              "#f0f921"
             ]
            ],
            "type": "surface"
           }
          ],
          "table": [
           {
            "cells": {
             "fill": {
              "color": "#EBF0F8"
             },
             "line": {
              "color": "white"
             }
            },
            "header": {
             "fill": {
              "color": "#C8D4E3"
             },
             "line": {
              "color": "white"
             }
            },
            "type": "table"
           }
          ]
         },
         "layout": {
          "annotationdefaults": {
           "arrowcolor": "#2a3f5f",
           "arrowhead": 0,
           "arrowwidth": 1
          },
          "autotypenumbers": "strict",
          "coloraxis": {
           "colorbar": {
            "outlinewidth": 0,
            "ticks": ""
           }
          },
          "colorscale": {
           "diverging": [
            [
             0,
             "#8e0152"
            ],
            [
             0.1,
             "#c51b7d"
            ],
            [
             0.2,
             "#de77ae"
            ],
            [
             0.3,
             "#f1b6da"
            ],
            [
             0.4,
             "#fde0ef"
            ],
            [
             0.5,
             "#f7f7f7"
            ],
            [
             0.6,
             "#e6f5d0"
            ],
            [
             0.7,
             "#b8e186"
            ],
            [
             0.8,
             "#7fbc41"
            ],
            [
             0.9,
             "#4d9221"
            ],
            [
             1,
             "#276419"
            ]
           ],
           "sequential": [
            [
             0,
             "#0d0887"
            ],
            [
             0.1111111111111111,
             "#46039f"
            ],
            [
             0.2222222222222222,
             "#7201a8"
            ],
            [
             0.3333333333333333,
             "#9c179e"
            ],
            [
             0.4444444444444444,
             "#bd3786"
            ],
            [
             0.5555555555555556,
             "#d8576b"
            ],
            [
             0.6666666666666666,
             "#ed7953"
            ],
            [
             0.7777777777777778,
             "#fb9f3a"
            ],
            [
             0.8888888888888888,
             "#fdca26"
            ],
            [
             1,
             "#f0f921"
            ]
           ],
           "sequentialminus": [
            [
             0,
             "#0d0887"
            ],
            [
             0.1111111111111111,
             "#46039f"
            ],
            [
             0.2222222222222222,
             "#7201a8"
            ],
            [
             0.3333333333333333,
             "#9c179e"
            ],
            [
             0.4444444444444444,
             "#bd3786"
            ],
            [
             0.5555555555555556,
             "#d8576b"
            ],
            [
             0.6666666666666666,
             "#ed7953"
            ],
            [
             0.7777777777777778,
             "#fb9f3a"
            ],
            [
             0.8888888888888888,
             "#fdca26"
            ],
            [
             1,
             "#f0f921"
            ]
           ]
          },
          "colorway": [
           "#636efa",
           "#EF553B",
           "#00cc96",
           "#ab63fa",
           "#FFA15A",
           "#19d3f3",
           "#FF6692",
           "#B6E880",
           "#FF97FF",
           "#FECB52"
          ],
          "font": {
           "color": "#2a3f5f"
          },
          "geo": {
           "bgcolor": "white",
           "lakecolor": "white",
           "landcolor": "#E5ECF6",
           "showlakes": true,
           "showland": true,
           "subunitcolor": "white"
          },
          "hoverlabel": {
           "align": "left"
          },
          "hovermode": "closest",
          "mapbox": {
           "style": "light"
          },
          "paper_bgcolor": "white",
          "plot_bgcolor": "#E5ECF6",
          "polar": {
           "angularaxis": {
            "gridcolor": "white",
            "linecolor": "white",
            "ticks": ""
           },
           "bgcolor": "#E5ECF6",
           "radialaxis": {
            "gridcolor": "white",
            "linecolor": "white",
            "ticks": ""
           }
          },
          "scene": {
           "xaxis": {
            "backgroundcolor": "#E5ECF6",
            "gridcolor": "white",
            "gridwidth": 2,
            "linecolor": "white",
            "showbackground": true,
            "ticks": "",
            "zerolinecolor": "white"
           },
           "yaxis": {
            "backgroundcolor": "#E5ECF6",
            "gridcolor": "white",
            "gridwidth": 2,
            "linecolor": "white",
            "showbackground": true,
            "ticks": "",
            "zerolinecolor": "white"
           },
           "zaxis": {
            "backgroundcolor": "#E5ECF6",
            "gridcolor": "white",
            "gridwidth": 2,
            "linecolor": "white",
            "showbackground": true,
            "ticks": "",
            "zerolinecolor": "white"
           }
          },
          "shapedefaults": {
           "line": {
            "color": "#2a3f5f"
           }
          },
          "ternary": {
           "aaxis": {
            "gridcolor": "white",
            "linecolor": "white",
            "ticks": ""
           },
           "baxis": {
            "gridcolor": "white",
            "linecolor": "white",
            "ticks": ""
           },
           "bgcolor": "#E5ECF6",
           "caxis": {
            "gridcolor": "white",
            "linecolor": "white",
            "ticks": ""
           }
          },
          "title": {
           "x": 0.05
          },
          "xaxis": {
           "automargin": true,
           "gridcolor": "white",
           "linecolor": "white",
           "ticks": "",
           "title": {
            "standoff": 15
           },
           "zerolinecolor": "white",
           "zerolinewidth": 2
          },
          "yaxis": {
           "automargin": true,
           "gridcolor": "white",
           "linecolor": "white",
           "ticks": "",
           "title": {
            "standoff": 15
           },
           "zerolinecolor": "white",
           "zerolinewidth": 2
          }
         }
        },
        "width": 900,
        "xaxis": {
         "gridcolor": "#1f292f",
         "nticks": 5,
         "rangeslider": {
          "visible": false
         }
        },
        "yaxis": {
         "gridcolor": "#1f292f"
        }
       }
      }
     },
     "metadata": {},
     "output_type": "display_data"
    },
    {
     "name": "stdout",
     "output_type": "stream",
     "text": [
      "USD_JPY 1499\n"
     ]
    },
    {
     "data": {
      "application/vnd.plotly.v1+json": {
       "config": {
        "plotlyServerURL": "https://plot.ly"
       },
       "data": [
        {
         "line": {
          "shape": "spline",
          "width": 2
         },
         "name": "GAIN_C",
         "type": "scatter",
         "x": [
          "s23-06-26 19:00",
          "s23-06-27 07:00",
          "s23-06-27 09:00",
          "s23-06-28 08:00",
          "s23-06-28 10:00",
          "s23-06-30 06:00",
          "s23-07-03 05:00",
          "s23-07-03 20:00",
          "s23-07-04 01:00",
          "s23-07-04 02:00",
          "s23-07-04 03:00",
          "s23-07-04 05:00",
          "s23-07-04 23:00",
          "s23-07-05 11:00",
          "s23-07-05 20:00",
          "s23-07-06 04:00",
          "s23-07-06 19:00",
          "s23-07-07 03:00",
          "s23-07-10 06:00",
          "s23-07-10 14:00",
          "s23-07-13 08:00",
          "s23-07-13 14:00",
          "s23-07-14 11:00",
          "s23-07-17 04:00",
          "s23-07-17 16:00",
          "s23-07-18 03:00",
          "s23-07-18 18:00",
          "s23-07-20 00:00",
          "s23-07-20 13:00",
          "s23-07-21 06:00",
          "s23-07-21 07:00",
          "s23-07-24 03:00",
          "s23-07-24 22:00",
          "s23-07-25 09:00",
          "s23-07-27 13:00",
          "s23-07-27 22:00",
          "s23-07-28 12:00",
          "s23-08-02 04:00",
          "s23-08-02 17:00",
          "s23-08-03 09:00",
          "s23-08-04 07:00",
          "s23-08-04 12:00",
          "s23-08-07 06:00",
          "s23-08-09 07:00",
          "s23-08-09 14:00",
          "s23-08-11 10:00",
          "s23-08-11 17:00",
          "s23-08-14 07:00",
          "s23-08-14 12:00",
          "s23-08-15 17:00",
          "s23-08-16 00:00",
          "s23-08-16 09:00",
          "s23-08-16 14:00",
          "s23-08-17 11:00",
          "s23-08-21 03:00",
          "s23-08-22 06:00",
          "s23-08-22 21:00",
          "s23-08-22 23:00",
          "s23-08-24 06:00",
          "s23-08-29 00:00",
          "s23-08-29 11:00",
          "s23-08-29 19:00",
          "s23-08-30 08:00",
          "s23-08-30 17:00",
          "s23-09-01 16:00",
          "s23-09-06 05:00",
          "s23-09-06 18:00",
          "s23-09-07 08:00",
          "s23-09-08 10:00",
          "s23-09-11 01:00",
          "s23-09-11 18:00",
          "s23-09-14 00:00",
          "s23-09-14 14:00",
          "s23-09-18 01:00",
          "s23-09-19 03:00",
          "s23-09-19 04:00",
          "s23-09-19 05:00",
          "s23-09-20 17:00",
          "s23-09-20 23:00",
          "s23-09-21 12:00",
          "s23-09-22 04:00",
          "s23-09-26 16:00",
          "s23-09-26 20:00",
          "s23-09-28 06:00",
          "s23-09-29 04:00",
          "s23-09-29 06:00",
          "s23-09-29 17:00",
          "s23-10-03 14:00",
          "s23-10-04 08:00",
          "s23-10-04 12:00",
          "s23-10-05 13:00",
          "s23-10-05 18:00",
          "s23-10-06 06:00",
          "s23-10-09 04:00",
          "s23-10-10 08:00",
          "s23-10-10 21:00",
          "s23-10-11 08:00",
          "s23-10-12 08:00",
          "s23-10-12 09:00",
          "s23-10-12 11:00",
          "s23-10-12 12:00",
          "s23-10-13 08:00",
          "s23-10-16 13:00",
          "s23-10-17 01:00",
          "s23-10-17 06:00",
          "s23-10-18 06:00",
          "s23-10-18 15:00",
          "s23-10-19 06:00",
          "s23-10-19 14:00",
          "s23-10-20 00:00",
          "s23-10-20 05:00",
          "s23-10-20 20:00",
          "s23-10-23 06:00",
          "s23-10-23 16:00",
          "s23-10-24 13:00",
          "s23-10-25 08:00",
          "s23-10-25 09:00",
          "s23-10-26 18:00",
          "s23-10-26 23:00",
          "s23-10-27 02:00",
          "s23-10-30 07:00",
          "s23-10-30 10:00",
          "s23-10-31 04:00",
          "s23-11-01 06:00",
          "s23-11-02 22:00",
          "s23-11-03 07:00",
          "s23-11-06 07:00",
          "s23-11-08 01:00",
          "s23-11-08 05:00",
          "s23-11-13 19:00",
          "s23-11-14 06:00",
          "s23-11-14 07:00",
          "s23-11-14 08:00",
          "s23-11-14 13:00",
          "s23-11-15 08:00",
          "s23-11-16 12:00",
          "s23-11-21 18:00",
          "s23-11-23 05:00",
          "s23-11-23 15:00",
          "s23-11-24 06:00",
          "s23-11-24 15:00",
          "s23-11-27 01:00",
          "s23-11-28 13:00",
          "s23-11-28 17:00",
          "s23-11-29 11:00",
          "s23-11-29 22:00",
          "s23-11-30 11:00",
          "s23-12-01 07:00",
          "s23-12-01 12:00",
          "s23-12-01 16:00",
          "s23-12-04 12:00",
          "s23-12-05 08:00",
          "s23-12-05 18:00",
          "s23-12-06 13:00",
          "s23-12-06 17:00",
          "s23-12-06 21:00",
          "s23-12-06 23:00",
          "s23-12-07 01:00",
          "s23-12-08 10:00",
          "s23-12-12 01:00",
          "s23-12-12 20:00",
          "s23-12-13 16:00",
          "s23-12-14 21:00",
          "s23-12-15 11:00",
          "s23-12-15 20:00",
          "s23-12-19 21:00",
          "s23-12-20 20:00",
          "s23-12-21 03:00",
          "s23-12-22 07:00",
          "s23-12-22 13:00",
          "s23-12-22 20:00",
          "s23-12-26 06:00",
          "s23-12-26 14:00",
          "s23-12-27 16:00",
          "s23-12-28 20:00",
          "s23-12-29 17:00",
          "s24-01-02 06:00",
          "s24-01-05 19:00",
          "s24-01-09 14:00",
          "s24-01-11 07:00",
          "s24-01-11 15:00",
          "s24-01-12 00:00",
          "s24-01-15 03:00",
          "s24-01-18 05:00",
          "s24-01-18 17:00",
          "s24-01-19 15:00",
          "s24-01-22 23:00",
          "s24-01-23 07:00",
          "s24-01-23 16:00",
          "s24-01-24 04:00",
          "s24-01-25 01:00",
          "s24-01-25 14:00",
          "s24-01-25 23:00",
          "s24-01-29 09:00",
          "s24-01-30 16:00",
          "s24-01-31 08:00",
          "s24-01-31 09:00",
          "s24-01-31 15:00",
          "s24-02-01 07:00",
          "s24-02-01 14:00",
          "s24-02-02 07:00",
          "s24-02-05 10:00",
          "s24-02-05 12:00",
          "s24-02-06 05:00",
          "s24-02-07 10:00"
         ],
         "y": [
          1.4000000000010004,
          -29.599999999999227,
          -5.400000000000205,
          -6.60000000000025,
          43.600000000000705,
          44.000000000002615,
          54.800000000003024,
          67.20000000000255,
          69.80000000000359,
          62.60000000000616,
          60.90000000000657,
          84.800000000007,
          94.0000000000083,
          77.80000000000769,
          8.600000000006958,
          -5.199999999993565,
          -24.599999999995248,
          122.60000000000275,
          48.00000000000182,
          379.4000000000011,
          360.2000000000004,
          324.7000000000014,
          332.80000000000314,
          314.20000000000243,
          291.80000000000064,
          266.80000000000064,
          327.200000000002,
          284.40000000000225,
          323.8000000000028,
          213.10000000000286,
          217.40000000000066,
          206.60000000000025,
          191.40000000000157,
          252.5000000000034,
          95.2000000000055,
          18.90000000000498,
          323.6000000000047,
          303.7000000000063,
          275.80000000000666,
          302.0000000000067,
          261.5000000000066,
          263.40000000000714,
          365.40000000000816,
          319.20000000000925,
          405.2000000000106,
          363.40000000001,
          344.1000000000088,
          288.9000000000095,
          304.80000000001155,
          296.5000000000117,
          293.8000000000102,
          269.7000000000088,
          271.90000000000794,
          312.30000000000757,
          361.00000000000705,
          365.00000000000625,
          356.0000000000059,
          429.20000000000584,
          569.9000000000069,
          501.4000000000095,
          369.00000000001114,
          306.0000000000116,
          280.50000000001205,
          284.60000000001173,
          373.2000000000113,
          306.8000000000126,
          282.4000000000126,
          288.8000000000119,
          241.1000000000115,
          278.6000000000115,
          333.1000000000131,
          328.90000000001294,
          392.2000000000111,
          392.0000000000101,
          391.20000000000914,
          387.7000000000095,
          369.5000000000107,
          298.1000000000108,
          261.6000000000099,
          255.00000000000966,
          345.30000000001166,
          331.0000000000116,
          361.50000000000944,
          362.10000000000946,
          313.0000000000109,
          256.1000000000121,
          216.800000000012,
          223.10000000001082,
          211.4000000000118,
          238.10000000001423,
          216.70000000001437,
          160.90000000001226,
          186.20000000001085,
          223.2000000000113,
          209.30000000001314,
          212.20000000001562,
          254.2000000000172,
          248.20000000001698,
          248.800000000017,
          219.40000000001874,
          245.2000000000197,
          244.20000000002062,
          227.30000000002235,
          216.0000000000224,
          218.80000000002156,
          200.4000000000218,
          192.4000000000234,
          178.80000000002383,
          171.2000000000245,
          170.50000000002683,
          172.60000000002833,
          166.80000000002906,
          141.00000000002808,
          123.40000000002647,
          129.20000000002574,
          126.40000000002658,
          169.50000000002774,
          169.80000000002633,
          150.50000000002512,
          215.40000000002522,
          231.80000000002394,
          185.80000000002315,
          296.4000000000226,
          374.0000000000208,
          360.40000000002124,
          421.5000000000231,
          503.6000000000229,
          494.4000000000216,
          590.0000000000205,
          580.2000000000191,
          573.800000000017,
          565.4000000000167,
          493.8000000000187,
          545.0000000000188,
          622.4000000000188,
          913.8000000000204,
          977.8000000000219,
          926.9000000000233,
          914.7000000000247,
          902.1000000000271,
          863.2000000000289,
          938.2000000000289,
          857.2000000000287,
          850.500000000028,
          796.6000000000264,
          734.1000000000264,
          793.8000000000272,
          796.6000000000264,
          669.3000000000239,
          708.6000000000212,
          749.8000000000189,
          722.4000000000188,
          700.9000000000185,
          687.2000000000185,
          697.6000000000198,
          711.4000000000203,
          682.1000000000197,
          927.40000000002,
          1057.6000000000222,
          1081.600000000023,
          1049.4000000000228,
          1379.000000000022,
          1365.500000000023,
          1315.4000000000253,
          1475.0000000000257,
          1484.2000000000241,
          1400.400000000022,
          1468.4000000000196,
          1448.8000000000197,
          1405.2000000000219,
          1386.800000000022,
          1376.8000000000225,
          1343.800000000024,
          1413.0000000000248,
          1360.500000000024,
          1292.5000000000234,
          1606.4000000000244,
          1681.4000000000244,
          1831.100000000023,
          1776.6000000000215,
          1706.60000000002,
          1718.6000000000204,
          1992.9000000000228,
          1958.4000000000228,
          1946.6000000000233,
          1942.200000000025,
          1886.0000000000268,
          1789.1000000000274,
          1722.0000000000255,
          1743.8000000000243,
          1708.600000000024,
          1667.5000000000239,
          1669.4000000000244,
          1672.0000000000255,
          1646.2000000000273,
          1615.400000000028,
          1456.8000000000268,
          1394.2000000000262,
          1351.2000000000255,
          1326.500000000024,
          1507.4000000000237,
          1487.600000000023,
          1468.300000000022,
          1499.6000000000208,
          1499.6000000000208
         ]
        }
       ],
       "layout": {
        "font": {
         "color": "#e1e1e1",
         "size": 8
        },
        "height": 400,
        "margin": {
         "b": 10,
         "l": 10,
         "r": 10,
         "t": 10
        },
        "paper_bgcolor": "#2c303c",
        "plot_bgcolor": "#2c303c",
        "template": {
         "data": {
          "bar": [
           {
            "error_x": {
             "color": "#2a3f5f"
            },
            "error_y": {
             "color": "#2a3f5f"
            },
            "marker": {
             "line": {
              "color": "#E5ECF6",
              "width": 0.5
             },
             "pattern": {
              "fillmode": "overlay",
              "size": 10,
              "solidity": 0.2
             }
            },
            "type": "bar"
           }
          ],
          "barpolar": [
           {
            "marker": {
             "line": {
              "color": "#E5ECF6",
              "width": 0.5
             },
             "pattern": {
              "fillmode": "overlay",
              "size": 10,
              "solidity": 0.2
             }
            },
            "type": "barpolar"
           }
          ],
          "carpet": [
           {
            "aaxis": {
             "endlinecolor": "#2a3f5f",
             "gridcolor": "white",
             "linecolor": "white",
             "minorgridcolor": "white",
             "startlinecolor": "#2a3f5f"
            },
            "baxis": {
             "endlinecolor": "#2a3f5f",
             "gridcolor": "white",
             "linecolor": "white",
             "minorgridcolor": "white",
             "startlinecolor": "#2a3f5f"
            },
            "type": "carpet"
           }
          ],
          "choropleth": [
           {
            "colorbar": {
             "outlinewidth": 0,
             "ticks": ""
            },
            "type": "choropleth"
           }
          ],
          "contour": [
           {
            "colorbar": {
             "outlinewidth": 0,
             "ticks": ""
            },
            "colorscale": [
             [
              0,
              "#0d0887"
             ],
             [
              0.1111111111111111,
              "#46039f"
             ],
             [
              0.2222222222222222,
              "#7201a8"
             ],
             [
              0.3333333333333333,
              "#9c179e"
             ],
             [
              0.4444444444444444,
              "#bd3786"
             ],
             [
              0.5555555555555556,
              "#d8576b"
             ],
             [
              0.6666666666666666,
              "#ed7953"
             ],
             [
              0.7777777777777778,
              "#fb9f3a"
             ],
             [
              0.8888888888888888,
              "#fdca26"
             ],
             [
              1,
              "#f0f921"
             ]
            ],
            "type": "contour"
           }
          ],
          "contourcarpet": [
           {
            "colorbar": {
             "outlinewidth": 0,
             "ticks": ""
            },
            "type": "contourcarpet"
           }
          ],
          "heatmap": [
           {
            "colorbar": {
             "outlinewidth": 0,
             "ticks": ""
            },
            "colorscale": [
             [
              0,
              "#0d0887"
             ],
             [
              0.1111111111111111,
              "#46039f"
             ],
             [
              0.2222222222222222,
              "#7201a8"
             ],
             [
              0.3333333333333333,
              "#9c179e"
             ],
             [
              0.4444444444444444,
              "#bd3786"
             ],
             [
              0.5555555555555556,
              "#d8576b"
             ],
             [
              0.6666666666666666,
              "#ed7953"
             ],
             [
              0.7777777777777778,
              "#fb9f3a"
             ],
             [
              0.8888888888888888,
              "#fdca26"
             ],
             [
              1,
              "#f0f921"
             ]
            ],
            "type": "heatmap"
           }
          ],
          "heatmapgl": [
           {
            "colorbar": {
             "outlinewidth": 0,
             "ticks": ""
            },
            "colorscale": [
             [
              0,
              "#0d0887"
             ],
             [
              0.1111111111111111,
              "#46039f"
             ],
             [
              0.2222222222222222,
              "#7201a8"
             ],
             [
              0.3333333333333333,
              "#9c179e"
             ],
             [
              0.4444444444444444,
              "#bd3786"
             ],
             [
              0.5555555555555556,
              "#d8576b"
             ],
             [
              0.6666666666666666,
              "#ed7953"
             ],
             [
              0.7777777777777778,
              "#fb9f3a"
             ],
             [
              0.8888888888888888,
              "#fdca26"
             ],
             [
              1,
              "#f0f921"
             ]
            ],
            "type": "heatmapgl"
           }
          ],
          "histogram": [
           {
            "marker": {
             "pattern": {
              "fillmode": "overlay",
              "size": 10,
              "solidity": 0.2
             }
            },
            "type": "histogram"
           }
          ],
          "histogram2d": [
           {
            "colorbar": {
             "outlinewidth": 0,
             "ticks": ""
            },
            "colorscale": [
             [
              0,
              "#0d0887"
             ],
             [
              0.1111111111111111,
              "#46039f"
             ],
             [
              0.2222222222222222,
              "#7201a8"
             ],
             [
              0.3333333333333333,
              "#9c179e"
             ],
             [
              0.4444444444444444,
              "#bd3786"
             ],
             [
              0.5555555555555556,
              "#d8576b"
             ],
             [
              0.6666666666666666,
              "#ed7953"
             ],
             [
              0.7777777777777778,
              "#fb9f3a"
             ],
             [
              0.8888888888888888,
              "#fdca26"
             ],
             [
              1,
              "#f0f921"
             ]
            ],
            "type": "histogram2d"
           }
          ],
          "histogram2dcontour": [
           {
            "colorbar": {
             "outlinewidth": 0,
             "ticks": ""
            },
            "colorscale": [
             [
              0,
              "#0d0887"
             ],
             [
              0.1111111111111111,
              "#46039f"
             ],
             [
              0.2222222222222222,
              "#7201a8"
             ],
             [
              0.3333333333333333,
              "#9c179e"
             ],
             [
              0.4444444444444444,
              "#bd3786"
             ],
             [
              0.5555555555555556,
              "#d8576b"
             ],
             [
              0.6666666666666666,
              "#ed7953"
             ],
             [
              0.7777777777777778,
              "#fb9f3a"
             ],
             [
              0.8888888888888888,
              "#fdca26"
             ],
             [
              1,
              "#f0f921"
             ]
            ],
            "type": "histogram2dcontour"
           }
          ],
          "mesh3d": [
           {
            "colorbar": {
             "outlinewidth": 0,
             "ticks": ""
            },
            "type": "mesh3d"
           }
          ],
          "parcoords": [
           {
            "line": {
             "colorbar": {
              "outlinewidth": 0,
              "ticks": ""
             }
            },
            "type": "parcoords"
           }
          ],
          "pie": [
           {
            "automargin": true,
            "type": "pie"
           }
          ],
          "scatter": [
           {
            "fillpattern": {
             "fillmode": "overlay",
             "size": 10,
             "solidity": 0.2
            },
            "type": "scatter"
           }
          ],
          "scatter3d": [
           {
            "line": {
             "colorbar": {
              "outlinewidth": 0,
              "ticks": ""
             }
            },
            "marker": {
             "colorbar": {
              "outlinewidth": 0,
              "ticks": ""
             }
            },
            "type": "scatter3d"
           }
          ],
          "scattercarpet": [
           {
            "marker": {
             "colorbar": {
              "outlinewidth": 0,
              "ticks": ""
             }
            },
            "type": "scattercarpet"
           }
          ],
          "scattergeo": [
           {
            "marker": {
             "colorbar": {
              "outlinewidth": 0,
              "ticks": ""
             }
            },
            "type": "scattergeo"
           }
          ],
          "scattergl": [
           {
            "marker": {
             "colorbar": {
              "outlinewidth": 0,
              "ticks": ""
             }
            },
            "type": "scattergl"
           }
          ],
          "scattermapbox": [
           {
            "marker": {
             "colorbar": {
              "outlinewidth": 0,
              "ticks": ""
             }
            },
            "type": "scattermapbox"
           }
          ],
          "scatterpolar": [
           {
            "marker": {
             "colorbar": {
              "outlinewidth": 0,
              "ticks": ""
             }
            },
            "type": "scatterpolar"
           }
          ],
          "scatterpolargl": [
           {
            "marker": {
             "colorbar": {
              "outlinewidth": 0,
              "ticks": ""
             }
            },
            "type": "scatterpolargl"
           }
          ],
          "scatterternary": [
           {
            "marker": {
             "colorbar": {
              "outlinewidth": 0,
              "ticks": ""
             }
            },
            "type": "scatterternary"
           }
          ],
          "surface": [
           {
            "colorbar": {
             "outlinewidth": 0,
             "ticks": ""
            },
            "colorscale": [
             [
              0,
              "#0d0887"
             ],
             [
              0.1111111111111111,
              "#46039f"
             ],
             [
              0.2222222222222222,
              "#7201a8"
             ],
             [
              0.3333333333333333,
              "#9c179e"
             ],
             [
              0.4444444444444444,
              "#bd3786"
             ],
             [
              0.5555555555555556,
              "#d8576b"
             ],
             [
              0.6666666666666666,
              "#ed7953"
             ],
             [
              0.7777777777777778,
              "#fb9f3a"
             ],
             [
              0.8888888888888888,
              "#fdca26"
             ],
             [
              1,
              "#f0f921"
             ]
            ],
            "type": "surface"
           }
          ],
          "table": [
           {
            "cells": {
             "fill": {
              "color": "#EBF0F8"
             },
             "line": {
              "color": "white"
             }
            },
            "header": {
             "fill": {
              "color": "#C8D4E3"
             },
             "line": {
              "color": "white"
             }
            },
            "type": "table"
           }
          ]
         },
         "layout": {
          "annotationdefaults": {
           "arrowcolor": "#2a3f5f",
           "arrowhead": 0,
           "arrowwidth": 1
          },
          "autotypenumbers": "strict",
          "coloraxis": {
           "colorbar": {
            "outlinewidth": 0,
            "ticks": ""
           }
          },
          "colorscale": {
           "diverging": [
            [
             0,
             "#8e0152"
            ],
            [
             0.1,
             "#c51b7d"
            ],
            [
             0.2,
             "#de77ae"
            ],
            [
             0.3,
             "#f1b6da"
            ],
            [
             0.4,
             "#fde0ef"
            ],
            [
             0.5,
             "#f7f7f7"
            ],
            [
             0.6,
             "#e6f5d0"
            ],
            [
             0.7,
             "#b8e186"
            ],
            [
             0.8,
             "#7fbc41"
            ],
            [
             0.9,
             "#4d9221"
            ],
            [
             1,
             "#276419"
            ]
           ],
           "sequential": [
            [
             0,
             "#0d0887"
            ],
            [
             0.1111111111111111,
             "#46039f"
            ],
            [
             0.2222222222222222,
             "#7201a8"
            ],
            [
             0.3333333333333333,
             "#9c179e"
            ],
            [
             0.4444444444444444,
             "#bd3786"
            ],
            [
             0.5555555555555556,
             "#d8576b"
            ],
            [
             0.6666666666666666,
             "#ed7953"
            ],
            [
             0.7777777777777778,
             "#fb9f3a"
            ],
            [
             0.8888888888888888,
             "#fdca26"
            ],
            [
             1,
             "#f0f921"
            ]
           ],
           "sequentialminus": [
            [
             0,
             "#0d0887"
            ],
            [
             0.1111111111111111,
             "#46039f"
            ],
            [
             0.2222222222222222,
             "#7201a8"
            ],
            [
             0.3333333333333333,
             "#9c179e"
            ],
            [
             0.4444444444444444,
             "#bd3786"
            ],
            [
             0.5555555555555556,
             "#d8576b"
            ],
            [
             0.6666666666666666,
             "#ed7953"
            ],
            [
             0.7777777777777778,
             "#fb9f3a"
            ],
            [
             0.8888888888888888,
             "#fdca26"
            ],
            [
             1,
             "#f0f921"
            ]
           ]
          },
          "colorway": [
           "#636efa",
           "#EF553B",
           "#00cc96",
           "#ab63fa",
           "#FFA15A",
           "#19d3f3",
           "#FF6692",
           "#B6E880",
           "#FF97FF",
           "#FECB52"
          ],
          "font": {
           "color": "#2a3f5f"
          },
          "geo": {
           "bgcolor": "white",
           "lakecolor": "white",
           "landcolor": "#E5ECF6",
           "showlakes": true,
           "showland": true,
           "subunitcolor": "white"
          },
          "hoverlabel": {
           "align": "left"
          },
          "hovermode": "closest",
          "mapbox": {
           "style": "light"
          },
          "paper_bgcolor": "white",
          "plot_bgcolor": "#E5ECF6",
          "polar": {
           "angularaxis": {
            "gridcolor": "white",
            "linecolor": "white",
            "ticks": ""
           },
           "bgcolor": "#E5ECF6",
           "radialaxis": {
            "gridcolor": "white",
            "linecolor": "white",
            "ticks": ""
           }
          },
          "scene": {
           "xaxis": {
            "backgroundcolor": "#E5ECF6",
            "gridcolor": "white",
            "gridwidth": 2,
            "linecolor": "white",
            "showbackground": true,
            "ticks": "",
            "zerolinecolor": "white"
           },
           "yaxis": {
            "backgroundcolor": "#E5ECF6",
            "gridcolor": "white",
            "gridwidth": 2,
            "linecolor": "white",
            "showbackground": true,
            "ticks": "",
            "zerolinecolor": "white"
           },
           "zaxis": {
            "backgroundcolor": "#E5ECF6",
            "gridcolor": "white",
            "gridwidth": 2,
            "linecolor": "white",
            "showbackground": true,
            "ticks": "",
            "zerolinecolor": "white"
           }
          },
          "shapedefaults": {
           "line": {
            "color": "#2a3f5f"
           }
          },
          "ternary": {
           "aaxis": {
            "gridcolor": "white",
            "linecolor": "white",
            "ticks": ""
           },
           "baxis": {
            "gridcolor": "white",
            "linecolor": "white",
            "ticks": ""
           },
           "bgcolor": "#E5ECF6",
           "caxis": {
            "gridcolor": "white",
            "linecolor": "white",
            "ticks": ""
           }
          },
          "title": {
           "x": 0.05
          },
          "xaxis": {
           "automargin": true,
           "gridcolor": "white",
           "linecolor": "white",
           "ticks": "",
           "title": {
            "standoff": 15
           },
           "zerolinecolor": "white",
           "zerolinewidth": 2
          },
          "yaxis": {
           "automargin": true,
           "gridcolor": "white",
           "linecolor": "white",
           "ticks": "",
           "title": {
            "standoff": 15
           },
           "zerolinecolor": "white",
           "zerolinewidth": 2
          }
         }
        },
        "width": 900,
        "xaxis": {
         "gridcolor": "#1f292f",
         "nticks": 5,
         "rangeslider": {
          "visible": false
         }
        },
        "yaxis": {
         "gridcolor": "#1f292f"
        }
       }
      }
     },
     "metadata": {},
     "output_type": "display_data"
    },
    {
     "name": "stdout",
     "output_type": "stream",
     "text": [
      "EUR_JPY 904\n"
     ]
    },
    {
     "data": {
      "application/vnd.plotly.v1+json": {
       "config": {
        "plotlyServerURL": "https://plot.ly"
       },
       "data": [
        {
         "line": {
          "shape": "spline",
          "width": 2
         },
         "name": "GAIN_C",
         "type": "scatter",
         "x": [
          "s23-06-26 08:00",
          "s23-06-26 18:00",
          "s23-06-28 06:00",
          "s23-06-28 13:00",
          "s23-06-28 15:00",
          "s23-06-28 16:00",
          "s23-06-28 18:00",
          "s23-06-29 12:00",
          "s23-06-29 21:00",
          "s23-06-30 16:00",
          "s23-07-04 05:00",
          "s23-07-06 15:00",
          "s23-07-07 05:00",
          "s23-07-10 00:00",
          "s23-07-10 13:00",
          "s23-07-12 19:00",
          "s23-07-14 04:00",
          "s23-07-14 10:00",
          "s23-07-17 03:00",
          "s23-07-17 14:00",
          "s23-07-18 06:00",
          "s23-07-18 19:00",
          "s23-07-19 20:00",
          "s23-07-20 15:00",
          "s23-07-20 17:00",
          "s23-07-21 07:00",
          "s23-07-24 04:00",
          "s23-07-25 02:00",
          "s23-07-25 09:00",
          "s23-07-27 00:00",
          "s23-07-27 02:00",
          "s23-07-27 10:00",
          "s23-07-27 17:00",
          "s23-07-28 12:00",
          "s23-07-31 22:00",
          "s23-08-01 06:00",
          "s23-08-02 06:00",
          "s23-08-03 00:00",
          "s23-08-03 07:00",
          "s23-08-04 01:00",
          "s23-08-04 11:00",
          "s23-08-04 12:00",
          "s23-08-07 01:00",
          "s23-08-07 11:00",
          "s23-08-08 14:00",
          "s23-08-09 00:00",
          "s23-08-11 09:00",
          "s23-08-14 15:00",
          "s23-08-15 20:00",
          "s23-08-16 10:00",
          "s23-08-17 10:00",
          "s23-08-21 01:00",
          "s23-08-22 09:00",
          "s23-08-24 01:00",
          "s23-08-24 22:00",
          "s23-08-25 14:00",
          "s23-08-31 06:00",
          "s23-09-01 10:00",
          "s23-09-01 11:00",
          "s23-09-04 06:00",
          "s23-09-05 14:00",
          "s23-09-05 17:00",
          "s23-09-06 05:00",
          "s23-09-06 18:00",
          "s23-09-07 08:00",
          "s23-09-08 04:00",
          "s23-09-11 01:00",
          "s23-09-11 16:00",
          "s23-09-12 10:00",
          "s23-09-12 17:00",
          "s23-09-13 14:00",
          "s23-09-13 20:00",
          "s23-09-13 22:00",
          "s23-09-15 07:00",
          "s23-09-18 02:00",
          "s23-09-18 17:00",
          "s23-09-19 22:00",
          "s23-09-20 07:00",
          "s23-09-20 23:00",
          "s23-09-22 04:00",
          "s23-09-25 10:00",
          "s23-09-26 08:00",
          "s23-09-26 18:00",
          "s23-09-28 12:00",
          "s23-10-01 22:00",
          "s23-10-02 00:00",
          "s23-10-02 01:00",
          "s23-10-02 03:00",
          "s23-10-02 13:00",
          "s23-10-03 13:00",
          "s23-10-03 14:00",
          "s23-10-04 08:00",
          "s23-10-05 03:00",
          "s23-10-05 13:00",
          "s23-10-09 05:00",
          "s23-10-10 03:00",
          "s23-10-11 01:00",
          "s23-10-11 05:00",
          "s23-10-12 13:00",
          "s23-10-13 07:00",
          "s23-10-13 11:00",
          "s23-10-16 05:00",
          "s23-10-17 07:00",
          "s23-10-17 13:00",
          "s23-10-18 08:00",
          "s23-10-19 11:00",
          "s23-10-20 06:00",
          "s23-10-20 10:00",
          "s23-10-23 02:00",
          "s23-10-23 10:00",
          "s23-10-24 09:00",
          "s23-10-25 07:00",
          "s23-10-25 11:00",
          "s23-10-26 02:00",
          "s23-10-26 08:00",
          "s23-10-26 20:00",
          "s23-10-27 08:00",
          "s23-10-30 12:00",
          "s23-10-30 23:00",
          "s23-10-31 02:00",
          "s23-11-01 02:00",
          "s23-11-02 03:00",
          "s23-11-03 03:00",
          "s23-11-03 10:00",
          "s23-11-07 02:00",
          "s23-11-07 08:00",
          "s23-11-07 10:00",
          "s23-11-07 12:00",
          "s23-11-07 13:00",
          "s23-11-07 21:00",
          "s23-11-09 10:00",
          "s23-11-09 16:00",
          "s23-11-10 00:00",
          "s23-11-10 11:00",
          "s23-11-13 20:00",
          "s23-11-13 22:00",
          "s23-11-15 11:00",
          "s23-11-15 19:00",
          "s23-11-16 08:00",
          "s23-11-19 22:00",
          "s23-11-20 08:00",
          "s23-11-21 01:00",
          "s23-11-21 03:00",
          "s23-11-21 21:00",
          "s23-11-23 07:00",
          "s23-11-23 12:00",
          "s23-11-24 05:00",
          "s23-11-24 13:00",
          "s23-11-27 04:00",
          "s23-11-28 14:00",
          "s23-11-28 20:00",
          "s23-11-29 12:00",
          "s23-11-29 20:00",
          "s23-11-30 18:00",
          "s23-12-01 05:00",
          "s23-12-01 10:00",
          "s23-12-01 14:00",
          "s23-12-05 00:00",
          "s23-12-05 09:00",
          "s23-12-06 09:00",
          "s23-12-06 12:00",
          "s23-12-08 11:00",
          "s23-12-12 01:00",
          "s23-12-12 17:00",
          "s23-12-13 16:00",
          "s23-12-14 16:00",
          "s23-12-15 10:00",
          "s23-12-18 05:00",
          "s23-12-20 00:00",
          "s23-12-20 22:00",
          "s23-12-21 01:00",
          "s23-12-22 03:00",
          "s23-12-26 08:00",
          "s23-12-26 09:00",
          "s23-12-26 11:00",
          "s23-12-26 12:00",
          "s23-12-28 00:00",
          "s23-12-29 02:00",
          "s23-12-29 15:00",
          "s24-01-02 08:00",
          "s24-01-02 14:00",
          "s24-01-03 06:00",
          "s24-01-05 21:00",
          "s24-01-08 19:00",
          "s24-01-08 21:00",
          "s24-01-09 18:00",
          "s24-01-11 09:00",
          "s24-01-11 17:00",
          "s24-01-11 23:00",
          "s24-01-15 04:00",
          "s24-01-16 04:00",
          "s24-01-16 11:00",
          "s24-01-18 09:00",
          "s24-01-19 00:00",
          "s24-01-19 15:00",
          "s24-01-19 21:00",
          "s24-01-22 07:00",
          "s24-01-23 01:00",
          "s24-01-23 08:00",
          "s24-01-23 22:00",
          "s24-01-24 04:00",
          "s24-01-25 01:00",
          "s24-01-25 15:00",
          "s24-01-26 10:00",
          "s24-01-29 05:00",
          "s24-01-30 15:00",
          "s24-01-31 04:00",
          "s24-02-01 18:00",
          "s24-02-05 08:00",
          "s24-02-06 03:00",
          "s24-02-06 09:00",
          "s24-02-07 08:00"
         ],
         "y": [
          -64.30000000000007,
          29.49999999999875,
          -10.699999999999932,
          -75.09999999999764,
          -81.1999999999955,
          -50.59999999999434,
          -42.2999999999945,
          -71.2999999999937,
          -104.49999999999307,
          -102.89999999999395,
          -9.59999999999468,
          -44.69999999999459,
          -36.499999999995225,
          -117.89999999999736,
          3.900000000001569,
          52.40000000000293,
          -31.79999999999552,
          -17.89999999999452,
          -75.2999999999929,
          -128.89999999999304,
          -160.8999999999952,
          -115.69999999999538,
          -100.29999999999575,
          -128.5999999999973,
          -256.49999999999693,
          -257.699999999997,
          -176.49999999999864,
          -215.19999999999868,
          -163.99999999999864,
          -217.40000000000066,
          -329.200000000003,
          -607.3000000000036,
          -674.9000000000024,
          -432.5000000000017,
          -467.40000000000066,
          -478.7000000000006,
          -487.70000000000095,
          -565.8999999999992,
          -590.2999999999992,
          -610.6999999999999,
          -633.6999999999989,
          -668.9999999999969,
          -690.4999999999944,
          -641.0999999999945,
          -683.4999999999951,
          -519.0999999999946,
          -513.2999999999953,
          -507.39999999999554,
          -531.899999999996,
          -544.1999999999979,
          -483.3999999999975,
          -432.699999999997,
          -305.5999999999983,
          -281.3999999999993,
          -294.9000000000012,
          -151.70000000000243,
          4.4999999999987494,
          -35.80000000000041,
          -76.400000000001,
          -34.10000000000082,
          -64.69999999999914,
          -122.29999999999848,
          -175.39999999999907,
          -224.50000000000045,
          -204.5000000000016,
          -229.5000000000016,
          -229.10000000000252,
          -234.00000000000318,
          -280.70000000000164,
          -231.90000000000168,
          -217.60000000000446,
          -228.50000000000534,
          -172.20000000000368,
          -171.7000000000013,
          -196.60000000000082,
          -193.90000000000214,
          -246.30000000000223,
          -287.3000000000019,
          -262.3000000000019,
          -225.5000000000024,
          -195.7000000000022,
          -222.7000000000004,
          -191.4999999999992,
          -116.89999999999827,
          -134.49999999999704,
          -124.89999999999668,
          -134.49999999999704,
          -208.69999999999607,
          -162.49999999999432,
          -259.3999999999937,
          -268.49999999999454,
          -259.8999999999961,
          -268.89999999999645,
          -164.09999999999627,
          -126.4999999999958,
          -66.69999999999447,
          -86.8999999999943,
          -93.79999999999598,
          -103.89999999999588,
          -149.0999999999957,
          -138.49999999999625,
          -92.999999999995,
          -111.5999999999957,
          -59.89999999999611,
          -30.699999999995953,
          -2.4999999999977263,
          -23.699999999999477,
          -42.50000000000114,
          -93.10000000000116,
          -78.60000000000014,
          -31.499999999999773,
          -50.499999999999545,
          -62.299999999999045,
          -65.0999999999982,
          -91.99999999999875,
          -128.60000000000014,
          -162.10000000000093,
          -221.30000000000223,
          -238.50000000000193,
          -94.10000000000025,
          -44.99999999999886,
          -7.899999999997931,
          -21.4999999999975,
          68.30000000000211,
          56.100000000000705,
          24.899999999999523,
          7.299999999997908,
          6.099999999997863,
          -12.300000000001887,
          43.499999999997385,
          16.899999999998272,
          -15.500000000000114,
          -44.80000000000075,
          6.4999999999969305,
          3.8999999999958845,
          105.69999999999595,
          15.499999999997272,
          21.299999999999386,
          116.4999999999992,
          22.49999999999943,
          46.700000000001296,
          -6.699999999997885,
          -39.299999999997226,
          47.100000000003206,
          30.500000000003524,
          22.500000000005116,
          -29.69999999999402,
          -55.499999999995,
          -22.399999999996112,
          -96.09999999999559,
          -105.89999999999407,
          -158.4999999999951,
          -136.49999999999523,
          -122.19999999999516,
          -83.299999999997,
          -139.09999999999627,
          -21.499999999994657,
          -34.59999999999468,
          -2.699999999995839,
          -27.499999999997726,
          270.1000000000022,
          382.9000000000036,
          356.50000000000546,
          309.30000000000746,
          412.2000000000071,
          384.1000000000065,
          398.3000000000061,
          660.1000000000056,
          747.900000000007,
          714.9000000000086,
          706.7000000000093,
          718.5000000000088,
          705.8000000000078,
          691.3000000000068,
          692.8000000000054,
          750.2000000000038,
          826.9000000000034,
          744.7000000000031,
          709.1000000000037,
          614.2000000000053,
          562.1000000000066,
          814.9000000000086,
          843.3000000000106,
          841.5000000000106,
          843.5000000000088,
          1009.0000000000089,
          982.9000000000093,
          935.600000000008,
          956.7000000000064,
          993.900000000005,
          977.1000000000043,
          1101.0000000000048,
          1088.3000000000038,
          1100.200000000004,
          1070.4000000000037,
          1055.7000000000016,
          1062.1000000000008,
          989.9,
          938.499999999999,
          900.0999999999975,
          904.4999999999958,
          827.0999999999957,
          769.2999999999954,
          772.4999999999936,
          796.2999999999936,
          746.6999999999955,
          808.8999999999969,
          886.1999999999965,
          905.0999999999958,
          888.5999999999966,
          904.2999999999977,
          904.2999999999977
         ]
        }
       ],
       "layout": {
        "font": {
         "color": "#e1e1e1",
         "size": 8
        },
        "height": 400,
        "margin": {
         "b": 10,
         "l": 10,
         "r": 10,
         "t": 10
        },
        "paper_bgcolor": "#2c303c",
        "plot_bgcolor": "#2c303c",
        "template": {
         "data": {
          "bar": [
           {
            "error_x": {
             "color": "#2a3f5f"
            },
            "error_y": {
             "color": "#2a3f5f"
            },
            "marker": {
             "line": {
              "color": "#E5ECF6",
              "width": 0.5
             },
             "pattern": {
              "fillmode": "overlay",
              "size": 10,
              "solidity": 0.2
             }
            },
            "type": "bar"
           }
          ],
          "barpolar": [
           {
            "marker": {
             "line": {
              "color": "#E5ECF6",
              "width": 0.5
             },
             "pattern": {
              "fillmode": "overlay",
              "size": 10,
              "solidity": 0.2
             }
            },
            "type": "barpolar"
           }
          ],
          "carpet": [
           {
            "aaxis": {
             "endlinecolor": "#2a3f5f",
             "gridcolor": "white",
             "linecolor": "white",
             "minorgridcolor": "white",
             "startlinecolor": "#2a3f5f"
            },
            "baxis": {
             "endlinecolor": "#2a3f5f",
             "gridcolor": "white",
             "linecolor": "white",
             "minorgridcolor": "white",
             "startlinecolor": "#2a3f5f"
            },
            "type": "carpet"
           }
          ],
          "choropleth": [
           {
            "colorbar": {
             "outlinewidth": 0,
             "ticks": ""
            },
            "type": "choropleth"
           }
          ],
          "contour": [
           {
            "colorbar": {
             "outlinewidth": 0,
             "ticks": ""
            },
            "colorscale": [
             [
              0,
              "#0d0887"
             ],
             [
              0.1111111111111111,
              "#46039f"
             ],
             [
              0.2222222222222222,
              "#7201a8"
             ],
             [
              0.3333333333333333,
              "#9c179e"
             ],
             [
              0.4444444444444444,
              "#bd3786"
             ],
             [
              0.5555555555555556,
              "#d8576b"
             ],
             [
              0.6666666666666666,
              "#ed7953"
             ],
             [
              0.7777777777777778,
              "#fb9f3a"
             ],
             [
              0.8888888888888888,
              "#fdca26"
             ],
             [
              1,
              "#f0f921"
             ]
            ],
            "type": "contour"
           }
          ],
          "contourcarpet": [
           {
            "colorbar": {
             "outlinewidth": 0,
             "ticks": ""
            },
            "type": "contourcarpet"
           }
          ],
          "heatmap": [
           {
            "colorbar": {
             "outlinewidth": 0,
             "ticks": ""
            },
            "colorscale": [
             [
              0,
              "#0d0887"
             ],
             [
              0.1111111111111111,
              "#46039f"
             ],
             [
              0.2222222222222222,
              "#7201a8"
             ],
             [
              0.3333333333333333,
              "#9c179e"
             ],
             [
              0.4444444444444444,
              "#bd3786"
             ],
             [
              0.5555555555555556,
              "#d8576b"
             ],
             [
              0.6666666666666666,
              "#ed7953"
             ],
             [
              0.7777777777777778,
              "#fb9f3a"
             ],
             [
              0.8888888888888888,
              "#fdca26"
             ],
             [
              1,
              "#f0f921"
             ]
            ],
            "type": "heatmap"
           }
          ],
          "heatmapgl": [
           {
            "colorbar": {
             "outlinewidth": 0,
             "ticks": ""
            },
            "colorscale": [
             [
              0,
              "#0d0887"
             ],
             [
              0.1111111111111111,
              "#46039f"
             ],
             [
              0.2222222222222222,
              "#7201a8"
             ],
             [
              0.3333333333333333,
              "#9c179e"
             ],
             [
              0.4444444444444444,
              "#bd3786"
             ],
             [
              0.5555555555555556,
              "#d8576b"
             ],
             [
              0.6666666666666666,
              "#ed7953"
             ],
             [
              0.7777777777777778,
              "#fb9f3a"
             ],
             [
              0.8888888888888888,
              "#fdca26"
             ],
             [
              1,
              "#f0f921"
             ]
            ],
            "type": "heatmapgl"
           }
          ],
          "histogram": [
           {
            "marker": {
             "pattern": {
              "fillmode": "overlay",
              "size": 10,
              "solidity": 0.2
             }
            },
            "type": "histogram"
           }
          ],
          "histogram2d": [
           {
            "colorbar": {
             "outlinewidth": 0,
             "ticks": ""
            },
            "colorscale": [
             [
              0,
              "#0d0887"
             ],
             [
              0.1111111111111111,
              "#46039f"
             ],
             [
              0.2222222222222222,
              "#7201a8"
             ],
             [
              0.3333333333333333,
              "#9c179e"
             ],
             [
              0.4444444444444444,
              "#bd3786"
             ],
             [
              0.5555555555555556,
              "#d8576b"
             ],
             [
              0.6666666666666666,
              "#ed7953"
             ],
             [
              0.7777777777777778,
              "#fb9f3a"
             ],
             [
              0.8888888888888888,
              "#fdca26"
             ],
             [
              1,
              "#f0f921"
             ]
            ],
            "type": "histogram2d"
           }
          ],
          "histogram2dcontour": [
           {
            "colorbar": {
             "outlinewidth": 0,
             "ticks": ""
            },
            "colorscale": [
             [
              0,
              "#0d0887"
             ],
             [
              0.1111111111111111,
              "#46039f"
             ],
             [
              0.2222222222222222,
              "#7201a8"
             ],
             [
              0.3333333333333333,
              "#9c179e"
             ],
             [
              0.4444444444444444,
              "#bd3786"
             ],
             [
              0.5555555555555556,
              "#d8576b"
             ],
             [
              0.6666666666666666,
              "#ed7953"
             ],
             [
              0.7777777777777778,
              "#fb9f3a"
             ],
             [
              0.8888888888888888,
              "#fdca26"
             ],
             [
              1,
              "#f0f921"
             ]
            ],
            "type": "histogram2dcontour"
           }
          ],
          "mesh3d": [
           {
            "colorbar": {
             "outlinewidth": 0,
             "ticks": ""
            },
            "type": "mesh3d"
           }
          ],
          "parcoords": [
           {
            "line": {
             "colorbar": {
              "outlinewidth": 0,
              "ticks": ""
             }
            },
            "type": "parcoords"
           }
          ],
          "pie": [
           {
            "automargin": true,
            "type": "pie"
           }
          ],
          "scatter": [
           {
            "fillpattern": {
             "fillmode": "overlay",
             "size": 10,
             "solidity": 0.2
            },
            "type": "scatter"
           }
          ],
          "scatter3d": [
           {
            "line": {
             "colorbar": {
              "outlinewidth": 0,
              "ticks": ""
             }
            },
            "marker": {
             "colorbar": {
              "outlinewidth": 0,
              "ticks": ""
             }
            },
            "type": "scatter3d"
           }
          ],
          "scattercarpet": [
           {
            "marker": {
             "colorbar": {
              "outlinewidth": 0,
              "ticks": ""
             }
            },
            "type": "scattercarpet"
           }
          ],
          "scattergeo": [
           {
            "marker": {
             "colorbar": {
              "outlinewidth": 0,
              "ticks": ""
             }
            },
            "type": "scattergeo"
           }
          ],
          "scattergl": [
           {
            "marker": {
             "colorbar": {
              "outlinewidth": 0,
              "ticks": ""
             }
            },
            "type": "scattergl"
           }
          ],
          "scattermapbox": [
           {
            "marker": {
             "colorbar": {
              "outlinewidth": 0,
              "ticks": ""
             }
            },
            "type": "scattermapbox"
           }
          ],
          "scatterpolar": [
           {
            "marker": {
             "colorbar": {
              "outlinewidth": 0,
              "ticks": ""
             }
            },
            "type": "scatterpolar"
           }
          ],
          "scatterpolargl": [
           {
            "marker": {
             "colorbar": {
              "outlinewidth": 0,
              "ticks": ""
             }
            },
            "type": "scatterpolargl"
           }
          ],
          "scatterternary": [
           {
            "marker": {
             "colorbar": {
              "outlinewidth": 0,
              "ticks": ""
             }
            },
            "type": "scatterternary"
           }
          ],
          "surface": [
           {
            "colorbar": {
             "outlinewidth": 0,
             "ticks": ""
            },
            "colorscale": [
             [
              0,
              "#0d0887"
             ],
             [
              0.1111111111111111,
              "#46039f"
             ],
             [
              0.2222222222222222,
              "#7201a8"
             ],
             [
              0.3333333333333333,
              "#9c179e"
             ],
             [
              0.4444444444444444,
              "#bd3786"
             ],
             [
              0.5555555555555556,
              "#d8576b"
             ],
             [
              0.6666666666666666,
              "#ed7953"
             ],
             [
              0.7777777777777778,
              "#fb9f3a"
             ],
             [
              0.8888888888888888,
              "#fdca26"
             ],
             [
              1,
              "#f0f921"
             ]
            ],
            "type": "surface"
           }
          ],
          "table": [
           {
            "cells": {
             "fill": {
              "color": "#EBF0F8"
             },
             "line": {
              "color": "white"
             }
            },
            "header": {
             "fill": {
              "color": "#C8D4E3"
             },
             "line": {
              "color": "white"
             }
            },
            "type": "table"
           }
          ]
         },
         "layout": {
          "annotationdefaults": {
           "arrowcolor": "#2a3f5f",
           "arrowhead": 0,
           "arrowwidth": 1
          },
          "autotypenumbers": "strict",
          "coloraxis": {
           "colorbar": {
            "outlinewidth": 0,
            "ticks": ""
           }
          },
          "colorscale": {
           "diverging": [
            [
             0,
             "#8e0152"
            ],
            [
             0.1,
             "#c51b7d"
            ],
            [
             0.2,
             "#de77ae"
            ],
            [
             0.3,
             "#f1b6da"
            ],
            [
             0.4,
             "#fde0ef"
            ],
            [
             0.5,
             "#f7f7f7"
            ],
            [
             0.6,
             "#e6f5d0"
            ],
            [
             0.7,
             "#b8e186"
            ],
            [
             0.8,
             "#7fbc41"
            ],
            [
             0.9,
             "#4d9221"
            ],
            [
             1,
             "#276419"
            ]
           ],
           "sequential": [
            [
             0,
             "#0d0887"
            ],
            [
             0.1111111111111111,
             "#46039f"
            ],
            [
             0.2222222222222222,
             "#7201a8"
            ],
            [
             0.3333333333333333,
             "#9c179e"
            ],
            [
             0.4444444444444444,
             "#bd3786"
            ],
            [
             0.5555555555555556,
             "#d8576b"
            ],
            [
             0.6666666666666666,
             "#ed7953"
            ],
            [
             0.7777777777777778,
             "#fb9f3a"
            ],
            [
             0.8888888888888888,
             "#fdca26"
            ],
            [
             1,
             "#f0f921"
            ]
           ],
           "sequentialminus": [
            [
             0,
             "#0d0887"
            ],
            [
             0.1111111111111111,
             "#46039f"
            ],
            [
             0.2222222222222222,
             "#7201a8"
            ],
            [
             0.3333333333333333,
             "#9c179e"
            ],
            [
             0.4444444444444444,
             "#bd3786"
            ],
            [
             0.5555555555555556,
             "#d8576b"
            ],
            [
             0.6666666666666666,
             "#ed7953"
            ],
            [
             0.7777777777777778,
             "#fb9f3a"
            ],
            [
             0.8888888888888888,
             "#fdca26"
            ],
            [
             1,
             "#f0f921"
            ]
           ]
          },
          "colorway": [
           "#636efa",
           "#EF553B",
           "#00cc96",
           "#ab63fa",
           "#FFA15A",
           "#19d3f3",
           "#FF6692",
           "#B6E880",
           "#FF97FF",
           "#FECB52"
          ],
          "font": {
           "color": "#2a3f5f"
          },
          "geo": {
           "bgcolor": "white",
           "lakecolor": "white",
           "landcolor": "#E5ECF6",
           "showlakes": true,
           "showland": true,
           "subunitcolor": "white"
          },
          "hoverlabel": {
           "align": "left"
          },
          "hovermode": "closest",
          "mapbox": {
           "style": "light"
          },
          "paper_bgcolor": "white",
          "plot_bgcolor": "#E5ECF6",
          "polar": {
           "angularaxis": {
            "gridcolor": "white",
            "linecolor": "white",
            "ticks": ""
           },
           "bgcolor": "#E5ECF6",
           "radialaxis": {
            "gridcolor": "white",
            "linecolor": "white",
            "ticks": ""
           }
          },
          "scene": {
           "xaxis": {
            "backgroundcolor": "#E5ECF6",
            "gridcolor": "white",
            "gridwidth": 2,
            "linecolor": "white",
            "showbackground": true,
            "ticks": "",
            "zerolinecolor": "white"
           },
           "yaxis": {
            "backgroundcolor": "#E5ECF6",
            "gridcolor": "white",
            "gridwidth": 2,
            "linecolor": "white",
            "showbackground": true,
            "ticks": "",
            "zerolinecolor": "white"
           },
           "zaxis": {
            "backgroundcolor": "#E5ECF6",
            "gridcolor": "white",
            "gridwidth": 2,
            "linecolor": "white",
            "showbackground": true,
            "ticks": "",
            "zerolinecolor": "white"
           }
          },
          "shapedefaults": {
           "line": {
            "color": "#2a3f5f"
           }
          },
          "ternary": {
           "aaxis": {
            "gridcolor": "white",
            "linecolor": "white",
            "ticks": ""
           },
           "baxis": {
            "gridcolor": "white",
            "linecolor": "white",
            "ticks": ""
           },
           "bgcolor": "#E5ECF6",
           "caxis": {
            "gridcolor": "white",
            "linecolor": "white",
            "ticks": ""
           }
          },
          "title": {
           "x": 0.05
          },
          "xaxis": {
           "automargin": true,
           "gridcolor": "white",
           "linecolor": "white",
           "ticks": "",
           "title": {
            "standoff": 15
           },
           "zerolinecolor": "white",
           "zerolinewidth": 2
          },
          "yaxis": {
           "automargin": true,
           "gridcolor": "white",
           "linecolor": "white",
           "ticks": "",
           "title": {
            "standoff": 15
           },
           "zerolinecolor": "white",
           "zerolinewidth": 2
          }
         }
        },
        "width": 900,
        "xaxis": {
         "gridcolor": "#1f292f",
         "nticks": 5,
         "rangeslider": {
          "visible": false
         }
        },
        "yaxis": {
         "gridcolor": "#1f292f"
        }
       }
      }
     },
     "metadata": {},
     "output_type": "display_data"
    },
    {
     "name": "stdout",
     "output_type": "stream",
     "text": [
      "CAD_JPY 780\n"
     ]
    },
    {
     "data": {
      "application/vnd.plotly.v1+json": {
       "config": {
        "plotlyServerURL": "https://plot.ly"
       },
       "data": [
        {
         "line": {
          "shape": "spline",
          "width": 2
         },
         "name": "GAIN_C",
         "type": "scatter",
         "x": [
          "s23-06-26 09:00",
          "s23-06-26 18:00",
          "s23-06-27 17:00",
          "s23-06-29 04:00",
          "s23-06-29 05:00",
          "s23-06-29 15:00",
          "s23-06-30 08:00",
          "s23-07-03 06:00",
          "s23-07-03 21:00",
          "s23-07-03 22:00",
          "s23-07-04 05:00",
          "s23-07-04 12:00",
          "s23-07-05 05:00",
          "s23-07-10 01:00",
          "s23-07-10 13:00",
          "s23-07-11 21:00",
          "s23-07-12 04:00",
          "s23-07-13 07:00",
          "s23-07-14 00:00",
          "s23-07-14 10:00",
          "s23-07-14 20:00",
          "s23-07-17 14:00",
          "s23-07-18 04:00",
          "s23-07-18 18:00",
          "s23-07-20 02:00",
          "s23-07-20 09:00",
          "s23-07-21 02:00",
          "s23-07-21 07:00",
          "s23-07-24 01:00",
          "s23-07-24 17:00",
          "s23-07-25 10:00",
          "s23-07-27 04:00",
          "s23-07-27 10:00",
          "s23-07-27 11:00",
          "s23-07-27 20:00",
          "s23-07-28 12:00",
          "s23-08-01 08:00",
          "s23-08-01 20:00",
          "s23-08-02 04:00",
          "s23-08-02 21:00",
          "s23-08-03 05:00",
          "s23-08-04 07:00",
          "s23-08-04 10:00",
          "s23-08-07 08:00",
          "s23-08-08 12:00",
          "s23-08-08 22:00",
          "s23-08-09 11:00",
          "s23-08-09 15:00",
          "s23-08-11 08:00",
          "s23-08-11 18:00",
          "s23-08-14 06:00",
          "s23-08-14 13:00",
          "s23-08-15 12:00",
          "s23-08-16 13:00",
          "s23-08-17 12:00",
          "s23-08-21 02:00",
          "s23-08-22 04:00",
          "s23-08-24 02:00",
          "s23-08-25 02:00",
          "s23-08-25 07:00",
          "s23-08-25 11:00",
          "s23-08-25 12:00",
          "s23-08-25 17:00",
          "s23-08-25 19:00",
          "s23-08-28 23:00",
          "s23-08-29 11:00",
          "s23-08-29 19:00",
          "s23-08-30 05:00",
          "s23-08-31 05:00",
          "s23-09-01 03:00",
          "s23-09-01 12:00",
          "s23-09-04 02:00",
          "s23-09-05 07:00",
          "s23-09-05 12:00",
          "s23-09-06 05:00",
          "s23-09-06 19:00",
          "s23-09-07 09:00",
          "s23-09-08 07:00",
          "s23-09-11 02:00",
          "s23-09-11 16:00",
          "s23-09-14 02:00",
          "s23-09-14 11:00",
          "s23-09-17 22:00",
          "s23-09-17 23:00",
          "s23-09-18 00:00",
          "s23-09-18 12:00",
          "s23-09-20 01:00",
          "s23-09-20 10:00",
          "s23-09-21 00:00",
          "s23-09-22 02:00",
          "s23-09-24 21:00",
          "s23-09-25 08:00",
          "s23-09-26 08:00",
          "s23-09-27 10:00",
          "s23-09-27 11:00",
          "s23-09-27 12:00",
          "s23-09-28 09:00",
          "s23-09-29 03:00",
          "s23-09-29 18:00",
          "s23-10-02 09:00",
          "s23-10-02 11:00",
          "s23-10-04 07:00",
          "s23-10-04 13:00",
          "s23-10-05 23:00",
          "s23-10-09 10:00",
          "s23-10-09 20:00",
          "s23-10-10 21:00",
          "s23-10-11 08:00",
          "s23-10-12 16:00",
          "s23-10-13 14:00",
          "s23-10-17 05:00",
          "s23-10-17 22:00",
          "s23-10-18 14:00",
          "s23-10-19 16:00",
          "s23-10-22 22:00",
          "s23-10-23 14:00",
          "s23-10-24 03:00",
          "s23-10-24 05:00",
          "s23-10-24 07:00",
          "s23-10-24 11:00",
          "s23-10-24 12:00",
          "s23-10-26 04:00",
          "s23-10-26 16:00",
          "s23-10-30 07:00",
          "s23-10-30 19:00",
          "s23-10-31 04:00",
          "s23-11-01 05:00",
          "s23-11-02 13:00",
          "s23-11-03 11:00",
          "s23-11-06 01:00",
          "s23-11-06 20:00",
          "s23-11-08 09:00",
          "s23-11-08 23:00",
          "s23-11-09 02:00",
          "s23-11-10 03:00",
          "s23-11-10 06:00",
          "s23-11-10 15:00",
          "s23-11-12 22:00",
          "s23-11-14 03:00",
          "s23-11-14 21:00",
          "s23-11-16 07:00",
          "s23-11-20 00:00",
          "s23-11-20 05:00",
          "s23-11-21 18:00",
          "s23-11-23 09:00",
          "s23-11-23 15:00",
          "s23-11-24 05:00",
          "s23-11-24 13:00",
          "s23-11-27 03:00",
          "s23-11-28 11:00",
          "s23-11-28 19:00",
          "s23-11-29 11:00",
          "s23-11-29 19:00",
          "s23-11-30 11:00",
          "s23-12-01 18:00",
          "s23-12-04 19:00",
          "s23-12-05 07:00",
          "s23-12-05 23:00",
          "s23-12-06 21:00",
          "s23-12-08 09:00",
          "s23-12-12 02:00",
          "s23-12-13 05:00",
          "s23-12-13 18:00",
          "s23-12-14 16:00",
          "s23-12-15 16:00",
          "s23-12-15 18:00",
          "s23-12-19 01:00",
          "s23-12-19 06:00",
          "s23-12-20 01:00",
          "s23-12-20 19:00",
          "s23-12-21 01:00",
          "s23-12-22 02:00",
          "s23-12-26 08:00",
          "s23-12-26 11:00",
          "s23-12-27 16:00",
          "s23-12-28 21:00",
          "s23-12-29 11:00",
          "s24-01-02 07:00",
          "s24-01-02 18:00",
          "s24-01-03 08:00",
          "s24-01-05 20:00",
          "s24-01-09 02:00",
          "s24-01-09 05:00",
          "s24-01-09 18:00",
          "s24-01-11 09:00",
          "s24-01-11 14:00",
          "s24-01-11 15:00",
          "s24-01-12 13:00",
          "s24-01-12 16:00",
          "s24-01-15 06:00",
          "s24-01-16 00:00",
          "s24-01-16 11:00",
          "s24-01-18 08:00",
          "s24-01-18 18:00",
          "s24-01-19 16:00",
          "s24-01-19 18:00",
          "s24-01-22 09:00",
          "s24-01-23 17:00",
          "s24-01-24 05:00",
          "s24-01-25 07:00",
          "s24-01-29 10:00",
          "s24-01-30 09:00",
          "s24-01-30 12:00",
          "s24-01-30 17:00",
          "s24-01-31 08:00",
          "s24-02-01 19:00",
          "s24-02-05 08:00",
          "s24-02-06 09:00",
          "s24-02-06 15:00",
          "s24-02-07 08:00"
         ],
         "y": [
          -34.39999999999941,
          -21.599999999999397,
          13.299999999999557,
          10.199999999998965,
          -23.800000000001376,
          -36.20000000000232,
          -48.70000000000232,
          -52.00000000000102,
          -52.00000000000102,
          -57.200000000001694,
          -72.4000000000018,
          -67.70000000000209,
          137.59999999999764,
          81.79999999999694,
          145.99999999999653,
          102.39999999999725,
          148.29999999999757,
          129.39999999999685,
          60.499999999996135,
          -6.70000000000357,
          -69.50000000000358,
          -136.50000000000375,
          -177.6000000000039,
          -120.00000000000455,
          -154.90000000000492,
          -132.80000000000456,
          -212.20000000000425,
          -248.80000000000422,
          -302.5000000000034,
          -316.400000000003,
          -210.0000000000037,
          -198.60000000000468,
          -199.2000000000047,
          -293.00000000000495,
          -333.80000000000507,
          -155.70000000000448,
          -181.80000000000405,
          -218.400000000004,
          -193.20000000000448,
          -171.5000000000046,
          -95.20000000000408,
          -93.80000000000308,
          -48.8000000000028,
          -65.90000000000344,
          -132.40000000000407,
          -131.80000000000405,
          -131.30000000000308,
          -59.20000000000272,
          -85.80000000000325,
          -104.60000000000349,
          -143.60000000000355,
          -132.3000000000036,
          -122.90000000000418,
          -130.80000000000496,
          -73.00000000000466,
          -30.00000000000398,
          25.299999999995748,
          41.699999999995896,
          31.599999999995987,
          32.19999999999601,
          44.79999999999649,
          53.49999999999682,
          40.49999999999727,
          48.59999999999758,
          19.39999999999742,
          -25.300000000002854,
          -44.80000000000217,
          -36.60000000000139,
          -19.600000000001216,
          -97.4000000000018,
          -166.80000000000206,
          -164.80000000000246,
          -202.00000000000244,
          -206.40000000000214,
          -244.00000000000261,
          -268.0000000000021,
          -250.4000000000019,
          -271.0000000000022,
          -297.00000000000273,
          -225.40000000000333,
          -260.0000000000037,
          -228.40000000000344,
          -233.70000000000317,
          -242.000000000003,
          -258.2000000000022,
          -212.6000000000019,
          -234.80000000000132,
          -238.40000000000146,
          -222.60000000000275,
          -208.6000000000027,
          -221.4000000000027,
          -201.10000000000383,
          -187.60000000000474,
          -189.4000000000048,
          -206.80000000000405,
          -181.40000000000356,
          -195.20000000000408,
          -255.20000000000493,
          -238.70000000000573,
          -238.60000000000667,
          -95.80000000000695,
          -114.2000000000067,
          -104.10000000000679,
          -24.600000000006617,
          -43.60000000000639,
          -28.600000000007242,
          -18.400000000008276,
          1.5999999999920078,
          -0.3000000000071168,
          22.09999999999326,
          28.399999999993497,
          -5.5000000000063665,
          -3.200000000006753,
          -6.6000000000073555,
          -18.20000000000732,
          -20.400000000006457,
          -21.00000000000648,
          -35.70000000000704,
          -42.80000000000683,
          -48.00000000000608,
          -5.800000000004957,
          -26.000000000004775,
          51.19999999999436,
          43.69999999999408,
          -14.900000000005775,
          42.399999999993554,
          31.999999999993634,
          52.19999999999487,
          32.59999999999508,
          34.19999999999419,
          51.59999999999343,
          55.29999999999262,
          49.09999999999286,
          68.99999999999409,
          62.99999999999528,
          40.39999999999537,
          10.199999999994702,
          16.599999999993997,
          17.299999999993076,
          80.99999999999312,
          211.39999999999333,
          172.49999999999375,
          218.79999999999455,
          293.79999999999455,
          286.7999999999938,
          270.1999999999927,
          214.89999999999156,
          173.69999999999095,
          146.99999999999136,
          76.39999999999247,
          63.09999999999292,
          22.199999999992315,
          8.199999999992258,
          25.699999999991974,
          19.799999999990803,
          -33.400000000010266,
          -38.80000000001047,
          -29.40000000000964,
          183.19999999999084,
          306.5999999999903,
          345.19999999998987,
          314.59999999999013,
          435.99999999999,
          479.99999999998977,
          452.7999999999892,
          466.9999999999888,
          388.39999999998867,
          444.89999999998844,
          444.9999999999889,
          377.0999999999887,
          367.9999999999879,
          388.4999999999877,
          382.0999999999884,
          395.59999999998894,
          464.9999999999892,
          453.99999999998926,
          451.7999999999887,
          421.799999999989,
          374.1999999999891,
          505.39999999998884,
          570.7999999999885,
          565.7999999999873,
          533.1999999999866,
          625.7999999999868,
          619.3999999999875,
          596.1999999999875,
          623.9999999999867,
          592.3999999999864,
          556.6999999999865,
          554.199999999986,
          526.3999999999853,
          611.7999999999852,
          596.3999999999855,
          628.5999999999858,
          613.1999999999862,
          625.7999999999867,
          636.3999999999876,
          594.5999999999883,
          651.7999999999886,
          730.9999999999887,
          736.399999999989,
          724.3999999999885,
          688.7999999999877,
          663.9999999999873,
          730.7999999999865,
          820.3999999999867,
          851.8999999999878,
          817.3999999999879,
          780.6999999999875,
          780.6999999999875
         ]
        }
       ],
       "layout": {
        "font": {
         "color": "#e1e1e1",
         "size": 8
        },
        "height": 400,
        "margin": {
         "b": 10,
         "l": 10,
         "r": 10,
         "t": 10
        },
        "paper_bgcolor": "#2c303c",
        "plot_bgcolor": "#2c303c",
        "template": {
         "data": {
          "bar": [
           {
            "error_x": {
             "color": "#2a3f5f"
            },
            "error_y": {
             "color": "#2a3f5f"
            },
            "marker": {
             "line": {
              "color": "#E5ECF6",
              "width": 0.5
             },
             "pattern": {
              "fillmode": "overlay",
              "size": 10,
              "solidity": 0.2
             }
            },
            "type": "bar"
           }
          ],
          "barpolar": [
           {
            "marker": {
             "line": {
              "color": "#E5ECF6",
              "width": 0.5
             },
             "pattern": {
              "fillmode": "overlay",
              "size": 10,
              "solidity": 0.2
             }
            },
            "type": "barpolar"
           }
          ],
          "carpet": [
           {
            "aaxis": {
             "endlinecolor": "#2a3f5f",
             "gridcolor": "white",
             "linecolor": "white",
             "minorgridcolor": "white",
             "startlinecolor": "#2a3f5f"
            },
            "baxis": {
             "endlinecolor": "#2a3f5f",
             "gridcolor": "white",
             "linecolor": "white",
             "minorgridcolor": "white",
             "startlinecolor": "#2a3f5f"
            },
            "type": "carpet"
           }
          ],
          "choropleth": [
           {
            "colorbar": {
             "outlinewidth": 0,
             "ticks": ""
            },
            "type": "choropleth"
           }
          ],
          "contour": [
           {
            "colorbar": {
             "outlinewidth": 0,
             "ticks": ""
            },
            "colorscale": [
             [
              0,
              "#0d0887"
             ],
             [
              0.1111111111111111,
              "#46039f"
             ],
             [
              0.2222222222222222,
              "#7201a8"
             ],
             [
              0.3333333333333333,
              "#9c179e"
             ],
             [
              0.4444444444444444,
              "#bd3786"
             ],
             [
              0.5555555555555556,
              "#d8576b"
             ],
             [
              0.6666666666666666,
              "#ed7953"
             ],
             [
              0.7777777777777778,
              "#fb9f3a"
             ],
             [
              0.8888888888888888,
              "#fdca26"
             ],
             [
              1,
              "#f0f921"
             ]
            ],
            "type": "contour"
           }
          ],
          "contourcarpet": [
           {
            "colorbar": {
             "outlinewidth": 0,
             "ticks": ""
            },
            "type": "contourcarpet"
           }
          ],
          "heatmap": [
           {
            "colorbar": {
             "outlinewidth": 0,
             "ticks": ""
            },
            "colorscale": [
             [
              0,
              "#0d0887"
             ],
             [
              0.1111111111111111,
              "#46039f"
             ],
             [
              0.2222222222222222,
              "#7201a8"
             ],
             [
              0.3333333333333333,
              "#9c179e"
             ],
             [
              0.4444444444444444,
              "#bd3786"
             ],
             [
              0.5555555555555556,
              "#d8576b"
             ],
             [
              0.6666666666666666,
              "#ed7953"
             ],
             [
              0.7777777777777778,
              "#fb9f3a"
             ],
             [
              0.8888888888888888,
              "#fdca26"
             ],
             [
              1,
              "#f0f921"
             ]
            ],
            "type": "heatmap"
           }
          ],
          "heatmapgl": [
           {
            "colorbar": {
             "outlinewidth": 0,
             "ticks": ""
            },
            "colorscale": [
             [
              0,
              "#0d0887"
             ],
             [
              0.1111111111111111,
              "#46039f"
             ],
             [
              0.2222222222222222,
              "#7201a8"
             ],
             [
              0.3333333333333333,
              "#9c179e"
             ],
             [
              0.4444444444444444,
              "#bd3786"
             ],
             [
              0.5555555555555556,
              "#d8576b"
             ],
             [
              0.6666666666666666,
              "#ed7953"
             ],
             [
              0.7777777777777778,
              "#fb9f3a"
             ],
             [
              0.8888888888888888,
              "#fdca26"
             ],
             [
              1,
              "#f0f921"
             ]
            ],
            "type": "heatmapgl"
           }
          ],
          "histogram": [
           {
            "marker": {
             "pattern": {
              "fillmode": "overlay",
              "size": 10,
              "solidity": 0.2
             }
            },
            "type": "histogram"
           }
          ],
          "histogram2d": [
           {
            "colorbar": {
             "outlinewidth": 0,
             "ticks": ""
            },
            "colorscale": [
             [
              0,
              "#0d0887"
             ],
             [
              0.1111111111111111,
              "#46039f"
             ],
             [
              0.2222222222222222,
              "#7201a8"
             ],
             [
              0.3333333333333333,
              "#9c179e"
             ],
             [
              0.4444444444444444,
              "#bd3786"
             ],
             [
              0.5555555555555556,
              "#d8576b"
             ],
             [
              0.6666666666666666,
              "#ed7953"
             ],
             [
              0.7777777777777778,
              "#fb9f3a"
             ],
             [
              0.8888888888888888,
              "#fdca26"
             ],
             [
              1,
              "#f0f921"
             ]
            ],
            "type": "histogram2d"
           }
          ],
          "histogram2dcontour": [
           {
            "colorbar": {
             "outlinewidth": 0,
             "ticks": ""
            },
            "colorscale": [
             [
              0,
              "#0d0887"
             ],
             [
              0.1111111111111111,
              "#46039f"
             ],
             [
              0.2222222222222222,
              "#7201a8"
             ],
             [
              0.3333333333333333,
              "#9c179e"
             ],
             [
              0.4444444444444444,
              "#bd3786"
             ],
             [
              0.5555555555555556,
              "#d8576b"
             ],
             [
              0.6666666666666666,
              "#ed7953"
             ],
             [
              0.7777777777777778,
              "#fb9f3a"
             ],
             [
              0.8888888888888888,
              "#fdca26"
             ],
             [
              1,
              "#f0f921"
             ]
            ],
            "type": "histogram2dcontour"
           }
          ],
          "mesh3d": [
           {
            "colorbar": {
             "outlinewidth": 0,
             "ticks": ""
            },
            "type": "mesh3d"
           }
          ],
          "parcoords": [
           {
            "line": {
             "colorbar": {
              "outlinewidth": 0,
              "ticks": ""
             }
            },
            "type": "parcoords"
           }
          ],
          "pie": [
           {
            "automargin": true,
            "type": "pie"
           }
          ],
          "scatter": [
           {
            "fillpattern": {
             "fillmode": "overlay",
             "size": 10,
             "solidity": 0.2
            },
            "type": "scatter"
           }
          ],
          "scatter3d": [
           {
            "line": {
             "colorbar": {
              "outlinewidth": 0,
              "ticks": ""
             }
            },
            "marker": {
             "colorbar": {
              "outlinewidth": 0,
              "ticks": ""
             }
            },
            "type": "scatter3d"
           }
          ],
          "scattercarpet": [
           {
            "marker": {
             "colorbar": {
              "outlinewidth": 0,
              "ticks": ""
             }
            },
            "type": "scattercarpet"
           }
          ],
          "scattergeo": [
           {
            "marker": {
             "colorbar": {
              "outlinewidth": 0,
              "ticks": ""
             }
            },
            "type": "scattergeo"
           }
          ],
          "scattergl": [
           {
            "marker": {
             "colorbar": {
              "outlinewidth": 0,
              "ticks": ""
             }
            },
            "type": "scattergl"
           }
          ],
          "scattermapbox": [
           {
            "marker": {
             "colorbar": {
              "outlinewidth": 0,
              "ticks": ""
             }
            },
            "type": "scattermapbox"
           }
          ],
          "scatterpolar": [
           {
            "marker": {
             "colorbar": {
              "outlinewidth": 0,
              "ticks": ""
             }
            },
            "type": "scatterpolar"
           }
          ],
          "scatterpolargl": [
           {
            "marker": {
             "colorbar": {
              "outlinewidth": 0,
              "ticks": ""
             }
            },
            "type": "scatterpolargl"
           }
          ],
          "scatterternary": [
           {
            "marker": {
             "colorbar": {
              "outlinewidth": 0,
              "ticks": ""
             }
            },
            "type": "scatterternary"
           }
          ],
          "surface": [
           {
            "colorbar": {
             "outlinewidth": 0,
             "ticks": ""
            },
            "colorscale": [
             [
              0,
              "#0d0887"
             ],
             [
              0.1111111111111111,
              "#46039f"
             ],
             [
              0.2222222222222222,
              "#7201a8"
             ],
             [
              0.3333333333333333,
              "#9c179e"
             ],
             [
              0.4444444444444444,
              "#bd3786"
             ],
             [
              0.5555555555555556,
              "#d8576b"
             ],
             [
              0.6666666666666666,
              "#ed7953"
             ],
             [
              0.7777777777777778,
              "#fb9f3a"
             ],
             [
              0.8888888888888888,
              "#fdca26"
             ],
             [
              1,
              "#f0f921"
             ]
            ],
            "type": "surface"
           }
          ],
          "table": [
           {
            "cells": {
             "fill": {
              "color": "#EBF0F8"
             },
             "line": {
              "color": "white"
             }
            },
            "header": {
             "fill": {
              "color": "#C8D4E3"
             },
             "line": {
              "color": "white"
             }
            },
            "type": "table"
           }
          ]
         },
         "layout": {
          "annotationdefaults": {
           "arrowcolor": "#2a3f5f",
           "arrowhead": 0,
           "arrowwidth": 1
          },
          "autotypenumbers": "strict",
          "coloraxis": {
           "colorbar": {
            "outlinewidth": 0,
            "ticks": ""
           }
          },
          "colorscale": {
           "diverging": [
            [
             0,
             "#8e0152"
            ],
            [
             0.1,
             "#c51b7d"
            ],
            [
             0.2,
             "#de77ae"
            ],
            [
             0.3,
             "#f1b6da"
            ],
            [
             0.4,
             "#fde0ef"
            ],
            [
             0.5,
             "#f7f7f7"
            ],
            [
             0.6,
             "#e6f5d0"
            ],
            [
             0.7,
             "#b8e186"
            ],
            [
             0.8,
             "#7fbc41"
            ],
            [
             0.9,
             "#4d9221"
            ],
            [
             1,
             "#276419"
            ]
           ],
           "sequential": [
            [
             0,
             "#0d0887"
            ],
            [
             0.1111111111111111,
             "#46039f"
            ],
            [
             0.2222222222222222,
             "#7201a8"
            ],
            [
             0.3333333333333333,
             "#9c179e"
            ],
            [
             0.4444444444444444,
             "#bd3786"
            ],
            [
             0.5555555555555556,
             "#d8576b"
            ],
            [
             0.6666666666666666,
             "#ed7953"
            ],
            [
             0.7777777777777778,
             "#fb9f3a"
            ],
            [
             0.8888888888888888,
             "#fdca26"
            ],
            [
             1,
             "#f0f921"
            ]
           ],
           "sequentialminus": [
            [
             0,
             "#0d0887"
            ],
            [
             0.1111111111111111,
             "#46039f"
            ],
            [
             0.2222222222222222,
             "#7201a8"
            ],
            [
             0.3333333333333333,
             "#9c179e"
            ],
            [
             0.4444444444444444,
             "#bd3786"
            ],
            [
             0.5555555555555556,
             "#d8576b"
            ],
            [
             0.6666666666666666,
             "#ed7953"
            ],
            [
             0.7777777777777778,
             "#fb9f3a"
            ],
            [
             0.8888888888888888,
             "#fdca26"
            ],
            [
             1,
             "#f0f921"
            ]
           ]
          },
          "colorway": [
           "#636efa",
           "#EF553B",
           "#00cc96",
           "#ab63fa",
           "#FFA15A",
           "#19d3f3",
           "#FF6692",
           "#B6E880",
           "#FF97FF",
           "#FECB52"
          ],
          "font": {
           "color": "#2a3f5f"
          },
          "geo": {
           "bgcolor": "white",
           "lakecolor": "white",
           "landcolor": "#E5ECF6",
           "showlakes": true,
           "showland": true,
           "subunitcolor": "white"
          },
          "hoverlabel": {
           "align": "left"
          },
          "hovermode": "closest",
          "mapbox": {
           "style": "light"
          },
          "paper_bgcolor": "white",
          "plot_bgcolor": "#E5ECF6",
          "polar": {
           "angularaxis": {
            "gridcolor": "white",
            "linecolor": "white",
            "ticks": ""
           },
           "bgcolor": "#E5ECF6",
           "radialaxis": {
            "gridcolor": "white",
            "linecolor": "white",
            "ticks": ""
           }
          },
          "scene": {
           "xaxis": {
            "backgroundcolor": "#E5ECF6",
            "gridcolor": "white",
            "gridwidth": 2,
            "linecolor": "white",
            "showbackground": true,
            "ticks": "",
            "zerolinecolor": "white"
           },
           "yaxis": {
            "backgroundcolor": "#E5ECF6",
            "gridcolor": "white",
            "gridwidth": 2,
            "linecolor": "white",
            "showbackground": true,
            "ticks": "",
            "zerolinecolor": "white"
           },
           "zaxis": {
            "backgroundcolor": "#E5ECF6",
            "gridcolor": "white",
            "gridwidth": 2,
            "linecolor": "white",
            "showbackground": true,
            "ticks": "",
            "zerolinecolor": "white"
           }
          },
          "shapedefaults": {
           "line": {
            "color": "#2a3f5f"
           }
          },
          "ternary": {
           "aaxis": {
            "gridcolor": "white",
            "linecolor": "white",
            "ticks": ""
           },
           "baxis": {
            "gridcolor": "white",
            "linecolor": "white",
            "ticks": ""
           },
           "bgcolor": "#E5ECF6",
           "caxis": {
            "gridcolor": "white",
            "linecolor": "white",
            "ticks": ""
           }
          },
          "title": {
           "x": 0.05
          },
          "xaxis": {
           "automargin": true,
           "gridcolor": "white",
           "linecolor": "white",
           "ticks": "",
           "title": {
            "standoff": 15
           },
           "zerolinecolor": "white",
           "zerolinewidth": 2
          },
          "yaxis": {
           "automargin": true,
           "gridcolor": "white",
           "linecolor": "white",
           "ticks": "",
           "title": {
            "standoff": 15
           },
           "zerolinecolor": "white",
           "zerolinewidth": 2
          }
         }
        },
        "width": 900,
        "xaxis": {
         "gridcolor": "#1f292f",
         "nticks": 5,
         "rangeslider": {
          "visible": false
         }
        },
        "yaxis": {
         "gridcolor": "#1f292f"
        }
       }
      }
     },
     "metadata": {},
     "output_type": "display_data"
    },
    {
     "name": "stdout",
     "output_type": "stream",
     "text": [
      "AUD_JPY 377\n"
     ]
    },
    {
     "data": {
      "application/vnd.plotly.v1+json": {
       "config": {
        "plotlyServerURL": "https://plot.ly"
       },
       "data": [
        {
         "line": {
          "shape": "spline",
          "width": 2
         },
         "name": "GAIN_C",
         "type": "scatter",
         "x": [
          "s23-06-26 19:00",
          "s23-06-27 20:00",
          "s23-06-27 21:00",
          "s23-06-28 01:00",
          "s23-06-29 06:00",
          "s23-06-30 06:00",
          "s23-06-30 07:00",
          "s23-06-30 08:00",
          "s23-06-30 11:00",
          "s23-07-04 05:00",
          "s23-07-04 14:00",
          "s23-07-05 04:00",
          "s23-07-09 23:00",
          "s23-07-10 08:00",
          "s23-07-12 00:00",
          "s23-07-12 08:00",
          "s23-07-12 18:00",
          "s23-07-14 03:00",
          "s23-07-14 12:00",
          "s23-07-16 22:00",
          "s23-07-17 18:00",
          "s23-07-18 05:00",
          "s23-07-18 19:00",
          "s23-07-19 08:00",
          "s23-07-19 12:00",
          "s23-07-19 15:00",
          "s23-07-20 01:00",
          "s23-07-20 20:00",
          "s23-07-21 08:00",
          "s23-07-24 01:00",
          "s23-07-24 20:00",
          "s23-07-26 00:00",
          "s23-07-27 01:00",
          "s23-07-27 17:00",
          "s23-07-28 16:00",
          "s23-08-01 05:00",
          "s23-08-04 00:00",
          "s23-08-04 14:00",
          "s23-08-07 07:00",
          "s23-08-08 09:00",
          "s23-08-08 21:00",
          "s23-08-09 17:00",
          "s23-08-10 00:00",
          "s23-08-11 00:00",
          "s23-08-14 13:00",
          "s23-08-15 13:00",
          "s23-08-16 12:00",
          "s23-08-16 23:00",
          "s23-08-17 15:00",
          "s23-08-17 22:00",
          "s23-08-20 22:00",
          "s23-08-22 18:00",
          "s23-08-23 05:00",
          "s23-08-23 10:00",
          "s23-08-23 21:00",
          "s23-08-24 14:00",
          "s23-08-25 08:00",
          "s23-08-28 14:00",
          "s23-08-28 19:00",
          "s23-08-30 23:00",
          "s23-09-01 17:00",
          "s23-09-05 00:00",
          "s23-09-05 19:00",
          "s23-09-06 06:00",
          "s23-09-06 13:00",
          "s23-09-07 04:00",
          "s23-09-08 05:00",
          "s23-09-10 22:00",
          "s23-09-11 10:00",
          "s23-09-12 01:00",
          "s23-09-12 05:00",
          "s23-09-13 07:00",
          "s23-09-13 15:00",
          "s23-09-15 19:00",
          "s23-09-19 02:00",
          "s23-09-20 03:00",
          "s23-09-20 08:00",
          "s23-09-21 00:00",
          "s23-09-22 03:00",
          "s23-09-25 02:00",
          "s23-09-25 15:00",
          "s23-09-26 07:00",
          "s23-09-27 21:00",
          "s23-09-27 22:00",
          "s23-09-28 08:00",
          "s23-09-29 20:00",
          "s23-10-04 06:00",
          "s23-10-05 16:00",
          "s23-10-05 23:00",
          "s23-10-09 05:00",
          "s23-10-09 17:00",
          "s23-10-11 10:00",
          "s23-10-11 19:00",
          "s23-10-12 12:00",
          "s23-10-16 04:00",
          "s23-10-18 15:00",
          "s23-10-19 16:00",
          "s23-10-20 04:00",
          "s23-10-20 17:00",
          "s23-10-23 01:00",
          "s23-10-23 16:00",
          "s23-10-25 11:00",
          "s23-10-26 11:00",
          "s23-10-27 15:00",
          "s23-10-30 06:00",
          "s23-10-30 21:00",
          "s23-10-31 07:00",
          "s23-11-01 04:00",
          "s23-11-01 14:00",
          "s23-11-02 20:00",
          "s23-11-03 02:00",
          "s23-11-06 16:00",
          "s23-11-07 22:00",
          "s23-11-08 18:00",
          "s23-11-09 09:00",
          "s23-11-09 20:00",
          "s23-11-10 15:00",
          "s23-11-10 16:00",
          "s23-11-10 17:00",
          "s23-11-14 03:00",
          "s23-11-14 14:00",
          "s23-11-16 04:00",
          "s23-11-17 20:00",
          "s23-11-20 11:00",
          "s23-11-21 02:00",
          "s23-11-21 05:00",
          "s23-11-21 19:00",
          "s23-11-23 08:00",
          "s23-11-23 09:00",
          "s23-11-24 06:00",
          "s23-11-24 12:00",
          "s23-11-27 03:00",
          "s23-11-27 15:00",
          "s23-11-27 22:00",
          "s23-11-28 11:00",
          "s23-11-28 20:00",
          "s23-11-30 08:00",
          "s23-12-03 23:00",
          "s23-12-06 02:00",
          "s23-12-06 17:00",
          "s23-12-08 06:00",
          "s23-12-10 22:00",
          "s23-12-10 23:00",
          "s23-12-12 02:00",
          "s23-12-13 08:00",
          "s23-12-13 19:00",
          "s23-12-15 00:00",
          "s23-12-15 13:00",
          "s23-12-17 22:00",
          "s23-12-19 00:00",
          "s23-12-19 04:00",
          "s23-12-20 02:00",
          "s23-12-21 20:00",
          "s23-12-22 07:00",
          "s23-12-22 15:00",
          "s23-12-27 19:00",
          "s23-12-28 21:00",
          "s23-12-29 11:00",
          "s24-01-02 05:00",
          "s24-01-02 17:00",
          "s24-01-03 08:00",
          "s24-01-05 01:00",
          "s24-01-05 02:00",
          "s24-01-08 03:00",
          "s24-01-08 22:00",
          "s24-01-09 07:00",
          "s24-01-09 22:00",
          "s24-01-11 13:00",
          "s24-01-12 08:00",
          "s24-01-12 11:00",
          "s24-01-15 05:00",
          "s24-01-15 15:00",
          "s24-01-15 22:00",
          "s24-01-16 00:00",
          "s24-01-16 16:00",
          "s24-01-17 09:00",
          "s24-01-17 19:00",
          "s24-01-18 11:00",
          "s24-01-18 16:00",
          "s24-01-22 06:00",
          "s24-01-23 05:00",
          "s24-01-23 14:00",
          "s24-01-23 19:00",
          "s24-01-24 04:00",
          "s24-01-25 07:00",
          "s24-01-26 00:00",
          "s24-01-26 02:00",
          "s24-01-29 16:00",
          "s24-01-30 05:00",
          "s24-01-30 09:00",
          "s24-01-30 22:00",
          "s24-01-31 03:00",
          "s24-02-01 21:00",
          "s24-02-04 22:00",
          "s24-02-06 04:00",
          "s24-02-06 17:00",
          "s24-02-07 04:00"
         ],
         "y": [
          51.09999999999957,
          54.69999999999828,
          -33.10000000000173,
          -51.600000000000534,
          -28.400000000000603,
          -35.50000000000182,
          -54.30000000000206,
          -62.400000000002365,
          -18.50000000000307,
          -66.60000000000252,
          -82.60000000000218,
          62.19999999999715,
          10.399999999997078,
          91.29999999999683,
          48.999999999996646,
          -10.100000000002751,
          68.39999999999691,
          12.39999999999668,
          -37.60000000000332,
          -18.400000000004013,
          -33.600000000004115,
          -51.90000000000339,
          -61.10000000000326,
          -59.40000000000367,
          -60.300000000003706,
          -109.40000000000367,
          -115.20000000000437,
          -193.90000000000498,
          -254.20000000000442,
          -277.70000000000437,
          -253.20000000000533,
          -177.40000000000578,
          -275.7000000000062,
          -273.0000000000061,
          -127.60000000000531,
          24.79999999999478,
          -15.600000000004854,
          -28.20000000000391,
          -60.80000000000325,
          -121.60000000000366,
          -113.20000000000476,
          -118.90000000000498,
          -66.40000000000441,
          -25.200000000003797,
          -14.800000000003877,
          9.999999999995168,
          6.199999999994077,
          14.999999999993463,
          -31.600000000005934,
          -13.600000000005252,
          41.89999999999543,
          27.599999999996783,
          -23.70000000000232,
          -75.20000000000238,
          -86.70000000000329,
          -98.00000000000324,
          -62.400000000002365,
          -62.20000000000283,
          -14.200000000003854,
          23.399999999995202,
          48.19999999999425,
          78.09999999999349,
          64.19999999999249,
          55.89999999999122,
          32.599999999990814,
          1.6999999999910642,
          -18.00000000000921,
          -56.40000000000924,
          -86.00000000000847,
          -103.60000000000724,
          -92.00000000000585,
          -122.00000000000557,
          -86.1000000000061,
          -80.60000000000684,
          -51.00000000000762,
          -93.50000000000733,
          -135.00000000000654,
          -114.80000000000672,
          -91.60000000000679,
          -102.60000000000673,
          -116.40000000000725,
          -78.20000000000675,
          -85.60000000000656,
          -122.40000000000748,
          -39.80000000000814,
          157.9999999999913,
          184.2999999999904,
          163.49999999999056,
          188.19999999999055,
          162.09999999998956,
          197.399999999989,
          176.0999999999882,
          151.59999999998774,
          243.19999999998743,
          288.1999999999877,
          277.59999999998826,
          237.39999999998815,
          233.79999999998802,
          231.99999999998795,
          202.19999999998777,
          208.99999999998755,
          234.7999999999871,
          260.39999999998713,
          259.99999999998806,
          254.69999999998834,
          195.39999999998798,
          220.59999999998752,
          160.99999999998715,
          202.0999999999873,
          211.39999999998764,
          273.89999999998764,
          332.599999999988,
          331.5999999999889,
          331.5999999999889,
          293.49999999998886,
          313.79999999998915,
          320.19999999998845,
          309.5999999999876,
          341.39999999998736,
          245.59999999998752,
          269.6999999999875,
          305.1999999999879,
          266.9999999999888,
          261.79999999998955,
          252.7999999999892,
          235.39999999998855,
          301.29999999998915,
          299.59999999998956,
          310.79999999998904,
          289.3999999999892,
          255.1999999999893,
          219.99999999998892,
          208.79999999998944,
          196.99999999998994,
          169.59999999998985,
          226.09999999998962,
          262.8999999999891,
          337.79999999998864,
          290.5999999999878,
          418.39999999998696,
          420.199999999987,
          412.99999999998676,
          466.5999999999869,
          499.19999999998765,
          478.89999999998736,
          489.4999999999868,
          454.19999999998595,
          425.1999999999853,
          471.69999999998566,
          398.69999999998527,
          488.7999999999849,
          549.5999999999854,
          521.1999999999848,
          480.89999999998423,
          504.19999999998464,
          554.3999999999855,
          522.7999999999868,
          482.0999999999871,
          431.99999999998664,
          416.1999999999865,
          498.2999999999863,
          496.9999999999858,
          465.799999999986,
          461.59999999998587,
          435.0999999999858,
          441.8999999999856,
          534.1999999999844,
          555.0999999999833,
          539.7999999999827,
          540.5999999999822,
          540.2999999999822,
          543.9999999999828,
          500.8999999999831,
          466.59999999998274,
          448.8999999999821,
          428.69999999998225,
          438.59999999998263,
          425.39999999998213,
          460.5999999999811,
          445.19999999998004,
          425.59999999998024,
          429.7999999999804,
          397.5999999999801,
          396.3999999999801,
          391.39999999998037,
          375.29999999998023,
          379.799999999979,
          363.7999999999779,
          348.1999999999773,
          338.59999999997694,
          298.5999999999764,
          380.1999999999766,
          421.39999999997724,
          414.99999999997794,
          390.99999999997846,
          377.79999999997796,
          377.79999999997796
         ]
        }
       ],
       "layout": {
        "font": {
         "color": "#e1e1e1",
         "size": 8
        },
        "height": 400,
        "margin": {
         "b": 10,
         "l": 10,
         "r": 10,
         "t": 10
        },
        "paper_bgcolor": "#2c303c",
        "plot_bgcolor": "#2c303c",
        "template": {
         "data": {
          "bar": [
           {
            "error_x": {
             "color": "#2a3f5f"
            },
            "error_y": {
             "color": "#2a3f5f"
            },
            "marker": {
             "line": {
              "color": "#E5ECF6",
              "width": 0.5
             },
             "pattern": {
              "fillmode": "overlay",
              "size": 10,
              "solidity": 0.2
             }
            },
            "type": "bar"
           }
          ],
          "barpolar": [
           {
            "marker": {
             "line": {
              "color": "#E5ECF6",
              "width": 0.5
             },
             "pattern": {
              "fillmode": "overlay",
              "size": 10,
              "solidity": 0.2
             }
            },
            "type": "barpolar"
           }
          ],
          "carpet": [
           {
            "aaxis": {
             "endlinecolor": "#2a3f5f",
             "gridcolor": "white",
             "linecolor": "white",
             "minorgridcolor": "white",
             "startlinecolor": "#2a3f5f"
            },
            "baxis": {
             "endlinecolor": "#2a3f5f",
             "gridcolor": "white",
             "linecolor": "white",
             "minorgridcolor": "white",
             "startlinecolor": "#2a3f5f"
            },
            "type": "carpet"
           }
          ],
          "choropleth": [
           {
            "colorbar": {
             "outlinewidth": 0,
             "ticks": ""
            },
            "type": "choropleth"
           }
          ],
          "contour": [
           {
            "colorbar": {
             "outlinewidth": 0,
             "ticks": ""
            },
            "colorscale": [
             [
              0,
              "#0d0887"
             ],
             [
              0.1111111111111111,
              "#46039f"
             ],
             [
              0.2222222222222222,
              "#7201a8"
             ],
             [
              0.3333333333333333,
              "#9c179e"
             ],
             [
              0.4444444444444444,
              "#bd3786"
             ],
             [
              0.5555555555555556,
              "#d8576b"
             ],
             [
              0.6666666666666666,
              "#ed7953"
             ],
             [
              0.7777777777777778,
              "#fb9f3a"
             ],
             [
              0.8888888888888888,
              "#fdca26"
             ],
             [
              1,
              "#f0f921"
             ]
            ],
            "type": "contour"
           }
          ],
          "contourcarpet": [
           {
            "colorbar": {
             "outlinewidth": 0,
             "ticks": ""
            },
            "type": "contourcarpet"
           }
          ],
          "heatmap": [
           {
            "colorbar": {
             "outlinewidth": 0,
             "ticks": ""
            },
            "colorscale": [
             [
              0,
              "#0d0887"
             ],
             [
              0.1111111111111111,
              "#46039f"
             ],
             [
              0.2222222222222222,
              "#7201a8"
             ],
             [
              0.3333333333333333,
              "#9c179e"
             ],
             [
              0.4444444444444444,
              "#bd3786"
             ],
             [
              0.5555555555555556,
              "#d8576b"
             ],
             [
              0.6666666666666666,
              "#ed7953"
             ],
             [
              0.7777777777777778,
              "#fb9f3a"
             ],
             [
              0.8888888888888888,
              "#fdca26"
             ],
             [
              1,
              "#f0f921"
             ]
            ],
            "type": "heatmap"
           }
          ],
          "heatmapgl": [
           {
            "colorbar": {
             "outlinewidth": 0,
             "ticks": ""
            },
            "colorscale": [
             [
              0,
              "#0d0887"
             ],
             [
              0.1111111111111111,
              "#46039f"
             ],
             [
              0.2222222222222222,
              "#7201a8"
             ],
             [
              0.3333333333333333,
              "#9c179e"
             ],
             [
              0.4444444444444444,
              "#bd3786"
             ],
             [
              0.5555555555555556,
              "#d8576b"
             ],
             [
              0.6666666666666666,
              "#ed7953"
             ],
             [
              0.7777777777777778,
              "#fb9f3a"
             ],
             [
              0.8888888888888888,
              "#fdca26"
             ],
             [
              1,
              "#f0f921"
             ]
            ],
            "type": "heatmapgl"
           }
          ],
          "histogram": [
           {
            "marker": {
             "pattern": {
              "fillmode": "overlay",
              "size": 10,
              "solidity": 0.2
             }
            },
            "type": "histogram"
           }
          ],
          "histogram2d": [
           {
            "colorbar": {
             "outlinewidth": 0,
             "ticks": ""
            },
            "colorscale": [
             [
              0,
              "#0d0887"
             ],
             [
              0.1111111111111111,
              "#46039f"
             ],
             [
              0.2222222222222222,
              "#7201a8"
             ],
             [
              0.3333333333333333,
              "#9c179e"
             ],
             [
              0.4444444444444444,
              "#bd3786"
             ],
             [
              0.5555555555555556,
              "#d8576b"
             ],
             [
              0.6666666666666666,
              "#ed7953"
             ],
             [
              0.7777777777777778,
              "#fb9f3a"
             ],
             [
              0.8888888888888888,
              "#fdca26"
             ],
             [
              1,
              "#f0f921"
             ]
            ],
            "type": "histogram2d"
           }
          ],
          "histogram2dcontour": [
           {
            "colorbar": {
             "outlinewidth": 0,
             "ticks": ""
            },
            "colorscale": [
             [
              0,
              "#0d0887"
             ],
             [
              0.1111111111111111,
              "#46039f"
             ],
             [
              0.2222222222222222,
              "#7201a8"
             ],
             [
              0.3333333333333333,
              "#9c179e"
             ],
             [
              0.4444444444444444,
              "#bd3786"
             ],
             [
              0.5555555555555556,
              "#d8576b"
             ],
             [
              0.6666666666666666,
              "#ed7953"
             ],
             [
              0.7777777777777778,
              "#fb9f3a"
             ],
             [
              0.8888888888888888,
              "#fdca26"
             ],
             [
              1,
              "#f0f921"
             ]
            ],
            "type": "histogram2dcontour"
           }
          ],
          "mesh3d": [
           {
            "colorbar": {
             "outlinewidth": 0,
             "ticks": ""
            },
            "type": "mesh3d"
           }
          ],
          "parcoords": [
           {
            "line": {
             "colorbar": {
              "outlinewidth": 0,
              "ticks": ""
             }
            },
            "type": "parcoords"
           }
          ],
          "pie": [
           {
            "automargin": true,
            "type": "pie"
           }
          ],
          "scatter": [
           {
            "fillpattern": {
             "fillmode": "overlay",
             "size": 10,
             "solidity": 0.2
            },
            "type": "scatter"
           }
          ],
          "scatter3d": [
           {
            "line": {
             "colorbar": {
              "outlinewidth": 0,
              "ticks": ""
             }
            },
            "marker": {
             "colorbar": {
              "outlinewidth": 0,
              "ticks": ""
             }
            },
            "type": "scatter3d"
           }
          ],
          "scattercarpet": [
           {
            "marker": {
             "colorbar": {
              "outlinewidth": 0,
              "ticks": ""
             }
            },
            "type": "scattercarpet"
           }
          ],
          "scattergeo": [
           {
            "marker": {
             "colorbar": {
              "outlinewidth": 0,
              "ticks": ""
             }
            },
            "type": "scattergeo"
           }
          ],
          "scattergl": [
           {
            "marker": {
             "colorbar": {
              "outlinewidth": 0,
              "ticks": ""
             }
            },
            "type": "scattergl"
           }
          ],
          "scattermapbox": [
           {
            "marker": {
             "colorbar": {
              "outlinewidth": 0,
              "ticks": ""
             }
            },
            "type": "scattermapbox"
           }
          ],
          "scatterpolar": [
           {
            "marker": {
             "colorbar": {
              "outlinewidth": 0,
              "ticks": ""
             }
            },
            "type": "scatterpolar"
           }
          ],
          "scatterpolargl": [
           {
            "marker": {
             "colorbar": {
              "outlinewidth": 0,
              "ticks": ""
             }
            },
            "type": "scatterpolargl"
           }
          ],
          "scatterternary": [
           {
            "marker": {
             "colorbar": {
              "outlinewidth": 0,
              "ticks": ""
             }
            },
            "type": "scatterternary"
           }
          ],
          "surface": [
           {
            "colorbar": {
             "outlinewidth": 0,
             "ticks": ""
            },
            "colorscale": [
             [
              0,
              "#0d0887"
             ],
             [
              0.1111111111111111,
              "#46039f"
             ],
             [
              0.2222222222222222,
              "#7201a8"
             ],
             [
              0.3333333333333333,
              "#9c179e"
             ],
             [
              0.4444444444444444,
              "#bd3786"
             ],
             [
              0.5555555555555556,
              "#d8576b"
             ],
             [
              0.6666666666666666,
              "#ed7953"
             ],
             [
              0.7777777777777778,
              "#fb9f3a"
             ],
             [
              0.8888888888888888,
              "#fdca26"
             ],
             [
              1,
              "#f0f921"
             ]
            ],
            "type": "surface"
           }
          ],
          "table": [
           {
            "cells": {
             "fill": {
              "color": "#EBF0F8"
             },
             "line": {
              "color": "white"
             }
            },
            "header": {
             "fill": {
              "color": "#C8D4E3"
             },
             "line": {
              "color": "white"
             }
            },
            "type": "table"
           }
          ]
         },
         "layout": {
          "annotationdefaults": {
           "arrowcolor": "#2a3f5f",
           "arrowhead": 0,
           "arrowwidth": 1
          },
          "autotypenumbers": "strict",
          "coloraxis": {
           "colorbar": {
            "outlinewidth": 0,
            "ticks": ""
           }
          },
          "colorscale": {
           "diverging": [
            [
             0,
             "#8e0152"
            ],
            [
             0.1,
             "#c51b7d"
            ],
            [
             0.2,
             "#de77ae"
            ],
            [
             0.3,
             "#f1b6da"
            ],
            [
             0.4,
             "#fde0ef"
            ],
            [
             0.5,
             "#f7f7f7"
            ],
            [
             0.6,
             "#e6f5d0"
            ],
            [
             0.7,
             "#b8e186"
            ],
            [
             0.8,
             "#7fbc41"
            ],
            [
             0.9,
             "#4d9221"
            ],
            [
             1,
             "#276419"
            ]
           ],
           "sequential": [
            [
             0,
             "#0d0887"
            ],
            [
             0.1111111111111111,
             "#46039f"
            ],
            [
             0.2222222222222222,
             "#7201a8"
            ],
            [
             0.3333333333333333,
             "#9c179e"
            ],
            [
             0.4444444444444444,
             "#bd3786"
            ],
            [
             0.5555555555555556,
             "#d8576b"
            ],
            [
             0.6666666666666666,
             "#ed7953"
            ],
            [
             0.7777777777777778,
             "#fb9f3a"
            ],
            [
             0.8888888888888888,
             "#fdca26"
            ],
            [
             1,
             "#f0f921"
            ]
           ],
           "sequentialminus": [
            [
             0,
             "#0d0887"
            ],
            [
             0.1111111111111111,
             "#46039f"
            ],
            [
             0.2222222222222222,
             "#7201a8"
            ],
            [
             0.3333333333333333,
             "#9c179e"
            ],
            [
             0.4444444444444444,
             "#bd3786"
            ],
            [
             0.5555555555555556,
             "#d8576b"
            ],
            [
             0.6666666666666666,
             "#ed7953"
            ],
            [
             0.7777777777777778,
             "#fb9f3a"
            ],
            [
             0.8888888888888888,
             "#fdca26"
            ],
            [
             1,
             "#f0f921"
            ]
           ]
          },
          "colorway": [
           "#636efa",
           "#EF553B",
           "#00cc96",
           "#ab63fa",
           "#FFA15A",
           "#19d3f3",
           "#FF6692",
           "#B6E880",
           "#FF97FF",
           "#FECB52"
          ],
          "font": {
           "color": "#2a3f5f"
          },
          "geo": {
           "bgcolor": "white",
           "lakecolor": "white",
           "landcolor": "#E5ECF6",
           "showlakes": true,
           "showland": true,
           "subunitcolor": "white"
          },
          "hoverlabel": {
           "align": "left"
          },
          "hovermode": "closest",
          "mapbox": {
           "style": "light"
          },
          "paper_bgcolor": "white",
          "plot_bgcolor": "#E5ECF6",
          "polar": {
           "angularaxis": {
            "gridcolor": "white",
            "linecolor": "white",
            "ticks": ""
           },
           "bgcolor": "#E5ECF6",
           "radialaxis": {
            "gridcolor": "white",
            "linecolor": "white",
            "ticks": ""
           }
          },
          "scene": {
           "xaxis": {
            "backgroundcolor": "#E5ECF6",
            "gridcolor": "white",
            "gridwidth": 2,
            "linecolor": "white",
            "showbackground": true,
            "ticks": "",
            "zerolinecolor": "white"
           },
           "yaxis": {
            "backgroundcolor": "#E5ECF6",
            "gridcolor": "white",
            "gridwidth": 2,
            "linecolor": "white",
            "showbackground": true,
            "ticks": "",
            "zerolinecolor": "white"
           },
           "zaxis": {
            "backgroundcolor": "#E5ECF6",
            "gridcolor": "white",
            "gridwidth": 2,
            "linecolor": "white",
            "showbackground": true,
            "ticks": "",
            "zerolinecolor": "white"
           }
          },
          "shapedefaults": {
           "line": {
            "color": "#2a3f5f"
           }
          },
          "ternary": {
           "aaxis": {
            "gridcolor": "white",
            "linecolor": "white",
            "ticks": ""
           },
           "baxis": {
            "gridcolor": "white",
            "linecolor": "white",
            "ticks": ""
           },
           "bgcolor": "#E5ECF6",
           "caxis": {
            "gridcolor": "white",
            "linecolor": "white",
            "ticks": ""
           }
          },
          "title": {
           "x": 0.05
          },
          "xaxis": {
           "automargin": true,
           "gridcolor": "white",
           "linecolor": "white",
           "ticks": "",
           "title": {
            "standoff": 15
           },
           "zerolinecolor": "white",
           "zerolinewidth": 2
          },
          "yaxis": {
           "automargin": true,
           "gridcolor": "white",
           "linecolor": "white",
           "ticks": "",
           "title": {
            "standoff": 15
           },
           "zerolinecolor": "white",
           "zerolinewidth": 2
          }
         }
        },
        "width": 900,
        "xaxis": {
         "gridcolor": "#1f292f",
         "nticks": 5,
         "rangeslider": {
          "visible": false
         }
        },
        "yaxis": {
         "gridcolor": "#1f292f"
        }
       }
      }
     },
     "metadata": {},
     "output_type": "display_data"
    },
    {
     "name": "stdout",
     "output_type": "stream",
     "text": [
      "GBP_AUD 228\n"
     ]
    },
    {
     "data": {
      "application/vnd.plotly.v1+json": {
       "config": {
        "plotlyServerURL": "https://plot.ly"
       },
       "data": [
        {
         "line": {
          "shape": "spline",
          "width": 2
         },
         "name": "GAIN_C",
         "type": "scatter",
         "x": [
          "s23-06-26 17:00",
          "s23-06-27 14:00",
          "s23-06-28 16:00",
          "s23-06-29 01:00",
          "s23-06-29 05:00",
          "s23-06-30 05:00",
          "s23-07-02 23:00",
          "s23-07-04 05:00",
          "s23-07-04 14:00",
          "s23-07-05 06:00",
          "s23-07-06 07:00",
          "s23-07-06 12:00",
          "s23-07-07 07:00",
          "s23-07-07 18:00",
          "s23-07-09 21:00",
          "s23-07-10 06:00",
          "s23-07-12 01:00",
          "s23-07-14 00:00",
          "s23-07-17 18:00",
          "s23-07-18 06:00",
          "s23-07-18 19:00",
          "s23-07-19 09:00",
          "s23-07-19 10:00",
          "s23-07-20 01:00",
          "s23-07-20 02:00",
          "s23-07-20 20:00",
          "s23-07-24 09:00",
          "s23-07-25 21:00",
          "s23-07-27 03:00",
          "s23-07-27 18:00",
          "s23-07-31 03:00",
          "s23-08-01 05:00",
          "s23-08-03 10:00",
          "s23-08-04 18:00",
          "s23-08-07 05:00",
          "s23-08-07 13:00",
          "s23-08-08 20:00",
          "s23-08-09 17:00",
          "s23-08-10 02:00",
          "s23-08-11 01:00",
          "s23-08-14 13:00",
          "s23-08-15 00:00",
          "s23-08-15 04:00",
          "s23-08-15 08:00",
          "s23-08-17 14:00",
          "s23-08-17 22:00",
          "s23-08-18 08:00",
          "s23-08-21 01:00",
          "s23-08-22 07:00",
          "s23-08-24 09:00",
          "s23-08-24 20:00",
          "s23-08-25 15:00",
          "s23-08-28 02:00",
          "s23-08-28 15:00",
          "s23-08-28 20:00",
          "s23-08-30 09:00",
          "s23-08-31 08:00",
          "s23-09-01 07:00",
          "s23-09-01 16:00",
          "s23-09-04 12:00",
          "s23-09-06 07:00",
          "s23-09-07 22:00",
          "s23-09-08 08:00",
          "s23-09-10 21:00",
          "s23-09-11 02:00",
          "s23-09-12 21:00",
          "s23-09-13 14:00",
          "s23-09-15 16:00",
          "s23-09-18 07:00",
          "s23-09-18 16:00",
          "s23-09-18 23:00",
          "s23-09-20 02:00",
          "s23-09-20 07:00",
          "s23-09-21 00:00",
          "s23-09-21 15:00",
          "s23-09-25 02:00",
          "s23-09-25 16:00",
          "s23-09-26 12:00",
          "s23-09-26 14:00",
          "s23-09-27 03:00",
          "s23-09-28 06:00",
          "s23-09-29 19:00",
          "s23-10-02 21:00",
          "s23-10-03 04:00",
          "s23-10-04 04:00",
          "s23-10-04 13:00",
          "s23-10-05 02:00",
          "s23-10-05 15:00",
          "s23-10-06 02:00",
          "s23-10-06 10:00",
          "s23-10-09 00:00",
          "s23-10-09 04:00",
          "s23-10-09 11:00",
          "s23-10-10 11:00",
          "s23-10-10 23:00",
          "s23-10-11 06:00",
          "s23-10-12 06:00",
          "s23-10-12 13:00",
          "s23-10-13 16:00",
          "s23-10-16 18:00",
          "s23-10-17 04:00",
          "s23-10-18 15:00",
          "s23-10-19 16:00",
          "s23-10-20 05:00",
          "s23-10-24 07:00",
          "s23-10-25 13:00",
          "s23-10-26 10:00",
          "s23-10-26 23:00",
          "s23-10-27 01:00",
          "s23-10-29 21:00",
          "s23-10-30 02:00",
          "s23-10-30 20:00",
          "s23-11-01 10:00",
          "s23-11-02 18:00",
          "s23-11-03 07:00",
          "s23-11-03 15:00",
          "s23-11-06 23:00",
          "s23-11-07 05:00",
          "s23-11-07 21:00",
          "s23-11-08 17:00",
          "s23-11-09 09:00",
          "s23-11-09 23:00",
          "s23-11-10 17:00",
          "s23-11-12 23:00",
          "s23-11-13 10:00",
          "s23-11-13 20:00",
          "s23-11-14 18:00",
          "s23-11-16 04:00",
          "s23-11-17 09:00",
          "s23-11-20 01:00",
          "s23-11-20 03:00",
          "s23-11-20 21:00",
          "s23-11-21 04:00",
          "s23-11-21 11:00",
          "s23-11-22 13:00",
          "s23-11-23 12:00",
          "s23-11-24 03:00",
          "s23-11-24 09:00",
          "s23-11-27 13:00",
          "s23-11-28 17:00",
          "s23-11-30 04:00",
          "s23-12-01 08:00",
          "s23-12-01 14:00",
          "s23-12-04 10:00",
          "s23-12-06 00:00",
          "s23-12-06 18:00",
          "s23-12-07 13:00",
          "s23-12-08 18:00",
          "s23-12-11 21:00",
          "s23-12-12 17:00",
          "s23-12-13 08:00",
          "s23-12-14 15:00",
          "s23-12-15 08:00",
          "s23-12-18 23:00",
          "s23-12-19 05:00",
          "s23-12-19 12:00",
          "s23-12-19 20:00",
          "s23-12-20 23:00",
          "s23-12-21 08:00",
          "s23-12-22 06:00",
          "s23-12-22 17:00",
          "s23-12-27 16:00",
          "s23-12-28 16:00",
          "s23-12-29 06:00",
          "s24-01-01 23:00",
          "s24-01-02 22:00",
          "s24-01-04 07:00",
          "s24-01-04 11:00",
          "s24-01-08 03:00",
          "s24-01-08 07:00",
          "s24-01-09 01:00",
          "s24-01-09 10:00",
          "s24-01-10 02:00",
          "s24-01-10 16:00",
          "s24-01-11 06:00",
          "s24-01-11 13:00",
          "s24-01-12 05:00",
          "s24-01-12 21:00",
          "s24-01-18 04:00",
          "s24-01-22 01:00",
          "s24-01-23 06:00",
          "s24-01-24 04:00",
          "s24-01-24 20:00",
          "s24-01-24 21:00",
          "s24-01-25 12:00",
          "s24-01-26 14:00",
          "s24-01-29 03:00",
          "s24-01-30 16:00",
          "s24-01-31 15:00",
          "s24-01-31 22:00",
          "s24-02-01 23:00",
          "s24-02-02 17:00",
          "s24-02-05 08:00",
          "s24-02-06 16:00",
          "s24-02-07 00:00",
          "s24-02-07 10:00"
         ],
         "y": [
          -1.80000000000069,
          69.19999999999814,
          86.99999999999707,
          80.59999999999734,
          119.39999999999839,
          133.39999999999907,
          130.3999999999994,
          59.39999999999834,
          32.69999999999662,
          82.9999999999953,
          -41.400000000004766,
          -41.400000000004766,
          -23.40000000000453,
          -19.500000000003403,
          -101.60000000000392,
          -88.80000000000445,
          113.39999999999682,
          209.39999999999736,
          204.3999999999979,
          170.99999999999892,
          186.59999999999897,
          157.99999999999812,
          273.79999999999734,
          240.59999999999744,
          208.39999999999742,
          258.69999999999834,
          293.9000000000002,
          331.300000000001,
          272.40000000000146,
          425.40000000000236,
          457.90000000000214,
          636.4000000000013,
          624.9000000000015,
          585.000000000002,
          495.4000000000012,
          519.5999999999999,
          521.5999999999997,
          498.4000000000009,
          506.8000000000026,
          605.1000000000026,
          596.000000000003,
          548.6000000000033,
          424.9000000000034,
          663.2000000000036,
          624.2000000000035,
          597.4000000000033,
          580.6000000000021,
          542.2000000000014,
          744.8000000000009,
          725.4000000000003,
          721.4000000000008,
          671.9000000000007,
          666.9999999999997,
          672.999999999999,
          694.5999999999983,
          729.999999999997,
          763.7999999999964,
          704.1999999999967,
          683.3999999999959,
          810.3999999999952,
          922.9999999999957,
          895.599999999996,
          888.7999999999959,
          839.0999999999945,
          880.3999999999942,
          887.1999999999944,
          1076.9999999999943,
          1043.5999999999954,
          1019.7999999999948,
          997.3999999999946,
          1025.0999999999963,
          954.3999999999971,
          919.1999999999974,
          903.3999999999983,
          1012.0999999999998,
          994.2000000000002,
          1021.4000000000008,
          988.0000000000018,
          926.8000000000028,
          938.2000000000043,
          997.8000000000039,
          1016.4000000000036,
          915.6000000000049,
          934.7000000000057,
          845.4000000000046,
          749.1000000000043,
          683.8000000000051,
          612.4000000000058,
          515.8000000000058,
          473.0000000000051,
          421.2000000000055,
          333.40000000000543,
          312.8000000000059,
          278.400000000007,
          243.40000000000646,
          283.6000000000056,
          211.60000000000463,
          240.80000000000274,
          264.1000000000022,
          200.00000000000193,
          217.80000000000086,
          220.80000000000052,
          187.79999999999973,
          239.99999999999974,
          346.3999999999996,
          346.09999999999764,
          342.49999999999625,
          316.99999999999574,
          317.4999999999968,
          239.79999999999848,
          210.2999999999984,
          265.79999999999785,
          429.79999999999757,
          385.29999999999694,
          298.89999999999714,
          300.0999999999983,
          164.5999999999988,
          115.6999999999982,
          55.299999999997745,
          85.19999999999823,
          82.4999999999983,
          97.7999999999986,
          100.19999999999878,
          90.59999999999806,
          51.399999999998826,
          18.69999999999999,
          76.5999999999996,
          51.39999999999882,
          58.99999999999976,
          0.20000000000090523,
          -6.999999999999634,
          -25.599999999999362,
          -49.099999999997884,
          -24.699999999997907,
          -56.29999999999842,
          -70.89999999999858,
          -75.59999999999829,
          -70.79999999999794,
          -37.89999999999779,
          -23.799999999996455,
          -28.799999999995904,
          -71.19999999999612,
          -42.69999999999593,
          85.40000000000396,
          97.60000000000394,
          54.00000000000475,
          87.20000000000465,
          125.70000000000374,
          91.4000000000033,
          55.00000000000243,
          126.80000000000207,
          64.5000000000025,
          173.60000000000224,
          143.40000000000202,
          83.80000000000237,
          -0.9999999999980531,
          63.800000000002356,
          29.300000000002825,
          33.40000000000304,
          -4.099999999996157,
          -25.39999999999581,
          -103.3999999999961,
          -151.39999999999748,
          -128.7999999999982,
          -92.19999999999823,
          46.20000000000252,
          -20.099999999996612,
          71.20000000000421,
          64.40000000000629,
          71.50000000000838,
          32.200000000008494,
          -6.799999999991648,
          -65.39999999999141,
          -85.59999999999273,
          -152.99999999999463,
          -148.79999999999598,
          -146.7999999999962,
          121.60000000000355,
          218.80000000000305,
          255.6000000000021,
          215.10000000000102,
          229.00000000000105,
          217.60000000000187,
          206.00000000000136,
          225.39999999999966,
          182.79999999999814,
          222.79999999999816,
          247.99999999999895,
          179.09999999999832,
          239.1999999999968,
          235.99999999999582,
          241.59999999999476,
          319.19999999999465,
          298.99999999999557,
          228.39999999999492,
          228.39999999999492
         ]
        }
       ],
       "layout": {
        "font": {
         "color": "#e1e1e1",
         "size": 8
        },
        "height": 400,
        "margin": {
         "b": 10,
         "l": 10,
         "r": 10,
         "t": 10
        },
        "paper_bgcolor": "#2c303c",
        "plot_bgcolor": "#2c303c",
        "template": {
         "data": {
          "bar": [
           {
            "error_x": {
             "color": "#2a3f5f"
            },
            "error_y": {
             "color": "#2a3f5f"
            },
            "marker": {
             "line": {
              "color": "#E5ECF6",
              "width": 0.5
             },
             "pattern": {
              "fillmode": "overlay",
              "size": 10,
              "solidity": 0.2
             }
            },
            "type": "bar"
           }
          ],
          "barpolar": [
           {
            "marker": {
             "line": {
              "color": "#E5ECF6",
              "width": 0.5
             },
             "pattern": {
              "fillmode": "overlay",
              "size": 10,
              "solidity": 0.2
             }
            },
            "type": "barpolar"
           }
          ],
          "carpet": [
           {
            "aaxis": {
             "endlinecolor": "#2a3f5f",
             "gridcolor": "white",
             "linecolor": "white",
             "minorgridcolor": "white",
             "startlinecolor": "#2a3f5f"
            },
            "baxis": {
             "endlinecolor": "#2a3f5f",
             "gridcolor": "white",
             "linecolor": "white",
             "minorgridcolor": "white",
             "startlinecolor": "#2a3f5f"
            },
            "type": "carpet"
           }
          ],
          "choropleth": [
           {
            "colorbar": {
             "outlinewidth": 0,
             "ticks": ""
            },
            "type": "choropleth"
           }
          ],
          "contour": [
           {
            "colorbar": {
             "outlinewidth": 0,
             "ticks": ""
            },
            "colorscale": [
             [
              0,
              "#0d0887"
             ],
             [
              0.1111111111111111,
              "#46039f"
             ],
             [
              0.2222222222222222,
              "#7201a8"
             ],
             [
              0.3333333333333333,
              "#9c179e"
             ],
             [
              0.4444444444444444,
              "#bd3786"
             ],
             [
              0.5555555555555556,
              "#d8576b"
             ],
             [
              0.6666666666666666,
              "#ed7953"
             ],
             [
              0.7777777777777778,
              "#fb9f3a"
             ],
             [
              0.8888888888888888,
              "#fdca26"
             ],
             [
              1,
              "#f0f921"
             ]
            ],
            "type": "contour"
           }
          ],
          "contourcarpet": [
           {
            "colorbar": {
             "outlinewidth": 0,
             "ticks": ""
            },
            "type": "contourcarpet"
           }
          ],
          "heatmap": [
           {
            "colorbar": {
             "outlinewidth": 0,
             "ticks": ""
            },
            "colorscale": [
             [
              0,
              "#0d0887"
             ],
             [
              0.1111111111111111,
              "#46039f"
             ],
             [
              0.2222222222222222,
              "#7201a8"
             ],
             [
              0.3333333333333333,
              "#9c179e"
             ],
             [
              0.4444444444444444,
              "#bd3786"
             ],
             [
              0.5555555555555556,
              "#d8576b"
             ],
             [
              0.6666666666666666,
              "#ed7953"
             ],
             [
              0.7777777777777778,
              "#fb9f3a"
             ],
             [
              0.8888888888888888,
              "#fdca26"
             ],
             [
              1,
              "#f0f921"
             ]
            ],
            "type": "heatmap"
           }
          ],
          "heatmapgl": [
           {
            "colorbar": {
             "outlinewidth": 0,
             "ticks": ""
            },
            "colorscale": [
             [
              0,
              "#0d0887"
             ],
             [
              0.1111111111111111,
              "#46039f"
             ],
             [
              0.2222222222222222,
              "#7201a8"
             ],
             [
              0.3333333333333333,
              "#9c179e"
             ],
             [
              0.4444444444444444,
              "#bd3786"
             ],
             [
              0.5555555555555556,
              "#d8576b"
             ],
             [
              0.6666666666666666,
              "#ed7953"
             ],
             [
              0.7777777777777778,
              "#fb9f3a"
             ],
             [
              0.8888888888888888,
              "#fdca26"
             ],
             [
              1,
              "#f0f921"
             ]
            ],
            "type": "heatmapgl"
           }
          ],
          "histogram": [
           {
            "marker": {
             "pattern": {
              "fillmode": "overlay",
              "size": 10,
              "solidity": 0.2
             }
            },
            "type": "histogram"
           }
          ],
          "histogram2d": [
           {
            "colorbar": {
             "outlinewidth": 0,
             "ticks": ""
            },
            "colorscale": [
             [
              0,
              "#0d0887"
             ],
             [
              0.1111111111111111,
              "#46039f"
             ],
             [
              0.2222222222222222,
              "#7201a8"
             ],
             [
              0.3333333333333333,
              "#9c179e"
             ],
             [
              0.4444444444444444,
              "#bd3786"
             ],
             [
              0.5555555555555556,
              "#d8576b"
             ],
             [
              0.6666666666666666,
              "#ed7953"
             ],
             [
              0.7777777777777778,
              "#fb9f3a"
             ],
             [
              0.8888888888888888,
              "#fdca26"
             ],
             [
              1,
              "#f0f921"
             ]
            ],
            "type": "histogram2d"
           }
          ],
          "histogram2dcontour": [
           {
            "colorbar": {
             "outlinewidth": 0,
             "ticks": ""
            },
            "colorscale": [
             [
              0,
              "#0d0887"
             ],
             [
              0.1111111111111111,
              "#46039f"
             ],
             [
              0.2222222222222222,
              "#7201a8"
             ],
             [
              0.3333333333333333,
              "#9c179e"
             ],
             [
              0.4444444444444444,
              "#bd3786"
             ],
             [
              0.5555555555555556,
              "#d8576b"
             ],
             [
              0.6666666666666666,
              "#ed7953"
             ],
             [
              0.7777777777777778,
              "#fb9f3a"
             ],
             [
              0.8888888888888888,
              "#fdca26"
             ],
             [
              1,
              "#f0f921"
             ]
            ],
            "type": "histogram2dcontour"
           }
          ],
          "mesh3d": [
           {
            "colorbar": {
             "outlinewidth": 0,
             "ticks": ""
            },
            "type": "mesh3d"
           }
          ],
          "parcoords": [
           {
            "line": {
             "colorbar": {
              "outlinewidth": 0,
              "ticks": ""
             }
            },
            "type": "parcoords"
           }
          ],
          "pie": [
           {
            "automargin": true,
            "type": "pie"
           }
          ],
          "scatter": [
           {
            "fillpattern": {
             "fillmode": "overlay",
             "size": 10,
             "solidity": 0.2
            },
            "type": "scatter"
           }
          ],
          "scatter3d": [
           {
            "line": {
             "colorbar": {
              "outlinewidth": 0,
              "ticks": ""
             }
            },
            "marker": {
             "colorbar": {
              "outlinewidth": 0,
              "ticks": ""
             }
            },
            "type": "scatter3d"
           }
          ],
          "scattercarpet": [
           {
            "marker": {
             "colorbar": {
              "outlinewidth": 0,
              "ticks": ""
             }
            },
            "type": "scattercarpet"
           }
          ],
          "scattergeo": [
           {
            "marker": {
             "colorbar": {
              "outlinewidth": 0,
              "ticks": ""
             }
            },
            "type": "scattergeo"
           }
          ],
          "scattergl": [
           {
            "marker": {
             "colorbar": {
              "outlinewidth": 0,
              "ticks": ""
             }
            },
            "type": "scattergl"
           }
          ],
          "scattermapbox": [
           {
            "marker": {
             "colorbar": {
              "outlinewidth": 0,
              "ticks": ""
             }
            },
            "type": "scattermapbox"
           }
          ],
          "scatterpolar": [
           {
            "marker": {
             "colorbar": {
              "outlinewidth": 0,
              "ticks": ""
             }
            },
            "type": "scatterpolar"
           }
          ],
          "scatterpolargl": [
           {
            "marker": {
             "colorbar": {
              "outlinewidth": 0,
              "ticks": ""
             }
            },
            "type": "scatterpolargl"
           }
          ],
          "scatterternary": [
           {
            "marker": {
             "colorbar": {
              "outlinewidth": 0,
              "ticks": ""
             }
            },
            "type": "scatterternary"
           }
          ],
          "surface": [
           {
            "colorbar": {
             "outlinewidth": 0,
             "ticks": ""
            },
            "colorscale": [
             [
              0,
              "#0d0887"
             ],
             [
              0.1111111111111111,
              "#46039f"
             ],
             [
              0.2222222222222222,
              "#7201a8"
             ],
             [
              0.3333333333333333,
              "#9c179e"
             ],
             [
              0.4444444444444444,
              "#bd3786"
             ],
             [
              0.5555555555555556,
              "#d8576b"
             ],
             [
              0.6666666666666666,
              "#ed7953"
             ],
             [
              0.7777777777777778,
              "#fb9f3a"
             ],
             [
              0.8888888888888888,
              "#fdca26"
             ],
             [
              1,
              "#f0f921"
             ]
            ],
            "type": "surface"
           }
          ],
          "table": [
           {
            "cells": {
             "fill": {
              "color": "#EBF0F8"
             },
             "line": {
              "color": "white"
             }
            },
            "header": {
             "fill": {
              "color": "#C8D4E3"
             },
             "line": {
              "color": "white"
             }
            },
            "type": "table"
           }
          ]
         },
         "layout": {
          "annotationdefaults": {
           "arrowcolor": "#2a3f5f",
           "arrowhead": 0,
           "arrowwidth": 1
          },
          "autotypenumbers": "strict",
          "coloraxis": {
           "colorbar": {
            "outlinewidth": 0,
            "ticks": ""
           }
          },
          "colorscale": {
           "diverging": [
            [
             0,
             "#8e0152"
            ],
            [
             0.1,
             "#c51b7d"
            ],
            [
             0.2,
             "#de77ae"
            ],
            [
             0.3,
             "#f1b6da"
            ],
            [
             0.4,
             "#fde0ef"
            ],
            [
             0.5,
             "#f7f7f7"
            ],
            [
             0.6,
             "#e6f5d0"
            ],
            [
             0.7,
             "#b8e186"
            ],
            [
             0.8,
             "#7fbc41"
            ],
            [
             0.9,
             "#4d9221"
            ],
            [
             1,
             "#276419"
            ]
           ],
           "sequential": [
            [
             0,
             "#0d0887"
            ],
            [
             0.1111111111111111,
             "#46039f"
            ],
            [
             0.2222222222222222,
             "#7201a8"
            ],
            [
             0.3333333333333333,
             "#9c179e"
            ],
            [
             0.4444444444444444,
             "#bd3786"
            ],
            [
             0.5555555555555556,
             "#d8576b"
            ],
            [
             0.6666666666666666,
             "#ed7953"
            ],
            [
             0.7777777777777778,
             "#fb9f3a"
            ],
            [
             0.8888888888888888,
             "#fdca26"
            ],
            [
             1,
             "#f0f921"
            ]
           ],
           "sequentialminus": [
            [
             0,
             "#0d0887"
            ],
            [
             0.1111111111111111,
             "#46039f"
            ],
            [
             0.2222222222222222,
             "#7201a8"
            ],
            [
             0.3333333333333333,
             "#9c179e"
            ],
            [
             0.4444444444444444,
             "#bd3786"
            ],
            [
             0.5555555555555556,
             "#d8576b"
            ],
            [
             0.6666666666666666,
             "#ed7953"
            ],
            [
             0.7777777777777778,
             "#fb9f3a"
            ],
            [
             0.8888888888888888,
             "#fdca26"
            ],
            [
             1,
             "#f0f921"
            ]
           ]
          },
          "colorway": [
           "#636efa",
           "#EF553B",
           "#00cc96",
           "#ab63fa",
           "#FFA15A",
           "#19d3f3",
           "#FF6692",
           "#B6E880",
           "#FF97FF",
           "#FECB52"
          ],
          "font": {
           "color": "#2a3f5f"
          },
          "geo": {
           "bgcolor": "white",
           "lakecolor": "white",
           "landcolor": "#E5ECF6",
           "showlakes": true,
           "showland": true,
           "subunitcolor": "white"
          },
          "hoverlabel": {
           "align": "left"
          },
          "hovermode": "closest",
          "mapbox": {
           "style": "light"
          },
          "paper_bgcolor": "white",
          "plot_bgcolor": "#E5ECF6",
          "polar": {
           "angularaxis": {
            "gridcolor": "white",
            "linecolor": "white",
            "ticks": ""
           },
           "bgcolor": "#E5ECF6",
           "radialaxis": {
            "gridcolor": "white",
            "linecolor": "white",
            "ticks": ""
           }
          },
          "scene": {
           "xaxis": {
            "backgroundcolor": "#E5ECF6",
            "gridcolor": "white",
            "gridwidth": 2,
            "linecolor": "white",
            "showbackground": true,
            "ticks": "",
            "zerolinecolor": "white"
           },
           "yaxis": {
            "backgroundcolor": "#E5ECF6",
            "gridcolor": "white",
            "gridwidth": 2,
            "linecolor": "white",
            "showbackground": true,
            "ticks": "",
            "zerolinecolor": "white"
           },
           "zaxis": {
            "backgroundcolor": "#E5ECF6",
            "gridcolor": "white",
            "gridwidth": 2,
            "linecolor": "white",
            "showbackground": true,
            "ticks": "",
            "zerolinecolor": "white"
           }
          },
          "shapedefaults": {
           "line": {
            "color": "#2a3f5f"
           }
          },
          "ternary": {
           "aaxis": {
            "gridcolor": "white",
            "linecolor": "white",
            "ticks": ""
           },
           "baxis": {
            "gridcolor": "white",
            "linecolor": "white",
            "ticks": ""
           },
           "bgcolor": "#E5ECF6",
           "caxis": {
            "gridcolor": "white",
            "linecolor": "white",
            "ticks": ""
           }
          },
          "title": {
           "x": 0.05
          },
          "xaxis": {
           "automargin": true,
           "gridcolor": "white",
           "linecolor": "white",
           "ticks": "",
           "title": {
            "standoff": 15
           },
           "zerolinecolor": "white",
           "zerolinewidth": 2
          },
          "yaxis": {
           "automargin": true,
           "gridcolor": "white",
           "linecolor": "white",
           "ticks": "",
           "title": {
            "standoff": 15
           },
           "zerolinecolor": "white",
           "zerolinewidth": 2
          }
         }
        },
        "width": 900,
        "xaxis": {
         "gridcolor": "#1f292f",
         "nticks": 5,
         "rangeslider": {
          "visible": false
         }
        },
        "yaxis": {
         "gridcolor": "#1f292f"
        }
       }
      }
     },
     "metadata": {},
     "output_type": "display_data"
    },
    {
     "name": "stdout",
     "output_type": "stream",
     "text": [
      "EUR_AUD 44\n"
     ]
    },
    {
     "data": {
      "application/vnd.plotly.v1+json": {
       "config": {
        "plotlyServerURL": "https://plot.ly"
       },
       "data": [
        {
         "line": {
          "shape": "spline",
          "width": 2
         },
         "name": "GAIN_C",
         "type": "scatter",
         "x": [
          "s23-06-27 00:00",
          "s23-06-27 13:00",
          "s23-06-29 05:00",
          "s23-07-05 07:00",
          "s23-07-05 23:00",
          "s23-07-06 13:00",
          "s23-07-07 07:00",
          "s23-07-10 03:00",
          "s23-07-10 22:00",
          "s23-07-11 08:00",
          "s23-07-11 22:00",
          "s23-07-12 12:00",
          "s23-07-12 17:00",
          "s23-07-14 00:00",
          "s23-07-17 20:00",
          "s23-07-18 03:00",
          "s23-07-18 18:00",
          "s23-07-19 03:00",
          "s23-07-19 20:00",
          "s23-07-20 22:00",
          "s23-07-24 08:00",
          "s23-07-26 04:00",
          "s23-07-27 02:00",
          "s23-07-27 17:00",
          "s23-07-27 21:00",
          "s23-07-27 22:00",
          "s23-07-31 04:00",
          "s23-08-01 05:00",
          "s23-08-03 16:00",
          "s23-08-04 14:00",
          "s23-08-07 06:00",
          "s23-08-07 16:00",
          "s23-08-08 19:00",
          "s23-08-09 13:00",
          "s23-08-10 05:00",
          "s23-08-10 16:00",
          "s23-08-14 12:00",
          "s23-08-15 09:00",
          "s23-08-16 14:00",
          "s23-08-16 17:00",
          "s23-08-17 14:00",
          "s23-08-18 01:00",
          "s23-08-18 17:00",
          "s23-08-21 03:00",
          "s23-08-21 21:00",
          "s23-08-24 08:00",
          "s23-08-25 03:00",
          "s23-08-25 17:00",
          "s23-08-28 03:00",
          "s23-08-28 12:00",
          "s23-08-28 20:00",
          "s23-08-29 19:00",
          "s23-08-29 23:00",
          "s23-08-30 09:00",
          "s23-08-31 08:00",
          "s23-09-01 07:00",
          "s23-09-01 16:00",
          "s23-09-04 14:00",
          "s23-09-05 20:00",
          "s23-09-06 07:00",
          "s23-09-06 10:00",
          "s23-09-06 22:00",
          "s23-09-07 10:00",
          "s23-09-08 01:00",
          "s23-09-08 07:00",
          "s23-09-08 19:00",
          "s23-09-11 03:00",
          "s23-09-11 20:00",
          "s23-09-12 08:00",
          "s23-09-12 19:00",
          "s23-09-13 14:00",
          "s23-09-15 14:00",
          "s23-09-18 07:00",
          "s23-09-18 14:00",
          "s23-09-19 08:00",
          "s23-09-20 04:00",
          "s23-09-20 11:00",
          "s23-09-21 01:00",
          "s23-09-21 22:00",
          "s23-09-25 00:00",
          "s23-09-25 15:00",
          "s23-09-26 08:00",
          "s23-09-26 21:00",
          "s23-09-27 03:00",
          "s23-09-27 16:00",
          "s23-09-29 19:00",
          "s23-10-02 19:00",
          "s23-10-03 03:00",
          "s23-10-04 03:00",
          "s23-10-04 14:00",
          "s23-10-05 01:00",
          "s23-10-05 15:00",
          "s23-10-06 00:00",
          "s23-10-06 10:00",
          "s23-10-09 00:00",
          "s23-10-09 04:00",
          "s23-10-09 11:00",
          "s23-10-10 10:00",
          "s23-10-10 22:00",
          "s23-10-11 08:00",
          "s23-10-13 14:00",
          "s23-10-13 16:00",
          "s23-10-13 17:00",
          "s23-10-13 20:00",
          "s23-10-16 03:00",
          "s23-10-17 17:00",
          "s23-10-18 03:00",
          "s23-10-18 17:00",
          "s23-10-23 05:00",
          "s23-10-23 07:00",
          "s23-10-24 06:00",
          "s23-10-25 12:00",
          "s23-10-26 10:00",
          "s23-10-27 19:00",
          "s23-10-30 04:00",
          "s23-10-30 17:00",
          "s23-10-31 21:00",
          "s23-11-02 13:00",
          "s23-11-03 02:00",
          "s23-11-06 09:00",
          "s23-11-07 23:00",
          "s23-11-08 17:00",
          "s23-11-09 09:00",
          "s23-11-09 19:00",
          "s23-11-13 05:00",
          "s23-11-14 01:00",
          "s23-11-14 17:00",
          "s23-11-16 02:00",
          "s23-11-17 09:00",
          "s23-11-19 23:00",
          "s23-11-20 04:00",
          "s23-11-20 19:00",
          "s23-11-21 02:00",
          "s23-11-22 05:00",
          "s23-11-22 13:00",
          "s23-11-23 02:00",
          "s23-11-23 07:00",
          "s23-11-27 02:00",
          "s23-11-27 12:00",
          "s23-11-29 07:00",
          "s23-11-30 02:00",
          "s23-12-04 09:00",
          "s23-12-05 23:00",
          "s23-12-06 17:00",
          "s23-12-07 13:00",
          "s23-12-08 17:00",
          "s23-12-11 17:00",
          "s23-12-12 14:00",
          "s23-12-13 10:00",
          "s23-12-13 11:00",
          "s23-12-13 12:00",
          "s23-12-14 15:00",
          "s23-12-15 08:00",
          "s23-12-18 17:00",
          "s23-12-19 06:00",
          "s23-12-20 21:00",
          "s23-12-21 12:00",
          "s23-12-22 06:00",
          "s23-12-22 15:00",
          "s23-12-26 04:00",
          "s23-12-26 05:00",
          "s23-12-26 16:00",
          "s23-12-26 17:00",
          "s23-12-26 22:00",
          "s23-12-27 01:00",
          "s23-12-27 14:00",
          "s23-12-28 19:00",
          "s23-12-29 09:00",
          "s24-01-01 22:00",
          "s24-01-02 20:00",
          "s24-01-04 02:00",
          "s24-01-04 12:00",
          "s24-01-05 07:00",
          "s24-01-05 14:00",
          "s24-01-05 16:00",
          "s24-01-05 18:00",
          "s24-01-05 19:00",
          "s24-01-08 08:00",
          "s24-01-08 22:00",
          "s24-01-09 10:00",
          "s24-01-10 03:00",
          "s24-01-10 15:00",
          "s24-01-11 06:00",
          "s24-01-11 14:00",
          "s24-01-12 04:00",
          "s24-01-14 23:00",
          "s24-01-16 18:00",
          "s24-01-16 19:00",
          "s24-01-18 08:00",
          "s24-01-21 23:00",
          "s24-01-23 06:00",
          "s24-01-24 04:00",
          "s24-01-24 17:00",
          "s24-01-24 18:00",
          "s24-01-25 12:00",
          "s24-01-26 15:00",
          "s24-01-29 04:00",
          "s24-01-30 12:00",
          "s24-01-31 15:00",
          "s24-02-01 01:00",
          "s24-02-01 23:00",
          "s24-02-02 16:00",
          "s24-02-05 09:00",
          "s24-02-05 20:00",
          "s24-02-06 05:00",
          "s24-02-07 11:00"
         ],
         "y": [
          -28.300000000001102,
          85.69999999999743,
          264.099999999996,
          282.19999999999465,
          182.8999999999947,
          171.59999999999616,
          135.09999999999684,
          179.49999999999682,
          152.29999999999626,
          102.29999999999511,
          126.29999999999468,
          87.29999999999454,
          164.09999999999363,
          335.49999999999295,
          341.49999999999227,
          339.1999999999905,
          277.09999999999,
          279.4999999999902,
          394.69999999999,
          411.99999999999005,
          515.6999999999899,
          498.79999999999023,
          485.4999999999919,
          508.899999999992,
          509.0999999999911,
          633.8999999999916,
          643.4999999999923,
          862.2999999999935,
          821.9999999999937,
          789.7999999999937,
          746.4999999999942,
          746.0999999999938,
          703.6999999999936,
          696.5999999999937,
          667.3999999999933,
          687.699999999993,
          626.8999999999921,
          627.6999999999907,
          606.6999999999908,
          649.6999999999905,
          655.2999999999894,
          663.19999999999,
          626.1999999999919,
          615.0999999999924,
          782.6999999999913,
          785.8999999999901,
          764.0999999999893,
          731.2999999999898,
          710.29999999999,
          704.4999999999897,
          742.4999999999899,
          737.4999999999905,
          678.0999999999921,
          642.499999999992,
          690.2999999999921,
          653.6999999999921,
          672.2999999999918,
          778.3999999999919,
          778.8999999999908,
          762.8999999999903,
          754.2999999999895,
          728.2999999999879,
          721.4999999999877,
          683.5999999999881,
          646.499999999987,
          573.1999999999864,
          566.5999999999876,
          519.0999999999896,
          482.19999999998987,
          498.6999999999892,
          655.6999999999896,
          652.1999999999911,
          609.8999999999915,
          573.1999999999908,
          585.4999999999915,
          529.5999999999916,
          460.69999999999095,
          511.4999999999907,
          594.8999999999908,
          557.999999999991,
          518.0999999999916,
          503.29999999999234,
          476.2999999999931,
          452.2999999999935,
          532.4999999999926,
          554.8999999999928,
          524.899999999994,
          634.8999999999952,
          616.4999999999968,
          531.4999999999973,
          487.69999999999675,
          456.2999999999953,
          417.49999999999426,
          396.09999999999394,
          349.29999999999376,
          273.29999999999325,
          279.1999999999919,
          234.59999999999062,
          209.6999999999896,
          378.0999999999892,
          366.2999999999896,
          347.19999999999106,
          331.9999999999914,
          284.4999999999911,
          304.69999999999243,
          267.8999999999934,
          242.89999999999392,
          387.0999999999949,
          335.4999999999944,
          289.39999999999435,
          370.8999999999954,
          407.599999999996,
          443.19999999999607,
          383.6999999999949,
          360.49999999999386,
          402.09999999999326,
          549.1999999999932,
          527.0999999999927,
          529.499999999993,
          646.099999999993,
          580.0999999999914,
          579.8999999999901,
          529.1999999999888,
          571.299999999987,
          588.6999999999855,
          554.6999999999848,
          542.199999999985,
          519.0999999999847,
          498.5999999999836,
          424.6999999999835,
          420.2999999999835,
          400.09999999998445,
          386.3999999999857,
          340.8999999999852,
          333.69999999998464,
          304.8999999999847,
          274.89999999998355,
          213.2999999999819,
          215.99999999998184,
          178.29999999998356,
          366.19999999998436,
          485.4999999999843,
          518.999999999984,
          475.49999999998323,
          507.6999999999832,
          535.4999999999833,
          468.0999999999836,
          457.2999999999839,
          451.89999999998406,
          452.69999999998487,
          491.2999999999846,
          396.299999999984,
          408.0999999999836,
          380.69999999998396,
          398.2999999999838,
          387.2999999999828,
          412.09999999998314,
          372.8999999999839,
          380.6999999999839,
          385.8999999999847,
          372.0999999999853,
          373.899999999986,
          389.39999999998764,
          372.7999999999877,
          307.69999999998754,
          270.0999999999877,
          223.89999999998702,
          210.1999999999861,
          240.89999999998514,
          275.8999999999835,
          215.5999999999815,
          234.89999999998136,
          208.6999999999829,
          177.6999999999841,
          183.69999999998345,
          189.2999999999824,
          154.39999999998247,
          119.09999999998215,
          88.49999999998153,
          64.89999999998236,
          -4.3000000000158,
          -34.100000000015626,
          -103.20000000001534,
          -147.50000000001467,
          -136.70000000001497,
          21.49999999998448,
          28.89999999998411,
          109.59999999998433,
          187.89999999998435,
          182.6999999999836,
          165.69999999998325,
          145.99999999998298,
          118.69999999998177,
          128.59999999998223,
          189.09999999998334,
          161.89999999998278,
          160.8999999999829,
          130.2999999999845,
          90.29999999998446,
          162.79999999998427,
          132.2999999999843,
          106.99999999998286,
          81.89999999998274,
          29.099999999983226,
          44.099999999983794,
          44.099999999983794
         ]
        }
       ],
       "layout": {
        "font": {
         "color": "#e1e1e1",
         "size": 8
        },
        "height": 400,
        "margin": {
         "b": 10,
         "l": 10,
         "r": 10,
         "t": 10
        },
        "paper_bgcolor": "#2c303c",
        "plot_bgcolor": "#2c303c",
        "template": {
         "data": {
          "bar": [
           {
            "error_x": {
             "color": "#2a3f5f"
            },
            "error_y": {
             "color": "#2a3f5f"
            },
            "marker": {
             "line": {
              "color": "#E5ECF6",
              "width": 0.5
             },
             "pattern": {
              "fillmode": "overlay",
              "size": 10,
              "solidity": 0.2
             }
            },
            "type": "bar"
           }
          ],
          "barpolar": [
           {
            "marker": {
             "line": {
              "color": "#E5ECF6",
              "width": 0.5
             },
             "pattern": {
              "fillmode": "overlay",
              "size": 10,
              "solidity": 0.2
             }
            },
            "type": "barpolar"
           }
          ],
          "carpet": [
           {
            "aaxis": {
             "endlinecolor": "#2a3f5f",
             "gridcolor": "white",
             "linecolor": "white",
             "minorgridcolor": "white",
             "startlinecolor": "#2a3f5f"
            },
            "baxis": {
             "endlinecolor": "#2a3f5f",
             "gridcolor": "white",
             "linecolor": "white",
             "minorgridcolor": "white",
             "startlinecolor": "#2a3f5f"
            },
            "type": "carpet"
           }
          ],
          "choropleth": [
           {
            "colorbar": {
             "outlinewidth": 0,
             "ticks": ""
            },
            "type": "choropleth"
           }
          ],
          "contour": [
           {
            "colorbar": {
             "outlinewidth": 0,
             "ticks": ""
            },
            "colorscale": [
             [
              0,
              "#0d0887"
             ],
             [
              0.1111111111111111,
              "#46039f"
             ],
             [
              0.2222222222222222,
              "#7201a8"
             ],
             [
              0.3333333333333333,
              "#9c179e"
             ],
             [
              0.4444444444444444,
              "#bd3786"
             ],
             [
              0.5555555555555556,
              "#d8576b"
             ],
             [
              0.6666666666666666,
              "#ed7953"
             ],
             [
              0.7777777777777778,
              "#fb9f3a"
             ],
             [
              0.8888888888888888,
              "#fdca26"
             ],
             [
              1,
              "#f0f921"
             ]
            ],
            "type": "contour"
           }
          ],
          "contourcarpet": [
           {
            "colorbar": {
             "outlinewidth": 0,
             "ticks": ""
            },
            "type": "contourcarpet"
           }
          ],
          "heatmap": [
           {
            "colorbar": {
             "outlinewidth": 0,
             "ticks": ""
            },
            "colorscale": [
             [
              0,
              "#0d0887"
             ],
             [
              0.1111111111111111,
              "#46039f"
             ],
             [
              0.2222222222222222,
              "#7201a8"
             ],
             [
              0.3333333333333333,
              "#9c179e"
             ],
             [
              0.4444444444444444,
              "#bd3786"
             ],
             [
              0.5555555555555556,
              "#d8576b"
             ],
             [
              0.6666666666666666,
              "#ed7953"
             ],
             [
              0.7777777777777778,
              "#fb9f3a"
             ],
             [
              0.8888888888888888,
              "#fdca26"
             ],
             [
              1,
              "#f0f921"
             ]
            ],
            "type": "heatmap"
           }
          ],
          "heatmapgl": [
           {
            "colorbar": {
             "outlinewidth": 0,
             "ticks": ""
            },
            "colorscale": [
             [
              0,
              "#0d0887"
             ],
             [
              0.1111111111111111,
              "#46039f"
             ],
             [
              0.2222222222222222,
              "#7201a8"
             ],
             [
              0.3333333333333333,
              "#9c179e"
             ],
             [
              0.4444444444444444,
              "#bd3786"
             ],
             [
              0.5555555555555556,
              "#d8576b"
             ],
             [
              0.6666666666666666,
              "#ed7953"
             ],
             [
              0.7777777777777778,
              "#fb9f3a"
             ],
             [
              0.8888888888888888,
              "#fdca26"
             ],
             [
              1,
              "#f0f921"
             ]
            ],
            "type": "heatmapgl"
           }
          ],
          "histogram": [
           {
            "marker": {
             "pattern": {
              "fillmode": "overlay",
              "size": 10,
              "solidity": 0.2
             }
            },
            "type": "histogram"
           }
          ],
          "histogram2d": [
           {
            "colorbar": {
             "outlinewidth": 0,
             "ticks": ""
            },
            "colorscale": [
             [
              0,
              "#0d0887"
             ],
             [
              0.1111111111111111,
              "#46039f"
             ],
             [
              0.2222222222222222,
              "#7201a8"
             ],
             [
              0.3333333333333333,
              "#9c179e"
             ],
             [
              0.4444444444444444,
              "#bd3786"
             ],
             [
              0.5555555555555556,
              "#d8576b"
             ],
             [
              0.6666666666666666,
              "#ed7953"
             ],
             [
              0.7777777777777778,
              "#fb9f3a"
             ],
             [
              0.8888888888888888,
              "#fdca26"
             ],
             [
              1,
              "#f0f921"
             ]
            ],
            "type": "histogram2d"
           }
          ],
          "histogram2dcontour": [
           {
            "colorbar": {
             "outlinewidth": 0,
             "ticks": ""
            },
            "colorscale": [
             [
              0,
              "#0d0887"
             ],
             [
              0.1111111111111111,
              "#46039f"
             ],
             [
              0.2222222222222222,
              "#7201a8"
             ],
             [
              0.3333333333333333,
              "#9c179e"
             ],
             [
              0.4444444444444444,
              "#bd3786"
             ],
             [
              0.5555555555555556,
              "#d8576b"
             ],
             [
              0.6666666666666666,
              "#ed7953"
             ],
             [
              0.7777777777777778,
              "#fb9f3a"
             ],
             [
              0.8888888888888888,
              "#fdca26"
             ],
             [
              1,
              "#f0f921"
             ]
            ],
            "type": "histogram2dcontour"
           }
          ],
          "mesh3d": [
           {
            "colorbar": {
             "outlinewidth": 0,
             "ticks": ""
            },
            "type": "mesh3d"
           }
          ],
          "parcoords": [
           {
            "line": {
             "colorbar": {
              "outlinewidth": 0,
              "ticks": ""
             }
            },
            "type": "parcoords"
           }
          ],
          "pie": [
           {
            "automargin": true,
            "type": "pie"
           }
          ],
          "scatter": [
           {
            "fillpattern": {
             "fillmode": "overlay",
             "size": 10,
             "solidity": 0.2
            },
            "type": "scatter"
           }
          ],
          "scatter3d": [
           {
            "line": {
             "colorbar": {
              "outlinewidth": 0,
              "ticks": ""
             }
            },
            "marker": {
             "colorbar": {
              "outlinewidth": 0,
              "ticks": ""
             }
            },
            "type": "scatter3d"
           }
          ],
          "scattercarpet": [
           {
            "marker": {
             "colorbar": {
              "outlinewidth": 0,
              "ticks": ""
             }
            },
            "type": "scattercarpet"
           }
          ],
          "scattergeo": [
           {
            "marker": {
             "colorbar": {
              "outlinewidth": 0,
              "ticks": ""
             }
            },
            "type": "scattergeo"
           }
          ],
          "scattergl": [
           {
            "marker": {
             "colorbar": {
              "outlinewidth": 0,
              "ticks": ""
             }
            },
            "type": "scattergl"
           }
          ],
          "scattermapbox": [
           {
            "marker": {
             "colorbar": {
              "outlinewidth": 0,
              "ticks": ""
             }
            },
            "type": "scattermapbox"
           }
          ],
          "scatterpolar": [
           {
            "marker": {
             "colorbar": {
              "outlinewidth": 0,
              "ticks": ""
             }
            },
            "type": "scatterpolar"
           }
          ],
          "scatterpolargl": [
           {
            "marker": {
             "colorbar": {
              "outlinewidth": 0,
              "ticks": ""
             }
            },
            "type": "scatterpolargl"
           }
          ],
          "scatterternary": [
           {
            "marker": {
             "colorbar": {
              "outlinewidth": 0,
              "ticks": ""
             }
            },
            "type": "scatterternary"
           }
          ],
          "surface": [
           {
            "colorbar": {
             "outlinewidth": 0,
             "ticks": ""
            },
            "colorscale": [
             [
              0,
              "#0d0887"
             ],
             [
              0.1111111111111111,
              "#46039f"
             ],
             [
              0.2222222222222222,
              "#7201a8"
             ],
             [
              0.3333333333333333,
              "#9c179e"
             ],
             [
              0.4444444444444444,
              "#bd3786"
             ],
             [
              0.5555555555555556,
              "#d8576b"
             ],
             [
              0.6666666666666666,
              "#ed7953"
             ],
             [
              0.7777777777777778,
              "#fb9f3a"
             ],
             [
              0.8888888888888888,
              "#fdca26"
             ],
             [
              1,
              "#f0f921"
             ]
            ],
            "type": "surface"
           }
          ],
          "table": [
           {
            "cells": {
             "fill": {
              "color": "#EBF0F8"
             },
             "line": {
              "color": "white"
             }
            },
            "header": {
             "fill": {
              "color": "#C8D4E3"
             },
             "line": {
              "color": "white"
             }
            },
            "type": "table"
           }
          ]
         },
         "layout": {
          "annotationdefaults": {
           "arrowcolor": "#2a3f5f",
           "arrowhead": 0,
           "arrowwidth": 1
          },
          "autotypenumbers": "strict",
          "coloraxis": {
           "colorbar": {
            "outlinewidth": 0,
            "ticks": ""
           }
          },
          "colorscale": {
           "diverging": [
            [
             0,
             "#8e0152"
            ],
            [
             0.1,
             "#c51b7d"
            ],
            [
             0.2,
             "#de77ae"
            ],
            [
             0.3,
             "#f1b6da"
            ],
            [
             0.4,
             "#fde0ef"
            ],
            [
             0.5,
             "#f7f7f7"
            ],
            [
             0.6,
             "#e6f5d0"
            ],
            [
             0.7,
             "#b8e186"
            ],
            [
             0.8,
             "#7fbc41"
            ],
            [
             0.9,
             "#4d9221"
            ],
            [
             1,
             "#276419"
            ]
           ],
           "sequential": [
            [
             0,
             "#0d0887"
            ],
            [
             0.1111111111111111,
             "#46039f"
            ],
            [
             0.2222222222222222,
             "#7201a8"
            ],
            [
             0.3333333333333333,
             "#9c179e"
            ],
            [
             0.4444444444444444,
             "#bd3786"
            ],
            [
             0.5555555555555556,
             "#d8576b"
            ],
            [
             0.6666666666666666,
             "#ed7953"
            ],
            [
             0.7777777777777778,
             "#fb9f3a"
            ],
            [
             0.8888888888888888,
             "#fdca26"
            ],
            [
             1,
             "#f0f921"
            ]
           ],
           "sequentialminus": [
            [
             0,
             "#0d0887"
            ],
            [
             0.1111111111111111,
             "#46039f"
            ],
            [
             0.2222222222222222,
             "#7201a8"
            ],
            [
             0.3333333333333333,
             "#9c179e"
            ],
            [
             0.4444444444444444,
             "#bd3786"
            ],
            [
             0.5555555555555556,
             "#d8576b"
            ],
            [
             0.6666666666666666,
             "#ed7953"
            ],
            [
             0.7777777777777778,
             "#fb9f3a"
            ],
            [
             0.8888888888888888,
             "#fdca26"
            ],
            [
             1,
             "#f0f921"
            ]
           ]
          },
          "colorway": [
           "#636efa",
           "#EF553B",
           "#00cc96",
           "#ab63fa",
           "#FFA15A",
           "#19d3f3",
           "#FF6692",
           "#B6E880",
           "#FF97FF",
           "#FECB52"
          ],
          "font": {
           "color": "#2a3f5f"
          },
          "geo": {
           "bgcolor": "white",
           "lakecolor": "white",
           "landcolor": "#E5ECF6",
           "showlakes": true,
           "showland": true,
           "subunitcolor": "white"
          },
          "hoverlabel": {
           "align": "left"
          },
          "hovermode": "closest",
          "mapbox": {
           "style": "light"
          },
          "paper_bgcolor": "white",
          "plot_bgcolor": "#E5ECF6",
          "polar": {
           "angularaxis": {
            "gridcolor": "white",
            "linecolor": "white",
            "ticks": ""
           },
           "bgcolor": "#E5ECF6",
           "radialaxis": {
            "gridcolor": "white",
            "linecolor": "white",
            "ticks": ""
           }
          },
          "scene": {
           "xaxis": {
            "backgroundcolor": "#E5ECF6",
            "gridcolor": "white",
            "gridwidth": 2,
            "linecolor": "white",
            "showbackground": true,
            "ticks": "",
            "zerolinecolor": "white"
           },
           "yaxis": {
            "backgroundcolor": "#E5ECF6",
            "gridcolor": "white",
            "gridwidth": 2,
            "linecolor": "white",
            "showbackground": true,
            "ticks": "",
            "zerolinecolor": "white"
           },
           "zaxis": {
            "backgroundcolor": "#E5ECF6",
            "gridcolor": "white",
            "gridwidth": 2,
            "linecolor": "white",
            "showbackground": true,
            "ticks": "",
            "zerolinecolor": "white"
           }
          },
          "shapedefaults": {
           "line": {
            "color": "#2a3f5f"
           }
          },
          "ternary": {
           "aaxis": {
            "gridcolor": "white",
            "linecolor": "white",
            "ticks": ""
           },
           "baxis": {
            "gridcolor": "white",
            "linecolor": "white",
            "ticks": ""
           },
           "bgcolor": "#E5ECF6",
           "caxis": {
            "gridcolor": "white",
            "linecolor": "white",
            "ticks": ""
           }
          },
          "title": {
           "x": 0.05
          },
          "xaxis": {
           "automargin": true,
           "gridcolor": "white",
           "linecolor": "white",
           "ticks": "",
           "title": {
            "standoff": 15
           },
           "zerolinecolor": "white",
           "zerolinewidth": 2
          },
          "yaxis": {
           "automargin": true,
           "gridcolor": "white",
           "linecolor": "white",
           "ticks": "",
           "title": {
            "standoff": 15
           },
           "zerolinecolor": "white",
           "zerolinewidth": 2
          }
         }
        },
        "width": 900,
        "xaxis": {
         "gridcolor": "#1f292f",
         "nticks": 5,
         "rangeslider": {
          "visible": false
         }
        },
        "yaxis": {
         "gridcolor": "#1f292f"
        }
       }
      }
     },
     "metadata": {},
     "output_type": "display_data"
    }
   ],
   "source": [
    "for curr in df_MA_10_MA_20[df_MA_10_MA_20.total_gain > 0].pair.unique():\n",
    "    temp_gains = df_ma_trades_h1[(df_ma_trades_h1.cross==cross)&\n",
    "                           (df_ma_trades_h1.pair==curr)].copy()\n",
    "    print(curr, int(temp_gains.GAIN.sum()))\n",
    "    cp = CandlePlot(temp_gains, candles=False)\n",
    "    cp.show_plot(line_traces=['GAIN_C'])"
   ]
  },
  {
   "cell_type": "code",
   "execution_count": null,
   "id": "66a3e9f5",
   "metadata": {},
   "outputs": [],
   "source": []
  },
  {
   "cell_type": "code",
   "execution_count": null,
   "id": "ff0cbebf",
   "metadata": {},
   "outputs": [],
   "source": []
  },
  {
   "cell_type": "code",
   "execution_count": null,
   "id": "9f1d88b0",
   "metadata": {},
   "outputs": [],
   "source": []
  },
  {
   "cell_type": "code",
   "execution_count": null,
   "id": "ba14553c",
   "metadata": {},
   "outputs": [],
   "source": []
  },
  {
   "cell_type": "code",
   "execution_count": null,
   "id": "e2024e59",
   "metadata": {},
   "outputs": [],
   "source": []
  },
  {
   "cell_type": "code",
   "execution_count": null,
   "id": "ec3d41bc",
   "metadata": {},
   "outputs": [],
   "source": []
  },
  {
   "cell_type": "code",
   "execution_count": null,
   "id": "5fb7ba3f",
   "metadata": {},
   "outputs": [],
   "source": []
  },
  {
   "cell_type": "code",
   "execution_count": null,
   "id": "edc61e16",
   "metadata": {},
   "outputs": [],
   "source": []
  }
 ],
 "metadata": {
  "kernelspec": {
   "display_name": "Python 3 (ipykernel)",
   "language": "python",
   "name": "python3"
  },
  "language_info": {
   "codemirror_mode": {
    "name": "ipython",
    "version": 3
   },
   "file_extension": ".py",
   "mimetype": "text/x-python",
   "name": "python",
   "nbconvert_exporter": "python",
   "pygments_lexer": "ipython3",
   "version": "3.10.13"
  }
 },
 "nbformat": 4,
 "nbformat_minor": 5
}
